{
  "nbformat": 4,
  "nbformat_minor": 0,
  "metadata": {
    "colab": {
      "name": "Covid Effects On Logistical Stocks",
      "provenance": [],
      "collapsed_sections": [
        "4-LpfHm6ZFFa"
      ],
      "toc_visible": true
    },
    "kernelspec": {
      "name": "python3",
      "display_name": "Python 3"
    }
  },
  "cells": [
    {
      "cell_type": "markdown",
      "metadata": {
        "id": "KLCSJQuwY_T-"
      },
      "source": [
        "Chalenge: To determine the effects of Covid-19 in the U.S as it relates to the stock values of major shipping companies.\r\n",
        "\r\n",
        "Hypothesis: The pandemic is inversely correlated with the rise of major shipping companie stock prices.\r\n",
        "\r\n",
        "Process:\r\n",
        "\r\n",
        "  1. Pull covid-19 infection data in U.S. and sort by date\r\n",
        "  2. Pull stock information for various logistic corporations after first covid-19 infections began.\r\n",
        "  3. Calculate any correlations between covid-19 and individual stock prices\r\n",
        "  4. Evaluate any changes in market value for individual stocks\r\n",
        "  5. Evaluate the percentage of market change for all stocks."
      ]
    },
    {
      "cell_type": "markdown",
      "metadata": {
        "id": "NyaKICkCZe6P"
      },
      "source": [
        "# Covid-19 DataSet\r\n",
        "\r\n",
        "https://www.kaggle.com/sudalairajkumar/covid19-in-usa"
      ]
    },
    {
      "cell_type": "markdown",
      "metadata": {
        "id": "iNBTBPn8Zo3W"
      },
      "source": [
        "## Import Libraries"
      ]
    },
    {
      "cell_type": "code",
      "metadata": {
        "id": "azO2xV_MaFle"
      },
      "source": [
        "import datetime\r\n",
        "from pandas_datareader import data as pdr\r\n",
        "import matplotlib.pyplot as plt\r\n",
        "from scipy import stats\r\n",
        "import pandas as pd\r\n",
        "import seaborn as sns\r\n",
        "import numpy as np\r\n",
        "import plotly.express as px"
      ],
      "execution_count": null,
      "outputs": []
    },
    {
      "cell_type": "code",
      "metadata": {
        "colab": {
          "base_uri": "https://localhost:8080/"
        },
        "id": "TjF76I6sbRDW",
        "outputId": "8164baec-b807-493d-febf-bac4c34c95b3"
      },
      "source": [
        "# Store dataset in a Pandas Dataframe\r\n",
        "from google.colab import drive\r\n",
        "drive.mount(\"/content/gdrive\")\r\n",
        "\r\n"
      ],
      "execution_count": null,
      "outputs": [
        {
          "output_type": "stream",
          "text": [
            "Drive already mounted at /content/gdrive; to attempt to forcibly remount, call drive.mount(\"/content/gdrive\", force_remount=True).\n"
          ],
          "name": "stdout"
        }
      ]
    },
    {
      "cell_type": "markdown",
      "metadata": {
        "id": "aAmFGbHEbipW"
      },
      "source": [
        "## Create Clean Covid-19 Dataframe"
      ]
    },
    {
      "cell_type": "code",
      "metadata": {
        "colab": {
          "base_uri": "https://localhost:8080/",
          "height": 195
        },
        "id": "SALJnCHjboug",
        "outputId": "158fa2ec-c9bc-4f8a-b33e-b94b7b1017ca"
      },
      "source": [
        "covid_df = pd.read_csv(\"/content/gdrive/MyDrive/Thinkful/CAPSTONE3 /us-counties.csv\") \r\n",
        "covid_df.head()"
      ],
      "execution_count": null,
      "outputs": [
        {
          "output_type": "execute_result",
          "data": {
            "text/html": [
              "<div>\n",
              "<style scoped>\n",
              "    .dataframe tbody tr th:only-of-type {\n",
              "        vertical-align: middle;\n",
              "    }\n",
              "\n",
              "    .dataframe tbody tr th {\n",
              "        vertical-align: top;\n",
              "    }\n",
              "\n",
              "    .dataframe thead th {\n",
              "        text-align: right;\n",
              "    }\n",
              "</style>\n",
              "<table border=\"1\" class=\"dataframe\">\n",
              "  <thead>\n",
              "    <tr style=\"text-align: right;\">\n",
              "      <th></th>\n",
              "      <th>date</th>\n",
              "      <th>county</th>\n",
              "      <th>state</th>\n",
              "      <th>fips</th>\n",
              "      <th>cases</th>\n",
              "      <th>deaths</th>\n",
              "    </tr>\n",
              "  </thead>\n",
              "  <tbody>\n",
              "    <tr>\n",
              "      <th>0</th>\n",
              "      <td>2020-01-21</td>\n",
              "      <td>Snohomish</td>\n",
              "      <td>Washington</td>\n",
              "      <td>53061.0</td>\n",
              "      <td>1</td>\n",
              "      <td>0.0</td>\n",
              "    </tr>\n",
              "    <tr>\n",
              "      <th>1</th>\n",
              "      <td>2020-01-22</td>\n",
              "      <td>Snohomish</td>\n",
              "      <td>Washington</td>\n",
              "      <td>53061.0</td>\n",
              "      <td>1</td>\n",
              "      <td>0.0</td>\n",
              "    </tr>\n",
              "    <tr>\n",
              "      <th>2</th>\n",
              "      <td>2020-01-23</td>\n",
              "      <td>Snohomish</td>\n",
              "      <td>Washington</td>\n",
              "      <td>53061.0</td>\n",
              "      <td>1</td>\n",
              "      <td>0.0</td>\n",
              "    </tr>\n",
              "    <tr>\n",
              "      <th>3</th>\n",
              "      <td>2020-01-24</td>\n",
              "      <td>Cook</td>\n",
              "      <td>Illinois</td>\n",
              "      <td>17031.0</td>\n",
              "      <td>1</td>\n",
              "      <td>0.0</td>\n",
              "    </tr>\n",
              "    <tr>\n",
              "      <th>4</th>\n",
              "      <td>2020-01-24</td>\n",
              "      <td>Snohomish</td>\n",
              "      <td>Washington</td>\n",
              "      <td>53061.0</td>\n",
              "      <td>1</td>\n",
              "      <td>0.0</td>\n",
              "    </tr>\n",
              "  </tbody>\n",
              "</table>\n",
              "</div>"
            ],
            "text/plain": [
              "         date     county       state     fips  cases  deaths\n",
              "0  2020-01-21  Snohomish  Washington  53061.0      1     0.0\n",
              "1  2020-01-22  Snohomish  Washington  53061.0      1     0.0\n",
              "2  2020-01-23  Snohomish  Washington  53061.0      1     0.0\n",
              "3  2020-01-24       Cook    Illinois  17031.0      1     0.0\n",
              "4  2020-01-24  Snohomish  Washington  53061.0      1     0.0"
            ]
          },
          "metadata": {
            "tags": []
          },
          "execution_count": 30
        }
      ]
    },
    {
      "cell_type": "code",
      "metadata": {
        "colab": {
          "base_uri": "https://localhost:8080/",
          "height": 431
        },
        "id": "etSiop7GbvNg",
        "outputId": "4035cc49-365d-47af-c645-35ec20b06c2e"
      },
      "source": [
        "# Create table with running total of cases and deaths and remove the fips column\r\n",
        "covid_total = covid_df.groupby(['date']).sum()\r\n",
        "covid_total = covid_total.drop(['fips'], axis=1)\r\n",
        "covid_total"
      ],
      "execution_count": null,
      "outputs": [
        {
          "output_type": "execute_result",
          "data": {
            "text/html": [
              "<div>\n",
              "<style scoped>\n",
              "    .dataframe tbody tr th:only-of-type {\n",
              "        vertical-align: middle;\n",
              "    }\n",
              "\n",
              "    .dataframe tbody tr th {\n",
              "        vertical-align: top;\n",
              "    }\n",
              "\n",
              "    .dataframe thead th {\n",
              "        text-align: right;\n",
              "    }\n",
              "</style>\n",
              "<table border=\"1\" class=\"dataframe\">\n",
              "  <thead>\n",
              "    <tr style=\"text-align: right;\">\n",
              "      <th></th>\n",
              "      <th>cases</th>\n",
              "      <th>deaths</th>\n",
              "    </tr>\n",
              "    <tr>\n",
              "      <th>date</th>\n",
              "      <th></th>\n",
              "      <th></th>\n",
              "    </tr>\n",
              "  </thead>\n",
              "  <tbody>\n",
              "    <tr>\n",
              "      <th>2020-01-21</th>\n",
              "      <td>1</td>\n",
              "      <td>0.0</td>\n",
              "    </tr>\n",
              "    <tr>\n",
              "      <th>2020-01-22</th>\n",
              "      <td>1</td>\n",
              "      <td>0.0</td>\n",
              "    </tr>\n",
              "    <tr>\n",
              "      <th>2020-01-23</th>\n",
              "      <td>1</td>\n",
              "      <td>0.0</td>\n",
              "    </tr>\n",
              "    <tr>\n",
              "      <th>2020-01-24</th>\n",
              "      <td>2</td>\n",
              "      <td>0.0</td>\n",
              "    </tr>\n",
              "    <tr>\n",
              "      <th>2020-01-25</th>\n",
              "      <td>3</td>\n",
              "      <td>0.0</td>\n",
              "    </tr>\n",
              "    <tr>\n",
              "      <th>...</th>\n",
              "      <td>...</td>\n",
              "      <td>...</td>\n",
              "    </tr>\n",
              "    <tr>\n",
              "      <th>2021-01-26</th>\n",
              "      <td>25484820</td>\n",
              "      <td>425211.0</td>\n",
              "    </tr>\n",
              "    <tr>\n",
              "      <th>2021-01-27</th>\n",
              "      <td>25640449</td>\n",
              "      <td>429312.0</td>\n",
              "    </tr>\n",
              "    <tr>\n",
              "      <th>2021-01-28</th>\n",
              "      <td>25805713</td>\n",
              "      <td>433180.0</td>\n",
              "    </tr>\n",
              "    <tr>\n",
              "      <th>2021-01-29</th>\n",
              "      <td>25971349</td>\n",
              "      <td>436780.0</td>\n",
              "    </tr>\n",
              "    <tr>\n",
              "      <th>2021-01-30</th>\n",
              "      <td>26105263</td>\n",
              "      <td>439421.0</td>\n",
              "    </tr>\n",
              "  </tbody>\n",
              "</table>\n",
              "<p>376 rows × 2 columns</p>\n",
              "</div>"
            ],
            "text/plain": [
              "               cases    deaths\n",
              "date                          \n",
              "2020-01-21         1       0.0\n",
              "2020-01-22         1       0.0\n",
              "2020-01-23         1       0.0\n",
              "2020-01-24         2       0.0\n",
              "2020-01-25         3       0.0\n",
              "...              ...       ...\n",
              "2021-01-26  25484820  425211.0\n",
              "2021-01-27  25640449  429312.0\n",
              "2021-01-28  25805713  433180.0\n",
              "2021-01-29  25971349  436780.0\n",
              "2021-01-30  26105263  439421.0\n",
              "\n",
              "[376 rows x 2 columns]"
            ]
          },
          "metadata": {
            "tags": []
          },
          "execution_count": 31
        }
      ]
    },
    {
      "cell_type": "code",
      "metadata": {
        "colab": {
          "base_uri": "https://localhost:8080/",
          "height": 307
        },
        "id": "PdPAO-WjeKyx",
        "outputId": "f6473bc1-5533-480f-87ec-af43aae0edee"
      },
      "source": [
        "# lineplot representing total cases\r\n",
        "sns.lineplot(x=\"date\", y=\"cases\", data=covid_total)\r\n",
        "plt.ylabel('Cases in Millions')"
      ],
      "execution_count": null,
      "outputs": [
        {
          "output_type": "execute_result",
          "data": {
            "text/plain": [
              "Text(0, 0.5, 'Cases in Millions')"
            ]
          },
          "metadata": {
            "tags": []
          },
          "execution_count": 32
        },
        {
          "output_type": "display_data",
          "data": {
            "image/png": "[encoded data removed]",
            "text/plain": [
              "<Figure size 432x288 with 1 Axes>"
            ]
          },
          "metadata": {
            "tags": [],
            "needs_background": "light"
          }
        }
      ]
    },
    {
      "cell_type": "code",
      "metadata": {
        "colab": {
          "base_uri": "https://localhost:8080/",
          "height": 296
        },
        "id": "UPdxi2z_fwtI",
        "outputId": "3d28e424-f8fd-4305-f38d-6a1e4555646d"
      },
      "source": [
        "# lineplot representing total deaths\r\n",
        "sns.lineplot(x=\"date\", y=\"deaths\", data=covid_total)"
      ],
      "execution_count": null,
      "outputs": [
        {
          "output_type": "execute_result",
          "data": {
            "text/plain": [
              "<matplotlib.axes._subplots.AxesSubplot at 0x7f056d22d828>"
            ]
          },
          "metadata": {
            "tags": []
          },
          "execution_count": 33
        },
        {
          "output_type": "display_data",
          "data": {
            "image/png": "[encoded data removed]",
            "text/plain": [
              "<Figure size 432x288 with 1 Axes>"
            ]
          },
          "metadata": {
            "tags": [],
            "needs_background": "light"
          }
        }
      ]
    },
    {
      "cell_type": "code",
      "metadata": {
        "id": "XXEcK2YsgiUb"
      },
      "source": [
        "# For visual effect, I created table with number of cases and deaths by date \r\n",
        "covid_by_date = covid_df.groupby(['date']).sum()\r\n",
        "covid_by_date = covid_by_date.sort_values(by =['date'])\r\n",
        "covid_by_date = covid_by_date -  covid_by_date.shift(1)\r\n",
        "covid_by_date  = covid_by_date.drop(['fips'], axis=1)"
      ],
      "execution_count": null,
      "outputs": []
    },
    {
      "cell_type": "code",
      "metadata": {
        "colab": {
          "base_uri": "https://localhost:8080/",
          "height": 284
        },
        "id": "pzJ5QjzQiINJ",
        "outputId": "72e37bc6-2430-45c0-8354-469e7f0872fe"
      },
      "source": [
        "covid_by_date.describe()"
      ],
      "execution_count": null,
      "outputs": [
        {
          "output_type": "execute_result",
          "data": {
            "text/html": [
              "<div>\n",
              "<style scoped>\n",
              "    .dataframe tbody tr th:only-of-type {\n",
              "        vertical-align: middle;\n",
              "    }\n",
              "\n",
              "    .dataframe tbody tr th {\n",
              "        vertical-align: top;\n",
              "    }\n",
              "\n",
              "    .dataframe thead th {\n",
              "        text-align: right;\n",
              "    }\n",
              "</style>\n",
              "<table border=\"1\" class=\"dataframe\">\n",
              "  <thead>\n",
              "    <tr style=\"text-align: right;\">\n",
              "      <th></th>\n",
              "      <th>cases</th>\n",
              "      <th>deaths</th>\n",
              "    </tr>\n",
              "  </thead>\n",
              "  <tbody>\n",
              "    <tr>\n",
              "      <th>count</th>\n",
              "      <td>375.000000</td>\n",
              "      <td>375.000000</td>\n",
              "    </tr>\n",
              "    <tr>\n",
              "      <th>mean</th>\n",
              "      <td>69614.032000</td>\n",
              "      <td>1171.789333</td>\n",
              "    </tr>\n",
              "    <tr>\n",
              "      <th>std</th>\n",
              "      <td>72467.300219</td>\n",
              "      <td>1012.979676</td>\n",
              "    </tr>\n",
              "    <tr>\n",
              "      <th>min</th>\n",
              "      <td>0.000000</td>\n",
              "      <td>0.000000</td>\n",
              "    </tr>\n",
              "    <tr>\n",
              "      <th>25%</th>\n",
              "      <td>22684.000000</td>\n",
              "      <td>429.500000</td>\n",
              "    </tr>\n",
              "    <tr>\n",
              "      <th>50%</th>\n",
              "      <td>42862.000000</td>\n",
              "      <td>971.000000</td>\n",
              "    </tr>\n",
              "    <tr>\n",
              "      <th>75%</th>\n",
              "      <td>83079.500000</td>\n",
              "      <td>1544.500000</td>\n",
              "    </tr>\n",
              "    <tr>\n",
              "      <th>max</th>\n",
              "      <td>300594.000000</td>\n",
              "      <td>4406.000000</td>\n",
              "    </tr>\n",
              "  </tbody>\n",
              "</table>\n",
              "</div>"
            ],
            "text/plain": [
              "               cases       deaths\n",
              "count     375.000000   375.000000\n",
              "mean    69614.032000  1171.789333\n",
              "std     72467.300219  1012.979676\n",
              "min         0.000000     0.000000\n",
              "25%     22684.000000   429.500000\n",
              "50%     42862.000000   971.000000\n",
              "75%     83079.500000  1544.500000\n",
              "max    300594.000000  4406.000000"
            ]
          },
          "metadata": {
            "tags": []
          },
          "execution_count": 35
        }
      ]
    },
    {
      "cell_type": "code",
      "metadata": {
        "colab": {
          "base_uri": "https://localhost:8080/",
          "height": 296
        },
        "id": "n4NHbGvmEnbc",
        "outputId": "454eb5f1-a1c9-4c4a-fcb4-d5c305065fe6"
      },
      "source": [
        "# Scatterplot representing daily deaths\r\n",
        "sns.scatterplot(x=\"date\", y=\"deaths\", data=covid_by_date)"
      ],
      "execution_count": null,
      "outputs": [
        {
          "output_type": "execute_result",
          "data": {
            "text/plain": [
              "<matplotlib.axes._subplots.AxesSubplot at 0x7f056ca85940>"
            ]
          },
          "metadata": {
            "tags": []
          },
          "execution_count": 36
        },
        {
          "output_type": "display_data",
          "data": {
            "image/png": "[encoded data removed]",
            "text/plain": [
              "<Figure size 432x288 with 1 Axes>"
            ]
          },
          "metadata": {
            "tags": [],
            "needs_background": "light"
          }
        }
      ]
    },
    {
      "cell_type": "code",
      "metadata": {
        "colab": {
          "base_uri": "https://localhost:8080/",
          "height": 296
        },
        "id": "RsRwMt8xE1Lw",
        "outputId": "855540a1-6770-41e3-dfdb-2cac59081753"
      },
      "source": [
        "# Scatterplot representing daily cases\r\n",
        "sns.scatterplot(x=\"date\", y=\"cases\", data=covid_by_date)\r\n",
        "plt.ylabel('Cases in Millions')"
      ],
      "execution_count": null,
      "outputs": [
        {
          "output_type": "execute_result",
          "data": {
            "text/plain": [
              "Text(0, 0.5, 'Cases in Millions')"
            ]
          },
          "metadata": {
            "tags": []
          },
          "execution_count": 37
        },
        {
          "output_type": "display_data",
          "data": {
            "image/png": "[encoded data removed]",
            "text/plain": [
              "<Figure size 432x288 with 1 Axes>"
            ]
          },
          "metadata": {
            "tags": [],
            "needs_background": "light"
          }
        }
      ]
    },
    {
      "cell_type": "markdown",
      "metadata": {
        "id": "BA6c9l5FieJO"
      },
      "source": [
        "# Stock Values During Covid-19 Dataset"
      ]
    },
    {
      "cell_type": "markdown",
      "metadata": {
        "id": "3hRw0PZCip7m"
      },
      "source": [
        "In this dataset I will be looking at the following stock values:\r\n",
        "\r\n",
        "  AMKBY - Maersk\r\n",
        "\r\n",
        "  CICOY - Cosco Shipping\r\n",
        "\r\n",
        "  DAC - Danaos Shipping Co. \r\n",
        "\r\n",
        "  DPSGY - DHL \r\n",
        "\r\n",
        "  FDX - FedEx\r\n",
        "\r\n",
        "  INSW - International Seaways Inc\r\n",
        "\r\n",
        "  MATX - Matson, Inc\r\n",
        "\r\n",
        "  NAT - Nordic American Tanker Ltd\r\n",
        "\r\n",
        "  SBLK - Star Bulk Carriers Corp.\r\n",
        "\r\n",
        "  SFL - SFL Corporation Ltd. (Marine Shipping)\r\n",
        "\r\n",
        "  UPS - United Parcel Service\r\n",
        "\r\n",
        "  ^DJI - Dow Jones Industrial\r\n",
        "\r\n",
        "  ^GSPC - S&P 500\r\n",
        "\r\n",
        "  ^IXIC - Nasdaq Index\r\n",
        "  \r\n"
      ]
    },
    {
      "cell_type": "markdown",
      "metadata": {
        "id": "NweWCckrWyFa"
      },
      "source": [
        "## Import Libraries"
      ]
    },
    {
      "cell_type": "code",
      "metadata": {
        "colab": {
          "base_uri": "https://localhost:8080/"
        },
        "id": "jvM_0m0jWngP",
        "outputId": "766cbbb6-03eb-485d-cd00-0750d19a6705"
      },
      "source": [
        "!pip install yfinance\r\n",
        "import seaborn as sns\r\n",
        "import datetime\r\n",
        "import yfinance as yf\r\n",
        "from pandas_datareader import data as web\r\n",
        "import plotly.graph_objects as go"
      ],
      "execution_count": null,
      "outputs": [
        {
          "output_type": "stream",
          "text": [
            "Requirement already satisfied: yfinance in /usr/local/lib/python3.6/dist-packages (0.1.55)\n",
            "Requirement already satisfied: numpy>=1.15 in /usr/local/lib/python3.6/dist-packages (from yfinance) (1.19.5)\n",
            "Requirement already satisfied: pandas>=0.24 in /usr/local/lib/python3.6/dist-packages (from yfinance) (1.1.5)\n",
            "Requirement already satisfied: lxml>=4.5.1 in /usr/local/lib/python3.6/dist-packages (from yfinance) (4.6.2)\n",
            "Requirement already satisfied: multitasking>=0.0.7 in /usr/local/lib/python3.6/dist-packages (from yfinance) (0.0.9)\n",
            "Requirement already satisfied: requests>=2.20 in /usr/local/lib/python3.6/dist-packages (from yfinance) (2.23.0)\n",
            "Requirement already satisfied: pytz>=2017.2 in /usr/local/lib/python3.6/dist-packages (from pandas>=0.24->yfinance) (2018.9)\n",
            "Requirement already satisfied: python-dateutil>=2.7.3 in /usr/local/lib/python3.6/dist-packages (from pandas>=0.24->yfinance) (2.8.1)\n",
            "Requirement already satisfied: idna<3,>=2.5 in /usr/local/lib/python3.6/dist-packages (from requests>=2.20->yfinance) (2.10)\n",
            "Requirement already satisfied: chardet<4,>=3.0.2 in /usr/local/lib/python3.6/dist-packages (from requests>=2.20->yfinance) (3.0.4)\n",
            "Requirement already satisfied: urllib3!=1.25.0,!=1.25.1,<1.26,>=1.21.1 in /usr/local/lib/python3.6/dist-packages (from requests>=2.20->yfinance) (1.24.3)\n",
            "Requirement already satisfied: certifi>=2017.4.17 in /usr/local/lib/python3.6/dist-packages (from requests>=2.20->yfinance) (2020.12.5)\n",
            "Requirement already satisfied: six>=1.5 in /usr/local/lib/python3.6/dist-packages (from python-dateutil>=2.7.3->pandas>=0.24->yfinance) (1.15.0)\n"
          ],
          "name": "stdout"
        }
      ]
    },
    {
      "cell_type": "markdown",
      "metadata": {
        "id": "-d1ohhYpYOqC"
      },
      "source": [
        "## Create Clean Stock Value Dataset"
      ]
    },
    {
      "cell_type": "code",
      "metadata": {
        "id": "i_kkaZOUW7Qj"
      },
      "source": [
        "# Set stock values to analyize\r\n",
        "stocks = [\"AMKBY\",\"CICOY\", \"DAC\", \"DPSGY\", \"FDX\", \"INSW\", \"MATX\", \"NAT\", \"SBLK\", \"SFL\", \"UPS\", \"^DJI\", \"^GSPC\", \"^IXIC\"]"
      ],
      "execution_count": null,
      "outputs": []
    },
    {
      "cell_type": "code",
      "metadata": {
        "id": "RE5vyACcYLE6"
      },
      "source": [
        "# Set start and end dates for during covid-19\r\n",
        "start = datetime.datetime(2020, 1, 1)\r\n",
        "end   = datetime.datetime(2020, 12, 31)\r\n",
        "data = pdr.get_data_yahoo(stocks, start = start, end = end)"
      ],
      "execution_count": null,
      "outputs": []
    },
    {
      "cell_type": "code",
      "metadata": {
        "colab": {
          "base_uri": "https://localhost:8080/",
          "height": 481
        },
        "id": "468jAoIQYp3U",
        "outputId": "5a24151c-3ce3-407b-c8fd-0e95fd1ded1a"
      },
      "source": [
        "# Select only Adjusted Closed Stock Price\r\n",
        "adj_close = ['Adj Close']\r\n",
        "data[adj_close]"
      ],
      "execution_count": null,
      "outputs": [
        {
          "output_type": "execute_result",
          "data": {
            "text/html": [
              "<div>\n",
              "<style scoped>\n",
              "    .dataframe tbody tr th:only-of-type {\n",
              "        vertical-align: middle;\n",
              "    }\n",
              "\n",
              "    .dataframe tbody tr th {\n",
              "        vertical-align: top;\n",
              "    }\n",
              "\n",
              "    .dataframe thead tr th {\n",
              "        text-align: left;\n",
              "    }\n",
              "\n",
              "    .dataframe thead tr:last-of-type th {\n",
              "        text-align: right;\n",
              "    }\n",
              "</style>\n",
              "<table border=\"1\" class=\"dataframe\">\n",
              "  <thead>\n",
              "    <tr>\n",
              "      <th>Attributes</th>\n",
              "      <th colspan=\"14\" halign=\"left\">Adj Close</th>\n",
              "    </tr>\n",
              "    <tr>\n",
              "      <th>Symbols</th>\n",
              "      <th>AMKBY</th>\n",
              "      <th>CICOY</th>\n",
              "      <th>DAC</th>\n",
              "      <th>DPSGY</th>\n",
              "      <th>FDX</th>\n",
              "      <th>INSW</th>\n",
              "      <th>MATX</th>\n",
              "      <th>NAT</th>\n",
              "      <th>SBLK</th>\n",
              "      <th>SFL</th>\n",
              "      <th>UPS</th>\n",
              "      <th>^DJI</th>\n",
              "      <th>^GSPC</th>\n",
              "      <th>^IXIC</th>\n",
              "    </tr>\n",
              "    <tr>\n",
              "      <th>Date</th>\n",
              "      <th></th>\n",
              "      <th></th>\n",
              "      <th></th>\n",
              "      <th></th>\n",
              "      <th></th>\n",
              "      <th></th>\n",
              "      <th></th>\n",
              "      <th></th>\n",
              "      <th></th>\n",
              "      <th></th>\n",
              "      <th></th>\n",
              "      <th></th>\n",
              "      <th></th>\n",
              "      <th></th>\n",
              "    </tr>\n",
              "  </thead>\n",
              "  <tbody>\n",
              "    <tr>\n",
              "      <th>2020-01-02</th>\n",
              "      <td>6.987317</td>\n",
              "      <td>2.33</td>\n",
              "      <td>9.400000</td>\n",
              "      <td>37.315598</td>\n",
              "      <td>152.806885</td>\n",
              "      <td>29.447218</td>\n",
              "      <td>39.211956</td>\n",
              "      <td>4.319791</td>\n",
              "      <td>11.379668</td>\n",
              "      <td>13.100537</td>\n",
              "      <td>113.030106</td>\n",
              "      <td>28868.800781</td>\n",
              "      <td>3257.850098</td>\n",
              "      <td>9092.190430</td>\n",
              "    </tr>\n",
              "    <tr>\n",
              "      <th>2020-01-03</th>\n",
              "      <td>6.793225</td>\n",
              "      <td>2.33</td>\n",
              "      <td>9.190000</td>\n",
              "      <td>36.519375</td>\n",
              "      <td>150.915253</td>\n",
              "      <td>29.624966</td>\n",
              "      <td>38.647747</td>\n",
              "      <td>4.507220</td>\n",
              "      <td>10.992064</td>\n",
              "      <td>13.073600</td>\n",
              "      <td>112.962364</td>\n",
              "      <td>28634.880859</td>\n",
              "      <td>3234.850098</td>\n",
              "      <td>9020.769531</td>\n",
              "    </tr>\n",
              "    <tr>\n",
              "      <th>2020-01-06</th>\n",
              "      <td>6.696179</td>\n",
              "      <td>2.33</td>\n",
              "      <td>9.610000</td>\n",
              "      <td>36.567924</td>\n",
              "      <td>151.033478</td>\n",
              "      <td>29.585464</td>\n",
              "      <td>38.229462</td>\n",
              "      <td>4.489370</td>\n",
              "      <td>11.131204</td>\n",
              "      <td>13.037683</td>\n",
              "      <td>112.459099</td>\n",
              "      <td>28703.380859</td>\n",
              "      <td>3246.280029</td>\n",
              "      <td>9071.469727</td>\n",
              "    </tr>\n",
              "    <tr>\n",
              "      <th>2020-01-07</th>\n",
              "      <td>6.783520</td>\n",
              "      <td>2.33</td>\n",
              "      <td>9.580000</td>\n",
              "      <td>36.567924</td>\n",
              "      <td>152.511307</td>\n",
              "      <td>30.247089</td>\n",
              "      <td>37.869545</td>\n",
              "      <td>4.587546</td>\n",
              "      <td>11.687764</td>\n",
              "      <td>13.064621</td>\n",
              "      <td>112.265533</td>\n",
              "      <td>28583.679688</td>\n",
              "      <td>3237.179932</td>\n",
              "      <td>9068.580078</td>\n",
              "    </tr>\n",
              "    <tr>\n",
              "      <th>2020-01-08</th>\n",
              "      <td>6.686474</td>\n",
              "      <td>2.11</td>\n",
              "      <td>9.440000</td>\n",
              "      <td>37.053425</td>\n",
              "      <td>154.806854</td>\n",
              "      <td>29.299093</td>\n",
              "      <td>37.782001</td>\n",
              "      <td>4.337642</td>\n",
              "      <td>11.479054</td>\n",
              "      <td>12.929934</td>\n",
              "      <td>112.904289</td>\n",
              "      <td>28745.089844</td>\n",
              "      <td>3253.050049</td>\n",
              "      <td>9129.240234</td>\n",
              "    </tr>\n",
              "    <tr>\n",
              "      <th>...</th>\n",
              "      <td>...</td>\n",
              "      <td>...</td>\n",
              "      <td>...</td>\n",
              "      <td>...</td>\n",
              "      <td>...</td>\n",
              "      <td>...</td>\n",
              "      <td>...</td>\n",
              "      <td>...</td>\n",
              "      <td>...</td>\n",
              "      <td>...</td>\n",
              "      <td>...</td>\n",
              "      <td>...</td>\n",
              "      <td>...</td>\n",
              "      <td>...</td>\n",
              "    </tr>\n",
              "    <tr>\n",
              "      <th>2020-12-24</th>\n",
              "      <td>11.170000</td>\n",
              "      <td>5.23</td>\n",
              "      <td>21.010000</td>\n",
              "      <td>48.759998</td>\n",
              "      <td>268.820007</td>\n",
              "      <td>16.549999</td>\n",
              "      <td>57.062580</td>\n",
              "      <td>3.160000</td>\n",
              "      <td>8.740000</td>\n",
              "      <td>6.180000</td>\n",
              "      <td>172.190002</td>\n",
              "      <td>30199.869141</td>\n",
              "      <td>3703.060059</td>\n",
              "      <td>12804.730469</td>\n",
              "    </tr>\n",
              "    <tr>\n",
              "      <th>2020-12-28</th>\n",
              "      <td>11.190000</td>\n",
              "      <td>5.23</td>\n",
              "      <td>21.030001</td>\n",
              "      <td>50.110001</td>\n",
              "      <td>262.940002</td>\n",
              "      <td>16.240000</td>\n",
              "      <td>56.544376</td>\n",
              "      <td>3.080000</td>\n",
              "      <td>8.440000</td>\n",
              "      <td>6.030000</td>\n",
              "      <td>171.360001</td>\n",
              "      <td>30403.970703</td>\n",
              "      <td>3735.360107</td>\n",
              "      <td>12899.419922</td>\n",
              "    </tr>\n",
              "    <tr>\n",
              "      <th>2020-12-29</th>\n",
              "      <td>11.250000</td>\n",
              "      <td>5.80</td>\n",
              "      <td>20.330000</td>\n",
              "      <td>49.759998</td>\n",
              "      <td>261.559998</td>\n",
              "      <td>16.190001</td>\n",
              "      <td>55.557785</td>\n",
              "      <td>3.060000</td>\n",
              "      <td>8.430000</td>\n",
              "      <td>6.060000</td>\n",
              "      <td>169.029999</td>\n",
              "      <td>30335.669922</td>\n",
              "      <td>3727.040039</td>\n",
              "      <td>12850.219727</td>\n",
              "    </tr>\n",
              "    <tr>\n",
              "      <th>2020-12-30</th>\n",
              "      <td>11.150000</td>\n",
              "      <td>5.85</td>\n",
              "      <td>20.580000</td>\n",
              "      <td>49.570000</td>\n",
              "      <td>259.980011</td>\n",
              "      <td>16.379999</td>\n",
              "      <td>56.095924</td>\n",
              "      <td>3.010000</td>\n",
              "      <td>8.590000</td>\n",
              "      <td>6.120000</td>\n",
              "      <td>166.229996</td>\n",
              "      <td>30409.560547</td>\n",
              "      <td>3732.040039</td>\n",
              "      <td>12870.000000</td>\n",
              "    </tr>\n",
              "    <tr>\n",
              "      <th>2020-12-31</th>\n",
              "      <td>11.110000</td>\n",
              "      <td>6.17</td>\n",
              "      <td>21.430000</td>\n",
              "      <td>49.840000</td>\n",
              "      <td>259.619995</td>\n",
              "      <td>16.330000</td>\n",
              "      <td>56.773582</td>\n",
              "      <td>2.950000</td>\n",
              "      <td>8.830000</td>\n",
              "      <td>6.280000</td>\n",
              "      <td>168.399994</td>\n",
              "      <td>30606.480469</td>\n",
              "      <td>3756.070068</td>\n",
              "      <td>12888.280273</td>\n",
              "    </tr>\n",
              "  </tbody>\n",
              "</table>\n",
              "<p>253 rows × 14 columns</p>\n",
              "</div>"
            ],
            "text/plain": [
              "Attributes  Adj Close                   ...                                         \n",
              "Symbols         AMKBY CICOY        DAC  ...          ^DJI        ^GSPC         ^IXIC\n",
              "Date                                    ...                                         \n",
              "2020-01-02   6.987317  2.33   9.400000  ...  28868.800781  3257.850098   9092.190430\n",
              "2020-01-03   6.793225  2.33   9.190000  ...  28634.880859  3234.850098   9020.769531\n",
              "2020-01-06   6.696179  2.33   9.610000  ...  28703.380859  3246.280029   9071.469727\n",
              "2020-01-07   6.783520  2.33   9.580000  ...  28583.679688  3237.179932   9068.580078\n",
              "2020-01-08   6.686474  2.11   9.440000  ...  28745.089844  3253.050049   9129.240234\n",
              "...               ...   ...        ...  ...           ...          ...           ...\n",
              "2020-12-24  11.170000  5.23  21.010000  ...  30199.869141  3703.060059  12804.730469\n",
              "2020-12-28  11.190000  5.23  21.030001  ...  30403.970703  3735.360107  12899.419922\n",
              "2020-12-29  11.250000  5.80  20.330000  ...  30335.669922  3727.040039  12850.219727\n",
              "2020-12-30  11.150000  5.85  20.580000  ...  30409.560547  3732.040039  12870.000000\n",
              "2020-12-31  11.110000  6.17  21.430000  ...  30606.480469  3756.070068  12888.280273\n",
              "\n",
              "[253 rows x 14 columns]"
            ]
          },
          "metadata": {
            "tags": []
          },
          "execution_count": 41
        }
      ]
    },
    {
      "cell_type": "code",
      "metadata": {
        "id": "S_sJFaQhZ4e5"
      },
      "source": [
        "stocks_df = data[adj_close]"
      ],
      "execution_count": null,
      "outputs": []
    },
    {
      "cell_type": "code",
      "metadata": {
        "id": "SaOzLa0rjGC3"
      },
      "source": [
        "# Relabel columns \r\n",
        "stocks_df.columns = [\"Maersk\", \"Cosco Shipping\", \"Danaos Shipping\", \"DHL\", \"FedEx\", \"International Seaways\", \"Matson\", \"Nordic American\", \"Star Bulk Carriers\", \"SFL Corp\", \"UPS\", \"Dow Jones\", \"S&P 500\", \"Nasdaq\"]"
      ],
      "execution_count": null,
      "outputs": []
    },
    {
      "cell_type": "markdown",
      "metadata": {
        "id": "4-LpfHm6ZFFa"
      },
      "source": [
        "# Merge Covid-19 Dataframe and Stock Value Dataframe by Date"
      ]
    },
    {
      "cell_type": "code",
      "metadata": {
        "id": "6jH0vEZuZRkO"
      },
      "source": [
        "# Merge dataframes by Index using date\r\n",
        "covid_stocks_df = pd.merge(covid_total, stocks_df, how='inner', left_index=True, right_index=True)"
      ],
      "execution_count": null,
      "outputs": []
    },
    {
      "cell_type": "code",
      "metadata": {
        "colab": {
          "base_uri": "https://localhost:8080/"
        },
        "id": "dIvqizk2azHF",
        "outputId": "1ba7fe44-7798-47fd-f787-e360394c1f70"
      },
      "source": [
        "covid_stocks_df.head()"
      ],
      "execution_count": null,
      "outputs": [
        {
          "output_type": "execute_result",
          "data": {
            "text/html": [
              "<div>\n",
              "<style scoped>\n",
              "    .dataframe tbody tr th:only-of-type {\n",
              "        vertical-align: middle;\n",
              "    }\n",
              "\n",
              "    .dataframe tbody tr th {\n",
              "        vertical-align: top;\n",
              "    }\n",
              "\n",
              "    .dataframe thead th {\n",
              "        text-align: right;\n",
              "    }\n",
              "</style>\n",
              "<table border=\"1\" class=\"dataframe\">\n",
              "  <thead>\n",
              "    <tr style=\"text-align: right;\">\n",
              "      <th></th>\n",
              "      <th>cases</th>\n",
              "      <th>deaths</th>\n",
              "      <th>Maersk</th>\n",
              "      <th>Cosco Shipping</th>\n",
              "      <th>Danaos Shipping</th>\n",
              "      <th>DHL</th>\n",
              "      <th>FedEx</th>\n",
              "      <th>International Seaways</th>\n",
              "      <th>Matson</th>\n",
              "      <th>Nordic American</th>\n",
              "      <th>Star Bulk Carriers</th>\n",
              "      <th>SFL Corp</th>\n",
              "      <th>UPS</th>\n",
              "      <th>Dow Jones</th>\n",
              "      <th>S&amp;P 500</th>\n",
              "      <th>Nasdaq</th>\n",
              "    </tr>\n",
              "  </thead>\n",
              "  <tbody>\n",
              "    <tr>\n",
              "      <th>2020-01-21</th>\n",
              "      <td>1</td>\n",
              "      <td>0.0</td>\n",
              "      <td>6.133312</td>\n",
              "      <td>1.93</td>\n",
              "      <td>7.61</td>\n",
              "      <td>36.412567</td>\n",
              "      <td>155.200943</td>\n",
              "      <td>26.464970</td>\n",
              "      <td>38.229462</td>\n",
              "      <td>3.944933</td>\n",
              "      <td>10.306302</td>\n",
              "      <td>12.840142</td>\n",
              "      <td>113.610794</td>\n",
              "      <td>29196.039062</td>\n",
              "      <td>3320.790039</td>\n",
              "      <td>9370.809570</td>\n",
              "    </tr>\n",
              "    <tr>\n",
              "      <th>2020-01-22</th>\n",
              "      <td>1</td>\n",
              "      <td>0.0</td>\n",
              "      <td>6.065380</td>\n",
              "      <td>1.93</td>\n",
              "      <td>7.20</td>\n",
              "      <td>36.422276</td>\n",
              "      <td>153.240356</td>\n",
              "      <td>25.981096</td>\n",
              "      <td>38.258644</td>\n",
              "      <td>3.927083</td>\n",
              "      <td>9.700049</td>\n",
              "      <td>12.696477</td>\n",
              "      <td>113.484978</td>\n",
              "      <td>29186.269531</td>\n",
              "      <td>3321.750000</td>\n",
              "      <td>9383.769531</td>\n",
              "    </tr>\n",
              "    <tr>\n",
              "      <th>2020-01-23</th>\n",
              "      <td>1</td>\n",
              "      <td>0.0</td>\n",
              "      <td>6.016856</td>\n",
              "      <td>1.93</td>\n",
              "      <td>7.33</td>\n",
              "      <td>35.606632</td>\n",
              "      <td>152.590118</td>\n",
              "      <td>25.645348</td>\n",
              "      <td>38.336468</td>\n",
              "      <td>3.882457</td>\n",
              "      <td>9.372077</td>\n",
              "      <td>12.633624</td>\n",
              "      <td>113.165604</td>\n",
              "      <td>29160.089844</td>\n",
              "      <td>3325.540039</td>\n",
              "      <td>9402.480469</td>\n",
              "    </tr>\n",
              "    <tr>\n",
              "      <th>2020-01-24</th>\n",
              "      <td>2</td>\n",
              "      <td>0.0</td>\n",
              "      <td>6.084789</td>\n",
              "      <td>1.93</td>\n",
              "      <td>6.99</td>\n",
              "      <td>35.422142</td>\n",
              "      <td>151.792099</td>\n",
              "      <td>24.292473</td>\n",
              "      <td>38.132191</td>\n",
              "      <td>3.650402</td>\n",
              "      <td>9.173305</td>\n",
              "      <td>12.400167</td>\n",
              "      <td>112.904289</td>\n",
              "      <td>28989.730469</td>\n",
              "      <td>3295.469971</td>\n",
              "      <td>9314.910156</td>\n",
              "    </tr>\n",
              "    <tr>\n",
              "      <th>2020-01-27</th>\n",
              "      <td>5</td>\n",
              "      <td>0.0</td>\n",
              "      <td>5.871287</td>\n",
              "      <td>1.93</td>\n",
              "      <td>6.54</td>\n",
              "      <td>34.548244</td>\n",
              "      <td>146.294586</td>\n",
              "      <td>23.808599</td>\n",
              "      <td>37.665264</td>\n",
              "      <td>3.489749</td>\n",
              "      <td>8.447789</td>\n",
              "      <td>12.220583</td>\n",
              "      <td>111.220299</td>\n",
              "      <td>28535.800781</td>\n",
              "      <td>3243.629883</td>\n",
              "      <td>9139.309570</td>\n",
              "    </tr>\n",
              "  </tbody>\n",
              "</table>\n",
              "</div>"
            ],
            "text/plain": [
              "            cases  deaths    Maersk  ...     Dow Jones      S&P 500       Nasdaq\n",
              "2020-01-21      1     0.0  6.133312  ...  29196.039062  3320.790039  9370.809570\n",
              "2020-01-22      1     0.0  6.065380  ...  29186.269531  3321.750000  9383.769531\n",
              "2020-01-23      1     0.0  6.016856  ...  29160.089844  3325.540039  9402.480469\n",
              "2020-01-24      2     0.0  6.084789  ...  28989.730469  3295.469971  9314.910156\n",
              "2020-01-27      5     0.0  5.871287  ...  28535.800781  3243.629883  9139.309570\n",
              "\n",
              "[5 rows x 16 columns]"
            ]
          },
          "metadata": {
            "tags": []
          },
          "execution_count": 45
        }
      ]
    },
    {
      "cell_type": "code",
      "metadata": {
        "colab": {
          "base_uri": "https://localhost:8080/"
        },
        "id": "Wlcsac2sa6mD",
        "outputId": "b81a5c6e-9ae5-4847-ceeb-70701e7673ee"
      },
      "source": [
        "covid_stocks_df.info()"
      ],
      "execution_count": null,
      "outputs": [
        {
          "output_type": "stream",
          "text": [
            "<class 'pandas.core.frame.DataFrame'>\n",
            "DatetimeIndex: 241 entries, 2020-01-21 to 2020-12-31\n",
            "Data columns (total 16 columns):\n",
            " #   Column                 Non-Null Count  Dtype  \n",
            "---  ------                 --------------  -----  \n",
            " 0   cases                  241 non-null    int64  \n",
            " 1   deaths                 241 non-null    float64\n",
            " 2   Maersk                 241 non-null    float64\n",
            " 3   Cosco Shipping         241 non-null    float64\n",
            " 4   Danaos Shipping        241 non-null    float64\n",
            " 5   DHL                    241 non-null    float64\n",
            " 6   FedEx                  241 non-null    float64\n",
            " 7   International Seaways  241 non-null    float64\n",
            " 8   Matson                 241 non-null    float64\n",
            " 9   Nordic American        241 non-null    float64\n",
            " 10  Star Bulk Carriers     241 non-null    float64\n",
            " 11  SFL Corp               241 non-null    float64\n",
            " 12  UPS                    241 non-null    float64\n",
            " 13  Dow Jones              241 non-null    float64\n",
            " 14  S&P 500                241 non-null    float64\n",
            " 15  Nasdaq                 241 non-null    float64\n",
            "dtypes: float64(15), int64(1)\n",
            "memory usage: 32.0 KB\n"
          ],
          "name": "stdout"
        }
      ]
    },
    {
      "cell_type": "code",
      "metadata": {
        "colab": {
          "base_uri": "https://localhost:8080/"
        },
        "id": "BN2yuwKbbCOD",
        "outputId": "43865666-43c9-47d3-9eed-2479e2f30cb0"
      },
      "source": [
        "covid_stocks_df.describe()"
      ],
      "execution_count": null,
      "outputs": [
        {
          "output_type": "execute_result",
          "data": {
            "text/html": [
              "<div>\n",
              "<style scoped>\n",
              "    .dataframe tbody tr th:only-of-type {\n",
              "        vertical-align: middle;\n",
              "    }\n",
              "\n",
              "    .dataframe tbody tr th {\n",
              "        vertical-align: top;\n",
              "    }\n",
              "\n",
              "    .dataframe thead th {\n",
              "        text-align: right;\n",
              "    }\n",
              "</style>\n",
              "<table border=\"1\" class=\"dataframe\">\n",
              "  <thead>\n",
              "    <tr style=\"text-align: right;\">\n",
              "      <th></th>\n",
              "      <th>cases</th>\n",
              "      <th>deaths</th>\n",
              "      <th>Maersk</th>\n",
              "      <th>Cosco Shipping</th>\n",
              "      <th>Danaos Shipping</th>\n",
              "      <th>DHL</th>\n",
              "      <th>FedEx</th>\n",
              "      <th>International Seaways</th>\n",
              "      <th>Matson</th>\n",
              "      <th>Nordic American</th>\n",
              "      <th>Star Bulk Carriers</th>\n",
              "      <th>SFL Corp</th>\n",
              "      <th>UPS</th>\n",
              "      <th>Dow Jones</th>\n",
              "      <th>S&amp;P 500</th>\n",
              "      <th>Nasdaq</th>\n",
              "    </tr>\n",
              "  </thead>\n",
              "  <tbody>\n",
              "    <tr>\n",
              "      <th>count</th>\n",
              "      <td>2.410000e+02</td>\n",
              "      <td>241.000000</td>\n",
              "      <td>241.000000</td>\n",
              "      <td>241.00000</td>\n",
              "      <td>241.000000</td>\n",
              "      <td>241.000000</td>\n",
              "      <td>241.000000</td>\n",
              "      <td>241.000000</td>\n",
              "      <td>241.000000</td>\n",
              "      <td>241.000000</td>\n",
              "      <td>241.000000</td>\n",
              "      <td>241.000000</td>\n",
              "      <td>241.000000</td>\n",
              "      <td>241.000000</td>\n",
              "      <td>241.000000</td>\n",
              "      <td>241.000000</td>\n",
              "    </tr>\n",
              "    <tr>\n",
              "      <th>mean</th>\n",
              "      <td>4.975517e+06</td>\n",
              "      <td>133885.385892</td>\n",
              "      <td>6.748204</td>\n",
              "      <td>2.33722</td>\n",
              "      <td>6.894979</td>\n",
              "      <td>38.017637</td>\n",
              "      <td>186.894553</td>\n",
              "      <td>18.653895</td>\n",
              "      <td>38.724068</td>\n",
              "      <td>3.687634</td>\n",
              "      <td>6.859231</td>\n",
              "      <td>8.684332</td>\n",
              "      <td>128.878613</td>\n",
              "      <td>26790.461578</td>\n",
              "      <td>3215.109002</td>\n",
              "      <td>10251.811442</td>\n",
              "    </tr>\n",
              "    <tr>\n",
              "      <th>std</th>\n",
              "      <td>5.160584e+06</td>\n",
              "      <td>99251.589757</td>\n",
              "      <td>1.952912</td>\n",
              "      <td>1.17040</td>\n",
              "      <td>4.344092</td>\n",
              "      <td>8.447786</td>\n",
              "      <td>64.770457</td>\n",
              "      <td>3.180756</td>\n",
              "      <td>10.624563</td>\n",
              "      <td>0.719425</td>\n",
              "      <td>1.133207</td>\n",
              "      <td>1.664046</td>\n",
              "      <td>32.656033</td>\n",
              "      <td>2541.996892</td>\n",
              "      <td>326.802336</td>\n",
              "      <td>1489.496946</td>\n",
              "    </tr>\n",
              "    <tr>\n",
              "      <th>min</th>\n",
              "      <td>1.000000e+00</td>\n",
              "      <td>0.000000</td>\n",
              "      <td>3.493659</td>\n",
              "      <td>1.26000</td>\n",
              "      <td>2.780000</td>\n",
              "      <td>20.109446</td>\n",
              "      <td>89.600357</td>\n",
              "      <td>12.857842</td>\n",
              "      <td>24.579119</td>\n",
              "      <td>2.248411</td>\n",
              "      <td>3.920000</td>\n",
              "      <td>5.920000</td>\n",
              "      <td>84.222221</td>\n",
              "      <td>18591.929688</td>\n",
              "      <td>2237.399902</td>\n",
              "      <td>6860.669922</td>\n",
              "    </tr>\n",
              "    <tr>\n",
              "      <th>25%</th>\n",
              "      <td>6.723550e+05</td>\n",
              "      <td>34418.000000</td>\n",
              "      <td>4.990000</td>\n",
              "      <td>1.48000</td>\n",
              "      <td>4.080000</td>\n",
              "      <td>30.013664</td>\n",
              "      <td>129.276413</td>\n",
              "      <td>16.333899</td>\n",
              "      <td>29.431820</td>\n",
              "      <td>3.150000</td>\n",
              "      <td>6.200000</td>\n",
              "      <td>7.404234</td>\n",
              "      <td>98.345596</td>\n",
              "      <td>25445.939453</td>\n",
              "      <td>3009.050049</td>\n",
              "      <td>9192.339844</td>\n",
              "    </tr>\n",
              "    <tr>\n",
              "      <th>50%</th>\n",
              "      <td>3.379846e+06</td>\n",
              "      <td>135402.000000</td>\n",
              "      <td>6.260000</td>\n",
              "      <td>1.88000</td>\n",
              "      <td>5.090000</td>\n",
              "      <td>37.665157</td>\n",
              "      <td>160.430832</td>\n",
              "      <td>17.704159</td>\n",
              "      <td>36.191700</td>\n",
              "      <td>3.604232</td>\n",
              "      <td>6.860000</td>\n",
              "      <td>8.637179</td>\n",
              "      <td>113.905342</td>\n",
              "      <td>27272.300781</td>\n",
              "      <td>3276.239990</td>\n",
              "      <td>10461.419922</td>\n",
              "    </tr>\n",
              "    <tr>\n",
              "      <th>75%</th>\n",
              "      <td>7.550848e+06</td>\n",
              "      <td>210756.000000</td>\n",
              "      <td>7.910000</td>\n",
              "      <td>2.67000</td>\n",
              "      <td>8.210000</td>\n",
              "      <td>46.000000</td>\n",
              "      <td>258.690674</td>\n",
              "      <td>20.934980</td>\n",
              "      <td>43.517960</td>\n",
              "      <td>4.162513</td>\n",
              "      <td>7.650000</td>\n",
              "      <td>9.408612</td>\n",
              "      <td>163.110001</td>\n",
              "      <td>28653.869141</td>\n",
              "      <td>3426.959961</td>\n",
              "      <td>11420.980469</td>\n",
              "    </tr>\n",
              "    <tr>\n",
              "      <th>max</th>\n",
              "      <td>2.002622e+07</td>\n",
              "      <td>346039.000000</td>\n",
              "      <td>11.570000</td>\n",
              "      <td>6.17000</td>\n",
              "      <td>21.430000</td>\n",
              "      <td>50.849998</td>\n",
              "      <td>300.776428</td>\n",
              "      <td>28.008038</td>\n",
              "      <td>61.248100</td>\n",
              "      <td>6.708675</td>\n",
              "      <td>10.306302</td>\n",
              "      <td>12.840142</td>\n",
              "      <td>175.469986</td>\n",
              "      <td>30606.480469</td>\n",
              "      <td>3756.070068</td>\n",
              "      <td>12899.419922</td>\n",
              "    </tr>\n",
              "  </tbody>\n",
              "</table>\n",
              "</div>"
            ],
            "text/plain": [
              "              cases         deaths  ...      S&P 500        Nasdaq\n",
              "count  2.410000e+02     241.000000  ...   241.000000    241.000000\n",
              "mean   4.975517e+06  133885.385892  ...  3215.109002  10251.811442\n",
              "std    5.160584e+06   99251.589757  ...   326.802336   1489.496946\n",
              "min    1.000000e+00       0.000000  ...  2237.399902   6860.669922\n",
              "25%    6.723550e+05   34418.000000  ...  3009.050049   9192.339844\n",
              "50%    3.379846e+06  135402.000000  ...  3276.239990  10461.419922\n",
              "75%    7.550848e+06  210756.000000  ...  3426.959961  11420.980469\n",
              "max    2.002622e+07  346039.000000  ...  3756.070068  12899.419922\n",
              "\n",
              "[8 rows x 16 columns]"
            ]
          },
          "metadata": {
            "tags": []
          },
          "execution_count": 47
        }
      ]
    },
    {
      "cell_type": "markdown",
      "metadata": {
        "id": "eqOOhVe9bUQp"
      },
      "source": [
        "# Analysis"
      ]
    },
    {
      "cell_type": "code",
      "metadata": {
        "id": "4NnxCfyvUk7E"
      },
      "source": [
        "from sqlalchemy import create_engine\r\n",
        "import pandas as pd\r\n",
        "from scipy import stats"
      ],
      "execution_count": null,
      "outputs": []
    },
    {
      "cell_type": "code",
      "metadata": {
        "id": "J9_C59nDgD4v"
      },
      "source": [
        "# Here I create a dataframe using only the shipping stocks.\r\n",
        "ship_stocks = covid_stocks_df.drop(['cases', 'deaths', 'Dow Jones', 'S&P 500', 'Nasdaq'],axis=1)"
      ],
      "execution_count": null,
      "outputs": []
    },
    {
      "cell_type": "code",
      "metadata": {
        "colab": {
          "base_uri": "https://localhost:8080/",
          "height": 296
        },
        "id": "Zi1BmOYEheX_",
        "outputId": "34262f5e-d9b6-4c68-f355-374b67c3a8e8"
      },
      "source": [
        "ship_stocks.head()"
      ],
      "execution_count": null,
      "outputs": [
        {
          "output_type": "execute_result",
          "data": {
            "text/html": [
              "<div>\n",
              "<style scoped>\n",
              "    .dataframe tbody tr th:only-of-type {\n",
              "        vertical-align: middle;\n",
              "    }\n",
              "\n",
              "    .dataframe tbody tr th {\n",
              "        vertical-align: top;\n",
              "    }\n",
              "\n",
              "    .dataframe thead th {\n",
              "        text-align: right;\n",
              "    }\n",
              "</style>\n",
              "<table border=\"1\" class=\"dataframe\">\n",
              "  <thead>\n",
              "    <tr style=\"text-align: right;\">\n",
              "      <th></th>\n",
              "      <th>Maersk</th>\n",
              "      <th>Cosco Shipping</th>\n",
              "      <th>Danaos Shipping</th>\n",
              "      <th>DHL</th>\n",
              "      <th>FedEx</th>\n",
              "      <th>International Seaways</th>\n",
              "      <th>Matson</th>\n",
              "      <th>Nordic American</th>\n",
              "      <th>Star Bulk Carriers</th>\n",
              "      <th>SFL Corp</th>\n",
              "      <th>UPS</th>\n",
              "    </tr>\n",
              "  </thead>\n",
              "  <tbody>\n",
              "    <tr>\n",
              "      <th>2020-01-21</th>\n",
              "      <td>6.133312</td>\n",
              "      <td>1.93</td>\n",
              "      <td>7.61</td>\n",
              "      <td>36.412567</td>\n",
              "      <td>155.200943</td>\n",
              "      <td>26.464970</td>\n",
              "      <td>38.229462</td>\n",
              "      <td>3.944933</td>\n",
              "      <td>10.306302</td>\n",
              "      <td>12.840142</td>\n",
              "      <td>113.610794</td>\n",
              "    </tr>\n",
              "    <tr>\n",
              "      <th>2020-01-22</th>\n",
              "      <td>6.065380</td>\n",
              "      <td>1.93</td>\n",
              "      <td>7.20</td>\n",
              "      <td>36.422276</td>\n",
              "      <td>153.240356</td>\n",
              "      <td>25.981096</td>\n",
              "      <td>38.258644</td>\n",
              "      <td>3.927083</td>\n",
              "      <td>9.700049</td>\n",
              "      <td>12.696477</td>\n",
              "      <td>113.484978</td>\n",
              "    </tr>\n",
              "    <tr>\n",
              "      <th>2020-01-23</th>\n",
              "      <td>6.016856</td>\n",
              "      <td>1.93</td>\n",
              "      <td>7.33</td>\n",
              "      <td>35.606632</td>\n",
              "      <td>152.590118</td>\n",
              "      <td>25.645348</td>\n",
              "      <td>38.336468</td>\n",
              "      <td>3.882457</td>\n",
              "      <td>9.372077</td>\n",
              "      <td>12.633624</td>\n",
              "      <td>113.165604</td>\n",
              "    </tr>\n",
              "    <tr>\n",
              "      <th>2020-01-24</th>\n",
              "      <td>6.084789</td>\n",
              "      <td>1.93</td>\n",
              "      <td>6.99</td>\n",
              "      <td>35.422142</td>\n",
              "      <td>151.792099</td>\n",
              "      <td>24.292473</td>\n",
              "      <td>38.132191</td>\n",
              "      <td>3.650402</td>\n",
              "      <td>9.173305</td>\n",
              "      <td>12.400167</td>\n",
              "      <td>112.904289</td>\n",
              "    </tr>\n",
              "    <tr>\n",
              "      <th>2020-01-27</th>\n",
              "      <td>5.871287</td>\n",
              "      <td>1.93</td>\n",
              "      <td>6.54</td>\n",
              "      <td>34.548244</td>\n",
              "      <td>146.294586</td>\n",
              "      <td>23.808599</td>\n",
              "      <td>37.665264</td>\n",
              "      <td>3.489749</td>\n",
              "      <td>8.447789</td>\n",
              "      <td>12.220583</td>\n",
              "      <td>111.220299</td>\n",
              "    </tr>\n",
              "  </tbody>\n",
              "</table>\n",
              "</div>"
            ],
            "text/plain": [
              "              Maersk  Cosco Shipping  ...   SFL Corp         UPS\n",
              "2020-01-21  6.133312            1.93  ...  12.840142  113.610794\n",
              "2020-01-22  6.065380            1.93  ...  12.696477  113.484978\n",
              "2020-01-23  6.016856            1.93  ...  12.633624  113.165604\n",
              "2020-01-24  6.084789            1.93  ...  12.400167  112.904289\n",
              "2020-01-27  5.871287            1.93  ...  12.220583  111.220299\n",
              "\n",
              "[5 rows x 11 columns]"
            ]
          },
          "metadata": {
            "tags": []
          },
          "execution_count": 50
        }
      ]
    },
    {
      "cell_type": "markdown",
      "metadata": {
        "id": "1u6lLMA20eu0"
      },
      "source": [
        "## Visuals"
      ]
    },
    {
      "cell_type": "code",
      "metadata": {
        "colab": {
          "base_uri": "https://localhost:8080/"
        },
        "id": "T-ys54yskwGH",
        "outputId": "38a2fc12-bd40-42e5-de93-ad440261825d"
      },
      "source": [
        "# Plot all the close prices\r\n",
        "ship_stocks.plot(figsize=(10, 10))\r\n",
        "# Show the legend\r\n",
        "plt.legend(loc='center left', bbox_to_anchor=(1, 0.5))\r\n",
        "# Define the label for the title of the figure\r\n",
        "plt.title(\"Adjusted Close Price\", fontsize=16)\r\n",
        "# Define the labels for x-axis and y-axis\r\n",
        "plt.ylabel('Price', fontsize=14)\r\n",
        "plt.xlabel('Year', fontsize=14)\r\n",
        "# Plot the grid lines\r\n",
        "plt.grid(which=\"major\", color='k', linestyle='-.', linewidth=0.5)\r\n",
        "plt.show()"
      ],
      "execution_count": null,
      "outputs": [
        {
          "output_type": "display_data",
          "data": {
            "image/png": "[encoded data removed]",
            "text/plain": [
              "<Figure size 720x720 with 1 Axes>"
            ]
          },
          "metadata": {
            "tags": [],
            "needs_background": "light"
          }
        }
      ]
    },
    {
      "cell_type": "code",
      "metadata": {
        "colab": {
          "base_uri": "https://localhost:8080/"
        },
        "id": "Rcv4k2GllDv5",
        "outputId": "4a32d6c7-1019-42db-f613-97f75be0eaee"
      },
      "source": [
        "# Plot all Covid-19 Cases\r\n",
        "plt.style.use('dark_background')\r\n",
        "covid_total.plot(figsize=(8, 8))\r\n",
        "# Show the legend\r\n",
        "plt.legend(loc='center left', bbox_to_anchor=(1, 0.75), fontsize=\"x-large\")\r\n",
        "# Define the label for the title of the figure\r\n",
        "plt.title(\"Covid-19\", fontsize=16)\r\n",
        "# Define the labels for x-axis and y-axis\r\n",
        "plt.ylabel('Cases in Millions', fontsize=14)\r\n",
        "plt.xlabel('January 2020 - January 2021', fontsize=14)\r\n",
        "# Plot the grid lines\r\n",
        "plt.grid(which=\"major\", color='white', linestyle='-.', linewidth=0.5)\r\n",
        "plt.show()"
      ],
      "execution_count": null,
      "outputs": [
        {
          "output_type": "display_data",
          "data": {
            "image/png": "[encoded data removed]",
            "text/plain": [
              "<Figure size 576x576 with 1 Axes>"
            ]
          },
          "metadata": {
            "tags": []
          }
        }
      ]
    },
    {
      "cell_type": "markdown",
      "metadata": {
        "id": "yTTFxGxUisb9"
      },
      "source": [
        "# New Section"
      ]
    },
    {
      "cell_type": "markdown",
      "metadata": {
        "id": "Y7uYDvBx0uNO"
      },
      "source": [
        "## Pearsonr Testing\r\n"
      ]
    },
    {
      "cell_type": "code",
      "metadata": {
        "colab": {
          "base_uri": "https://localhost:8080/",
          "height": 658
        },
        "id": "x5xtFG_BzFc3",
        "outputId": "c1185b23-962f-4603-c2bb-13dae5e7caf0"
      },
      "source": [
        "# Examine Dataframe Coorelations\r\n",
        "covid_corr = covid_stocks_df.corr()\r\n",
        "covid_corr"
      ],
      "execution_count": null,
      "outputs": [
        {
          "output_type": "execute_result",
          "data": {
            "text/html": [
              "<div>\n",
              "<style scoped>\n",
              "    .dataframe tbody tr th:only-of-type {\n",
              "        vertical-align: middle;\n",
              "    }\n",
              "\n",
              "    .dataframe tbody tr th {\n",
              "        vertical-align: top;\n",
              "    }\n",
              "\n",
              "    .dataframe thead th {\n",
              "        text-align: right;\n",
              "    }\n",
              "</style>\n",
              "<table border=\"1\" class=\"dataframe\">\n",
              "  <thead>\n",
              "    <tr style=\"text-align: right;\">\n",
              "      <th></th>\n",
              "      <th>cases</th>\n",
              "      <th>deaths</th>\n",
              "      <th>Maersk</th>\n",
              "      <th>Cosco Shipping</th>\n",
              "      <th>Danaos Shipping</th>\n",
              "      <th>DHL</th>\n",
              "      <th>FedEx</th>\n",
              "      <th>International Seaways</th>\n",
              "      <th>Matson</th>\n",
              "      <th>Nordic American</th>\n",
              "      <th>Star Bulk Carriers</th>\n",
              "      <th>SFL Corp</th>\n",
              "      <th>UPS</th>\n",
              "      <th>Dow Jones</th>\n",
              "      <th>S&amp;P 500</th>\n",
              "      <th>Nasdaq</th>\n",
              "    </tr>\n",
              "  </thead>\n",
              "  <tbody>\n",
              "    <tr>\n",
              "      <th>cases</th>\n",
              "      <td>1.000000</td>\n",
              "      <td>0.943115</td>\n",
              "      <td>0.962215</td>\n",
              "      <td>0.948715</td>\n",
              "      <td>0.891410</td>\n",
              "      <td>0.843987</td>\n",
              "      <td>0.890609</td>\n",
              "      <td>-0.588493</td>\n",
              "      <td>0.893615</td>\n",
              "      <td>-0.231601</td>\n",
              "      <td>0.344590</td>\n",
              "      <td>-0.786526</td>\n",
              "      <td>0.858802</td>\n",
              "      <td>0.657245</td>\n",
              "      <td>0.772597</td>\n",
              "      <td>0.877011</td>\n",
              "    </tr>\n",
              "    <tr>\n",
              "      <th>deaths</th>\n",
              "      <td>0.943115</td>\n",
              "      <td>1.000000</td>\n",
              "      <td>0.918157</td>\n",
              "      <td>0.825001</td>\n",
              "      <td>0.717769</td>\n",
              "      <td>0.897298</td>\n",
              "      <td>0.887251</td>\n",
              "      <td>-0.694911</td>\n",
              "      <td>0.806760</td>\n",
              "      <td>-0.044400</td>\n",
              "      <td>0.190229</td>\n",
              "      <td>-0.823912</td>\n",
              "      <td>0.900172</td>\n",
              "      <td>0.630595</td>\n",
              "      <td>0.777518</td>\n",
              "      <td>0.925765</td>\n",
              "    </tr>\n",
              "    <tr>\n",
              "      <th>Maersk</th>\n",
              "      <td>0.962215</td>\n",
              "      <td>0.918157</td>\n",
              "      <td>1.000000</td>\n",
              "      <td>0.934854</td>\n",
              "      <td>0.866460</td>\n",
              "      <td>0.928922</td>\n",
              "      <td>0.935648</td>\n",
              "      <td>-0.600299</td>\n",
              "      <td>0.923496</td>\n",
              "      <td>-0.244130</td>\n",
              "      <td>0.500320</td>\n",
              "      <td>-0.658719</td>\n",
              "      <td>0.908393</td>\n",
              "      <td>0.814254</td>\n",
              "      <td>0.895768</td>\n",
              "      <td>0.942219</td>\n",
              "    </tr>\n",
              "    <tr>\n",
              "      <th>Cosco Shipping</th>\n",
              "      <td>0.948715</td>\n",
              "      <td>0.825001</td>\n",
              "      <td>0.934854</td>\n",
              "      <td>1.000000</td>\n",
              "      <td>0.936621</td>\n",
              "      <td>0.782671</td>\n",
              "      <td>0.860318</td>\n",
              "      <td>-0.480015</td>\n",
              "      <td>0.934331</td>\n",
              "      <td>-0.369057</td>\n",
              "      <td>0.478281</td>\n",
              "      <td>-0.647196</td>\n",
              "      <td>0.794321</td>\n",
              "      <td>0.699891</td>\n",
              "      <td>0.769207</td>\n",
              "      <td>0.806235</td>\n",
              "    </tr>\n",
              "    <tr>\n",
              "      <th>Danaos Shipping</th>\n",
              "      <td>0.891410</td>\n",
              "      <td>0.717769</td>\n",
              "      <td>0.866460</td>\n",
              "      <td>0.936621</td>\n",
              "      <td>1.000000</td>\n",
              "      <td>0.657824</td>\n",
              "      <td>0.756329</td>\n",
              "      <td>-0.310890</td>\n",
              "      <td>0.858670</td>\n",
              "      <td>-0.366812</td>\n",
              "      <td>0.523446</td>\n",
              "      <td>-0.528860</td>\n",
              "      <td>0.661134</td>\n",
              "      <td>0.664661</td>\n",
              "      <td>0.700664</td>\n",
              "      <td>0.701821</td>\n",
              "    </tr>\n",
              "    <tr>\n",
              "      <th>DHL</th>\n",
              "      <td>0.843987</td>\n",
              "      <td>0.897298</td>\n",
              "      <td>0.928922</td>\n",
              "      <td>0.782671</td>\n",
              "      <td>0.657824</td>\n",
              "      <td>1.000000</td>\n",
              "      <td>0.947218</td>\n",
              "      <td>-0.712321</td>\n",
              "      <td>0.847918</td>\n",
              "      <td>-0.152394</td>\n",
              "      <td>0.441546</td>\n",
              "      <td>-0.598179</td>\n",
              "      <td>0.959655</td>\n",
              "      <td>0.836471</td>\n",
              "      <td>0.921923</td>\n",
              "      <td>0.967451</td>\n",
              "    </tr>\n",
              "    <tr>\n",
              "      <th>FedEx</th>\n",
              "      <td>0.890609</td>\n",
              "      <td>0.887251</td>\n",
              "      <td>0.935648</td>\n",
              "      <td>0.860318</td>\n",
              "      <td>0.756329</td>\n",
              "      <td>0.947218</td>\n",
              "      <td>1.000000</td>\n",
              "      <td>-0.686865</td>\n",
              "      <td>0.930304</td>\n",
              "      <td>-0.300711</td>\n",
              "      <td>0.408408</td>\n",
              "      <td>-0.679573</td>\n",
              "      <td>0.961913</td>\n",
              "      <td>0.758268</td>\n",
              "      <td>0.846527</td>\n",
              "      <td>0.900817</td>\n",
              "    </tr>\n",
              "    <tr>\n",
              "      <th>International Seaways</th>\n",
              "      <td>-0.588493</td>\n",
              "      <td>-0.694911</td>\n",
              "      <td>-0.600299</td>\n",
              "      <td>-0.480015</td>\n",
              "      <td>-0.310890</td>\n",
              "      <td>-0.712321</td>\n",
              "      <td>-0.686865</td>\n",
              "      <td>1.000000</td>\n",
              "      <td>-0.551385</td>\n",
              "      <td>0.393753</td>\n",
              "      <td>-0.154513</td>\n",
              "      <td>0.688015</td>\n",
              "      <td>-0.711809</td>\n",
              "      <td>-0.402237</td>\n",
              "      <td>-0.525089</td>\n",
              "      <td>-0.665315</td>\n",
              "    </tr>\n",
              "    <tr>\n",
              "      <th>Matson</th>\n",
              "      <td>0.893615</td>\n",
              "      <td>0.806760</td>\n",
              "      <td>0.923496</td>\n",
              "      <td>0.934331</td>\n",
              "      <td>0.858670</td>\n",
              "      <td>0.847918</td>\n",
              "      <td>0.930304</td>\n",
              "      <td>-0.551385</td>\n",
              "      <td>1.000000</td>\n",
              "      <td>-0.400321</td>\n",
              "      <td>0.499363</td>\n",
              "      <td>-0.621384</td>\n",
              "      <td>0.856765</td>\n",
              "      <td>0.758032</td>\n",
              "      <td>0.818812</td>\n",
              "      <td>0.831142</td>\n",
              "    </tr>\n",
              "    <tr>\n",
              "      <th>Nordic American</th>\n",
              "      <td>-0.231601</td>\n",
              "      <td>-0.044400</td>\n",
              "      <td>-0.244130</td>\n",
              "      <td>-0.369057</td>\n",
              "      <td>-0.366812</td>\n",
              "      <td>-0.152394</td>\n",
              "      <td>-0.300711</td>\n",
              "      <td>0.393753</td>\n",
              "      <td>-0.400321</td>\n",
              "      <td>1.000000</td>\n",
              "      <td>-0.458136</td>\n",
              "      <td>0.159681</td>\n",
              "      <td>-0.193955</td>\n",
              "      <td>-0.190325</td>\n",
              "      <td>-0.145541</td>\n",
              "      <td>-0.077075</td>\n",
              "    </tr>\n",
              "    <tr>\n",
              "      <th>Star Bulk Carriers</th>\n",
              "      <td>0.344590</td>\n",
              "      <td>0.190229</td>\n",
              "      <td>0.500320</td>\n",
              "      <td>0.478281</td>\n",
              "      <td>0.523446</td>\n",
              "      <td>0.441546</td>\n",
              "      <td>0.408408</td>\n",
              "      <td>-0.154513</td>\n",
              "      <td>0.499363</td>\n",
              "      <td>-0.458136</td>\n",
              "      <td>1.000000</td>\n",
              "      <td>0.158566</td>\n",
              "      <td>0.352273</td>\n",
              "      <td>0.731309</td>\n",
              "      <td>0.624431</td>\n",
              "      <td>0.430876</td>\n",
              "    </tr>\n",
              "    <tr>\n",
              "      <th>SFL Corp</th>\n",
              "      <td>-0.786526</td>\n",
              "      <td>-0.823912</td>\n",
              "      <td>-0.658719</td>\n",
              "      <td>-0.647196</td>\n",
              "      <td>-0.528860</td>\n",
              "      <td>-0.598179</td>\n",
              "      <td>-0.679573</td>\n",
              "      <td>0.688015</td>\n",
              "      <td>-0.621384</td>\n",
              "      <td>0.159681</td>\n",
              "      <td>0.158566</td>\n",
              "      <td>1.000000</td>\n",
              "      <td>-0.699253</td>\n",
              "      <td>-0.158212</td>\n",
              "      <td>-0.350934</td>\n",
              "      <td>-0.600790</td>\n",
              "    </tr>\n",
              "    <tr>\n",
              "      <th>UPS</th>\n",
              "      <td>0.858802</td>\n",
              "      <td>0.900172</td>\n",
              "      <td>0.908393</td>\n",
              "      <td>0.794321</td>\n",
              "      <td>0.661134</td>\n",
              "      <td>0.959655</td>\n",
              "      <td>0.961913</td>\n",
              "      <td>-0.711809</td>\n",
              "      <td>0.856765</td>\n",
              "      <td>-0.193955</td>\n",
              "      <td>0.352273</td>\n",
              "      <td>-0.699253</td>\n",
              "      <td>1.000000</td>\n",
              "      <td>0.715111</td>\n",
              "      <td>0.823724</td>\n",
              "      <td>0.908574</td>\n",
              "    </tr>\n",
              "    <tr>\n",
              "      <th>Dow Jones</th>\n",
              "      <td>0.657245</td>\n",
              "      <td>0.630595</td>\n",
              "      <td>0.814254</td>\n",
              "      <td>0.699891</td>\n",
              "      <td>0.664661</td>\n",
              "      <td>0.836471</td>\n",
              "      <td>0.758268</td>\n",
              "      <td>-0.402237</td>\n",
              "      <td>0.758032</td>\n",
              "      <td>-0.190325</td>\n",
              "      <td>0.731309</td>\n",
              "      <td>-0.158212</td>\n",
              "      <td>0.715111</td>\n",
              "      <td>1.000000</td>\n",
              "      <td>0.974476</td>\n",
              "      <td>0.854690</td>\n",
              "    </tr>\n",
              "    <tr>\n",
              "      <th>S&amp;P 500</th>\n",
              "      <td>0.772597</td>\n",
              "      <td>0.777518</td>\n",
              "      <td>0.895768</td>\n",
              "      <td>0.769207</td>\n",
              "      <td>0.700664</td>\n",
              "      <td>0.921923</td>\n",
              "      <td>0.846527</td>\n",
              "      <td>-0.525089</td>\n",
              "      <td>0.818812</td>\n",
              "      <td>-0.145541</td>\n",
              "      <td>0.624431</td>\n",
              "      <td>-0.350934</td>\n",
              "      <td>0.823724</td>\n",
              "      <td>0.974476</td>\n",
              "      <td>1.000000</td>\n",
              "      <td>0.947673</td>\n",
              "    </tr>\n",
              "    <tr>\n",
              "      <th>Nasdaq</th>\n",
              "      <td>0.877011</td>\n",
              "      <td>0.925765</td>\n",
              "      <td>0.942219</td>\n",
              "      <td>0.806235</td>\n",
              "      <td>0.701821</td>\n",
              "      <td>0.967451</td>\n",
              "      <td>0.900817</td>\n",
              "      <td>-0.665315</td>\n",
              "      <td>0.831142</td>\n",
              "      <td>-0.077075</td>\n",
              "      <td>0.430876</td>\n",
              "      <td>-0.600790</td>\n",
              "      <td>0.908574</td>\n",
              "      <td>0.854690</td>\n",
              "      <td>0.947673</td>\n",
              "      <td>1.000000</td>\n",
              "    </tr>\n",
              "  </tbody>\n",
              "</table>\n",
              "</div>"
            ],
            "text/plain": [
              "                          cases    deaths  ...   S&P 500    Nasdaq\n",
              "cases                  1.000000  0.943115  ...  0.772597  0.877011\n",
              "deaths                 0.943115  1.000000  ...  0.777518  0.925765\n",
              "Maersk                 0.962215  0.918157  ...  0.895768  0.942219\n",
              "Cosco Shipping         0.948715  0.825001  ...  0.769207  0.806235\n",
              "Danaos Shipping        0.891410  0.717769  ...  0.700664  0.701821\n",
              "DHL                    0.843987  0.897298  ...  0.921923  0.967451\n",
              "FedEx                  0.890609  0.887251  ...  0.846527  0.900817\n",
              "International Seaways -0.588493 -0.694911  ... -0.525089 -0.665315\n",
              "Matson                 0.893615  0.806760  ...  0.818812  0.831142\n",
              "Nordic American       -0.231601 -0.044400  ... -0.145541 -0.077075\n",
              "Star Bulk Carriers     0.344590  0.190229  ...  0.624431  0.430876\n",
              "SFL Corp              -0.786526 -0.823912  ... -0.350934 -0.600790\n",
              "UPS                    0.858802  0.900172  ...  0.823724  0.908574\n",
              "Dow Jones              0.657245  0.630595  ...  0.974476  0.854690\n",
              "S&P 500                0.772597  0.777518  ...  1.000000  0.947673\n",
              "Nasdaq                 0.877011  0.925765  ...  0.947673  1.000000\n",
              "\n",
              "[16 rows x 16 columns]"
            ]
          },
          "metadata": {
            "tags": []
          },
          "execution_count": 53
        }
      ]
    },
    {
      "cell_type": "code",
      "metadata": {
        "colab": {
          "base_uri": "https://localhost:8080/",
          "height": 157
        },
        "id": "zvRvVJ2Ymsv_",
        "outputId": "7b67f153-caee-49c3-d730-b95711425b0d"
      },
      "source": [
        "# Show stocks for only the begining and end of the dataframe\r\n",
        "ship_stocks_change = ship_stocks.iloc[[0, -1]]\r\n",
        "ship_stocks_change"
      ],
      "execution_count": null,
      "outputs": [
        {
          "output_type": "execute_result",
          "data": {
            "text/html": [
              "<div>\n",
              "<style scoped>\n",
              "    .dataframe tbody tr th:only-of-type {\n",
              "        vertical-align: middle;\n",
              "    }\n",
              "\n",
              "    .dataframe tbody tr th {\n",
              "        vertical-align: top;\n",
              "    }\n",
              "\n",
              "    .dataframe thead th {\n",
              "        text-align: right;\n",
              "    }\n",
              "</style>\n",
              "<table border=\"1\" class=\"dataframe\">\n",
              "  <thead>\n",
              "    <tr style=\"text-align: right;\">\n",
              "      <th></th>\n",
              "      <th>Maersk</th>\n",
              "      <th>Cosco Shipping</th>\n",
              "      <th>Danaos Shipping</th>\n",
              "      <th>DHL</th>\n",
              "      <th>FedEx</th>\n",
              "      <th>International Seaways</th>\n",
              "      <th>Matson</th>\n",
              "      <th>Nordic American</th>\n",
              "      <th>Star Bulk Carriers</th>\n",
              "      <th>SFL Corp</th>\n",
              "      <th>UPS</th>\n",
              "    </tr>\n",
              "  </thead>\n",
              "  <tbody>\n",
              "    <tr>\n",
              "      <th>2020-01-21</th>\n",
              "      <td>6.133312</td>\n",
              "      <td>1.93</td>\n",
              "      <td>7.61</td>\n",
              "      <td>36.412567</td>\n",
              "      <td>155.200943</td>\n",
              "      <td>26.46497</td>\n",
              "      <td>38.229462</td>\n",
              "      <td>3.944933</td>\n",
              "      <td>10.306302</td>\n",
              "      <td>12.840142</td>\n",
              "      <td>113.610794</td>\n",
              "    </tr>\n",
              "    <tr>\n",
              "      <th>2020-12-31</th>\n",
              "      <td>11.110000</td>\n",
              "      <td>6.17</td>\n",
              "      <td>21.43</td>\n",
              "      <td>49.840000</td>\n",
              "      <td>259.619995</td>\n",
              "      <td>16.33000</td>\n",
              "      <td>56.773582</td>\n",
              "      <td>2.950000</td>\n",
              "      <td>8.830000</td>\n",
              "      <td>6.280000</td>\n",
              "      <td>168.399994</td>\n",
              "    </tr>\n",
              "  </tbody>\n",
              "</table>\n",
              "</div>"
            ],
            "text/plain": [
              "               Maersk  Cosco Shipping  ...   SFL Corp         UPS\n",
              "2020-01-21   6.133312            1.93  ...  12.840142  113.610794\n",
              "2020-12-31  11.110000            6.17  ...   6.280000  168.399994\n",
              "\n",
              "[2 rows x 11 columns]"
            ]
          },
          "metadata": {
            "tags": []
          },
          "execution_count": 54
        }
      ]
    },
    {
      "cell_type": "code",
      "metadata": {
        "colab": {
          "base_uri": "https://localhost:8080/",
          "height": 157
        },
        "id": "k41cNb3ynbAq",
        "outputId": "e318a5d4-60a0-4ed1-aced-75e7f0b18415"
      },
      "source": [
        "# Show the difference in values by percent\r\n",
        "percent_change_df = ship_stocks_change.pct_change(axis='rows')\r\n",
        "percent_change_df"
      ],
      "execution_count": null,
      "outputs": [
        {
          "output_type": "execute_result",
          "data": {
            "text/html": [
              "<div>\n",
              "<style scoped>\n",
              "    .dataframe tbody tr th:only-of-type {\n",
              "        vertical-align: middle;\n",
              "    }\n",
              "\n",
              "    .dataframe tbody tr th {\n",
              "        vertical-align: top;\n",
              "    }\n",
              "\n",
              "    .dataframe thead th {\n",
              "        text-align: right;\n",
              "    }\n",
              "</style>\n",
              "<table border=\"1\" class=\"dataframe\">\n",
              "  <thead>\n",
              "    <tr style=\"text-align: right;\">\n",
              "      <th></th>\n",
              "      <th>Maersk</th>\n",
              "      <th>Cosco Shipping</th>\n",
              "      <th>Danaos Shipping</th>\n",
              "      <th>DHL</th>\n",
              "      <th>FedEx</th>\n",
              "      <th>International Seaways</th>\n",
              "      <th>Matson</th>\n",
              "      <th>Nordic American</th>\n",
              "      <th>Star Bulk Carriers</th>\n",
              "      <th>SFL Corp</th>\n",
              "      <th>UPS</th>\n",
              "    </tr>\n",
              "  </thead>\n",
              "  <tbody>\n",
              "    <tr>\n",
              "      <th>2020-01-21</th>\n",
              "      <td>NaN</td>\n",
              "      <td>NaN</td>\n",
              "      <td>NaN</td>\n",
              "      <td>NaN</td>\n",
              "      <td>NaN</td>\n",
              "      <td>NaN</td>\n",
              "      <td>NaN</td>\n",
              "      <td>NaN</td>\n",
              "      <td>NaN</td>\n",
              "      <td>NaN</td>\n",
              "      <td>NaN</td>\n",
              "    </tr>\n",
              "    <tr>\n",
              "      <th>2020-12-31</th>\n",
              "      <td>0.811419</td>\n",
              "      <td>2.196891</td>\n",
              "      <td>1.816032</td>\n",
              "      <td>0.368758</td>\n",
              "      <td>0.672799</td>\n",
              "      <td>-0.382958</td>\n",
              "      <td>0.485074</td>\n",
              "      <td>-0.252205</td>\n",
              "      <td>-0.143243</td>\n",
              "      <td>-0.510909</td>\n",
              "      <td>0.482253</td>\n",
              "    </tr>\n",
              "  </tbody>\n",
              "</table>\n",
              "</div>"
            ],
            "text/plain": [
              "              Maersk  Cosco Shipping  ...  SFL Corp       UPS\n",
              "2020-01-21       NaN             NaN  ...       NaN       NaN\n",
              "2020-12-31  0.811419        2.196891  ... -0.510909  0.482253\n",
              "\n",
              "[2 rows x 11 columns]"
            ]
          },
          "metadata": {
            "tags": []
          },
          "execution_count": 55
        }
      ]
    },
    {
      "cell_type": "code",
      "metadata": {
        "colab": {
          "base_uri": "https://localhost:8080/"
        },
        "id": "iE5kfn2tn6hd",
        "outputId": "17c76e1e-f97d-4186-cc85-d112c69e7705"
      },
      "source": [
        "transposed_df = percent_change_df.T\r\n",
        "print(transposed_df)"
      ],
      "execution_count": null,
      "outputs": [
        {
          "output_type": "stream",
          "text": [
            "                       2020-01-21  2020-12-31\n",
            "Maersk                        NaN    0.811419\n",
            "Cosco Shipping                NaN    2.196891\n",
            "Danaos Shipping               NaN    1.816032\n",
            "DHL                           NaN    0.368758\n",
            "FedEx                         NaN    0.672799\n",
            "International Seaways         NaN   -0.382958\n",
            "Matson                        NaN    0.485074\n",
            "Nordic American               NaN   -0.252205\n",
            "Star Bulk Carriers            NaN   -0.143243\n",
            "SFL Corp                      NaN   -0.510909\n",
            "UPS                           NaN    0.482253\n"
          ],
          "name": "stdout"
        }
      ]
    },
    {
      "cell_type": "code",
      "metadata": {
        "colab": {
          "base_uri": "https://localhost:8080/"
        },
        "id": "CjMaUMbjoJ1r",
        "outputId": "302957a3-ff23-4530-c931-6febfe8889c5"
      },
      "source": [
        "trans_df = transposed_df.iloc[:, -1]\r\n",
        "trans_df"
      ],
      "execution_count": null,
      "outputs": [
        {
          "output_type": "execute_result",
          "data": {
            "text/plain": [
              "Maersk                   0.811419\n",
              "Cosco Shipping           2.196891\n",
              "Danaos Shipping          1.816032\n",
              "DHL                      0.368758\n",
              "FedEx                    0.672799\n",
              "International Seaways   -0.382958\n",
              "Matson                   0.485074\n",
              "Nordic American         -0.252205\n",
              "Star Bulk Carriers      -0.143243\n",
              "SFL Corp                -0.510909\n",
              "UPS                      0.482253\n",
              "Name: 2020-12-31 00:00:00, dtype: float64"
            ]
          },
          "metadata": {
            "tags": []
          },
          "execution_count": 57
        }
      ]
    },
    {
      "cell_type": "code",
      "metadata": {
        "id": "ZvdbrYRsoUdb"
      },
      "source": [
        "trans_df = trans_df*100"
      ],
      "execution_count": null,
      "outputs": []
    },
    {
      "cell_type": "code",
      "metadata": {
        "id": "i2tEhniaoZYa"
      },
      "source": [
        "# Set default format for float to percentage\r\n",
        "pd.options.display.float_format = '{:.2f}%'.format"
      ],
      "execution_count": null,
      "outputs": []
    },
    {
      "cell_type": "code",
      "metadata": {
        "colab": {
          "base_uri": "https://localhost:8080/"
        },
        "id": "DyepKKhUokCL",
        "outputId": "2b85a37a-5810-4ce6-8f46-8dc8b7a4df4d"
      },
      "source": [
        "trans_df"
      ],
      "execution_count": null,
      "outputs": [
        {
          "output_type": "execute_result",
          "data": {
            "text/plain": [
              "Maersk                   81.14%\n",
              "Cosco Shipping          219.69%\n",
              "Danaos Shipping         181.60%\n",
              "DHL                      36.88%\n",
              "FedEx                    67.28%\n",
              "International Seaways   -38.30%\n",
              "Matson                   48.51%\n",
              "Nordic American         -25.22%\n",
              "Star Bulk Carriers      -14.32%\n",
              "SFL Corp                -51.09%\n",
              "UPS                      48.23%\n",
              "Name: 2020-12-31 00:00:00, dtype: float64"
            ]
          },
          "metadata": {
            "tags": []
          },
          "execution_count": 60
        }
      ]
    },
    {
      "cell_type": "code",
      "metadata": {
        "colab": {
          "base_uri": "https://localhost:8080/"
        },
        "id": "4yo6e-c2pYWo",
        "outputId": "e4d409e5-841c-406f-951a-9f65f059ef0f"
      },
      "source": [
        "# Sort dataframe by Largest stock market loss to smallest\r\n",
        "trans_df = trans_df.sort_values(ascending=True)\r\n",
        "trans_df"
      ],
      "execution_count": null,
      "outputs": [
        {
          "output_type": "execute_result",
          "data": {
            "text/plain": [
              "SFL Corp                -51.09%\n",
              "International Seaways   -38.30%\n",
              "Nordic American         -25.22%\n",
              "Star Bulk Carriers      -14.32%\n",
              "DHL                      36.88%\n",
              "UPS                      48.23%\n",
              "Matson                   48.51%\n",
              "FedEx                    67.28%\n",
              "Maersk                   81.14%\n",
              "Danaos Shipping         181.60%\n",
              "Cosco Shipping          219.69%\n",
              "Name: 2020-12-31 00:00:00, dtype: float64"
            ]
          },
          "metadata": {
            "tags": []
          },
          "execution_count": 61
        }
      ]
    },
    {
      "cell_type": "code",
      "metadata": {
        "id": "NCHm9M3gyp9f"
      },
      "source": [
        "# Set default format for float to percentage\r\n",
        "pd.options.display.float_format = '{:.2f}'.format"
      ],
      "execution_count": null,
      "outputs": []
    },
    {
      "cell_type": "code",
      "metadata": {
        "id": "FS-g4Mp00SKT"
      },
      "source": [
        "CDR_corr = covid_corr.iloc[3:, : 3]"
      ],
      "execution_count": null,
      "outputs": []
    },
    {
      "cell_type": "code",
      "metadata": {
        "colab": {
          "base_uri": "https://localhost:8080/",
          "height": 343
        },
        "id": "ehADFo4t0USd",
        "outputId": "ec56d1ea-8a39-4f36-d598-55524bdc1ddd"
      },
      "source": [
        "# Merge by Index\r\n",
        "corr_loss = pd.merge(CDR_corr, trans_df, how='inner', left_index=True, right_index=True)\r\n",
        "corr_loss"
      ],
      "execution_count": null,
      "outputs": [
        {
          "output_type": "execute_result",
          "data": {
            "text/html": [
              "<div>\n",
              "<style scoped>\n",
              "    .dataframe tbody tr th:only-of-type {\n",
              "        vertical-align: middle;\n",
              "    }\n",
              "\n",
              "    .dataframe tbody tr th {\n",
              "        vertical-align: top;\n",
              "    }\n",
              "\n",
              "    .dataframe thead th {\n",
              "        text-align: right;\n",
              "    }\n",
              "</style>\n",
              "<table border=\"1\" class=\"dataframe\">\n",
              "  <thead>\n",
              "    <tr style=\"text-align: right;\">\n",
              "      <th></th>\n",
              "      <th>cases</th>\n",
              "      <th>deaths</th>\n",
              "      <th>Maersk</th>\n",
              "      <th>2020-12-31 00:00:00</th>\n",
              "    </tr>\n",
              "  </thead>\n",
              "  <tbody>\n",
              "    <tr>\n",
              "      <th>Cosco Shipping</th>\n",
              "      <td>0.95</td>\n",
              "      <td>0.83</td>\n",
              "      <td>0.93</td>\n",
              "      <td>219.69</td>\n",
              "    </tr>\n",
              "    <tr>\n",
              "      <th>Danaos Shipping</th>\n",
              "      <td>0.89</td>\n",
              "      <td>0.72</td>\n",
              "      <td>0.87</td>\n",
              "      <td>181.60</td>\n",
              "    </tr>\n",
              "    <tr>\n",
              "      <th>DHL</th>\n",
              "      <td>0.84</td>\n",
              "      <td>0.90</td>\n",
              "      <td>0.93</td>\n",
              "      <td>36.88</td>\n",
              "    </tr>\n",
              "    <tr>\n",
              "      <th>FedEx</th>\n",
              "      <td>0.89</td>\n",
              "      <td>0.89</td>\n",
              "      <td>0.94</td>\n",
              "      <td>67.28</td>\n",
              "    </tr>\n",
              "    <tr>\n",
              "      <th>International Seaways</th>\n",
              "      <td>-0.59</td>\n",
              "      <td>-0.69</td>\n",
              "      <td>-0.60</td>\n",
              "      <td>-38.30</td>\n",
              "    </tr>\n",
              "    <tr>\n",
              "      <th>Matson</th>\n",
              "      <td>0.89</td>\n",
              "      <td>0.81</td>\n",
              "      <td>0.92</td>\n",
              "      <td>48.51</td>\n",
              "    </tr>\n",
              "    <tr>\n",
              "      <th>Nordic American</th>\n",
              "      <td>-0.23</td>\n",
              "      <td>-0.04</td>\n",
              "      <td>-0.24</td>\n",
              "      <td>-25.22</td>\n",
              "    </tr>\n",
              "    <tr>\n",
              "      <th>Star Bulk Carriers</th>\n",
              "      <td>0.34</td>\n",
              "      <td>0.19</td>\n",
              "      <td>0.50</td>\n",
              "      <td>-14.32</td>\n",
              "    </tr>\n",
              "    <tr>\n",
              "      <th>SFL Corp</th>\n",
              "      <td>-0.79</td>\n",
              "      <td>-0.82</td>\n",
              "      <td>-0.66</td>\n",
              "      <td>-51.09</td>\n",
              "    </tr>\n",
              "    <tr>\n",
              "      <th>UPS</th>\n",
              "      <td>0.86</td>\n",
              "      <td>0.90</td>\n",
              "      <td>0.91</td>\n",
              "      <td>48.23</td>\n",
              "    </tr>\n",
              "  </tbody>\n",
              "</table>\n",
              "</div>"
            ],
            "text/plain": [
              "                       cases  deaths  Maersk  2020-12-31 00:00:00\n",
              "Cosco Shipping          0.95    0.83    0.93               219.69\n",
              "Danaos Shipping         0.89    0.72    0.87               181.60\n",
              "DHL                     0.84    0.90    0.93                36.88\n",
              "FedEx                   0.89    0.89    0.94                67.28\n",
              "International Seaways  -0.59   -0.69   -0.60               -38.30\n",
              "Matson                  0.89    0.81    0.92                48.51\n",
              "Nordic American        -0.23   -0.04   -0.24               -25.22\n",
              "Star Bulk Carriers      0.34    0.19    0.50               -14.32\n",
              "SFL Corp               -0.79   -0.82   -0.66               -51.09\n",
              "UPS                     0.86    0.90    0.91                48.23"
            ]
          },
          "metadata": {
            "tags": []
          },
          "execution_count": 64
        }
      ]
    },
    {
      "cell_type": "code",
      "metadata": {
        "colab": {
          "base_uri": "https://localhost:8080/"
        },
        "id": "UWomAC9FN850",
        "outputId": "89049eed-ee69-42c8-b3aa-dc07cc33bbe0"
      },
      "source": [
        "corr_loss.info()"
      ],
      "execution_count": null,
      "outputs": [
        {
          "output_type": "stream",
          "text": [
            "<class 'pandas.core.frame.DataFrame'>\n",
            "Index: 10 entries, Cosco Shipping to UPS\n",
            "Data columns (total 4 columns):\n",
            " #   Column               Non-Null Count  Dtype  \n",
            "---  ------               --------------  -----  \n",
            " 0   cases                10 non-null     float64\n",
            " 1   deaths               10 non-null     float64\n",
            " 2   Maersk               10 non-null     float64\n",
            " 3   2020-12-31 00:00:00  10 non-null     float64\n",
            "dtypes: float64(4)\n",
            "memory usage: 400.0+ bytes\n"
          ],
          "name": "stdout"
        }
      ]
    },
    {
      "cell_type": "code",
      "metadata": {
        "id": "Sd2AQKgoPKN8"
      },
      "source": [
        "corr_loss = corr_loss.drop([\"Maersk\"], axis=1)"
      ],
      "execution_count": null,
      "outputs": []
    },
    {
      "cell_type": "code",
      "metadata": {
        "colab": {
          "base_uri": "https://localhost:8080/",
          "height": 343
        },
        "id": "OCTbF37yPbeN",
        "outputId": "103b7d21-0060-46a9-c71f-cc578e21eada"
      },
      "source": [
        "corr_loss.columns = ['Cases', 'Deaths', '% Change']\r\n",
        "corr_loss"
      ],
      "execution_count": null,
      "outputs": [
        {
          "output_type": "execute_result",
          "data": {
            "text/html": [
              "<div>\n",
              "<style scoped>\n",
              "    .dataframe tbody tr th:only-of-type {\n",
              "        vertical-align: middle;\n",
              "    }\n",
              "\n",
              "    .dataframe tbody tr th {\n",
              "        vertical-align: top;\n",
              "    }\n",
              "\n",
              "    .dataframe thead th {\n",
              "        text-align: right;\n",
              "    }\n",
              "</style>\n",
              "<table border=\"1\" class=\"dataframe\">\n",
              "  <thead>\n",
              "    <tr style=\"text-align: right;\">\n",
              "      <th></th>\n",
              "      <th>Cases</th>\n",
              "      <th>Deaths</th>\n",
              "      <th>% Change</th>\n",
              "    </tr>\n",
              "  </thead>\n",
              "  <tbody>\n",
              "    <tr>\n",
              "      <th>Cosco Shipping</th>\n",
              "      <td>0.95</td>\n",
              "      <td>0.83</td>\n",
              "      <td>219.69</td>\n",
              "    </tr>\n",
              "    <tr>\n",
              "      <th>Danaos Shipping</th>\n",
              "      <td>0.89</td>\n",
              "      <td>0.72</td>\n",
              "      <td>181.60</td>\n",
              "    </tr>\n",
              "    <tr>\n",
              "      <th>DHL</th>\n",
              "      <td>0.84</td>\n",
              "      <td>0.90</td>\n",
              "      <td>36.88</td>\n",
              "    </tr>\n",
              "    <tr>\n",
              "      <th>FedEx</th>\n",
              "      <td>0.89</td>\n",
              "      <td>0.89</td>\n",
              "      <td>67.28</td>\n",
              "    </tr>\n",
              "    <tr>\n",
              "      <th>International Seaways</th>\n",
              "      <td>-0.59</td>\n",
              "      <td>-0.69</td>\n",
              "      <td>-38.30</td>\n",
              "    </tr>\n",
              "    <tr>\n",
              "      <th>Matson</th>\n",
              "      <td>0.89</td>\n",
              "      <td>0.81</td>\n",
              "      <td>48.51</td>\n",
              "    </tr>\n",
              "    <tr>\n",
              "      <th>Nordic American</th>\n",
              "      <td>-0.23</td>\n",
              "      <td>-0.04</td>\n",
              "      <td>-25.22</td>\n",
              "    </tr>\n",
              "    <tr>\n",
              "      <th>Star Bulk Carriers</th>\n",
              "      <td>0.34</td>\n",
              "      <td>0.19</td>\n",
              "      <td>-14.32</td>\n",
              "    </tr>\n",
              "    <tr>\n",
              "      <th>SFL Corp</th>\n",
              "      <td>-0.79</td>\n",
              "      <td>-0.82</td>\n",
              "      <td>-51.09</td>\n",
              "    </tr>\n",
              "    <tr>\n",
              "      <th>UPS</th>\n",
              "      <td>0.86</td>\n",
              "      <td>0.90</td>\n",
              "      <td>48.23</td>\n",
              "    </tr>\n",
              "  </tbody>\n",
              "</table>\n",
              "</div>"
            ],
            "text/plain": [
              "                       Cases  Deaths  % Change\n",
              "Cosco Shipping          0.95    0.83    219.69\n",
              "Danaos Shipping         0.89    0.72    181.60\n",
              "DHL                     0.84    0.90     36.88\n",
              "FedEx                   0.89    0.89     67.28\n",
              "International Seaways  -0.59   -0.69    -38.30\n",
              "Matson                  0.89    0.81     48.51\n",
              "Nordic American        -0.23   -0.04    -25.22\n",
              "Star Bulk Carriers      0.34    0.19    -14.32\n",
              "SFL Corp               -0.79   -0.82    -51.09\n",
              "UPS                     0.86    0.90     48.23"
            ]
          },
          "metadata": {
            "tags": []
          },
          "execution_count": 67
        }
      ]
    },
    {
      "cell_type": "code",
      "metadata": {
        "id": "bV6cyKn-QDWw"
      },
      "source": [
        "corr_loss = corr_loss.round(decimals=2)"
      ],
      "execution_count": null,
      "outputs": []
    },
    {
      "cell_type": "code",
      "metadata": {
        "colab": {
          "base_uri": "https://localhost:8080/",
          "height": 343
        },
        "id": "AoLFvQ5zScl2",
        "outputId": "2c8b5b53-0709-4b68-aa14-d409ab718893"
      },
      "source": [
        "corr_loss"
      ],
      "execution_count": null,
      "outputs": [
        {
          "output_type": "execute_result",
          "data": {
            "text/html": [
              "<div>\n",
              "<style scoped>\n",
              "    .dataframe tbody tr th:only-of-type {\n",
              "        vertical-align: middle;\n",
              "    }\n",
              "\n",
              "    .dataframe tbody tr th {\n",
              "        vertical-align: top;\n",
              "    }\n",
              "\n",
              "    .dataframe thead th {\n",
              "        text-align: right;\n",
              "    }\n",
              "</style>\n",
              "<table border=\"1\" class=\"dataframe\">\n",
              "  <thead>\n",
              "    <tr style=\"text-align: right;\">\n",
              "      <th></th>\n",
              "      <th>Cases</th>\n",
              "      <th>Deaths</th>\n",
              "      <th>% Change</th>\n",
              "    </tr>\n",
              "  </thead>\n",
              "  <tbody>\n",
              "    <tr>\n",
              "      <th>Cosco Shipping</th>\n",
              "      <td>0.95</td>\n",
              "      <td>0.83</td>\n",
              "      <td>219.69</td>\n",
              "    </tr>\n",
              "    <tr>\n",
              "      <th>Danaos Shipping</th>\n",
              "      <td>0.89</td>\n",
              "      <td>0.72</td>\n",
              "      <td>181.60</td>\n",
              "    </tr>\n",
              "    <tr>\n",
              "      <th>DHL</th>\n",
              "      <td>0.84</td>\n",
              "      <td>0.90</td>\n",
              "      <td>36.88</td>\n",
              "    </tr>\n",
              "    <tr>\n",
              "      <th>FedEx</th>\n",
              "      <td>0.89</td>\n",
              "      <td>0.89</td>\n",
              "      <td>67.28</td>\n",
              "    </tr>\n",
              "    <tr>\n",
              "      <th>International Seaways</th>\n",
              "      <td>-0.59</td>\n",
              "      <td>-0.69</td>\n",
              "      <td>-38.30</td>\n",
              "    </tr>\n",
              "    <tr>\n",
              "      <th>Matson</th>\n",
              "      <td>0.89</td>\n",
              "      <td>0.81</td>\n",
              "      <td>48.51</td>\n",
              "    </tr>\n",
              "    <tr>\n",
              "      <th>Nordic American</th>\n",
              "      <td>-0.23</td>\n",
              "      <td>-0.04</td>\n",
              "      <td>-25.22</td>\n",
              "    </tr>\n",
              "    <tr>\n",
              "      <th>Star Bulk Carriers</th>\n",
              "      <td>0.34</td>\n",
              "      <td>0.19</td>\n",
              "      <td>-14.32</td>\n",
              "    </tr>\n",
              "    <tr>\n",
              "      <th>SFL Corp</th>\n",
              "      <td>-0.79</td>\n",
              "      <td>-0.82</td>\n",
              "      <td>-51.09</td>\n",
              "    </tr>\n",
              "    <tr>\n",
              "      <th>UPS</th>\n",
              "      <td>0.86</td>\n",
              "      <td>0.90</td>\n",
              "      <td>48.23</td>\n",
              "    </tr>\n",
              "  </tbody>\n",
              "</table>\n",
              "</div>"
            ],
            "text/plain": [
              "                       Cases  Deaths  % Change\n",
              "Cosco Shipping          0.95    0.83    219.69\n",
              "Danaos Shipping         0.89    0.72    181.60\n",
              "DHL                     0.84    0.90     36.88\n",
              "FedEx                   0.89    0.89     67.28\n",
              "International Seaways  -0.59   -0.69    -38.30\n",
              "Matson                  0.89    0.81     48.51\n",
              "Nordic American        -0.23   -0.04    -25.22\n",
              "Star Bulk Carriers      0.34    0.19    -14.32\n",
              "SFL Corp               -0.79   -0.82    -51.09\n",
              "UPS                     0.86    0.90     48.23"
            ]
          },
          "metadata": {
            "tags": []
          },
          "execution_count": 69
        }
      ]
    },
    {
      "cell_type": "code",
      "metadata": {
        "id": "aiNZEHaZGAOo"
      },
      "source": [
        "# Set default format for float to percentage\r\n",
        "pd.options.display.float_format = '{:.2f}'.format"
      ],
      "execution_count": null,
      "outputs": []
    },
    {
      "cell_type": "code",
      "metadata": {
        "id": "LBdDNKuVRmPj"
      },
      "source": [
        "corr_loss[['Cases', 'Deaths']] = corr_loss[['Cases', 'Deaths']].astype(str)"
      ],
      "execution_count": null,
      "outputs": []
    },
    {
      "cell_type": "code",
      "metadata": {
        "id": "5WVAiwl3_LQV"
      },
      "source": [
        "# corr_loss = corr_loss.style.highlight_min('% Change', color = 'lightgreen', axis = 0).highlight_max('% Change', color = 'pink', axis = 0).format('{0:,}')"
      ],
      "execution_count": null,
      "outputs": []
    },
    {
      "cell_type": "code",
      "metadata": {
        "colab": {
          "base_uri": "https://localhost:8080/",
          "height": 343
        },
        "id": "-lUbNeUeSDPm",
        "outputId": "2a19aac3-a7d5-407b-b363-fd1515feaaaf"
      },
      "source": [
        "corr_loss"
      ],
      "execution_count": null,
      "outputs": [
        {
          "output_type": "execute_result",
          "data": {
            "text/html": [
              "<div>\n",
              "<style scoped>\n",
              "    .dataframe tbody tr th:only-of-type {\n",
              "        vertical-align: middle;\n",
              "    }\n",
              "\n",
              "    .dataframe tbody tr th {\n",
              "        vertical-align: top;\n",
              "    }\n",
              "\n",
              "    .dataframe thead th {\n",
              "        text-align: right;\n",
              "    }\n",
              "</style>\n",
              "<table border=\"1\" class=\"dataframe\">\n",
              "  <thead>\n",
              "    <tr style=\"text-align: right;\">\n",
              "      <th></th>\n",
              "      <th>Cases</th>\n",
              "      <th>Deaths</th>\n",
              "      <th>% Change</th>\n",
              "    </tr>\n",
              "  </thead>\n",
              "  <tbody>\n",
              "    <tr>\n",
              "      <th>Cosco Shipping</th>\n",
              "      <td>0.95</td>\n",
              "      <td>0.83</td>\n",
              "      <td>219.69</td>\n",
              "    </tr>\n",
              "    <tr>\n",
              "      <th>Danaos Shipping</th>\n",
              "      <td>0.89</td>\n",
              "      <td>0.72</td>\n",
              "      <td>181.60</td>\n",
              "    </tr>\n",
              "    <tr>\n",
              "      <th>DHL</th>\n",
              "      <td>0.84</td>\n",
              "      <td>0.9</td>\n",
              "      <td>36.88</td>\n",
              "    </tr>\n",
              "    <tr>\n",
              "      <th>FedEx</th>\n",
              "      <td>0.89</td>\n",
              "      <td>0.89</td>\n",
              "      <td>67.28</td>\n",
              "    </tr>\n",
              "    <tr>\n",
              "      <th>International Seaways</th>\n",
              "      <td>-0.59</td>\n",
              "      <td>-0.69</td>\n",
              "      <td>-38.30</td>\n",
              "    </tr>\n",
              "    <tr>\n",
              "      <th>Matson</th>\n",
              "      <td>0.89</td>\n",
              "      <td>0.81</td>\n",
              "      <td>48.51</td>\n",
              "    </tr>\n",
              "    <tr>\n",
              "      <th>Nordic American</th>\n",
              "      <td>-0.23</td>\n",
              "      <td>-0.04</td>\n",
              "      <td>-25.22</td>\n",
              "    </tr>\n",
              "    <tr>\n",
              "      <th>Star Bulk Carriers</th>\n",
              "      <td>0.34</td>\n",
              "      <td>0.19</td>\n",
              "      <td>-14.32</td>\n",
              "    </tr>\n",
              "    <tr>\n",
              "      <th>SFL Corp</th>\n",
              "      <td>-0.79</td>\n",
              "      <td>-0.82</td>\n",
              "      <td>-51.09</td>\n",
              "    </tr>\n",
              "    <tr>\n",
              "      <th>UPS</th>\n",
              "      <td>0.86</td>\n",
              "      <td>0.9</td>\n",
              "      <td>48.23</td>\n",
              "    </tr>\n",
              "  </tbody>\n",
              "</table>\n",
              "</div>"
            ],
            "text/plain": [
              "                       Cases Deaths  % Change\n",
              "Cosco Shipping          0.95   0.83    219.69\n",
              "Danaos Shipping         0.89   0.72    181.60\n",
              "DHL                     0.84    0.9     36.88\n",
              "FedEx                   0.89   0.89     67.28\n",
              "International Seaways  -0.59  -0.69    -38.30\n",
              "Matson                  0.89   0.81     48.51\n",
              "Nordic American        -0.23  -0.04    -25.22\n",
              "Star Bulk Carriers      0.34   0.19    -14.32\n",
              "SFL Corp               -0.79  -0.82    -51.09\n",
              "UPS                     0.86    0.9     48.23"
            ]
          },
          "metadata": {
            "tags": []
          },
          "execution_count": 73
        }
      ]
    },
    {
      "cell_type": "code",
      "metadata": {
        "id": "Zz0m3DPpm8Wg"
      },
      "source": [
        "# Set default format for float to percentage\r\n",
        "pd.options.display.float_format = '{:.2f}%'.format"
      ],
      "execution_count": null,
      "outputs": []
    },
    {
      "cell_type": "code",
      "metadata": {
        "colab": {
          "base_uri": "https://localhost:8080/",
          "height": 343
        },
        "id": "tU9AeTnCSIDg",
        "outputId": "e2fd9053-6b7d-4d71-b136-b56287db2608"
      },
      "source": [
        "# Sort by % Loss Highest to Lowest\r\n",
        "corr_loss = corr_loss.sort_values('% Change', ascending=True)\r\n",
        "corr_loss"
      ],
      "execution_count": null,
      "outputs": [
        {
          "output_type": "execute_result",
          "data": {
            "text/html": [
              "<div>\n",
              "<style scoped>\n",
              "    .dataframe tbody tr th:only-of-type {\n",
              "        vertical-align: middle;\n",
              "    }\n",
              "\n",
              "    .dataframe tbody tr th {\n",
              "        vertical-align: top;\n",
              "    }\n",
              "\n",
              "    .dataframe thead th {\n",
              "        text-align: right;\n",
              "    }\n",
              "</style>\n",
              "<table border=\"1\" class=\"dataframe\">\n",
              "  <thead>\n",
              "    <tr style=\"text-align: right;\">\n",
              "      <th></th>\n",
              "      <th>Cases</th>\n",
              "      <th>Deaths</th>\n",
              "      <th>% Change</th>\n",
              "    </tr>\n",
              "  </thead>\n",
              "  <tbody>\n",
              "    <tr>\n",
              "      <th>SFL Corp</th>\n",
              "      <td>-0.79</td>\n",
              "      <td>-0.82</td>\n",
              "      <td>-51.09%</td>\n",
              "    </tr>\n",
              "    <tr>\n",
              "      <th>International Seaways</th>\n",
              "      <td>-0.59</td>\n",
              "      <td>-0.69</td>\n",
              "      <td>-38.30%</td>\n",
              "    </tr>\n",
              "    <tr>\n",
              "      <th>Nordic American</th>\n",
              "      <td>-0.23</td>\n",
              "      <td>-0.04</td>\n",
              "      <td>-25.22%</td>\n",
              "    </tr>\n",
              "    <tr>\n",
              "      <th>Star Bulk Carriers</th>\n",
              "      <td>0.34</td>\n",
              "      <td>0.19</td>\n",
              "      <td>-14.32%</td>\n",
              "    </tr>\n",
              "    <tr>\n",
              "      <th>DHL</th>\n",
              "      <td>0.84</td>\n",
              "      <td>0.9</td>\n",
              "      <td>36.88%</td>\n",
              "    </tr>\n",
              "    <tr>\n",
              "      <th>UPS</th>\n",
              "      <td>0.86</td>\n",
              "      <td>0.9</td>\n",
              "      <td>48.23%</td>\n",
              "    </tr>\n",
              "    <tr>\n",
              "      <th>Matson</th>\n",
              "      <td>0.89</td>\n",
              "      <td>0.81</td>\n",
              "      <td>48.51%</td>\n",
              "    </tr>\n",
              "    <tr>\n",
              "      <th>FedEx</th>\n",
              "      <td>0.89</td>\n",
              "      <td>0.89</td>\n",
              "      <td>67.28%</td>\n",
              "    </tr>\n",
              "    <tr>\n",
              "      <th>Danaos Shipping</th>\n",
              "      <td>0.89</td>\n",
              "      <td>0.72</td>\n",
              "      <td>181.60%</td>\n",
              "    </tr>\n",
              "    <tr>\n",
              "      <th>Cosco Shipping</th>\n",
              "      <td>0.95</td>\n",
              "      <td>0.83</td>\n",
              "      <td>219.69%</td>\n",
              "    </tr>\n",
              "  </tbody>\n",
              "</table>\n",
              "</div>"
            ],
            "text/plain": [
              "                       Cases Deaths  % Change\n",
              "SFL Corp               -0.79  -0.82   -51.09%\n",
              "International Seaways  -0.59  -0.69   -38.30%\n",
              "Nordic American        -0.23  -0.04   -25.22%\n",
              "Star Bulk Carriers      0.34   0.19   -14.32%\n",
              "DHL                     0.84    0.9    36.88%\n",
              "UPS                     0.86    0.9    48.23%\n",
              "Matson                  0.89   0.81    48.51%\n",
              "FedEx                   0.89   0.89    67.28%\n",
              "Danaos Shipping         0.89   0.72   181.60%\n",
              "Cosco Shipping          0.95   0.83   219.69%"
            ]
          },
          "metadata": {
            "tags": []
          },
          "execution_count": 75
        }
      ]
    },
    {
      "cell_type": "code",
      "metadata": {
        "id": "gt1PzSe3Uuqq"
      },
      "source": [
        "corr_loss_format = corr_loss.style.highlight_min('% Change', color = 'lightgreen', axis = 0).highlight_max('% Change', color = 'pink', axis = 0).format('{:.2f}', '% Change')"
      ],
      "execution_count": null,
      "outputs": []
    },
    {
      "cell_type": "code",
      "metadata": {
        "colab": {
          "base_uri": "https://localhost:8080/",
          "height": 238
        },
        "id": "B-m4eX9LVT9r",
        "outputId": "a5cf184f-3014-46fc-cb92-e1ac73f10d59"
      },
      "source": [
        "corr_loss.style.highlight_min('% Change', color = 'red', axis = 0).highlight_max('% Change', color = 'lightgreen', axis = 0).format('{:.2f}', '% Change')"
      ],
      "execution_count": null,
      "outputs": [
        {
          "output_type": "execute_result",
          "data": {
            "text/html": [
              "<style  type=\"text/css\" >\n",
              "#T_0917f978_7218_11eb_967c_0242ac1c0002row0_col2{\n",
              "            background-color:  red;\n",
              "        }#T_0917f978_7218_11eb_967c_0242ac1c0002row9_col2{\n",
              "            background-color:  lightgreen;\n",
              "        }</style><table id=\"T_0917f978_7218_11eb_967c_0242ac1c0002\" ><thead>    <tr>        <th class=\"blank level0\" ></th>        <th class=\"col_heading level0 col0\" >Cases</th>        <th class=\"col_heading level0 col1\" >Deaths</th>        <th class=\"col_heading level0 col2\" >% Change</th>    </tr></thead><tbody>\n",
              "                <tr>\n",
              "                        <th id=\"T_0917f978_7218_11eb_967c_0242ac1c0002level0_row0\" class=\"row_heading level0 row0\" >SFL Corp</th>\n",
              "                        <td id=\"T_0917f978_7218_11eb_967c_0242ac1c0002row0_col0\" class=\"data row0 col0\" >-0.79</td>\n",
              "                        <td id=\"T_0917f978_7218_11eb_967c_0242ac1c0002row0_col1\" class=\"data row0 col1\" >-0.82</td>\n",
              "                        <td id=\"T_0917f978_7218_11eb_967c_0242ac1c0002row0_col2\" class=\"data row0 col2\" >-51.09</td>\n",
              "            </tr>\n",
              "            <tr>\n",
              "                        <th id=\"T_0917f978_7218_11eb_967c_0242ac1c0002level0_row1\" class=\"row_heading level0 row1\" >International Seaways</th>\n",
              "                        <td id=\"T_0917f978_7218_11eb_967c_0242ac1c0002row1_col0\" class=\"data row1 col0\" >-0.59</td>\n",
              "                        <td id=\"T_0917f978_7218_11eb_967c_0242ac1c0002row1_col1\" class=\"data row1 col1\" >-0.69</td>\n",
              "                        <td id=\"T_0917f978_7218_11eb_967c_0242ac1c0002row1_col2\" class=\"data row1 col2\" >-38.30</td>\n",
              "            </tr>\n",
              "            <tr>\n",
              "                        <th id=\"T_0917f978_7218_11eb_967c_0242ac1c0002level0_row2\" class=\"row_heading level0 row2\" >Nordic American</th>\n",
              "                        <td id=\"T_0917f978_7218_11eb_967c_0242ac1c0002row2_col0\" class=\"data row2 col0\" >-0.23</td>\n",
              "                        <td id=\"T_0917f978_7218_11eb_967c_0242ac1c0002row2_col1\" class=\"data row2 col1\" >-0.04</td>\n",
              "                        <td id=\"T_0917f978_7218_11eb_967c_0242ac1c0002row2_col2\" class=\"data row2 col2\" >-25.22</td>\n",
              "            </tr>\n",
              "            <tr>\n",
              "                        <th id=\"T_0917f978_7218_11eb_967c_0242ac1c0002level0_row3\" class=\"row_heading level0 row3\" >Star Bulk Carriers</th>\n",
              "                        <td id=\"T_0917f978_7218_11eb_967c_0242ac1c0002row3_col0\" class=\"data row3 col0\" >0.34</td>\n",
              "                        <td id=\"T_0917f978_7218_11eb_967c_0242ac1c0002row3_col1\" class=\"data row3 col1\" >0.19</td>\n",
              "                        <td id=\"T_0917f978_7218_11eb_967c_0242ac1c0002row3_col2\" class=\"data row3 col2\" >-14.32</td>\n",
              "            </tr>\n",
              "            <tr>\n",
              "                        <th id=\"T_0917f978_7218_11eb_967c_0242ac1c0002level0_row4\" class=\"row_heading level0 row4\" >DHL</th>\n",
              "                        <td id=\"T_0917f978_7218_11eb_967c_0242ac1c0002row4_col0\" class=\"data row4 col0\" >0.84</td>\n",
              "                        <td id=\"T_0917f978_7218_11eb_967c_0242ac1c0002row4_col1\" class=\"data row4 col1\" >0.9</td>\n",
              "                        <td id=\"T_0917f978_7218_11eb_967c_0242ac1c0002row4_col2\" class=\"data row4 col2\" >36.88</td>\n",
              "            </tr>\n",
              "            <tr>\n",
              "                        <th id=\"T_0917f978_7218_11eb_967c_0242ac1c0002level0_row5\" class=\"row_heading level0 row5\" >UPS</th>\n",
              "                        <td id=\"T_0917f978_7218_11eb_967c_0242ac1c0002row5_col0\" class=\"data row5 col0\" >0.86</td>\n",
              "                        <td id=\"T_0917f978_7218_11eb_967c_0242ac1c0002row5_col1\" class=\"data row5 col1\" >0.9</td>\n",
              "                        <td id=\"T_0917f978_7218_11eb_967c_0242ac1c0002row5_col2\" class=\"data row5 col2\" >48.23</td>\n",
              "            </tr>\n",
              "            <tr>\n",
              "                        <th id=\"T_0917f978_7218_11eb_967c_0242ac1c0002level0_row6\" class=\"row_heading level0 row6\" >Matson</th>\n",
              "                        <td id=\"T_0917f978_7218_11eb_967c_0242ac1c0002row6_col0\" class=\"data row6 col0\" >0.89</td>\n",
              "                        <td id=\"T_0917f978_7218_11eb_967c_0242ac1c0002row6_col1\" class=\"data row6 col1\" >0.81</td>\n",
              "                        <td id=\"T_0917f978_7218_11eb_967c_0242ac1c0002row6_col2\" class=\"data row6 col2\" >48.51</td>\n",
              "            </tr>\n",
              "            <tr>\n",
              "                        <th id=\"T_0917f978_7218_11eb_967c_0242ac1c0002level0_row7\" class=\"row_heading level0 row7\" >FedEx</th>\n",
              "                        <td id=\"T_0917f978_7218_11eb_967c_0242ac1c0002row7_col0\" class=\"data row7 col0\" >0.89</td>\n",
              "                        <td id=\"T_0917f978_7218_11eb_967c_0242ac1c0002row7_col1\" class=\"data row7 col1\" >0.89</td>\n",
              "                        <td id=\"T_0917f978_7218_11eb_967c_0242ac1c0002row7_col2\" class=\"data row7 col2\" >67.28</td>\n",
              "            </tr>\n",
              "            <tr>\n",
              "                        <th id=\"T_0917f978_7218_11eb_967c_0242ac1c0002level0_row8\" class=\"row_heading level0 row8\" >Danaos Shipping</th>\n",
              "                        <td id=\"T_0917f978_7218_11eb_967c_0242ac1c0002row8_col0\" class=\"data row8 col0\" >0.89</td>\n",
              "                        <td id=\"T_0917f978_7218_11eb_967c_0242ac1c0002row8_col1\" class=\"data row8 col1\" >0.72</td>\n",
              "                        <td id=\"T_0917f978_7218_11eb_967c_0242ac1c0002row8_col2\" class=\"data row8 col2\" >181.60</td>\n",
              "            </tr>\n",
              "            <tr>\n",
              "                        <th id=\"T_0917f978_7218_11eb_967c_0242ac1c0002level0_row9\" class=\"row_heading level0 row9\" >Cosco Shipping</th>\n",
              "                        <td id=\"T_0917f978_7218_11eb_967c_0242ac1c0002row9_col0\" class=\"data row9 col0\" >0.95</td>\n",
              "                        <td id=\"T_0917f978_7218_11eb_967c_0242ac1c0002row9_col1\" class=\"data row9 col1\" >0.83</td>\n",
              "                        <td id=\"T_0917f978_7218_11eb_967c_0242ac1c0002row9_col2\" class=\"data row9 col2\" >219.69</td>\n",
              "            </tr>\n",
              "    </tbody></table>"
            ],
            "text/plain": [
              "<pandas.io.formats.style.Styler at 0x7f05746fe940>"
            ]
          },
          "metadata": {
            "tags": []
          },
          "execution_count": 77
        }
      ]
    },
    {
      "cell_type": "code",
      "metadata": {
        "id": "9_kORwnXS_Pg"
      },
      "source": [
        "CDR_corr = CDR_corr.drop([\"Maersk\"], axis=1)"
      ],
      "execution_count": null,
      "outputs": []
    },
    {
      "cell_type": "code",
      "metadata": {
        "colab": {
          "base_uri": "https://localhost:8080/",
          "height": 291
        },
        "id": "xbtmVuQWSYsO",
        "outputId": "66d55c0f-88f5-4e81-c23e-2a734c1cf566"
      },
      "source": [
        "ax = sns.heatmap(\r\n",
        "    CDR_corr, \r\n",
        "    vmin=-1, vmax=1, center=0,\r\n",
        "    cmap=sns.diverging_palette(20, 220, n=200),\r\n",
        "    square=True\r\n",
        ")\r\n",
        "ax.set_xticklabels(\r\n",
        "    ax.get_xticklabels(),\r\n",
        "    rotation=45,\r\n",
        "    horizontalalignment='right'\r\n",
        ");"
      ],
      "execution_count": null,
      "outputs": [
        {
          "output_type": "display_data",
          "data": {
            "image/png": "[encoded data removed]",
            "text/plain": [
              "<Figure size 432x288 with 2 Axes>"
            ]
          },
          "metadata": {
            "tags": []
          }
        }
      ]
    },
    {
      "cell_type": "code",
      "metadata": {
        "colab": {
          "base_uri": "https://localhost:8080/",
          "height": 343
        },
        "id": "bwlHqLKLT3pO",
        "outputId": "5148931d-b56c-4638-ffbc-2a1628925b36"
      },
      "source": [
        "corr_loss"
      ],
      "execution_count": null,
      "outputs": [
        {
          "output_type": "execute_result",
          "data": {
            "text/html": [
              "<div>\n",
              "<style scoped>\n",
              "    .dataframe tbody tr th:only-of-type {\n",
              "        vertical-align: middle;\n",
              "    }\n",
              "\n",
              "    .dataframe tbody tr th {\n",
              "        vertical-align: top;\n",
              "    }\n",
              "\n",
              "    .dataframe thead th {\n",
              "        text-align: right;\n",
              "    }\n",
              "</style>\n",
              "<table border=\"1\" class=\"dataframe\">\n",
              "  <thead>\n",
              "    <tr style=\"text-align: right;\">\n",
              "      <th></th>\n",
              "      <th>Cases</th>\n",
              "      <th>Deaths</th>\n",
              "      <th>% Change</th>\n",
              "    </tr>\n",
              "  </thead>\n",
              "  <tbody>\n",
              "    <tr>\n",
              "      <th>SFL Corp</th>\n",
              "      <td>-0.79</td>\n",
              "      <td>-0.82</td>\n",
              "      <td>-51.09%</td>\n",
              "    </tr>\n",
              "    <tr>\n",
              "      <th>International Seaways</th>\n",
              "      <td>-0.59</td>\n",
              "      <td>-0.69</td>\n",
              "      <td>-38.30%</td>\n",
              "    </tr>\n",
              "    <tr>\n",
              "      <th>Nordic American</th>\n",
              "      <td>-0.23</td>\n",
              "      <td>-0.04</td>\n",
              "      <td>-25.22%</td>\n",
              "    </tr>\n",
              "    <tr>\n",
              "      <th>Star Bulk Carriers</th>\n",
              "      <td>0.34</td>\n",
              "      <td>0.19</td>\n",
              "      <td>-14.32%</td>\n",
              "    </tr>\n",
              "    <tr>\n",
              "      <th>DHL</th>\n",
              "      <td>0.84</td>\n",
              "      <td>0.9</td>\n",
              "      <td>36.88%</td>\n",
              "    </tr>\n",
              "    <tr>\n",
              "      <th>UPS</th>\n",
              "      <td>0.86</td>\n",
              "      <td>0.9</td>\n",
              "      <td>48.23%</td>\n",
              "    </tr>\n",
              "    <tr>\n",
              "      <th>Matson</th>\n",
              "      <td>0.89</td>\n",
              "      <td>0.81</td>\n",
              "      <td>48.51%</td>\n",
              "    </tr>\n",
              "    <tr>\n",
              "      <th>FedEx</th>\n",
              "      <td>0.89</td>\n",
              "      <td>0.89</td>\n",
              "      <td>67.28%</td>\n",
              "    </tr>\n",
              "    <tr>\n",
              "      <th>Danaos Shipping</th>\n",
              "      <td>0.89</td>\n",
              "      <td>0.72</td>\n",
              "      <td>181.60%</td>\n",
              "    </tr>\n",
              "    <tr>\n",
              "      <th>Cosco Shipping</th>\n",
              "      <td>0.95</td>\n",
              "      <td>0.83</td>\n",
              "      <td>219.69%</td>\n",
              "    </tr>\n",
              "  </tbody>\n",
              "</table>\n",
              "</div>"
            ],
            "text/plain": [
              "                       Cases Deaths  % Change\n",
              "SFL Corp               -0.79  -0.82   -51.09%\n",
              "International Seaways  -0.59  -0.69   -38.30%\n",
              "Nordic American        -0.23  -0.04   -25.22%\n",
              "Star Bulk Carriers      0.34   0.19   -14.32%\n",
              "DHL                     0.84    0.9    36.88%\n",
              "UPS                     0.86    0.9    48.23%\n",
              "Matson                  0.89   0.81    48.51%\n",
              "FedEx                   0.89   0.89    67.28%\n",
              "Danaos Shipping         0.89   0.72   181.60%\n",
              "Cosco Shipping          0.95   0.83   219.69%"
            ]
          },
          "metadata": {
            "tags": []
          },
          "execution_count": 80
        }
      ]
    },
    {
      "cell_type": "code",
      "metadata": {
        "colab": {
          "base_uri": "https://localhost:8080/"
        },
        "id": "REfdfHXh1MZK",
        "outputId": "f1ac2a55-cda7-4bbc-8ca6-02d151a6a1dc"
      },
      "source": [
        "# Cases and International Seaways pearsonr test\r\n",
        "stats.pearsonr(covid_stocks_df['cases'], covid_stocks_df['SFL Corp'])"
      ],
      "execution_count": null,
      "outputs": [
        {
          "output_type": "execute_result",
          "data": {
            "text/plain": [
              "(-0.7865259565991107, 6.1280366656746426e-52)"
            ]
          },
          "metadata": {
            "tags": []
          },
          "execution_count": 81
        }
      ]
    },
    {
      "cell_type": "code",
      "metadata": {
        "colab": {
          "base_uri": "https://localhost:8080/"
        },
        "id": "K3BNIIC6fde5",
        "outputId": "72a54006-ac14-4f24-c964-1cca980f6ba6"
      },
      "source": [
        "# Cases and International Seaways pearsonr test\r\n",
        "stats.pearsonr(covid_stocks_df['cases'], covid_stocks_df['International Seaways'])"
      ],
      "execution_count": null,
      "outputs": [
        {
          "output_type": "execute_result",
          "data": {
            "text/plain": [
              "(-0.5884927803675167, 7.49982454583938e-24)"
            ]
          },
          "metadata": {
            "tags": []
          },
          "execution_count": 82
        }
      ]
    },
    {
      "cell_type": "code",
      "metadata": {
        "colab": {
          "base_uri": "https://localhost:8080/"
        },
        "id": "2iFY9GP22Apt",
        "outputId": "ff810ff4-2091-4ece-edf1-9ca1fb83a3f2"
      },
      "source": [
        "# Cases and Nordic American pearsonr test\r\n",
        "stats.pearsonr(covid_stocks_df['cases'], covid_stocks_df['Nordic American'])"
      ],
      "execution_count": null,
      "outputs": [
        {
          "output_type": "execute_result",
          "data": {
            "text/plain": [
              "(-0.2316013423952066, 0.00028767475676455794)"
            ]
          },
          "metadata": {
            "tags": []
          },
          "execution_count": 83
        }
      ]
    },
    {
      "cell_type": "code",
      "metadata": {
        "colab": {
          "base_uri": "https://localhost:8080/"
        },
        "id": "XaDued_i2QSZ",
        "outputId": "567c8c28-9541-4177-ad03-04642d6f5c74"
      },
      "source": [
        "# Cases and Star Bulk Carriers pearsonr test\r\n",
        "stats.pearsonr(covid_stocks_df['cases'], covid_stocks_df['Star Bulk Carriers'])"
      ],
      "execution_count": null,
      "outputs": [
        {
          "output_type": "execute_result",
          "data": {
            "text/plain": [
              "(0.34459045278741307, 4.0020797181981736e-08)"
            ]
          },
          "metadata": {
            "tags": []
          },
          "execution_count": 84
        }
      ]
    },
    {
      "cell_type": "code",
      "metadata": {
        "colab": {
          "base_uri": "https://localhost:8080/"
        },
        "id": "JK7_LCv_2Y2X",
        "outputId": "8c8cbf35-4e75-4035-cdd2-cd84cf733618"
      },
      "source": [
        "# Cases and DHL pearsonr test\r\n",
        "stats.pearsonr(covid_stocks_df['cases'], covid_stocks_df['DHL'])"
      ],
      "execution_count": null,
      "outputs": [
        {
          "output_type": "execute_result",
          "data": {
            "text/plain": [
              "(0.8439872458630965, 1.336377370269705e-66)"
            ]
          },
          "metadata": {
            "tags": []
          },
          "execution_count": 85
        }
      ]
    },
    {
      "cell_type": "code",
      "metadata": {
        "colab": {
          "base_uri": "https://localhost:8080/"
        },
        "id": "2reFlSx3TetI",
        "outputId": "00d0ddb6-bb36-49af-9da6-0d42fdd8a820"
      },
      "source": [
        "# Cases and UPS pearsonr test\r\n",
        "stats.pearsonr(covid_stocks_df['cases'], covid_stocks_df['UPS'])"
      ],
      "execution_count": null,
      "outputs": [
        {
          "output_type": "execute_result",
          "data": {
            "text/plain": [
              "(0.858802104434758, 2.267721045463295e-71)"
            ]
          },
          "metadata": {
            "tags": []
          },
          "execution_count": 86
        }
      ]
    },
    {
      "cell_type": "code",
      "metadata": {
        "colab": {
          "base_uri": "https://localhost:8080/"
        },
        "id": "BuMmIkRM2iB6",
        "outputId": "acfc22f7-10f0-406a-e65b-5ad0dd60f692"
      },
      "source": [
        "# Cases and Matson pearsonr test\r\n",
        "stats.pearsonr(covid_stocks_df['cases'], covid_stocks_df['Matson'])"
      ],
      "execution_count": null,
      "outputs": [
        {
          "output_type": "execute_result",
          "data": {
            "text/plain": [
              "(0.8936152709186371, 4.0655751954740746e-85)"
            ]
          },
          "metadata": {
            "tags": []
          },
          "execution_count": 87
        }
      ]
    },
    {
      "cell_type": "code",
      "metadata": {
        "colab": {
          "base_uri": "https://localhost:8080/"
        },
        "id": "HQVPLq2i2qfS",
        "outputId": "617fd12e-00fc-4478-f161-77b76d97bc32"
      },
      "source": [
        "# Cases and FedEx pearsonr test\r\n",
        "stats.pearsonr(covid_stocks_df['cases'], covid_stocks_df['FedEx'])"
      ],
      "execution_count": null,
      "outputs": [
        {
          "output_type": "execute_result",
          "data": {
            "text/plain": [
              "(0.8906093201986145, 9.423100244732847e-84)"
            ]
          },
          "metadata": {
            "tags": []
          },
          "execution_count": 88
        }
      ]
    },
    {
      "cell_type": "code",
      "metadata": {
        "colab": {
          "base_uri": "https://localhost:8080/"
        },
        "id": "JbvoOY8o21uC",
        "outputId": "5e267fc0-7cc8-48b4-a048-e93be9e55881"
      },
      "source": [
        "# Cases and Danaos Shipping\tpearsonr test\r\n",
        "stats.pearsonr(covid_stocks_df['cases'], covid_stocks_df['Danaos Shipping'])"
      ],
      "execution_count": null,
      "outputs": [
        {
          "output_type": "execute_result",
          "data": {
            "text/plain": [
              "(0.8914095493715155, 4.118337272835785e-84)"
            ]
          },
          "metadata": {
            "tags": []
          },
          "execution_count": 89
        }
      ]
    },
    {
      "cell_type": "code",
      "metadata": {
        "colab": {
          "base_uri": "https://localhost:8080/"
        },
        "id": "V835ZbABdVji",
        "outputId": "5b605844-3992-4644-cda2-aa6cb11f368e"
      },
      "source": [
        "# Cases and Cosco Shipping pearsonr test\r\n",
        "stats.pearsonr(covid_stocks_df['cases'], covid_stocks_df['Cosco Shipping'])"
      ],
      "execution_count": null,
      "outputs": [
        {
          "output_type": "execute_result",
          "data": {
            "text/plain": [
              "(0.9487152956762707, 1.5974708191894025e-121)"
            ]
          },
          "metadata": {
            "tags": []
          },
          "execution_count": 90
        }
      ]
    },
    {
      "cell_type": "markdown",
      "metadata": {
        "id": "oh8FF6JC30ZL"
      },
      "source": [
        "Based on the pearsonr testing and looking at the correlations, I can determine that all stocks have a strong correlation to covid. With all the p-values being well below .5, this shows that covid did have some effect on the values. I will now look further into how much of an effect it did have. "
      ]
    },
    {
      "cell_type": "markdown",
      "metadata": {
        "id": "TT0RpttH4crZ"
      },
      "source": [
        "## Independent t-test"
      ]
    },
    {
      "cell_type": "markdown",
      "metadata": {
        "id": "ENQiOu_r4nWg"
      },
      "source": [
        "To properly perform the t-test, I first created a stock values data frame from the previous year. I will then compare that to the most recent year, where covid has shown to have impacted stock values. "
      ]
    },
    {
      "cell_type": "code",
      "metadata": {
        "colab": {
          "base_uri": "https://localhost:8080/"
        },
        "id": "VGZifugd44sD",
        "outputId": "6e7eb274-72a7-4e77-c62a-6e76910aabde"
      },
      "source": [
        "!pip install yfinance\r\n",
        "import seaborn as sns\r\n",
        "import datetime\r\n",
        "import yfinance as yf\r\n",
        "from pandas_datareader import data as pandas_datareader"
      ],
      "execution_count": null,
      "outputs": [
        {
          "output_type": "stream",
          "text": [
            "Requirement already satisfied: yfinance in /usr/local/lib/python3.6/dist-packages (0.1.55)\n",
            "Requirement already satisfied: lxml>=4.5.1 in /usr/local/lib/python3.6/dist-packages (from yfinance) (4.6.2)\n",
            "Requirement already satisfied: requests>=2.20 in /usr/local/lib/python3.6/dist-packages (from yfinance) (2.23.0)\n",
            "Requirement already satisfied: multitasking>=0.0.7 in /usr/local/lib/python3.6/dist-packages (from yfinance) (0.0.9)\n",
            "Requirement already satisfied: pandas>=0.24 in /usr/local/lib/python3.6/dist-packages (from yfinance) (1.1.5)\n",
            "Requirement already satisfied: numpy>=1.15 in /usr/local/lib/python3.6/dist-packages (from yfinance) (1.19.5)\n",
            "Requirement already satisfied: urllib3!=1.25.0,!=1.25.1,<1.26,>=1.21.1 in /usr/local/lib/python3.6/dist-packages (from requests>=2.20->yfinance) (1.24.3)\n",
            "Requirement already satisfied: idna<3,>=2.5 in /usr/local/lib/python3.6/dist-packages (from requests>=2.20->yfinance) (2.10)\n",
            "Requirement already satisfied: chardet<4,>=3.0.2 in /usr/local/lib/python3.6/dist-packages (from requests>=2.20->yfinance) (3.0.4)\n",
            "Requirement already satisfied: certifi>=2017.4.17 in /usr/local/lib/python3.6/dist-packages (from requests>=2.20->yfinance) (2020.12.5)\n",
            "Requirement already satisfied: python-dateutil>=2.7.3 in /usr/local/lib/python3.6/dist-packages (from pandas>=0.24->yfinance) (2.8.1)\n",
            "Requirement already satisfied: pytz>=2017.2 in /usr/local/lib/python3.6/dist-packages (from pandas>=0.24->yfinance) (2018.9)\n",
            "Requirement already satisfied: six>=1.5 in /usr/local/lib/python3.6/dist-packages (from python-dateutil>=2.7.3->pandas>=0.24->yfinance) (1.15.0)\n"
          ],
          "name": "stdout"
        }
      ]
    },
    {
      "cell_type": "code",
      "metadata": {
        "id": "pQxvQCu35AmK"
      },
      "source": [
        "# Set stock values to analyize\r\n",
        "prior_stocks = [\"AMKBY\",\"CICOY\", \"DAC\", \"DPSGY\", \"FDX\", \"INSW\", \"MATX\", \"NAT\", \"SBLK\", \"SFL\", \"UPS\", \"^DJI\", \"^GSPC\", \"^IXIC\"]\r\n",
        "# Set start and end dates for during covid-19\r\n",
        "start = datetime.datetime(2019, 1, 1)\r\n",
        "end   = datetime.datetime(2019, 12, 31)"
      ],
      "execution_count": null,
      "outputs": []
    },
    {
      "cell_type": "code",
      "metadata": {
        "colab": {
          "base_uri": "https://localhost:8080/",
          "height": 461
        },
        "id": "IOivsSli5S2y",
        "outputId": "eb9a1786-151f-490e-b06e-2657237ddc1c"
      },
      "source": [
        "# Grab data\r\n",
        "prior_data = pdr.get_data_yahoo(stocks, start = start, end = end)\r\n",
        "# Select only Adjusted Closed Stock Price\r\n",
        "adj_close = ['Adj Close']\r\n",
        "prior_data[adj_close]"
      ],
      "execution_count": null,
      "outputs": [
        {
          "output_type": "execute_result",
          "data": {
            "text/html": [
              "<div>\n",
              "<style scoped>\n",
              "    .dataframe tbody tr th:only-of-type {\n",
              "        vertical-align: middle;\n",
              "    }\n",
              "\n",
              "    .dataframe tbody tr th {\n",
              "        vertical-align: top;\n",
              "    }\n",
              "\n",
              "    .dataframe thead tr th {\n",
              "        text-align: left;\n",
              "    }\n",
              "\n",
              "    .dataframe thead tr:last-of-type th {\n",
              "        text-align: right;\n",
              "    }\n",
              "</style>\n",
              "<table border=\"1\" class=\"dataframe\">\n",
              "  <thead>\n",
              "    <tr>\n",
              "      <th>Attributes</th>\n",
              "      <th colspan=\"14\" halign=\"left\">Adj Close</th>\n",
              "    </tr>\n",
              "    <tr>\n",
              "      <th>Symbols</th>\n",
              "      <th>AMKBY</th>\n",
              "      <th>CICOY</th>\n",
              "      <th>DAC</th>\n",
              "      <th>DPSGY</th>\n",
              "      <th>FDX</th>\n",
              "      <th>INSW</th>\n",
              "      <th>MATX</th>\n",
              "      <th>NAT</th>\n",
              "      <th>SBLK</th>\n",
              "      <th>SFL</th>\n",
              "      <th>UPS</th>\n",
              "      <th>^DJI</th>\n",
              "      <th>^GSPC</th>\n",
              "      <th>^IXIC</th>\n",
              "    </tr>\n",
              "    <tr>\n",
              "      <th>Date</th>\n",
              "      <th></th>\n",
              "      <th></th>\n",
              "      <th></th>\n",
              "      <th></th>\n",
              "      <th></th>\n",
              "      <th></th>\n",
              "      <th></th>\n",
              "      <th></th>\n",
              "      <th></th>\n",
              "      <th></th>\n",
              "      <th></th>\n",
              "      <th></th>\n",
              "      <th></th>\n",
              "      <th></th>\n",
              "    </tr>\n",
              "  </thead>\n",
              "  <tbody>\n",
              "    <tr>\n",
              "      <th>2019-01-02</th>\n",
              "      <td>5.34%</td>\n",
              "      <td>1.95%</td>\n",
              "      <td>11.90%</td>\n",
              "      <td>25.49%</td>\n",
              "      <td>158.25%</td>\n",
              "      <td>17.48%</td>\n",
              "      <td>30.67%</td>\n",
              "      <td>1.86%</td>\n",
              "      <td>9.35%</td>\n",
              "      <td>9.38%</td>\n",
              "      <td>90.89%</td>\n",
              "      <td>23346.24%</td>\n",
              "      <td>2510.03%</td>\n",
              "      <td>6665.94%</td>\n",
              "    </tr>\n",
              "    <tr>\n",
              "      <th>2019-01-03</th>\n",
              "      <td>5.25%</td>\n",
              "      <td>1.95%</td>\n",
              "      <td>12.18%</td>\n",
              "      <td>25.05%</td>\n",
              "      <td>152.43%</td>\n",
              "      <td>17.57%</td>\n",
              "      <td>29.98%</td>\n",
              "      <td>1.81%</td>\n",
              "      <td>9.25%</td>\n",
              "      <td>9.19%</td>\n",
              "      <td>88.31%</td>\n",
              "      <td>22686.22%</td>\n",
              "      <td>2447.89%</td>\n",
              "      <td>6463.50%</td>\n",
              "    </tr>\n",
              "    <tr>\n",
              "      <th>2019-01-04</th>\n",
              "      <td>5.56%</td>\n",
              "      <td>1.95%</td>\n",
              "      <td>12.74%</td>\n",
              "      <td>26.10%</td>\n",
              "      <td>159.46%</td>\n",
              "      <td>18.53%</td>\n",
              "      <td>30.94%</td>\n",
              "      <td>1.96%</td>\n",
              "      <td>10.03%</td>\n",
              "      <td>9.84%</td>\n",
              "      <td>91.39%</td>\n",
              "      <td>23433.16%</td>\n",
              "      <td>2531.94%</td>\n",
              "      <td>6738.86%</td>\n",
              "    </tr>\n",
              "    <tr>\n",
              "      <th>2019-01-07</th>\n",
              "      <td>5.67%</td>\n",
              "      <td>1.95%</td>\n",
              "      <td>12.74%</td>\n",
              "      <td>26.39%</td>\n",
              "      <td>161.69%</td>\n",
              "      <td>18.87%</td>\n",
              "      <td>31.48%</td>\n",
              "      <td>1.99%</td>\n",
              "      <td>10.30%</td>\n",
              "      <td>10.04%</td>\n",
              "      <td>91.08%</td>\n",
              "      <td>23531.35%</td>\n",
              "      <td>2549.69%</td>\n",
              "      <td>6823.47%</td>\n",
              "    </tr>\n",
              "    <tr>\n",
              "      <th>2019-01-08</th>\n",
              "      <td>5.71%</td>\n",
              "      <td>1.95%</td>\n",
              "      <td>13.16%</td>\n",
              "      <td>26.66%</td>\n",
              "      <td>161.97%</td>\n",
              "      <td>18.73%</td>\n",
              "      <td>32.14%</td>\n",
              "      <td>1.93%</td>\n",
              "      <td>10.43%</td>\n",
              "      <td>9.90%</td>\n",
              "      <td>91.09%</td>\n",
              "      <td>23787.45%</td>\n",
              "      <td>2574.41%</td>\n",
              "      <td>6897.00%</td>\n",
              "    </tr>\n",
              "    <tr>\n",
              "      <th>...</th>\n",
              "      <td>...</td>\n",
              "      <td>...</td>\n",
              "      <td>...</td>\n",
              "      <td>...</td>\n",
              "      <td>...</td>\n",
              "      <td>...</td>\n",
              "      <td>...</td>\n",
              "      <td>...</td>\n",
              "      <td>...</td>\n",
              "      <td>...</td>\n",
              "      <td>...</td>\n",
              "      <td>...</td>\n",
              "      <td>...</td>\n",
              "      <td>...</td>\n",
              "    </tr>\n",
              "    <tr>\n",
              "      <th>2019-12-24</th>\n",
              "      <td>6.81%</td>\n",
              "      <td>2.04%</td>\n",
              "      <td>9.32%</td>\n",
              "      <td>36.80%</td>\n",
              "      <td>148.55%</td>\n",
              "      <td>28.87%</td>\n",
              "      <td>39.63%</td>\n",
              "      <td>4.34%</td>\n",
              "      <td>11.45%</td>\n",
              "      <td>13.07%</td>\n",
              "      <td>114.52%</td>\n",
              "      <td>28515.45%</td>\n",
              "      <td>3223.38%</td>\n",
              "      <td>8952.88%</td>\n",
              "    </tr>\n",
              "    <tr>\n",
              "      <th>2019-12-26</th>\n",
              "      <td>6.93%</td>\n",
              "      <td>2.03%</td>\n",
              "      <td>9.40%</td>\n",
              "      <td>36.66%</td>\n",
              "      <td>150.24%</td>\n",
              "      <td>28.92%</td>\n",
              "      <td>39.85%</td>\n",
              "      <td>4.50%</td>\n",
              "      <td>11.87%</td>\n",
              "      <td>13.15%</td>\n",
              "      <td>115.21%</td>\n",
              "      <td>28621.39%</td>\n",
              "      <td>3239.91%</td>\n",
              "      <td>9022.39%</td>\n",
              "    </tr>\n",
              "    <tr>\n",
              "      <th>2019-12-27</th>\n",
              "      <td>7.01%</td>\n",
              "      <td>2.04%</td>\n",
              "      <td>9.07%</td>\n",
              "      <td>37.26%</td>\n",
              "      <td>150.27%</td>\n",
              "      <td>28.60%</td>\n",
              "      <td>39.98%</td>\n",
              "      <td>4.30%</td>\n",
              "      <td>11.57%</td>\n",
              "      <td>13.09%</td>\n",
              "      <td>115.11%</td>\n",
              "      <td>28645.26%</td>\n",
              "      <td>3240.02%</td>\n",
              "      <td>9006.62%</td>\n",
              "    </tr>\n",
              "    <tr>\n",
              "      <th>2019-12-30</th>\n",
              "      <td>6.92%</td>\n",
              "      <td>1.94%</td>\n",
              "      <td>9.05%</td>\n",
              "      <td>36.58%</td>\n",
              "      <td>147.92%</td>\n",
              "      <td>29.01%</td>\n",
              "      <td>40.29%</td>\n",
              "      <td>4.34%</td>\n",
              "      <td>11.66%</td>\n",
              "      <td>13.04%</td>\n",
              "      <td>112.69%</td>\n",
              "      <td>28462.14%</td>\n",
              "      <td>3221.29%</td>\n",
              "      <td>8945.99%</td>\n",
              "    </tr>\n",
              "    <tr>\n",
              "      <th>2019-12-31</th>\n",
              "      <td>6.92%</td>\n",
              "      <td>2.01%</td>\n",
              "      <td>9.18%</td>\n",
              "      <td>36.72%</td>\n",
              "      <td>148.97%</td>\n",
              "      <td>29.39%</td>\n",
              "      <td>39.69%</td>\n",
              "      <td>4.39%</td>\n",
              "      <td>11.74%</td>\n",
              "      <td>13.06%</td>\n",
              "      <td>113.29%</td>\n",
              "      <td>28538.44%</td>\n",
              "      <td>3230.78%</td>\n",
              "      <td>8972.60%</td>\n",
              "    </tr>\n",
              "  </tbody>\n",
              "</table>\n",
              "<p>252 rows × 14 columns</p>\n",
              "</div>"
            ],
            "text/plain": [
              "Attributes Adj Close                      ...                                    \n",
              "Symbols        AMKBY CICOY    DAC  DPSGY  ...     UPS      ^DJI    ^GSPC    ^IXIC\n",
              "Date                                      ...                                    \n",
              "2019-01-02     5.34% 1.95% 11.90% 25.49%  ...  90.89% 23346.24% 2510.03% 6665.94%\n",
              "2019-01-03     5.25% 1.95% 12.18% 25.05%  ...  88.31% 22686.22% 2447.89% 6463.50%\n",
              "2019-01-04     5.56% 1.95% 12.74% 26.10%  ...  91.39% 23433.16% 2531.94% 6738.86%\n",
              "2019-01-07     5.67% 1.95% 12.74% 26.39%  ...  91.08% 23531.35% 2549.69% 6823.47%\n",
              "2019-01-08     5.71% 1.95% 13.16% 26.66%  ...  91.09% 23787.45% 2574.41% 6897.00%\n",
              "...              ...   ...    ...    ...  ...     ...       ...      ...      ...\n",
              "2019-12-24     6.81% 2.04%  9.32% 36.80%  ... 114.52% 28515.45% 3223.38% 8952.88%\n",
              "2019-12-26     6.93% 2.03%  9.40% 36.66%  ... 115.21% 28621.39% 3239.91% 9022.39%\n",
              "2019-12-27     7.01% 2.04%  9.07% 37.26%  ... 115.11% 28645.26% 3240.02% 9006.62%\n",
              "2019-12-30     6.92% 1.94%  9.05% 36.58%  ... 112.69% 28462.14% 3221.29% 8945.99%\n",
              "2019-12-31     6.92% 2.01%  9.18% 36.72%  ... 113.29% 28538.44% 3230.78% 8972.60%\n",
              "\n",
              "[252 rows x 14 columns]"
            ]
          },
          "metadata": {
            "tags": []
          },
          "execution_count": 93
        }
      ]
    },
    {
      "cell_type": "code",
      "metadata": {
        "id": "9XGUKVQB6Iyj"
      },
      "source": [
        "prior_stocks_df = prior_data[adj_close]\r\n",
        "# Relabel columns \r\n",
        "prior_stocks_df.columns = [\"Maersk\", \"Cosco Shipping\", \"Danaos Shipping\", \"DHL\", \"FedEx\", \"International Seaways\", \"Matson\", \"Nordic American\", \"Star Bulk Carriers\", \"SFL Corp\", \"UPS\", \"Dow Jones\", \"S&P 500\", \"Nasdaq\"]"
      ],
      "execution_count": null,
      "outputs": []
    },
    {
      "cell_type": "code",
      "metadata": {
        "colab": {
          "base_uri": "https://localhost:8080/",
          "height": 633
        },
        "id": "XY_Nc-WR6cmi",
        "outputId": "3411ae2c-47b8-4944-f3f7-cc85162cc760"
      },
      "source": [
        "prior_stocks_df"
      ],
      "execution_count": null,
      "outputs": [
        {
          "output_type": "execute_result",
          "data": {
            "text/html": [
              "<div>\n",
              "<style scoped>\n",
              "    .dataframe tbody tr th:only-of-type {\n",
              "        vertical-align: middle;\n",
              "    }\n",
              "\n",
              "    .dataframe tbody tr th {\n",
              "        vertical-align: top;\n",
              "    }\n",
              "\n",
              "    .dataframe thead th {\n",
              "        text-align: right;\n",
              "    }\n",
              "</style>\n",
              "<table border=\"1\" class=\"dataframe\">\n",
              "  <thead>\n",
              "    <tr style=\"text-align: right;\">\n",
              "      <th></th>\n",
              "      <th>Maersk</th>\n",
              "      <th>Cosco Shipping</th>\n",
              "      <th>Danaos Shipping</th>\n",
              "      <th>DHL</th>\n",
              "      <th>FedEx</th>\n",
              "      <th>International Seaways</th>\n",
              "      <th>Matson</th>\n",
              "      <th>Nordic American</th>\n",
              "      <th>Star Bulk Carriers</th>\n",
              "      <th>SFL Corp</th>\n",
              "      <th>UPS</th>\n",
              "      <th>Dow Jones</th>\n",
              "      <th>S&amp;P 500</th>\n",
              "      <th>Nasdaq</th>\n",
              "    </tr>\n",
              "    <tr>\n",
              "      <th>Date</th>\n",
              "      <th></th>\n",
              "      <th></th>\n",
              "      <th></th>\n",
              "      <th></th>\n",
              "      <th></th>\n",
              "      <th></th>\n",
              "      <th></th>\n",
              "      <th></th>\n",
              "      <th></th>\n",
              "      <th></th>\n",
              "      <th></th>\n",
              "      <th></th>\n",
              "      <th></th>\n",
              "      <th></th>\n",
              "    </tr>\n",
              "  </thead>\n",
              "  <tbody>\n",
              "    <tr>\n",
              "      <th>2019-01-02</th>\n",
              "      <td>5.34%</td>\n",
              "      <td>1.95%</td>\n",
              "      <td>11.90%</td>\n",
              "      <td>25.49%</td>\n",
              "      <td>158.25%</td>\n",
              "      <td>17.48%</td>\n",
              "      <td>30.67%</td>\n",
              "      <td>1.86%</td>\n",
              "      <td>9.35%</td>\n",
              "      <td>9.38%</td>\n",
              "      <td>90.89%</td>\n",
              "      <td>23346.24%</td>\n",
              "      <td>2510.03%</td>\n",
              "      <td>6665.94%</td>\n",
              "    </tr>\n",
              "    <tr>\n",
              "      <th>2019-01-03</th>\n",
              "      <td>5.25%</td>\n",
              "      <td>1.95%</td>\n",
              "      <td>12.18%</td>\n",
              "      <td>25.05%</td>\n",
              "      <td>152.43%</td>\n",
              "      <td>17.57%</td>\n",
              "      <td>29.98%</td>\n",
              "      <td>1.81%</td>\n",
              "      <td>9.25%</td>\n",
              "      <td>9.19%</td>\n",
              "      <td>88.31%</td>\n",
              "      <td>22686.22%</td>\n",
              "      <td>2447.89%</td>\n",
              "      <td>6463.50%</td>\n",
              "    </tr>\n",
              "    <tr>\n",
              "      <th>2019-01-04</th>\n",
              "      <td>5.56%</td>\n",
              "      <td>1.95%</td>\n",
              "      <td>12.74%</td>\n",
              "      <td>26.10%</td>\n",
              "      <td>159.46%</td>\n",
              "      <td>18.53%</td>\n",
              "      <td>30.94%</td>\n",
              "      <td>1.96%</td>\n",
              "      <td>10.03%</td>\n",
              "      <td>9.84%</td>\n",
              "      <td>91.39%</td>\n",
              "      <td>23433.16%</td>\n",
              "      <td>2531.94%</td>\n",
              "      <td>6738.86%</td>\n",
              "    </tr>\n",
              "    <tr>\n",
              "      <th>2019-01-07</th>\n",
              "      <td>5.67%</td>\n",
              "      <td>1.95%</td>\n",
              "      <td>12.74%</td>\n",
              "      <td>26.39%</td>\n",
              "      <td>161.69%</td>\n",
              "      <td>18.87%</td>\n",
              "      <td>31.48%</td>\n",
              "      <td>1.99%</td>\n",
              "      <td>10.30%</td>\n",
              "      <td>10.04%</td>\n",
              "      <td>91.08%</td>\n",
              "      <td>23531.35%</td>\n",
              "      <td>2549.69%</td>\n",
              "      <td>6823.47%</td>\n",
              "    </tr>\n",
              "    <tr>\n",
              "      <th>2019-01-08</th>\n",
              "      <td>5.71%</td>\n",
              "      <td>1.95%</td>\n",
              "      <td>13.16%</td>\n",
              "      <td>26.66%</td>\n",
              "      <td>161.97%</td>\n",
              "      <td>18.73%</td>\n",
              "      <td>32.14%</td>\n",
              "      <td>1.93%</td>\n",
              "      <td>10.43%</td>\n",
              "      <td>9.90%</td>\n",
              "      <td>91.09%</td>\n",
              "      <td>23787.45%</td>\n",
              "      <td>2574.41%</td>\n",
              "      <td>6897.00%</td>\n",
              "    </tr>\n",
              "    <tr>\n",
              "      <th>...</th>\n",
              "      <td>...</td>\n",
              "      <td>...</td>\n",
              "      <td>...</td>\n",
              "      <td>...</td>\n",
              "      <td>...</td>\n",
              "      <td>...</td>\n",
              "      <td>...</td>\n",
              "      <td>...</td>\n",
              "      <td>...</td>\n",
              "      <td>...</td>\n",
              "      <td>...</td>\n",
              "      <td>...</td>\n",
              "      <td>...</td>\n",
              "      <td>...</td>\n",
              "    </tr>\n",
              "    <tr>\n",
              "      <th>2019-12-24</th>\n",
              "      <td>6.81%</td>\n",
              "      <td>2.04%</td>\n",
              "      <td>9.32%</td>\n",
              "      <td>36.80%</td>\n",
              "      <td>148.55%</td>\n",
              "      <td>28.87%</td>\n",
              "      <td>39.63%</td>\n",
              "      <td>4.34%</td>\n",
              "      <td>11.45%</td>\n",
              "      <td>13.07%</td>\n",
              "      <td>114.52%</td>\n",
              "      <td>28515.45%</td>\n",
              "      <td>3223.38%</td>\n",
              "      <td>8952.88%</td>\n",
              "    </tr>\n",
              "    <tr>\n",
              "      <th>2019-12-26</th>\n",
              "      <td>6.93%</td>\n",
              "      <td>2.03%</td>\n",
              "      <td>9.40%</td>\n",
              "      <td>36.66%</td>\n",
              "      <td>150.24%</td>\n",
              "      <td>28.92%</td>\n",
              "      <td>39.85%</td>\n",
              "      <td>4.50%</td>\n",
              "      <td>11.87%</td>\n",
              "      <td>13.15%</td>\n",
              "      <td>115.21%</td>\n",
              "      <td>28621.39%</td>\n",
              "      <td>3239.91%</td>\n",
              "      <td>9022.39%</td>\n",
              "    </tr>\n",
              "    <tr>\n",
              "      <th>2019-12-27</th>\n",
              "      <td>7.01%</td>\n",
              "      <td>2.04%</td>\n",
              "      <td>9.07%</td>\n",
              "      <td>37.26%</td>\n",
              "      <td>150.27%</td>\n",
              "      <td>28.60%</td>\n",
              "      <td>39.98%</td>\n",
              "      <td>4.30%</td>\n",
              "      <td>11.57%</td>\n",
              "      <td>13.09%</td>\n",
              "      <td>115.11%</td>\n",
              "      <td>28645.26%</td>\n",
              "      <td>3240.02%</td>\n",
              "      <td>9006.62%</td>\n",
              "    </tr>\n",
              "    <tr>\n",
              "      <th>2019-12-30</th>\n",
              "      <td>6.92%</td>\n",
              "      <td>1.94%</td>\n",
              "      <td>9.05%</td>\n",
              "      <td>36.58%</td>\n",
              "      <td>147.92%</td>\n",
              "      <td>29.01%</td>\n",
              "      <td>40.29%</td>\n",
              "      <td>4.34%</td>\n",
              "      <td>11.66%</td>\n",
              "      <td>13.04%</td>\n",
              "      <td>112.69%</td>\n",
              "      <td>28462.14%</td>\n",
              "      <td>3221.29%</td>\n",
              "      <td>8945.99%</td>\n",
              "    </tr>\n",
              "    <tr>\n",
              "      <th>2019-12-31</th>\n",
              "      <td>6.92%</td>\n",
              "      <td>2.01%</td>\n",
              "      <td>9.18%</td>\n",
              "      <td>36.72%</td>\n",
              "      <td>148.97%</td>\n",
              "      <td>29.39%</td>\n",
              "      <td>39.69%</td>\n",
              "      <td>4.39%</td>\n",
              "      <td>11.74%</td>\n",
              "      <td>13.06%</td>\n",
              "      <td>113.29%</td>\n",
              "      <td>28538.44%</td>\n",
              "      <td>3230.78%</td>\n",
              "      <td>8972.60%</td>\n",
              "    </tr>\n",
              "  </tbody>\n",
              "</table>\n",
              "<p>252 rows × 14 columns</p>\n",
              "</div>"
            ],
            "text/plain": [
              "            Maersk  Cosco Shipping  ...  S&P 500   Nasdaq\n",
              "Date                                ...                  \n",
              "2019-01-02   5.34%           1.95%  ... 2510.03% 6665.94%\n",
              "2019-01-03   5.25%           1.95%  ... 2447.89% 6463.50%\n",
              "2019-01-04   5.56%           1.95%  ... 2531.94% 6738.86%\n",
              "2019-01-07   5.67%           1.95%  ... 2549.69% 6823.47%\n",
              "2019-01-08   5.71%           1.95%  ... 2574.41% 6897.00%\n",
              "...            ...             ...  ...      ...      ...\n",
              "2019-12-24   6.81%           2.04%  ... 3223.38% 8952.88%\n",
              "2019-12-26   6.93%           2.03%  ... 3239.91% 9022.39%\n",
              "2019-12-27   7.01%           2.04%  ... 3240.02% 9006.62%\n",
              "2019-12-30   6.92%           1.94%  ... 3221.29% 8945.99%\n",
              "2019-12-31   6.92%           2.01%  ... 3230.78% 8972.60%\n",
              "\n",
              "[252 rows x 14 columns]"
            ]
          },
          "metadata": {
            "tags": []
          },
          "execution_count": 95
        }
      ]
    },
    {
      "cell_type": "code",
      "metadata": {
        "colab": {
          "base_uri": "https://localhost:8080/",
          "height": 633
        },
        "id": "EoGJYE4n8-C5",
        "outputId": "46e16b93-a44a-4df9-f0e4-c6b943ce552c"
      },
      "source": [
        "stocks_df"
      ],
      "execution_count": null,
      "outputs": [
        {
          "output_type": "execute_result",
          "data": {
            "text/html": [
              "<div>\n",
              "<style scoped>\n",
              "    .dataframe tbody tr th:only-of-type {\n",
              "        vertical-align: middle;\n",
              "    }\n",
              "\n",
              "    .dataframe tbody tr th {\n",
              "        vertical-align: top;\n",
              "    }\n",
              "\n",
              "    .dataframe thead th {\n",
              "        text-align: right;\n",
              "    }\n",
              "</style>\n",
              "<table border=\"1\" class=\"dataframe\">\n",
              "  <thead>\n",
              "    <tr style=\"text-align: right;\">\n",
              "      <th></th>\n",
              "      <th>Maersk</th>\n",
              "      <th>Cosco Shipping</th>\n",
              "      <th>Danaos Shipping</th>\n",
              "      <th>DHL</th>\n",
              "      <th>FedEx</th>\n",
              "      <th>International Seaways</th>\n",
              "      <th>Matson</th>\n",
              "      <th>Nordic American</th>\n",
              "      <th>Star Bulk Carriers</th>\n",
              "      <th>SFL Corp</th>\n",
              "      <th>UPS</th>\n",
              "      <th>Dow Jones</th>\n",
              "      <th>S&amp;P 500</th>\n",
              "      <th>Nasdaq</th>\n",
              "    </tr>\n",
              "    <tr>\n",
              "      <th>Date</th>\n",
              "      <th></th>\n",
              "      <th></th>\n",
              "      <th></th>\n",
              "      <th></th>\n",
              "      <th></th>\n",
              "      <th></th>\n",
              "      <th></th>\n",
              "      <th></th>\n",
              "      <th></th>\n",
              "      <th></th>\n",
              "      <th></th>\n",
              "      <th></th>\n",
              "      <th></th>\n",
              "      <th></th>\n",
              "    </tr>\n",
              "  </thead>\n",
              "  <tbody>\n",
              "    <tr>\n",
              "      <th>2020-01-02</th>\n",
              "      <td>6.99%</td>\n",
              "      <td>2.33%</td>\n",
              "      <td>9.40%</td>\n",
              "      <td>37.32%</td>\n",
              "      <td>152.81%</td>\n",
              "      <td>29.45%</td>\n",
              "      <td>39.21%</td>\n",
              "      <td>4.32%</td>\n",
              "      <td>11.38%</td>\n",
              "      <td>13.10%</td>\n",
              "      <td>113.03%</td>\n",
              "      <td>28868.80%</td>\n",
              "      <td>3257.85%</td>\n",
              "      <td>9092.19%</td>\n",
              "    </tr>\n",
              "    <tr>\n",
              "      <th>2020-01-03</th>\n",
              "      <td>6.79%</td>\n",
              "      <td>2.33%</td>\n",
              "      <td>9.19%</td>\n",
              "      <td>36.52%</td>\n",
              "      <td>150.92%</td>\n",
              "      <td>29.62%</td>\n",
              "      <td>38.65%</td>\n",
              "      <td>4.51%</td>\n",
              "      <td>10.99%</td>\n",
              "      <td>13.07%</td>\n",
              "      <td>112.96%</td>\n",
              "      <td>28634.88%</td>\n",
              "      <td>3234.85%</td>\n",
              "      <td>9020.77%</td>\n",
              "    </tr>\n",
              "    <tr>\n",
              "      <th>2020-01-06</th>\n",
              "      <td>6.70%</td>\n",
              "      <td>2.33%</td>\n",
              "      <td>9.61%</td>\n",
              "      <td>36.57%</td>\n",
              "      <td>151.03%</td>\n",
              "      <td>29.59%</td>\n",
              "      <td>38.23%</td>\n",
              "      <td>4.49%</td>\n",
              "      <td>11.13%</td>\n",
              "      <td>13.04%</td>\n",
              "      <td>112.46%</td>\n",
              "      <td>28703.38%</td>\n",
              "      <td>3246.28%</td>\n",
              "      <td>9071.47%</td>\n",
              "    </tr>\n",
              "    <tr>\n",
              "      <th>2020-01-07</th>\n",
              "      <td>6.78%</td>\n",
              "      <td>2.33%</td>\n",
              "      <td>9.58%</td>\n",
              "      <td>36.57%</td>\n",
              "      <td>152.51%</td>\n",
              "      <td>30.25%</td>\n",
              "      <td>37.87%</td>\n",
              "      <td>4.59%</td>\n",
              "      <td>11.69%</td>\n",
              "      <td>13.06%</td>\n",
              "      <td>112.27%</td>\n",
              "      <td>28583.68%</td>\n",
              "      <td>3237.18%</td>\n",
              "      <td>9068.58%</td>\n",
              "    </tr>\n",
              "    <tr>\n",
              "      <th>2020-01-08</th>\n",
              "      <td>6.69%</td>\n",
              "      <td>2.11%</td>\n",
              "      <td>9.44%</td>\n",
              "      <td>37.05%</td>\n",
              "      <td>154.81%</td>\n",
              "      <td>29.30%</td>\n",
              "      <td>37.78%</td>\n",
              "      <td>4.34%</td>\n",
              "      <td>11.48%</td>\n",
              "      <td>12.93%</td>\n",
              "      <td>112.90%</td>\n",
              "      <td>28745.09%</td>\n",
              "      <td>3253.05%</td>\n",
              "      <td>9129.24%</td>\n",
              "    </tr>\n",
              "    <tr>\n",
              "      <th>...</th>\n",
              "      <td>...</td>\n",
              "      <td>...</td>\n",
              "      <td>...</td>\n",
              "      <td>...</td>\n",
              "      <td>...</td>\n",
              "      <td>...</td>\n",
              "      <td>...</td>\n",
              "      <td>...</td>\n",
              "      <td>...</td>\n",
              "      <td>...</td>\n",
              "      <td>...</td>\n",
              "      <td>...</td>\n",
              "      <td>...</td>\n",
              "      <td>...</td>\n",
              "    </tr>\n",
              "    <tr>\n",
              "      <th>2020-12-24</th>\n",
              "      <td>11.17%</td>\n",
              "      <td>5.23%</td>\n",
              "      <td>21.01%</td>\n",
              "      <td>48.76%</td>\n",
              "      <td>268.82%</td>\n",
              "      <td>16.55%</td>\n",
              "      <td>57.06%</td>\n",
              "      <td>3.16%</td>\n",
              "      <td>8.74%</td>\n",
              "      <td>6.18%</td>\n",
              "      <td>172.19%</td>\n",
              "      <td>30199.87%</td>\n",
              "      <td>3703.06%</td>\n",
              "      <td>12804.73%</td>\n",
              "    </tr>\n",
              "    <tr>\n",
              "      <th>2020-12-28</th>\n",
              "      <td>11.19%</td>\n",
              "      <td>5.23%</td>\n",
              "      <td>21.03%</td>\n",
              "      <td>50.11%</td>\n",
              "      <td>262.94%</td>\n",
              "      <td>16.24%</td>\n",
              "      <td>56.54%</td>\n",
              "      <td>3.08%</td>\n",
              "      <td>8.44%</td>\n",
              "      <td>6.03%</td>\n",
              "      <td>171.36%</td>\n",
              "      <td>30403.97%</td>\n",
              "      <td>3735.36%</td>\n",
              "      <td>12899.42%</td>\n",
              "    </tr>\n",
              "    <tr>\n",
              "      <th>2020-12-29</th>\n",
              "      <td>11.25%</td>\n",
              "      <td>5.80%</td>\n",
              "      <td>20.33%</td>\n",
              "      <td>49.76%</td>\n",
              "      <td>261.56%</td>\n",
              "      <td>16.19%</td>\n",
              "      <td>55.56%</td>\n",
              "      <td>3.06%</td>\n",
              "      <td>8.43%</td>\n",
              "      <td>6.06%</td>\n",
              "      <td>169.03%</td>\n",
              "      <td>30335.67%</td>\n",
              "      <td>3727.04%</td>\n",
              "      <td>12850.22%</td>\n",
              "    </tr>\n",
              "    <tr>\n",
              "      <th>2020-12-30</th>\n",
              "      <td>11.15%</td>\n",
              "      <td>5.85%</td>\n",
              "      <td>20.58%</td>\n",
              "      <td>49.57%</td>\n",
              "      <td>259.98%</td>\n",
              "      <td>16.38%</td>\n",
              "      <td>56.10%</td>\n",
              "      <td>3.01%</td>\n",
              "      <td>8.59%</td>\n",
              "      <td>6.12%</td>\n",
              "      <td>166.23%</td>\n",
              "      <td>30409.56%</td>\n",
              "      <td>3732.04%</td>\n",
              "      <td>12870.00%</td>\n",
              "    </tr>\n",
              "    <tr>\n",
              "      <th>2020-12-31</th>\n",
              "      <td>11.11%</td>\n",
              "      <td>6.17%</td>\n",
              "      <td>21.43%</td>\n",
              "      <td>49.84%</td>\n",
              "      <td>259.62%</td>\n",
              "      <td>16.33%</td>\n",
              "      <td>56.77%</td>\n",
              "      <td>2.95%</td>\n",
              "      <td>8.83%</td>\n",
              "      <td>6.28%</td>\n",
              "      <td>168.40%</td>\n",
              "      <td>30606.48%</td>\n",
              "      <td>3756.07%</td>\n",
              "      <td>12888.28%</td>\n",
              "    </tr>\n",
              "  </tbody>\n",
              "</table>\n",
              "<p>253 rows × 14 columns</p>\n",
              "</div>"
            ],
            "text/plain": [
              "            Maersk  Cosco Shipping  ...  S&P 500    Nasdaq\n",
              "Date                                ...                   \n",
              "2020-01-02   6.99%           2.33%  ... 3257.85%  9092.19%\n",
              "2020-01-03   6.79%           2.33%  ... 3234.85%  9020.77%\n",
              "2020-01-06   6.70%           2.33%  ... 3246.28%  9071.47%\n",
              "2020-01-07   6.78%           2.33%  ... 3237.18%  9068.58%\n",
              "2020-01-08   6.69%           2.11%  ... 3253.05%  9129.24%\n",
              "...            ...             ...  ...      ...       ...\n",
              "2020-12-24  11.17%           5.23%  ... 3703.06% 12804.73%\n",
              "2020-12-28  11.19%           5.23%  ... 3735.36% 12899.42%\n",
              "2020-12-29  11.25%           5.80%  ... 3727.04% 12850.22%\n",
              "2020-12-30  11.15%           5.85%  ... 3732.04% 12870.00%\n",
              "2020-12-31  11.11%           6.17%  ... 3756.07% 12888.28%\n",
              "\n",
              "[253 rows x 14 columns]"
            ]
          },
          "metadata": {
            "tags": []
          },
          "execution_count": 96
        }
      ]
    },
    {
      "cell_type": "code",
      "metadata": {
        "colab": {
          "base_uri": "https://localhost:8080/"
        },
        "id": "ye2tN54b688C",
        "outputId": "3d72c76a-3ee7-43b9-ab3c-1aafbedd64c1"
      },
      "source": [
        "stats.ttest_ind(prior_stocks_df['Maersk'], stocks_df['Maersk'])"
      ],
      "execution_count": null,
      "outputs": [
        {
          "output_type": "execute_result",
          "data": {
            "text/plain": [
              "Ttest_indResult(statistic=-7.458433791600986, pvalue=3.866701018168747e-13)"
            ]
          },
          "metadata": {
            "tags": []
          },
          "execution_count": 97
        }
      ]
    },
    {
      "cell_type": "code",
      "metadata": {
        "colab": {
          "base_uri": "https://localhost:8080/"
        },
        "id": "klQhag5W7m4R",
        "outputId": "cbda43dd-9082-469c-e30a-4c2924d860fc"
      },
      "source": [
        "stats.ttest_ind(prior_stocks_df['Cosco Shipping'], stocks_df['Cosco Shipping'])"
      ],
      "execution_count": null,
      "outputs": [
        {
          "output_type": "execute_result",
          "data": {
            "text/plain": [
              "Ttest_indResult(statistic=-5.130308551523626, pvalue=4.137336614331752e-07)"
            ]
          },
          "metadata": {
            "tags": []
          },
          "execution_count": 98
        }
      ]
    },
    {
      "cell_type": "code",
      "metadata": {
        "colab": {
          "base_uri": "https://localhost:8080/"
        },
        "id": "LbSQXrNa-Ali",
        "outputId": "5cbd0ce8-2be6-43d2-ed9a-75342c09bc5c"
      },
      "source": [
        "stats.ttest_ind(prior_stocks_df['Danaos Shipping'], stocks_df['Danaos Shipping'])"
      ],
      "execution_count": null,
      "outputs": [
        {
          "output_type": "execute_result",
          "data": {
            "text/plain": [
              "Ttest_indResult(statistic=11.142375294336913, pvalue=6.371271073756567e-26)"
            ]
          },
          "metadata": {
            "tags": []
          },
          "execution_count": 99
        }
      ]
    },
    {
      "cell_type": "code",
      "metadata": {
        "colab": {
          "base_uri": "https://localhost:8080/"
        },
        "id": "Sq0TUask-KKT",
        "outputId": "cf958e15-e49b-4f24-fb29-bc5846eaa651"
      },
      "source": [
        "stats.ttest_ind(prior_stocks_df['DHL'], stocks_df['DHL'])"
      ],
      "execution_count": null,
      "outputs": [
        {
          "output_type": "execute_result",
          "data": {
            "text/plain": [
              "Ttest_indResult(statistic=-11.698038612438681, pvalue=3.976049627885029e-28)"
            ]
          },
          "metadata": {
            "tags": []
          },
          "execution_count": 100
        }
      ]
    },
    {
      "cell_type": "code",
      "metadata": {
        "colab": {
          "base_uri": "https://localhost:8080/"
        },
        "id": "AnMU_wsF-SHa",
        "outputId": "80cf10a9-eb3e-4c78-bb8e-71ff07a5733b"
      },
      "source": [
        "stats.ttest_ind(prior_stocks_df['FedEx'], stocks_df['FedEx'])"
      ],
      "execution_count": null,
      "outputs": [
        {
          "output_type": "execute_result",
          "data": {
            "text/plain": [
              "Ttest_indResult(statistic=-5.567619436147245, pvalue=4.2083279281936644e-08)"
            ]
          },
          "metadata": {
            "tags": []
          },
          "execution_count": 101
        }
      ]
    },
    {
      "cell_type": "code",
      "metadata": {
        "colab": {
          "base_uri": "https://localhost:8080/"
        },
        "id": "YlDQQIdB-XRa",
        "outputId": "30cacdd0-a2df-465e-def3-ae8a67f15643"
      },
      "source": [
        "stats.ttest_ind(prior_stocks_df['International Seaways'], stocks_df['International Seaways'])"
      ],
      "execution_count": null,
      "outputs": [
        {
          "output_type": "execute_result",
          "data": {
            "text/plain": [
              "Ttest_indResult(statistic=1.8870300692371613, pvalue=0.05973186199816544)"
            ]
          },
          "metadata": {
            "tags": []
          },
          "execution_count": 102
        }
      ]
    },
    {
      "cell_type": "code",
      "metadata": {
        "colab": {
          "base_uri": "https://localhost:8080/"
        },
        "id": "ASx5CjQG-fd7",
        "outputId": "53125d4a-457f-4bc5-c4b1-c6d8e58474a9"
      },
      "source": [
        "stats.ttest_ind(prior_stocks_df['Matson'], stocks_df['Matson'])"
      ],
      "execution_count": null,
      "outputs": [
        {
          "output_type": "execute_result",
          "data": {
            "text/plain": [
              "Ttest_indResult(statistic=-4.36249560609842, pvalue=1.5608941368591013e-05)"
            ]
          },
          "metadata": {
            "tags": []
          },
          "execution_count": 103
        }
      ]
    },
    {
      "cell_type": "code",
      "metadata": {
        "colab": {
          "base_uri": "https://localhost:8080/"
        },
        "id": "uc5rTwUX-lpT",
        "outputId": "8724ae29-5ba5-4d3f-cfb6-ef53ab77746f"
      },
      "source": [
        "stats.ttest_ind(prior_stocks_df['Nordic American'], stocks_df['Nordic American'])"
      ],
      "execution_count": null,
      "outputs": [
        {
          "output_type": "execute_result",
          "data": {
            "text/plain": [
              "Ttest_indResult(statistic=-22.87138683540387, pvalue=6.706958763004411e-80)"
            ]
          },
          "metadata": {
            "tags": []
          },
          "execution_count": 104
        }
      ]
    },
    {
      "cell_type": "code",
      "metadata": {
        "colab": {
          "base_uri": "https://localhost:8080/"
        },
        "id": "2DX39G-1-tdj",
        "outputId": "1cf93c9b-c9b9-47ef-9ebf-6cc4bda5a2be"
      },
      "source": [
        "stats.ttest_ind(prior_stocks_df['Star Bulk Carriers'], stocks_df['Star Bulk Carriers'])"
      ],
      "execution_count": null,
      "outputs": [
        {
          "output_type": "execute_result",
          "data": {
            "text/plain": [
              "Ttest_indResult(statistic=16.645940680659276, pvalue=6.990075197463191e-50)"
            ]
          },
          "metadata": {
            "tags": []
          },
          "execution_count": 105
        }
      ]
    },
    {
      "cell_type": "code",
      "metadata": {
        "colab": {
          "base_uri": "https://localhost:8080/"
        },
        "id": "FMZriu9x-6ZK",
        "outputId": "d167a7aa-7fd0-4d7b-dbae-95ba03b25ac7"
      },
      "source": [
        "stats.ttest_ind(prior_stocks_df['SFL Corp'], stocks_df['SFL Corp'])"
      ],
      "execution_count": null,
      "outputs": [
        {
          "output_type": "execute_result",
          "data": {
            "text/plain": [
              "Ttest_indResult(statistic=18.538419135393298, pvalue=7.401585138508888e-59)"
            ]
          },
          "metadata": {
            "tags": []
          },
          "execution_count": 106
        }
      ]
    },
    {
      "cell_type": "code",
      "metadata": {
        "colab": {
          "base_uri": "https://localhost:8080/"
        },
        "id": "7t99084t_BBK",
        "outputId": "b6763319-1719-48a6-903b-fce5efca70f6"
      },
      "source": [
        "stats.ttest_ind(prior_stocks_df['UPS'], stocks_df['UPS'])"
      ],
      "execution_count": null,
      "outputs": [
        {
          "output_type": "execute_result",
          "data": {
            "text/plain": [
              "Ttest_indResult(statistic=-10.851729711958853, pvalue=8.557146273815949e-25)"
            ]
          },
          "metadata": {
            "tags": []
          },
          "execution_count": 107
        }
      ]
    },
    {
      "cell_type": "markdown",
      "metadata": {
        "id": "TcrY1aSS_Wt6"
      },
      "source": [
        "In looking at the results from the Ttest, it is clear to see that there were dramatic changes in the stock values of these companies. The p-value is extreamly small implying that there is a real difference between them. Now look at the confidence interval:"
      ]
    },
    {
      "cell_type": "code",
      "metadata": {
        "id": "6YCEeEUwB0FX"
      },
      "source": [
        "sample_1_n = prior_stocks_df.shape[0]\r\n",
        "sample_2_n = stocks_df.shape[0]\r\n",
        "sample_1_mean = prior_stocks_df['UPS'].mean()\r\n",
        "sample_2_mean = stocks_df['UPS'].mean()\r\n",
        "sample_1_var = prior_stocks_df['UPS'].var()\r\n",
        "sample_2_var = stocks_df['UPS'].var()"
      ],
      "execution_count": null,
      "outputs": []
    },
    {
      "cell_type": "code",
      "metadata": {
        "colab": {
          "base_uri": "https://localhost:8080/"
        },
        "id": "T1l8eRdGCP1Q",
        "outputId": "8177fbd4-440e-4358-c1d4-0dc0482352a8"
      },
      "source": [
        "import math\r\n",
        "std_err_difference = math.sqrt((sample_1_var/sample_1_n)+(sample_2_var/sample_2_n))\r\n",
        "\r\n",
        "mean_difference = sample_2_mean - sample_1_mean\r\n",
        "\r\n",
        "margin_of_error = 1.96 * std_err_difference\r\n",
        "ci_lower = mean_difference - margin_of_error\r\n",
        "ci_upper = mean_difference + margin_of_error\r\n",
        "\r\n",
        "print(\"The difference in means at the 95% confidence interval is between \"+str(ci_lower)+\" and \"+str(ci_upper)+\".\")"
      ],
      "execution_count": null,
      "outputs": [
        {
          "output_type": "stream",
          "text": [
            "The difference in means at the 95% confidence interval is between 18.577281291966354 and 26.750057417291377.\n"
          ],
          "name": "stdout"
        }
      ]
    },
    {
      "cell_type": "markdown",
      "metadata": {
        "id": "J6c8RTJ65rEY"
      },
      "source": [
        "# Conclusion"
      ]
    },
    {
      "cell_type": "markdown",
      "metadata": {
        "id": "Oea3Z9rQ5yC0"
      },
      "source": [
        "In looking at the data we are able to determine the following:\r\n",
        "\r\n",
        "1.   Covid-19 had a direct effect on these stocks\r\n",
        "2.   That the stocks have begun to level off, possibly indicating that covid-19's effects are starting to lessen.\r\n",
        "\r\n",
        "The Company to which covid affected most was \"Cosco Shipping\". They saw a 219% increase in thier stock price over 2020. \r\n",
        "\r\n",
        "The Company to which covid had the most negative impact on was \"SFL Corp\". They saw thier stock price drop by 51% over the last year.\r\n",
        "\r\n",
        "It is important to note however that \"SFL Corp\" has other holdings to which may have impacted thier value. \r\n",
        "\r\n",
        "In looking to invest, I would recomend investing in the companies still showing a increase in stock value as obviously they would offer the greatest return. \r\n",
        "\r\n",
        "\r\n",
        "\r\n"
      ]
    },
    {
      "cell_type": "code",
      "metadata": {
        "id": "944SQvr1J1pG"
      },
      "source": [
        ""
      ],
      "execution_count": null,
      "outputs": []
    },
    {
      "cell_type": "markdown",
      "metadata": {
        "id": "GUcKZhiiirsG"
      },
      "source": [
        "# More Visuals\r\n"
      ]
    },
    {
      "cell_type": "code",
      "metadata": {
        "id": "D0inxtlHi0dJ"
      },
      "source": [
        "stock = 'CICOY'\r\n",
        " \r\n",
        "df = web.DataReader(stock, data_source='yahoo', start='01-01-2019')\r\n",
        "\r\n",
        "df.to_csv('test.csv')\r\n",
        "\r\n",
        "\r\n",
        "# In[35]:\r\n",
        "\r\n",
        "\r\n",
        "trace1 = {\r\n",
        "    'x': df.index,\r\n",
        "    'open': df.Open,\r\n",
        "    'close': df.Close,\r\n",
        "    'high': df.High,\r\n",
        "    'low': df.Low,\r\n",
        "    'type': 'candlestick',\r\n",
        "    'name': 'CICOY',\r\n",
        "    'showlegend': False\r\n",
        "}\r\n",
        "# Calculate and define moving average of 30 periods\r\n",
        "avg_30 = df.Close.rolling(window=30, min_periods=1).mean()\r\n",
        "# Calculate and define moving average of 50 periods\r\n",
        "avg_50 = df.Close.rolling(window=50, min_periods=1).mean()\r\n"
      ],
      "execution_count": null,
      "outputs": []
    },
    {
      "cell_type": "code",
      "metadata": {
        "id": "5dStQbyBk5qL"
      },
      "source": [
        "trace2 = {\r\n",
        "    'x': df.index,\r\n",
        "    'y': avg_30,\r\n",
        "    'type': 'scatter',\r\n",
        "    'mode': 'lines',\r\n",
        "    'line': {\r\n",
        "        'width': 1,\r\n",
        "        'color': 'blue'\r\n",
        "            },\r\n",
        "    'name': 'Moving Average of 30 periods'\r\n",
        "}\r\n",
        "trace3 = {\r\n",
        "    'x': df.index,\r\n",
        "    'y': avg_50,\r\n",
        "    'type': 'scatter',\r\n",
        "    'mode': 'lines',\r\n",
        "    'line': {\r\n",
        "        'width': 1,\r\n",
        "        'color': 'red'\r\n",
        "    },\r\n",
        "    'name': 'Moving Average of 50 periods'\r\n",
        "}"
      ],
      "execution_count": null,
      "outputs": []
    },
    {
      "cell_type": "code",
      "metadata": {
        "id": "mcKca1B7jHGJ"
      },
      "source": [
        "data = [trace1, trace2, trace3]\r\n",
        "# Config graph layout\r\n",
        "layout = go.Layout({\r\n",
        "    'title': {\r\n",
        "        'text': 'COSCO SHIPPING(CICOY) Moving Averages',\r\n",
        "        'font': {\r\n",
        "            'size': 15\r\n",
        "        }\r\n",
        "    }\r\n",
        "})"
      ],
      "execution_count": null,
      "outputs": []
    },
    {
      "cell_type": "code",
      "metadata": {
        "colab": {
          "base_uri": "https://localhost:8080/",
          "height": 542
        },
        "id": "Sm6nMdTMkyTF",
        "outputId": "c9f3ad5e-5d3a-4ed9-a90e-28bd9da98e3d"
      },
      "source": [
        "fig = go.Figure(data=data, layout=layout)\r\n",
        "fig.write_html(\"Cosco Shipping(CICOY) Moving Averages.html\")\r\n",
        "fig.show()"
      ],
      "execution_count": null,
      "outputs": [
        {
          "output_type": "display_data",
          "data": {
            "text/html": [
              "<html>\n",
              "<head><meta charset=\"utf-8\" /></head>\n",
              "<body>\n",
              "    <div>\n",
              "            <script src=\"https://cdnjs.cloudflare.com/ajax/libs/mathjax/2.7.5/MathJax.js?config=TeX-AMS-MML_SVG\"></script><script type=\"text/javascript\">if (window.MathJax) {MathJax.Hub.Config({SVG: {font: \"STIX-Web\"}});}</script>\n",
              "                <script type=\"text/javascript\">window.PlotlyConfig = {MathJaxConfig: 'local'};</script>\n",
              "        <script src=\"https://cdn.plot.ly/plotly-latest.min.js\"></script>    \n",
              "            <div id=\"2fd67fc9-a239-419e-b671-4bf0d0467183\" class=\"plotly-graph-div\" style=\"height:525px; width:100%;\"></div>\n",
              "            <script type=\"text/javascript\">\n",
              "                \n",
              "                    window.PLOTLYENV=window.PLOTLYENV || {};\n",
              "                    \n",
              "                if (document.getElementById(\"2fd67fc9-a239-419e-b671-4bf0d0467183\")) {\n",
              "                    Plotly.newPlot(\n",
              "                        '2fd67fc9-a239-419e-b671-4bf0d0467183',\n",
              "                        [{\"close\": [1.9500000476837158, 1.9500000476837158, 1.9500000476837158, 1.9500000476837158, 1.9500000476837158, 1.9500000476837158, 1.9500000476837158, 2.0, 2.0, 2.0, 2.0, 2.0, 2.0, 2.0, 2.0, 2.0, 2.0, 2.0, 2.0, 2.0, 1.9900000095367432, 1.9900000095367432, 1.9800000190734863, 1.9800000190734863, 1.9800000190734863, 1.9800000190734863, 1.9800000190734863, 1.9800000190734863, 1.9800000190734863, 2.0, 2.0, 2.0, 2.0, 1.9900000095367432, 1.9900000095367432, 1.9900000095367432, 1.9900000095367432, 1.9900000095367432, 1.9900000095367432, 1.9900000095367432, 2.059999942779541, 2.059999942779541, 2.059999942779541, 2.059999942779541, 2.059999942779541, 2.059999942779541, 2.059999942779541, 2.0899999141693115, 2.0899999141693115, 2.0899999141693115, 2.0899999141693115, 2.0899999141693115, 2.0899999141693115, 2.0899999141693115, 2.0899999141693115, 2.0899999141693115, 2.0899999141693115, 1.9900000095367432, 2.059999942779541, 2.059999942779541, 2.0799999237060547, 2.140000104904175, 2.140000104904175, 2.369999885559082, 2.390000104904175, 2.390000104904175, 2.390000104904175, 2.390000104904175, 2.390000104904175, 2.390000104904175, 2.390000104904175, 2.390000104904175, 2.390000104904175, 2.390000104904175, 2.390000104904175, 2.390000104904175, 2.390000104904175, 2.390000104904175, 2.390000104904175, 2.200000047683716, 2.299999952316284, 2.299999952316284, 2.299999952316284, 2.299999952316284, 2.299999952316284, 2.1600000858306885, 2.1600000858306885, 2.1600000858306885, 2.1600000858306885, 2.059999942779541, 2.069999933242798, 1.909999966621399, 1.909999966621399, 1.909999966621399, 1.940000057220459, 1.940000057220459, 1.940000057220459, 1.940000057220459, 1.940000057220459, 1.940000057220459, 1.940000057220459, 1.940000057220459, 1.7899999618530273, 1.7899999618530273, 1.7899999618530273, 1.7899999618530273, 1.7899999618530273, 1.7899999618530273, 1.7899999618530273, 1.7899999618530273, 1.8300000429153442, 1.8300000429153442, 1.8300000429153442, 1.8300000429153442, 1.8799999952316284, 1.840000033378601, 1.840000033378601, 1.840000033378601, 1.840000033378601, 1.840000033378601, 1.840000033378601, 1.840000033378601, 1.840000033378601, 1.840000033378601, 1.840000033378601, 1.840000033378601, 1.840000033378601, 1.840000033378601, 1.840000033378601, 1.840000033378601, 1.8799999952316284, 1.8799999952316284, 1.8799999952316284, 1.8799999952316284, 1.8799999952316284, 1.8799999952316284, 1.840000033378601, 2.009999990463257, 1.9800000190734863, 1.9800000190734863, 2.009999990463257, 2.009999990463257, 1.8700000047683716, 1.8899999856948853, 1.850000023841858, 1.850000023841858, 1.7899999618530273, 1.7000000476837158, 1.7000000476837158, 1.6299999952316284, 1.6299999952316284, 1.6299999952316284, 1.6299999952316284, 1.6299999952316284, 1.6299999952316284, 1.6299999952316284, 1.6299999952316284, 1.6299999952316284, 1.7899999618530273, 1.7899999618530273, 1.7899999618530273, 1.7899999618530273, 1.7899999618530273, 1.7899999618530273, 1.7899999618530273, 1.7899999618530273, 1.7899999618530273, 1.7899999618530273, 1.7899999618530273, 1.7899999618530273, 1.7899999618530273, 1.7899999618530273, 1.7899999618530273, 1.7999999523162842, 1.7999999523162842, 1.7999999523162842, 1.899999976158142, 1.899999976158142, 1.899999976158142, 1.899999976158142, 1.899999976158142, 1.899999976158142, 1.899999976158142, 1.8799999952316284, 1.8799999952316284, 1.8799999952316284, 1.8799999952316284, 1.8799999952316284, 1.8799999952316284, 1.8799999952316284, 1.8799999952316284, 1.8799999952316284, 1.8799999952316284, 1.8799999952316284, 1.8799999952316284, 1.7799999713897705, 1.7799999713897705, 1.9800000190734863, 1.9700000286102295, 1.9700000286102295, 1.9700000286102295, 1.9700000286102295, 1.9700000286102295, 1.9700000286102295, 1.9700000286102295, 1.850000023841858, 1.8300000429153442, 1.8200000524520874, 1.8200000524520874, 1.8200000524520874, 1.7899999618530273, 1.7999999523162842, 1.7999999523162842, 1.7999999523162842, 1.7999999523162842, 1.7999999523162842, 2.0, 2.0, 2.0, 2.0, 2.0, 2.0, 2.0, 2.0, 1.9199999570846558, 1.9199999570846558, 1.9199999570846558, 1.9199999570846558, 1.9199999570846558, 1.9199999570846558, 1.9199999570846558, 1.9199999570846558, 1.9199999570846558, 1.9199999570846558, 1.9199999570846558, 1.8799999952316284, 1.8799999952316284, 1.8799999952316284, 1.8799999952316284, 1.8799999952316284, 2.049999952316284, 2.0399999618530273, 2.0999999046325684, 2.0999999046325684, 2.0799999237060547, 2.0799999237060547, 2.0399999618530273, 2.0399999618530273, 2.0299999713897705, 2.0399999618530273, 1.940000057220459, 2.009999990463257, 2.3299999237060547, 2.3299999237060547, 2.3299999237060547, 2.3299999237060547, 2.109999895095825, 2.109999895095825, 2.119999885559082, 2.119999885559082, 2.119999885559082, 2.119999885559082, 2.119999885559082, 2.119999885559082, 1.9299999475479126, 1.9299999475479126, 1.9299999475479126, 1.9299999475479126, 1.9299999475479126, 1.9600000381469727, 1.8799999952316284, 1.8799999952316284, 1.7999999523162842, 1.7300000190734863, 1.7300000190734863, 1.7400000095367432, 1.7400000095367432, 1.7400000095367432, 1.7400000095367432, 1.7400000095367432, 1.8700000047683716, 1.7899999618530273, 1.7899999618530273, 1.7899999618530273, 1.8899999856948853, 1.899999976158142, 1.899999976158142, 1.899999976158142, 1.899999976158142, 1.899999976158142, 1.899999976158142, 1.7000000476837158, 1.6100000143051147, 1.6100000143051147, 1.5800000429153442, 1.5800000429153442, 1.5800000429153442, 1.5800000429153442, 1.5800000429153442, 1.5800000429153442, 1.5700000524520874, 1.5199999809265137, 1.4900000095367432, 1.4900000095367432, 1.3899999856948853, 1.3899999856948853, 1.3899999856948853, 1.4299999475479126, 1.4299999475479126, 1.5, 1.5, 1.4199999570846558, 1.409999966621399, 1.399999976158142, 1.399999976158142, 1.399999976158142, 1.399999976158142, 1.350000023841858, 1.5199999809265137, 1.4900000095367432, 1.2899999618530273, 1.2899999618530273, 1.2899999618530273, 1.2899999618530273, 1.2899999618530273, 1.3700000047683716, 1.3700000047683716, 1.399999976158142, 1.399999976158142, 1.2799999713897705, 1.3600000143051147, 1.3600000143051147, 1.2999999523162842, 1.3799999952316284, 1.5, 1.4800000190734863, 1.4800000190734863, 1.399999976158142, 1.399999976158142, 1.350000023841858, 1.350000023841858, 1.340000033378601, 1.340000033378601, 1.340000033378601, 1.340000033378601, 1.340000033378601, 1.340000033378601, 1.340000033378601, 1.4800000190734863, 1.4700000286102295, 1.2599999904632568, 1.2599999904632568, 1.2599999904632568, 1.2799999713897705, 1.2799999713897705, 1.2799999713897705, 1.5099999904632568, 1.4800000190734863, 1.4800000190734863, 1.4800000190734863, 1.4800000190734863, 1.4800000190734863, 1.4800000190734863, 1.350000023841858, 1.350000023841858, 1.340000033378601, 1.340000033378601, 1.340000033378601, 1.340000033378601, 1.340000033378601, 1.4800000190734863, 1.4800000190734863, 1.4800000190734863, 1.4800000190734863, 1.4800000190734863, 1.4800000190734863, 1.4800000190734863, 1.4800000190734863, 1.4800000190734863, 1.4800000190734863, 1.5800000429153442, 1.5800000429153442, 1.9500000476837158, 1.8700000047683716, 1.8700000047683716, 1.850000023841858, 1.8700000047683716, 1.8700000047683716, 1.5700000524520874, 1.5700000524520874, 1.7699999809265137, 1.7699999809265137, 1.7699999809265137, 1.7699999809265137, 1.6299999952316284, 1.6299999952316284, 1.6299999952316284, 1.6299999952316284, 1.6299999952316284, 1.6299999952316284, 1.9600000381469727, 2.0399999618530273, 2.0399999618530273, 2.0399999618530273, 2.309999942779541, 2.359999895095825, 2.5299999713897705, 2.5399999618530273, 2.5399999618530273, 2.609999895095825, 2.5799999237060547, 2.5799999237060547, 2.3399999141693115, 2.5399999618530273, 2.2699999809265137, 2.509999990463257, 2.4200000762939453, 2.490000009536743, 2.3499999046325684, 2.3499999046325684, 2.359999895095825, 2.490000009536743, 2.450000047683716, 2.6500000953674316, 2.6700000762939453, 2.6700000762939453, 2.6700000762939453, 2.5999999046325684, 2.380000114440918, 2.440000057220459, 2.490000009536743, 2.450000047683716, 2.4200000762939453, 2.4200000762939453, 2.3299999237060547, 2.3299999237060547, 2.140000104904175, 2.299999952316284, 2.3499999046325684, 2.5, 2.440000057220459, 2.4800000190734863, 2.2699999809265137, 2.4800000190734863, 2.75, 2.6600000858306885, 2.7300000190734863, 2.7300000190734863, 2.630000114440918, 2.630000114440918, 2.9200000762939453, 2.799999952316284, 2.799999952316284, 2.809999942779541, 2.809999942779541, 2.809999942779541, 2.75, 2.9200000762939453, 2.9200000762939453, 2.9200000762939453, 2.940000057220459, 3.130000114440918, 3.200000047683716, 2.9600000381469727, 2.9600000381469727, 3.4100000858306885, 3.799999952316284, 3.799999952316284, 4.230000019073486, 4.010000228881836, 3.75, 3.75, 3.75, 4.0, 4.210000038146973, 4.420000076293945, 4.659999847412109, 4.659999847412109, 5.389999866485596, 5.0, 4.829999923706055, 4.840000152587891, 4.760000228881836, 4.920000076293945, 4.699999809265137, 4.690000057220459, 4.690000057220459, 4.570000171661377, 4.570000171661377, 4.400000095367432, 4.400000095367432, 4.5, 4.389999866485596, 4.670000076293945, 4.800000190734863, 5.119999885559082, 5.119999885559082, 5.199999809265137, 5.03000020980835, 5.230000019073486, 5.230000019073486, 5.230000019073486, 5.800000190734863, 5.849999904632568, 6.170000076293945, 6.300000190734863, 6.300000190734863, 6.300000190734863, 6.75, 6.880000114440918, 6.800000190734863, 6.78000020980835, 7.010000228881836, 6.5, 6.480000019073486, 6.320000171661377, 6.5, 6.480000019073486, 6.710000038146973, 6.550000190734863, 6.0, 5.800000190734863, 5.5, 5.119999885559082, 5.269999980926514, 5.099999904632568, 5.099999904632568, 4.559999942779541, 4.929999828338623, 5.0, 4.900000095367432, 4.980000019073486, 4.96999979019165, 5.0, 5.630000114440918, 5.570000171661377, 5.860000133514404], \"high\": [1.9500000476837158, 1.9500000476837158, 1.9500000476837158, 1.9500000476837158, 1.9500000476837158, 1.9500000476837158, 1.9500000476837158, 2.0, 2.0, 2.0, 2.0, 2.0, 2.0, 2.0, 2.0, 2.0, 2.0, 2.0, 2.0, 2.0, 1.9900000095367432, 1.9900000095367432, 1.9800000190734863, 1.9800000190734863, 1.9800000190734863, 1.9800000190734863, 1.9800000190734863, 1.9800000190734863, 1.9800000190734863, 2.0, 2.0, 2.0, 2.0, 1.9900000095367432, 1.9900000095367432, 1.9900000095367432, 1.9900000095367432, 1.9900000095367432, 1.9900000095367432, 1.9900000095367432, 2.059999942779541, 2.059999942779541, 2.059999942779541, 2.059999942779541, 2.059999942779541, 2.059999942779541, 2.059999942779541, 2.0899999141693115, 2.0899999141693115, 2.0899999141693115, 2.0899999141693115, 2.0899999141693115, 2.0899999141693115, 2.0899999141693115, 2.0899999141693115, 2.0899999141693115, 2.0899999141693115, 1.9900000095367432, 2.059999942779541, 2.059999942779541, 2.0799999237060547, 2.140000104904175, 2.140000104904175, 2.369999885559082, 2.390000104904175, 2.390000104904175, 2.390000104904175, 2.390000104904175, 2.390000104904175, 2.390000104904175, 2.390000104904175, 2.390000104904175, 2.390000104904175, 2.390000104904175, 2.390000104904175, 2.390000104904175, 2.390000104904175, 2.390000104904175, 2.390000104904175, 2.200000047683716, 2.299999952316284, 2.299999952316284, 2.299999952316284, 2.299999952316284, 2.299999952316284, 2.1600000858306885, 2.1600000858306885, 2.1600000858306885, 2.1600000858306885, 2.059999942779541, 2.069999933242798, 1.909999966621399, 1.909999966621399, 1.909999966621399, 1.940000057220459, 1.940000057220459, 1.940000057220459, 1.940000057220459, 1.940000057220459, 1.940000057220459, 1.940000057220459, 1.940000057220459, 1.7899999618530273, 1.7899999618530273, 1.7899999618530273, 1.7899999618530273, 1.7899999618530273, 1.7899999618530273, 1.7899999618530273, 1.7899999618530273, 1.8300000429153442, 1.8300000429153442, 1.8300000429153442, 1.8300000429153442, 1.8799999952316284, 1.840000033378601, 1.840000033378601, 1.840000033378601, 1.840000033378601, 1.840000033378601, 1.840000033378601, 1.840000033378601, 1.840000033378601, 1.840000033378601, 1.840000033378601, 1.840000033378601, 1.840000033378601, 1.840000033378601, 1.840000033378601, 1.840000033378601, 1.8799999952316284, 1.8799999952316284, 1.8799999952316284, 1.8799999952316284, 1.8799999952316284, 1.8799999952316284, 1.840000033378601, 2.0399999618530273, 2.0299999713897705, 1.9800000190734863, 2.009999990463257, 2.009999990463257, 1.9700000286102295, 1.8899999856948853, 1.850000023841858, 1.899999976158142, 1.7899999618530273, 1.7000000476837158, 1.7000000476837158, 1.6299999952316284, 1.6299999952316284, 1.6299999952316284, 1.6299999952316284, 1.6299999952316284, 1.6299999952316284, 1.6299999952316284, 1.6299999952316284, 1.6299999952316284, 1.7899999618530273, 1.7899999618530273, 1.7899999618530273, 1.7899999618530273, 1.7899999618530273, 1.7899999618530273, 1.7899999618530273, 1.7899999618530273, 1.7899999618530273, 1.7899999618530273, 1.7899999618530273, 1.7899999618530273, 1.7899999618530273, 1.7899999618530273, 1.7899999618530273, 1.7999999523162842, 1.7999999523162842, 1.7999999523162842, 1.899999976158142, 1.899999976158142, 1.899999976158142, 1.899999976158142, 1.899999976158142, 1.899999976158142, 1.899999976158142, 1.8799999952316284, 1.8799999952316284, 1.8799999952316284, 1.8799999952316284, 1.8799999952316284, 1.8799999952316284, 1.8799999952316284, 1.8799999952316284, 1.8799999952316284, 1.8799999952316284, 1.8799999952316284, 1.8799999952316284, 1.7799999713897705, 1.7799999713897705, 1.9800000190734863, 1.9700000286102295, 1.9700000286102295, 1.9700000286102295, 1.9700000286102295, 1.9700000286102295, 1.9700000286102295, 1.9700000286102295, 1.9600000381469727, 1.8300000429153442, 1.8200000524520874, 1.8200000524520874, 1.8200000524520874, 1.7999999523162842, 1.7999999523162842, 1.7999999523162842, 1.7999999523162842, 1.7999999523162842, 1.7999999523162842, 2.0, 2.0, 2.0, 2.0, 2.0, 2.0, 2.0, 2.0, 1.9199999570846558, 1.9199999570846558, 1.9199999570846558, 1.9199999570846558, 1.9199999570846558, 1.9199999570846558, 1.9199999570846558, 1.9199999570846558, 1.9199999570846558, 1.9199999570846558, 1.9199999570846558, 1.8799999952316284, 1.8799999952316284, 1.8799999952316284, 1.8799999952316284, 1.8799999952316284, 2.049999952316284, 2.0399999618530273, 2.0999999046325684, 2.0999999046325684, 2.0799999237060547, 2.0799999237060547, 2.0399999618530273, 2.0399999618530273, 2.0299999713897705, 2.0399999618530273, 1.9900000095367432, 2.009999990463257, 2.3299999237060547, 2.3299999237060547, 2.3299999237060547, 2.3299999237060547, 2.109999895095825, 2.109999895095825, 2.119999885559082, 2.119999885559082, 2.119999885559082, 2.119999885559082, 2.119999885559082, 2.119999885559082, 2.0, 2.0, 1.940000057220459, 1.9299999475479126, 1.9299999475479126, 1.9600000381469727, 1.8799999952316284, 1.8799999952316284, 1.899999976158142, 1.75, 1.7300000190734863, 1.7400000095367432, 1.7400000095367432, 1.7400000095367432, 1.7400000095367432, 1.7400000095367432, 1.8700000047683716, 1.7899999618530273, 1.7899999618530273, 1.7899999618530273, 1.909999966621399, 1.899999976158142, 1.899999976158142, 1.899999976158142, 1.899999976158142, 1.899999976158142, 1.899999976158142, 1.7000000476837158, 1.6100000143051147, 1.6100000143051147, 1.5800000429153442, 1.5800000429153442, 1.5800000429153442, 1.5800000429153442, 1.5800000429153442, 1.5800000429153442, 1.5700000524520874, 1.5199999809265137, 1.4900000095367432, 1.4900000095367432, 1.3899999856948853, 1.3899999856948853, 1.3899999856948853, 1.4600000381469727, 1.4299999475479126, 1.5, 1.5, 1.4199999570846558, 1.409999966621399, 1.399999976158142, 1.399999976158142, 1.399999976158142, 1.399999976158142, 1.350000023841858, 1.5199999809265137, 1.4900000095367432, 1.2899999618530273, 1.2899999618530273, 1.2899999618530273, 1.2899999618530273, 1.2899999618530273, 1.3700000047683716, 1.3700000047683716, 1.399999976158142, 1.399999976158142, 1.340000033378601, 1.399999976158142, 1.3600000143051147, 1.399999976158142, 1.3799999952316284, 1.5, 1.4800000190734863, 1.4800000190734863, 1.399999976158142, 1.399999976158142, 1.350000023841858, 1.350000023841858, 1.340000033378601, 1.340000033378601, 1.340000033378601, 1.340000033378601, 1.340000033378601, 1.340000033378601, 1.340000033378601, 1.4800000190734863, 1.4800000190734863, 1.2599999904632568, 1.2599999904632568, 1.399999976158142, 1.2799999713897705, 1.2799999713897705, 1.2799999713897705, 1.5099999904632568, 1.4800000190734863, 1.4800000190734863, 1.4800000190734863, 1.4800000190734863, 1.4800000190734863, 1.4800000190734863, 1.350000023841858, 1.350000023841858, 1.340000033378601, 1.340000033378601, 1.340000033378601, 1.340000033378601, 1.340000033378601, 1.4800000190734863, 1.4800000190734863, 1.4800000190734863, 1.4800000190734863, 1.4800000190734863, 1.4800000190734863, 1.4800000190734863, 1.4800000190734863, 1.4800000190734863, 1.4800000190734863, 1.8300000429153442, 1.5800000429153442, 1.9600000381469727, 1.899999976158142, 1.8700000047683716, 1.850000023841858, 1.8700000047683716, 1.8700000047683716, 1.5700000524520874, 1.5700000524520874, 1.7699999809265137, 1.7699999809265137, 1.7699999809265137, 1.7699999809265137, 1.6299999952316284, 1.6299999952316284, 1.6299999952316284, 1.6299999952316284, 1.6299999952316284, 1.6299999952316284, 1.9600000381469727, 2.0399999618530273, 2.0399999618530273, 2.0399999618530273, 2.4000000953674316, 2.5299999713897705, 2.569999933242798, 2.5399999618530273, 2.5399999618530273, 2.609999895095825, 2.5799999237060547, 2.5799999237060547, 2.3399999141693115, 2.5399999618530273, 2.2699999809265137, 2.509999990463257, 2.4200000762939453, 2.609999895095825, 2.450000047683716, 2.3499999046325684, 2.359999895095825, 2.490000009536743, 2.450000047683716, 2.6500000953674316, 2.8399999141693115, 2.6700000762939453, 2.6700000762939453, 2.5999999046325684, 2.380000114440918, 2.5, 2.5, 2.450000047683716, 2.5899999141693115, 2.4200000762939453, 2.3299999237060547, 2.3299999237060547, 2.140000104904175, 2.299999952316284, 2.3499999046325684, 2.5899999141693115, 2.5999999046325684, 2.4800000190734863, 2.2699999809265137, 2.759999990463257, 2.75, 2.8299999237060547, 2.7300000190734863, 2.7300000190734863, 2.630000114440918, 2.630000114440918, 2.9200000762939453, 2.940000057220459, 2.799999952316284, 2.809999942779541, 2.809999942779541, 2.809999942779541, 2.75, 2.990000009536743, 2.9200000762939453, 2.9200000762939453, 2.940000057220459, 3.130000114440918, 3.200000047683716, 2.9600000381469727, 2.9600000381469727, 3.450000047683716, 3.869999885559082, 3.880000114440918, 4.230000019073486, 4.230000019073486, 3.819999933242798, 3.75, 3.75, 4.090000152587891, 4.360000133514404, 4.420000076293945, 4.769999980926514, 4.659999847412109, 5.389999866485596, 5.449999809265137, 4.849999904632568, 4.840000152587891, 4.920000076293945, 4.920000076293945, 4.699999809265137, 4.690000057220459, 4.690000057220459, 4.699999809265137, 4.570000171661377, 4.599999904632568, 4.400000095367432, 4.5, 4.590000152587891, 4.670000076293945, 4.800000190734863, 5.230000019073486, 5.119999885559082, 5.199999809265137, 5.03000020980835, 5.260000228881836, 5.230000019073486, 5.230000019073486, 5.849999904632568, 6.079999923706055, 6.170000076293945, 6.550000190734863, 6.300000190734863, 6.300000190734863, 6.989999771118164, 7.070000171661377, 6.849999904632568, 6.78000020980835, 7.079999923706055, 6.800000190734863, 6.480000019073486, 6.389999866485596, 6.599999904632568, 6.900000095367432, 6.730000019073486, 6.769999980926514, 6.300000190734863, 5.800000190734863, 5.539999961853027, 5.119999885559082, 5.269999980926514, 5.28000020980835, 5.099999904632568, 4.800000190734863, 4.929999828338623, 5.0, 4.900000095367432, 4.989999771118164, 4.96999979019165, 5.050000190734863, 5.679999828338623, 5.739999771118164, 5.860000133514404], \"low\": [1.9500000476837158, 1.9500000476837158, 1.9500000476837158, 1.9500000476837158, 1.9500000476837158, 1.9500000476837158, 1.9500000476837158, 2.0, 2.0, 2.0, 2.0, 2.0, 2.0, 2.0, 2.0, 2.0, 2.0, 2.0, 2.0, 2.0, 1.9900000095367432, 1.9900000095367432, 1.9800000190734863, 1.9800000190734863, 1.9800000190734863, 1.9800000190734863, 1.9800000190734863, 1.9800000190734863, 1.9800000190734863, 2.0, 2.0, 2.0, 2.0, 1.9900000095367432, 1.9900000095367432, 1.9900000095367432, 1.9900000095367432, 1.9900000095367432, 1.9900000095367432, 1.9900000095367432, 2.059999942779541, 2.059999942779541, 2.059999942779541, 2.059999942779541, 2.059999942779541, 2.059999942779541, 2.059999942779541, 2.0899999141693115, 2.0899999141693115, 2.0899999141693115, 2.0899999141693115, 2.0899999141693115, 2.0899999141693115, 2.0899999141693115, 2.0899999141693115, 2.0899999141693115, 2.0899999141693115, 1.9900000095367432, 2.059999942779541, 2.059999942779541, 2.0799999237060547, 2.140000104904175, 2.140000104904175, 2.369999885559082, 2.390000104904175, 2.390000104904175, 2.390000104904175, 2.390000104904175, 2.390000104904175, 2.390000104904175, 2.390000104904175, 2.390000104904175, 2.390000104904175, 2.390000104904175, 2.390000104904175, 2.390000104904175, 2.390000104904175, 2.390000104904175, 2.390000104904175, 2.200000047683716, 2.299999952316284, 2.299999952316284, 2.299999952316284, 2.299999952316284, 2.299999952316284, 2.1600000858306885, 2.1600000858306885, 2.1600000858306885, 2.1600000858306885, 2.059999942779541, 2.069999933242798, 1.909999966621399, 1.909999966621399, 1.909999966621399, 1.940000057220459, 1.940000057220459, 1.940000057220459, 1.940000057220459, 1.940000057220459, 1.940000057220459, 1.940000057220459, 1.940000057220459, 1.7899999618530273, 1.7899999618530273, 1.7899999618530273, 1.7899999618530273, 1.7899999618530273, 1.7899999618530273, 1.7899999618530273, 1.7899999618530273, 1.8300000429153442, 1.8300000429153442, 1.8300000429153442, 1.8300000429153442, 1.8799999952316284, 1.840000033378601, 1.840000033378601, 1.840000033378601, 1.840000033378601, 1.840000033378601, 1.840000033378601, 1.840000033378601, 1.840000033378601, 1.840000033378601, 1.840000033378601, 1.840000033378601, 1.840000033378601, 1.840000033378601, 1.840000033378601, 1.840000033378601, 1.8799999952316284, 1.8799999952316284, 1.8799999952316284, 1.8799999952316284, 1.8799999952316284, 1.8799999952316284, 1.840000033378601, 2.0, 1.9800000190734863, 1.9800000190734863, 1.9800000190734863, 2.009999990463257, 1.8600000143051147, 1.850000023841858, 1.850000023841858, 1.850000023841858, 1.7899999618530273, 1.7000000476837158, 1.7000000476837158, 1.6299999952316284, 1.6299999952316284, 1.6299999952316284, 1.6299999952316284, 1.6299999952316284, 1.6299999952316284, 1.6299999952316284, 1.6299999952316284, 1.6299999952316284, 1.7400000095367432, 1.7899999618530273, 1.7899999618530273, 1.7899999618530273, 1.7899999618530273, 1.7899999618530273, 1.7899999618530273, 1.7899999618530273, 1.7899999618530273, 1.7899999618530273, 1.7899999618530273, 1.7899999618530273, 1.7899999618530273, 1.7899999618530273, 1.7899999618530273, 1.7699999809265137, 1.7999999523162842, 1.7999999523162842, 1.899999976158142, 1.899999976158142, 1.899999976158142, 1.899999976158142, 1.899999976158142, 1.899999976158142, 1.899999976158142, 1.8799999952316284, 1.8799999952316284, 1.8799999952316284, 1.8799999952316284, 1.8799999952316284, 1.8799999952316284, 1.8799999952316284, 1.8799999952316284, 1.8799999952316284, 1.8799999952316284, 1.8799999952316284, 1.8799999952316284, 1.7799999713897705, 1.7799999713897705, 1.940000057220459, 1.9700000286102295, 1.9700000286102295, 1.9700000286102295, 1.9700000286102295, 1.9700000286102295, 1.9700000286102295, 1.9700000286102295, 1.850000023841858, 1.8300000429153442, 1.8200000524520874, 1.8200000524520874, 1.8200000524520874, 1.7899999618530273, 1.7999999523162842, 1.7999999523162842, 1.7999999523162842, 1.7999999523162842, 1.7999999523162842, 2.0, 2.0, 2.0, 2.0, 2.0, 2.0, 2.0, 2.0, 1.9199999570846558, 1.9199999570846558, 1.9199999570846558, 1.9199999570846558, 1.9199999570846558, 1.9199999570846558, 1.9199999570846558, 1.9199999570846558, 1.9199999570846558, 1.9199999570846558, 1.9199999570846558, 1.8300000429153442, 1.8799999952316284, 1.8799999952316284, 1.8799999952316284, 1.8799999952316284, 1.940000057220459, 2.0399999618530273, 2.0999999046325684, 2.0999999046325684, 2.0799999237060547, 2.0799999237060547, 2.0399999618530273, 2.0399999618530273, 1.8799999952316284, 2.0399999618530273, 1.940000057220459, 2.009999990463257, 2.1700000762939453, 2.3299999237060547, 2.3299999237060547, 2.3299999237060547, 2.109999895095825, 2.109999895095825, 2.119999885559082, 2.119999885559082, 2.119999885559082, 2.119999885559082, 2.119999885559082, 2.119999885559082, 1.9299999475479126, 1.9299999475479126, 1.9299999475479126, 1.9299999475479126, 1.9299999475479126, 1.9600000381469727, 1.8799999952316284, 1.8799999952316284, 1.7999999523162842, 1.7300000190734863, 1.7300000190734863, 1.7400000095367432, 1.7400000095367432, 1.7400000095367432, 1.7400000095367432, 1.7400000095367432, 1.8200000524520874, 1.7899999618530273, 1.7899999618530273, 1.7899999618530273, 1.8899999856948853, 1.899999976158142, 1.899999976158142, 1.899999976158142, 1.899999976158142, 1.899999976158142, 1.899999976158142, 1.7000000476837158, 1.6100000143051147, 1.6100000143051147, 1.5800000429153442, 1.5800000429153442, 1.5800000429153442, 1.5800000429153442, 1.5800000429153442, 1.5800000429153442, 1.5700000524520874, 1.5199999809265137, 1.4900000095367432, 1.4900000095367432, 1.3899999856948853, 1.3899999856948853, 1.3899999856948853, 1.4299999475479126, 1.4299999475479126, 1.2799999713897705, 1.5, 1.4199999570846558, 1.409999966621399, 1.399999976158142, 1.399999976158142, 1.399999976158142, 1.399999976158142, 1.350000023841858, 1.5, 1.409999966621399, 1.2899999618530273, 1.2899999618530273, 1.2899999618530273, 1.2899999618530273, 1.2899999618530273, 1.3700000047683716, 1.3700000047683716, 1.399999976158142, 1.340000033378601, 1.2799999713897705, 1.350000023841858, 1.3600000143051147, 1.2999999523162842, 1.3799999952316284, 1.5, 1.4800000190734863, 1.4800000190734863, 1.2100000381469727, 1.399999976158142, 1.350000023841858, 1.350000023841858, 1.340000033378601, 1.340000033378601, 1.340000033378601, 1.340000033378601, 1.340000033378601, 1.340000033378601, 1.340000033378601, 1.3600000143051147, 1.4700000286102295, 1.2599999904632568, 1.2599999904632568, 1.2599999904632568, 1.2799999713897705, 1.2799999713897705, 1.2799999713897705, 1.399999976158142, 1.4800000190734863, 1.4800000190734863, 1.4800000190734863, 1.4800000190734863, 1.4800000190734863, 1.4800000190734863, 1.350000023841858, 1.350000023841858, 1.340000033378601, 1.340000033378601, 1.340000033378601, 1.340000033378601, 1.340000033378601, 1.4800000190734863, 1.4800000190734863, 1.4800000190734863, 1.4800000190734863, 1.4800000190734863, 1.4800000190734863, 1.4800000190734863, 1.4800000190734863, 1.4800000190734863, 1.4800000190734863, 1.5800000429153442, 1.5800000429153442, 1.9500000476837158, 1.8700000047683716, 1.8700000047683716, 1.850000023841858, 1.8700000047683716, 1.8700000047683716, 1.5700000524520874, 1.5700000524520874, 1.7699999809265137, 1.7699999809265137, 1.7699999809265137, 1.7699999809265137, 1.6299999952316284, 1.6299999952316284, 1.6299999952316284, 1.6299999952316284, 1.6299999952316284, 1.6299999952316284, 1.9600000381469727, 1.9600000381469727, 2.0399999618530273, 2.0399999618530273, 2.1700000762939453, 2.319999933242798, 2.4700000286102295, 2.25, 2.5399999618530273, 2.549999952316284, 2.5799999237060547, 2.5799999237060547, 2.3399999141693115, 2.5399999618530273, 2.2699999809265137, 2.509999990463257, 2.4200000762939453, 2.4600000381469727, 2.3499999046325684, 2.3499999046325684, 2.359999895095825, 2.490000009536743, 2.4000000953674316, 2.3399999141693115, 2.6700000762939453, 2.6700000762939453, 2.6700000762939453, 2.549999952316284, 2.200000047683716, 2.359999895095825, 2.490000009536743, 2.450000047683716, 2.4200000762939453, 2.4200000762939453, 2.109999895095825, 2.3299999237060547, 2.140000104904175, 2.2799999713897705, 2.3499999046325684, 2.5, 2.440000057220459, 2.4800000190734863, 2.2699999809265137, 2.4600000381469727, 2.75, 2.6600000858306885, 2.630000114440918, 2.7300000190734863, 2.609999895095825, 2.630000114440918, 2.9200000762939453, 2.799999952316284, 2.799999952316284, 2.630000114440918, 2.809999942779541, 2.809999942779541, 2.75, 2.869999885559082, 2.9200000762939453, 2.9200000762939453, 2.940000057220459, 3.130000114440918, 3.200000047683716, 2.9600000381469727, 2.9600000381469727, 3.259999990463257, 3.6500000953674316, 3.799999952316284, 4.230000019073486, 3.9000000953674316, 3.6600000858306885, 3.75, 3.75, 3.8499999046325684, 4.179999828338623, 4.420000076293945, 4.659999847412109, 4.659999847412109, 5.150000095367432, 5.0, 4.809999942779541, 4.840000152587891, 4.519999980926514, 4.699999809265137, 4.699999809265137, 4.690000057220459, 4.690000057220459, 4.570000171661377, 4.570000171661377, 4.289999961853027, 4.400000095367432, 4.5, 4.329999923706055, 4.670000076293945, 4.800000190734863, 4.989999771118164, 5.119999885559082, 5.199999809265137, 5.0, 5.230000019073486, 5.230000019073486, 5.230000019073486, 5.730000019073486, 5.849999904632568, 5.690000057220459, 6.300000190734863, 6.300000190734863, 6.300000190734863, 6.650000095367432, 6.699999809265137, 6.800000190734863, 6.78000020980835, 7.010000228881836, 6.5, 6.480000019073486, 6.03000020980835, 6.070000171661377, 6.480000019073486, 6.599999904632568, 6.550000190734863, 6.0, 5.53000020980835, 5.070000171661377, 5.0, 5.269999980926514, 5.079999923706055, 5.099999904632568, 4.380000114440918, 4.590000152587891, 5.0, 4.900000095367432, 4.739999771118164, 4.96999979019165, 4.96999979019165, 5.519999980926514, 5.570000171661377, 5.755000114440918], \"name\": \"CICOY\", \"open\": [1.9500000476837158, 1.9500000476837158, 1.9500000476837158, 1.9500000476837158, 1.9500000476837158, 1.9500000476837158, 1.9500000476837158, 2.0, 2.0, 2.0, 2.0, 2.0, 2.0, 2.0, 2.0, 2.0, 2.0, 2.0, 2.0, 2.0, 1.9900000095367432, 1.9900000095367432, 1.9800000190734863, 1.9800000190734863, 1.9800000190734863, 1.9800000190734863, 1.9800000190734863, 1.9800000190734863, 1.9800000190734863, 2.0, 2.0, 2.0, 2.0, 1.9900000095367432, 1.9900000095367432, 1.9900000095367432, 1.9900000095367432, 1.9900000095367432, 1.9900000095367432, 1.9900000095367432, 2.059999942779541, 2.059999942779541, 2.059999942779541, 2.059999942779541, 2.059999942779541, 2.059999942779541, 2.059999942779541, 2.0899999141693115, 2.0899999141693115, 2.0899999141693115, 2.0899999141693115, 2.0899999141693115, 2.0899999141693115, 2.0899999141693115, 2.0899999141693115, 2.0899999141693115, 2.0899999141693115, 1.9900000095367432, 2.059999942779541, 2.059999942779541, 2.0799999237060547, 2.140000104904175, 2.140000104904175, 2.369999885559082, 2.390000104904175, 2.390000104904175, 2.390000104904175, 2.390000104904175, 2.390000104904175, 2.390000104904175, 2.390000104904175, 2.390000104904175, 2.390000104904175, 2.390000104904175, 2.390000104904175, 2.390000104904175, 2.390000104904175, 2.390000104904175, 2.390000104904175, 2.200000047683716, 2.299999952316284, 2.299999952316284, 2.299999952316284, 2.299999952316284, 2.299999952316284, 2.1600000858306885, 2.1600000858306885, 2.1600000858306885, 2.1600000858306885, 2.059999942779541, 2.069999933242798, 1.909999966621399, 1.909999966621399, 1.909999966621399, 1.940000057220459, 1.940000057220459, 1.940000057220459, 1.940000057220459, 1.940000057220459, 1.940000057220459, 1.940000057220459, 1.940000057220459, 1.7899999618530273, 1.7899999618530273, 1.7899999618530273, 1.7899999618530273, 1.7899999618530273, 1.7899999618530273, 1.7899999618530273, 1.7899999618530273, 1.8300000429153442, 1.8300000429153442, 1.8300000429153442, 1.8300000429153442, 1.8799999952316284, 1.840000033378601, 1.840000033378601, 1.840000033378601, 1.840000033378601, 1.840000033378601, 1.840000033378601, 1.840000033378601, 1.840000033378601, 1.840000033378601, 1.840000033378601, 1.840000033378601, 1.840000033378601, 1.840000033378601, 1.840000033378601, 1.840000033378601, 1.8799999952316284, 1.8799999952316284, 1.8799999952316284, 1.8799999952316284, 1.8799999952316284, 1.8799999952316284, 1.840000033378601, 2.0399999618530273, 2.0199999809265137, 1.9800000190734863, 1.9800000190734863, 2.009999990463257, 1.9700000286102295, 1.850000023841858, 1.850000023841858, 1.899999976158142, 1.7899999618530273, 1.7000000476837158, 1.7000000476837158, 1.6299999952316284, 1.6299999952316284, 1.6299999952316284, 1.6299999952316284, 1.6299999952316284, 1.6299999952316284, 1.6299999952316284, 1.6299999952316284, 1.6299999952316284, 1.7400000095367432, 1.7899999618530273, 1.7899999618530273, 1.7899999618530273, 1.7899999618530273, 1.7899999618530273, 1.7899999618530273, 1.7899999618530273, 1.7899999618530273, 1.7899999618530273, 1.7899999618530273, 1.7899999618530273, 1.7899999618530273, 1.7899999618530273, 1.7899999618530273, 1.7699999809265137, 1.7999999523162842, 1.7999999523162842, 1.899999976158142, 1.899999976158142, 1.899999976158142, 1.899999976158142, 1.899999976158142, 1.899999976158142, 1.899999976158142, 1.8799999952316284, 1.8799999952316284, 1.8799999952316284, 1.8799999952316284, 1.8799999952316284, 1.8799999952316284, 1.8799999952316284, 1.8799999952316284, 1.8799999952316284, 1.8799999952316284, 1.8799999952316284, 1.8799999952316284, 1.7799999713897705, 1.7799999713897705, 1.940000057220459, 1.9700000286102295, 1.9700000286102295, 1.9700000286102295, 1.9700000286102295, 1.9700000286102295, 1.9700000286102295, 1.9700000286102295, 1.9600000381469727, 1.8300000429153442, 1.8200000524520874, 1.8200000524520874, 1.8200000524520874, 1.7999999523162842, 1.7999999523162842, 1.7999999523162842, 1.7999999523162842, 1.7999999523162842, 1.7999999523162842, 2.0, 2.0, 2.0, 2.0, 2.0, 2.0, 2.0, 2.0, 1.9199999570846558, 1.9199999570846558, 1.9199999570846558, 1.9199999570846558, 1.9199999570846558, 1.9199999570846558, 1.9199999570846558, 1.9199999570846558, 1.9199999570846558, 1.9199999570846558, 1.9199999570846558, 1.8300000429153442, 1.8799999952316284, 1.8799999952316284, 1.8799999952316284, 1.8799999952316284, 1.940000057220459, 2.0399999618530273, 2.0999999046325684, 2.0999999046325684, 2.0799999237060547, 2.0799999237060547, 2.0399999618530273, 2.0399999618530273, 1.8799999952316284, 2.0399999618530273, 1.9900000095367432, 2.009999990463257, 2.2699999809265137, 2.3299999237060547, 2.3299999237060547, 2.3299999237060547, 2.109999895095825, 2.109999895095825, 2.119999885559082, 2.119999885559082, 2.119999885559082, 2.119999885559082, 2.119999885559082, 2.119999885559082, 2.0, 1.9299999475479126, 1.940000057220459, 1.9299999475479126, 1.9299999475479126, 1.9600000381469727, 1.8799999952316284, 1.8799999952316284, 1.850000023841858, 1.75, 1.7300000190734863, 1.7400000095367432, 1.7400000095367432, 1.7400000095367432, 1.7400000095367432, 1.7400000095367432, 1.8700000047683716, 1.7899999618530273, 1.7899999618530273, 1.7899999618530273, 1.8899999856948853, 1.899999976158142, 1.899999976158142, 1.899999976158142, 1.899999976158142, 1.899999976158142, 1.899999976158142, 1.7000000476837158, 1.6100000143051147, 1.6100000143051147, 1.5800000429153442, 1.5800000429153442, 1.5800000429153442, 1.5800000429153442, 1.5800000429153442, 1.5800000429153442, 1.5700000524520874, 1.5199999809265137, 1.4900000095367432, 1.4900000095367432, 1.3899999856948853, 1.3899999856948853, 1.3899999856948853, 1.4600000381469727, 1.4299999475479126, 1.2799999713897705, 1.5, 1.4199999570846558, 1.409999966621399, 1.399999976158142, 1.399999976158142, 1.399999976158142, 1.399999976158142, 1.350000023841858, 1.5, 1.409999966621399, 1.2899999618530273, 1.2899999618530273, 1.2899999618530273, 1.2899999618530273, 1.2899999618530273, 1.3700000047683716, 1.3700000047683716, 1.399999976158142, 1.340000033378601, 1.340000033378601, 1.350000023841858, 1.3600000143051147, 1.3899999856948853, 1.3799999952316284, 1.5, 1.4800000190734863, 1.4800000190734863, 1.2100000381469727, 1.399999976158142, 1.350000023841858, 1.350000023841858, 1.340000033378601, 1.340000033378601, 1.340000033378601, 1.340000033378601, 1.340000033378601, 1.340000033378601, 1.340000033378601, 1.3600000143051147, 1.4800000190734863, 1.2599999904632568, 1.2599999904632568, 1.2599999904632568, 1.2799999713897705, 1.2799999713897705, 1.2799999713897705, 1.4600000381469727, 1.4800000190734863, 1.4800000190734863, 1.4800000190734863, 1.4800000190734863, 1.4800000190734863, 1.4800000190734863, 1.350000023841858, 1.350000023841858, 1.340000033378601, 1.340000033378601, 1.340000033378601, 1.340000033378601, 1.340000033378601, 1.4800000190734863, 1.4800000190734863, 1.4800000190734863, 1.4800000190734863, 1.4800000190734863, 1.4800000190734863, 1.4800000190734863, 1.4800000190734863, 1.4800000190734863, 1.4800000190734863, 1.8300000429153442, 1.5800000429153442, 1.9600000381469727, 1.899999976158142, 1.8700000047683716, 1.850000023841858, 1.8700000047683716, 1.8700000047683716, 1.5700000524520874, 1.5700000524520874, 1.7699999809265137, 1.7699999809265137, 1.7699999809265137, 1.7699999809265137, 1.6299999952316284, 1.6299999952316284, 1.6299999952316284, 1.6299999952316284, 1.6299999952316284, 1.6299999952316284, 1.9600000381469727, 1.9600000381469727, 2.0399999618530273, 2.0399999618530273, 2.4000000953674316, 2.5299999713897705, 2.4700000286102295, 2.509999990463257, 2.5399999618530273, 2.549999952316284, 2.5799999237060547, 2.5799999237060547, 2.3399999141693115, 2.5399999618530273, 2.2699999809265137, 2.509999990463257, 2.4200000762939453, 2.4600000381469727, 2.450000047683716, 2.3499999046325684, 2.359999895095825, 2.490000009536743, 2.4000000953674316, 2.3399999141693115, 2.8399999141693115, 2.6700000762939453, 2.6700000762939453, 2.5999999046325684, 2.200000047683716, 2.5, 2.5, 2.450000047683716, 2.5899999141693115, 2.4200000762939453, 2.109999895095825, 2.3299999237060547, 2.140000104904175, 2.2899999618530273, 2.3499999046325684, 2.5899999141693115, 2.5999999046325684, 2.4800000190734863, 2.2699999809265137, 2.759999990463257, 2.75, 2.8299999237060547, 2.630000114440918, 2.7300000190734863, 2.609999895095825, 2.630000114440918, 2.9200000762939453, 2.940000057220459, 2.799999952316284, 2.630000114440918, 2.809999942779541, 2.809999942779541, 2.75, 2.990000009536743, 2.9200000762939453, 2.9200000762939453, 2.940000057220459, 3.130000114440918, 3.200000047683716, 2.9600000381469727, 2.9600000381469727, 3.259999990463257, 3.6600000858306885, 3.880000114440918, 4.230000019073486, 4.110000133514404, 3.799999952316284, 3.75, 3.75, 3.8499999046325684, 4.179999828338623, 4.420000076293945, 4.769999980926514, 4.659999847412109, 5.150000095367432, 5.449999809265137, 4.809999942779541, 4.840000152587891, 4.920000076293945, 4.789999961853027, 4.699999809265137, 4.690000057220459, 4.690000057220459, 4.699999809265137, 4.570000171661377, 4.289999961853027, 4.400000095367432, 4.5, 4.590000152587891, 4.670000076293945, 4.800000190734863, 4.989999771118164, 5.119999885559082, 5.199999809265137, 5.0, 5.260000228881836, 5.230000019073486, 5.230000019073486, 5.849999904632568, 6.079999923706055, 5.960000038146973, 6.550000190734863, 6.300000190734863, 6.300000190734863, 6.75, 6.849999904632568, 6.849999904632568, 6.78000020980835, 7.079999923706055, 6.699999809265137, 6.480000019073486, 6.389999866485596, 6.070000171661377, 6.900000095367432, 6.599999904632568, 6.769999980926514, 6.300000190734863, 5.53000020980835, 5.070000171661377, 5.0, 5.269999980926514, 5.28000020980835, 5.099999904632568, 4.800000190734863, 4.590000152587891, 5.0, 4.900000095367432, 4.739999771118164, 4.96999979019165, 4.989999771118164, 5.679999828338623, 5.610000133514404, 5.755000114440918], \"showlegend\": false, \"type\": \"candlestick\", \"x\": [\"2019-01-02T00:00:00\", \"2019-01-03T00:00:00\", \"2019-01-04T00:00:00\", \"2019-01-07T00:00:00\", \"2019-01-08T00:00:00\", \"2019-01-09T00:00:00\", \"2019-01-10T00:00:00\", \"2019-01-11T00:00:00\", \"2019-01-14T00:00:00\", \"2019-01-15T00:00:00\", \"2019-01-16T00:00:00\", \"2019-01-17T00:00:00\", \"2019-01-18T00:00:00\", \"2019-01-22T00:00:00\", \"2019-01-23T00:00:00\", \"2019-01-24T00:00:00\", \"2019-01-25T00:00:00\", \"2019-01-28T00:00:00\", \"2019-01-29T00:00:00\", \"2019-01-30T00:00:00\", \"2019-01-31T00:00:00\", \"2019-02-01T00:00:00\", \"2019-02-04T00:00:00\", \"2019-02-05T00:00:00\", \"2019-02-06T00:00:00\", \"2019-02-07T00:00:00\", \"2019-02-08T00:00:00\", \"2019-02-11T00:00:00\", \"2019-02-12T00:00:00\", \"2019-02-13T00:00:00\", \"2019-02-14T00:00:00\", \"2019-02-15T00:00:00\", \"2019-02-19T00:00:00\", \"2019-02-20T00:00:00\", \"2019-02-21T00:00:00\", \"2019-02-22T00:00:00\", \"2019-02-25T00:00:00\", \"2019-02-26T00:00:00\", \"2019-02-27T00:00:00\", \"2019-02-28T00:00:00\", \"2019-03-01T00:00:00\", \"2019-03-04T00:00:00\", \"2019-03-05T00:00:00\", \"2019-03-06T00:00:00\", \"2019-03-07T00:00:00\", \"2019-03-08T00:00:00\", \"2019-03-11T00:00:00\", \"2019-03-12T00:00:00\", \"2019-03-13T00:00:00\", \"2019-03-14T00:00:00\", \"2019-03-15T00:00:00\", \"2019-03-18T00:00:00\", \"2019-03-19T00:00:00\", \"2019-03-20T00:00:00\", \"2019-03-21T00:00:00\", \"2019-03-22T00:00:00\", \"2019-03-25T00:00:00\", \"2019-03-26T00:00:00\", \"2019-03-27T00:00:00\", \"2019-03-28T00:00:00\", \"2019-03-29T00:00:00\", \"2019-04-01T00:00:00\", \"2019-04-02T00:00:00\", \"2019-04-03T00:00:00\", \"2019-04-04T00:00:00\", \"2019-04-05T00:00:00\", \"2019-04-08T00:00:00\", \"2019-04-09T00:00:00\", \"2019-04-10T00:00:00\", \"2019-04-11T00:00:00\", \"2019-04-12T00:00:00\", \"2019-04-15T00:00:00\", \"2019-04-16T00:00:00\", \"2019-04-17T00:00:00\", \"2019-04-18T00:00:00\", \"2019-04-22T00:00:00\", \"2019-04-23T00:00:00\", \"2019-04-24T00:00:00\", \"2019-04-25T00:00:00\", \"2019-04-26T00:00:00\", \"2019-04-29T00:00:00\", \"2019-04-30T00:00:00\", \"2019-05-01T00:00:00\", \"2019-05-02T00:00:00\", \"2019-05-03T00:00:00\", \"2019-05-06T00:00:00\", \"2019-05-07T00:00:00\", \"2019-05-08T00:00:00\", \"2019-05-09T00:00:00\", \"2019-05-10T00:00:00\", \"2019-05-13T00:00:00\", \"2019-05-14T00:00:00\", \"2019-05-15T00:00:00\", \"2019-05-16T00:00:00\", \"2019-05-17T00:00:00\", \"2019-05-20T00:00:00\", \"2019-05-21T00:00:00\", \"2019-05-22T00:00:00\", \"2019-05-23T00:00:00\", \"2019-05-24T00:00:00\", \"2019-05-28T00:00:00\", \"2019-05-29T00:00:00\", \"2019-05-30T00:00:00\", \"2019-05-31T00:00:00\", \"2019-06-03T00:00:00\", \"2019-06-04T00:00:00\", \"2019-06-05T00:00:00\", \"2019-06-06T00:00:00\", \"2019-06-07T00:00:00\", \"2019-06-10T00:00:00\", \"2019-06-11T00:00:00\", \"2019-06-12T00:00:00\", \"2019-06-13T00:00:00\", \"2019-06-14T00:00:00\", \"2019-06-17T00:00:00\", \"2019-06-18T00:00:00\", \"2019-06-19T00:00:00\", \"2019-06-20T00:00:00\", \"2019-06-21T00:00:00\", \"2019-06-24T00:00:00\", \"2019-06-25T00:00:00\", \"2019-06-26T00:00:00\", \"2019-06-27T00:00:00\", \"2019-06-28T00:00:00\", \"2019-07-01T00:00:00\", \"2019-07-02T00:00:00\", \"2019-07-03T00:00:00\", \"2019-07-05T00:00:00\", \"2019-07-08T00:00:00\", \"2019-07-09T00:00:00\", \"2019-07-10T00:00:00\", \"2019-07-11T00:00:00\", \"2019-07-12T00:00:00\", \"2019-07-15T00:00:00\", \"2019-07-16T00:00:00\", \"2019-07-17T00:00:00\", \"2019-07-18T00:00:00\", \"2019-07-19T00:00:00\", \"2019-07-22T00:00:00\", \"2019-07-23T00:00:00\", \"2019-07-24T00:00:00\", \"2019-07-25T00:00:00\", \"2019-07-26T00:00:00\", \"2019-07-29T00:00:00\", \"2019-07-30T00:00:00\", \"2019-07-31T00:00:00\", \"2019-08-01T00:00:00\", \"2019-08-02T00:00:00\", \"2019-08-05T00:00:00\", \"2019-08-06T00:00:00\", \"2019-08-07T00:00:00\", \"2019-08-08T00:00:00\", \"2019-08-09T00:00:00\", \"2019-08-12T00:00:00\", \"2019-08-13T00:00:00\", \"2019-08-14T00:00:00\", \"2019-08-15T00:00:00\", \"2019-08-16T00:00:00\", \"2019-08-19T00:00:00\", \"2019-08-20T00:00:00\", \"2019-08-21T00:00:00\", \"2019-08-22T00:00:00\", \"2019-08-23T00:00:00\", \"2019-08-26T00:00:00\", \"2019-08-27T00:00:00\", \"2019-08-28T00:00:00\", \"2019-08-29T00:00:00\", \"2019-08-30T00:00:00\", \"2019-09-03T00:00:00\", \"2019-09-04T00:00:00\", \"2019-09-05T00:00:00\", \"2019-09-06T00:00:00\", \"2019-09-09T00:00:00\", \"2019-09-10T00:00:00\", \"2019-09-11T00:00:00\", \"2019-09-12T00:00:00\", \"2019-09-13T00:00:00\", \"2019-09-16T00:00:00\", \"2019-09-17T00:00:00\", \"2019-09-18T00:00:00\", \"2019-09-19T00:00:00\", \"2019-09-20T00:00:00\", \"2019-09-23T00:00:00\", \"2019-09-24T00:00:00\", \"2019-09-25T00:00:00\", \"2019-09-26T00:00:00\", \"2019-09-27T00:00:00\", \"2019-09-30T00:00:00\", \"2019-10-01T00:00:00\", \"2019-10-02T00:00:00\", \"2019-10-03T00:00:00\", \"2019-10-04T00:00:00\", \"2019-10-07T00:00:00\", \"2019-10-08T00:00:00\", \"2019-10-09T00:00:00\", \"2019-10-10T00:00:00\", \"2019-10-11T00:00:00\", \"2019-10-14T00:00:00\", \"2019-10-15T00:00:00\", \"2019-10-16T00:00:00\", \"2019-10-17T00:00:00\", \"2019-10-18T00:00:00\", \"2019-10-21T00:00:00\", \"2019-10-22T00:00:00\", \"2019-10-23T00:00:00\", \"2019-10-24T00:00:00\", \"2019-10-25T00:00:00\", \"2019-10-28T00:00:00\", \"2019-10-29T00:00:00\", \"2019-10-30T00:00:00\", \"2019-10-31T00:00:00\", \"2019-11-01T00:00:00\", \"2019-11-04T00:00:00\", \"2019-11-05T00:00:00\", \"2019-11-06T00:00:00\", \"2019-11-07T00:00:00\", \"2019-11-08T00:00:00\", \"2019-11-11T00:00:00\", \"2019-11-12T00:00:00\", \"2019-11-13T00:00:00\", \"2019-11-14T00:00:00\", \"2019-11-15T00:00:00\", \"2019-11-18T00:00:00\", \"2019-11-19T00:00:00\", \"2019-11-20T00:00:00\", \"2019-11-21T00:00:00\", \"2019-11-22T00:00:00\", \"2019-11-25T00:00:00\", \"2019-11-26T00:00:00\", \"2019-11-27T00:00:00\", \"2019-11-29T00:00:00\", \"2019-12-02T00:00:00\", \"2019-12-03T00:00:00\", \"2019-12-04T00:00:00\", \"2019-12-05T00:00:00\", \"2019-12-06T00:00:00\", \"2019-12-09T00:00:00\", \"2019-12-10T00:00:00\", \"2019-12-11T00:00:00\", \"2019-12-12T00:00:00\", \"2019-12-13T00:00:00\", \"2019-12-16T00:00:00\", \"2019-12-17T00:00:00\", \"2019-12-18T00:00:00\", \"2019-12-19T00:00:00\", \"2019-12-20T00:00:00\", \"2019-12-23T00:00:00\", \"2019-12-24T00:00:00\", \"2019-12-26T00:00:00\", \"2019-12-27T00:00:00\", \"2019-12-30T00:00:00\", \"2019-12-31T00:00:00\", \"2020-01-02T00:00:00\", \"2020-01-03T00:00:00\", \"2020-01-06T00:00:00\", \"2020-01-07T00:00:00\", \"2020-01-08T00:00:00\", \"2020-01-09T00:00:00\", \"2020-01-10T00:00:00\", \"2020-01-13T00:00:00\", \"2020-01-14T00:00:00\", \"2020-01-15T00:00:00\", \"2020-01-16T00:00:00\", \"2020-01-17T00:00:00\", \"2020-01-21T00:00:00\", \"2020-01-22T00:00:00\", \"2020-01-23T00:00:00\", \"2020-01-24T00:00:00\", \"2020-01-27T00:00:00\", \"2020-01-28T00:00:00\", \"2020-01-29T00:00:00\", \"2020-01-30T00:00:00\", \"2020-01-31T00:00:00\", \"2020-02-03T00:00:00\", \"2020-02-04T00:00:00\", \"2020-02-05T00:00:00\", \"2020-02-06T00:00:00\", \"2020-02-07T00:00:00\", \"2020-02-10T00:00:00\", \"2020-02-11T00:00:00\", \"2020-02-12T00:00:00\", \"2020-02-13T00:00:00\", \"2020-02-14T00:00:00\", \"2020-02-18T00:00:00\", \"2020-02-19T00:00:00\", \"2020-02-20T00:00:00\", \"2020-02-21T00:00:00\", \"2020-02-24T00:00:00\", \"2020-02-25T00:00:00\", \"2020-02-26T00:00:00\", \"2020-02-27T00:00:00\", \"2020-02-28T00:00:00\", \"2020-03-02T00:00:00\", \"2020-03-03T00:00:00\", \"2020-03-04T00:00:00\", \"2020-03-05T00:00:00\", \"2020-03-06T00:00:00\", \"2020-03-09T00:00:00\", \"2020-03-10T00:00:00\", \"2020-03-11T00:00:00\", \"2020-03-12T00:00:00\", \"2020-03-13T00:00:00\", \"2020-03-16T00:00:00\", \"2020-03-17T00:00:00\", \"2020-03-18T00:00:00\", \"2020-03-19T00:00:00\", \"2020-03-20T00:00:00\", \"2020-03-23T00:00:00\", \"2020-03-24T00:00:00\", \"2020-03-25T00:00:00\", \"2020-03-26T00:00:00\", \"2020-03-27T00:00:00\", \"2020-03-30T00:00:00\", \"2020-03-31T00:00:00\", \"2020-04-01T00:00:00\", \"2020-04-02T00:00:00\", \"2020-04-03T00:00:00\", \"2020-04-06T00:00:00\", \"2020-04-07T00:00:00\", \"2020-04-08T00:00:00\", \"2020-04-09T00:00:00\", \"2020-04-13T00:00:00\", \"2020-04-14T00:00:00\", \"2020-04-15T00:00:00\", \"2020-04-16T00:00:00\", \"2020-04-17T00:00:00\", \"2020-04-20T00:00:00\", \"2020-04-21T00:00:00\", \"2020-04-22T00:00:00\", \"2020-04-23T00:00:00\", \"2020-04-24T00:00:00\", \"2020-04-27T00:00:00\", \"2020-04-28T00:00:00\", \"2020-04-29T00:00:00\", \"2020-04-30T00:00:00\", \"2020-05-01T00:00:00\", \"2020-05-04T00:00:00\", \"2020-05-05T00:00:00\", \"2020-05-06T00:00:00\", \"2020-05-07T00:00:00\", \"2020-05-08T00:00:00\", \"2020-05-11T00:00:00\", \"2020-05-12T00:00:00\", \"2020-05-13T00:00:00\", \"2020-05-14T00:00:00\", \"2020-05-15T00:00:00\", \"2020-05-18T00:00:00\", \"2020-05-19T00:00:00\", \"2020-05-20T00:00:00\", \"2020-05-21T00:00:00\", \"2020-05-22T00:00:00\", \"2020-05-26T00:00:00\", \"2020-05-27T00:00:00\", \"2020-05-28T00:00:00\", \"2020-05-29T00:00:00\", \"2020-06-01T00:00:00\", \"2020-06-02T00:00:00\", \"2020-06-03T00:00:00\", \"2020-06-04T00:00:00\", \"2020-06-05T00:00:00\", \"2020-06-08T00:00:00\", \"2020-06-09T00:00:00\", \"2020-06-10T00:00:00\", \"2020-06-11T00:00:00\", \"2020-06-12T00:00:00\", \"2020-06-15T00:00:00\", \"2020-06-16T00:00:00\", \"2020-06-17T00:00:00\", \"2020-06-18T00:00:00\", \"2020-06-19T00:00:00\", \"2020-06-22T00:00:00\", \"2020-06-23T00:00:00\", \"2020-06-24T00:00:00\", \"2020-06-25T00:00:00\", \"2020-06-26T00:00:00\", \"2020-06-29T00:00:00\", \"2020-06-30T00:00:00\", \"2020-07-01T00:00:00\", \"2020-07-02T00:00:00\", \"2020-07-06T00:00:00\", \"2020-07-07T00:00:00\", \"2020-07-08T00:00:00\", \"2020-07-09T00:00:00\", \"2020-07-10T00:00:00\", \"2020-07-13T00:00:00\", \"2020-07-14T00:00:00\", \"2020-07-15T00:00:00\", \"2020-07-16T00:00:00\", \"2020-07-17T00:00:00\", \"2020-07-20T00:00:00\", \"2020-07-21T00:00:00\", \"2020-07-22T00:00:00\", \"2020-07-23T00:00:00\", \"2020-07-24T00:00:00\", \"2020-07-27T00:00:00\", \"2020-07-28T00:00:00\", \"2020-07-29T00:00:00\", \"2020-07-30T00:00:00\", \"2020-07-31T00:00:00\", \"2020-08-03T00:00:00\", \"2020-08-04T00:00:00\", \"2020-08-05T00:00:00\", \"2020-08-06T00:00:00\", \"2020-08-07T00:00:00\", \"2020-08-10T00:00:00\", \"2020-08-11T00:00:00\", \"2020-08-12T00:00:00\", \"2020-08-13T00:00:00\", \"2020-08-14T00:00:00\", \"2020-08-17T00:00:00\", \"2020-08-18T00:00:00\", \"2020-08-19T00:00:00\", \"2020-08-20T00:00:00\", \"2020-08-21T00:00:00\", \"2020-08-24T00:00:00\", \"2020-08-25T00:00:00\", \"2020-08-26T00:00:00\", \"2020-08-27T00:00:00\", \"2020-08-28T00:00:00\", \"2020-08-31T00:00:00\", \"2020-09-01T00:00:00\", \"2020-09-02T00:00:00\", \"2020-09-03T00:00:00\", \"2020-09-04T00:00:00\", \"2020-09-08T00:00:00\", \"2020-09-09T00:00:00\", \"2020-09-10T00:00:00\", \"2020-09-11T00:00:00\", \"2020-09-14T00:00:00\", \"2020-09-15T00:00:00\", \"2020-09-16T00:00:00\", \"2020-09-17T00:00:00\", \"2020-09-18T00:00:00\", \"2020-09-21T00:00:00\", \"2020-09-22T00:00:00\", \"2020-09-23T00:00:00\", \"2020-09-24T00:00:00\", \"2020-09-25T00:00:00\", \"2020-09-28T00:00:00\", \"2020-09-29T00:00:00\", \"2020-09-30T00:00:00\", \"2020-10-01T00:00:00\", \"2020-10-02T00:00:00\", \"2020-10-05T00:00:00\", \"2020-10-06T00:00:00\", \"2020-10-07T00:00:00\", \"2020-10-08T00:00:00\", \"2020-10-09T00:00:00\", \"2020-10-12T00:00:00\", \"2020-10-13T00:00:00\", \"2020-10-14T00:00:00\", \"2020-10-15T00:00:00\", \"2020-10-16T00:00:00\", \"2020-10-19T00:00:00\", \"2020-10-20T00:00:00\", \"2020-10-21T00:00:00\", \"2020-10-22T00:00:00\", \"2020-10-23T00:00:00\", \"2020-10-26T00:00:00\", \"2020-10-27T00:00:00\", \"2020-10-28T00:00:00\", \"2020-10-29T00:00:00\", \"2020-10-30T00:00:00\", \"2020-11-02T00:00:00\", \"2020-11-03T00:00:00\", \"2020-11-04T00:00:00\", \"2020-11-05T00:00:00\", \"2020-11-06T00:00:00\", \"2020-11-09T00:00:00\", \"2020-11-10T00:00:00\", \"2020-11-11T00:00:00\", \"2020-11-12T00:00:00\", \"2020-11-13T00:00:00\", \"2020-11-16T00:00:00\", \"2020-11-17T00:00:00\", \"2020-11-18T00:00:00\", \"2020-11-19T00:00:00\", \"2020-11-20T00:00:00\", \"2020-11-23T00:00:00\", \"2020-11-24T00:00:00\", \"2020-11-25T00:00:00\", \"2020-11-27T00:00:00\", \"2020-11-30T00:00:00\", \"2020-12-01T00:00:00\", \"2020-12-02T00:00:00\", \"2020-12-03T00:00:00\", \"2020-12-04T00:00:00\", \"2020-12-07T00:00:00\", \"2020-12-08T00:00:00\", \"2020-12-09T00:00:00\", \"2020-12-10T00:00:00\", \"2020-12-11T00:00:00\", \"2020-12-14T00:00:00\", \"2020-12-15T00:00:00\", \"2020-12-16T00:00:00\", \"2020-12-17T00:00:00\", \"2020-12-18T00:00:00\", \"2020-12-21T00:00:00\", \"2020-12-22T00:00:00\", \"2020-12-23T00:00:00\", \"2020-12-24T00:00:00\", \"2020-12-28T00:00:00\", \"2020-12-29T00:00:00\", \"2020-12-30T00:00:00\", \"2020-12-31T00:00:00\", \"2021-01-04T00:00:00\", \"2021-01-05T00:00:00\", \"2021-01-06T00:00:00\", \"2021-01-07T00:00:00\", \"2021-01-08T00:00:00\", \"2021-01-11T00:00:00\", \"2021-01-12T00:00:00\", \"2021-01-13T00:00:00\", \"2021-01-14T00:00:00\", \"2021-01-15T00:00:00\", \"2021-01-19T00:00:00\", \"2021-01-20T00:00:00\", \"2021-01-21T00:00:00\", \"2021-01-22T00:00:00\", \"2021-01-25T00:00:00\", \"2021-01-26T00:00:00\", \"2021-01-27T00:00:00\", \"2021-01-28T00:00:00\", \"2021-01-29T00:00:00\", \"2021-02-01T00:00:00\", \"2021-02-02T00:00:00\", \"2021-02-03T00:00:00\", \"2021-02-04T00:00:00\", \"2021-02-05T00:00:00\", \"2021-02-08T00:00:00\", \"2021-02-09T00:00:00\", \"2021-02-10T00:00:00\", \"2021-02-11T00:00:00\", \"2021-02-12T00:00:00\", \"2021-02-16T00:00:00\", \"2021-02-17T00:00:00\", \"2021-02-18T00:00:00\"]}, {\"line\": {\"color\": \"blue\", \"width\": 1}, \"mode\": \"lines\", \"name\": \"Moving Average of 30 periods\", \"type\": \"scatter\", \"x\": [\"2019-01-02T00:00:00\", \"2019-01-03T00:00:00\", \"2019-01-04T00:00:00\", \"2019-01-07T00:00:00\", \"2019-01-08T00:00:00\", \"2019-01-09T00:00:00\", \"2019-01-10T00:00:00\", \"2019-01-11T00:00:00\", \"2019-01-14T00:00:00\", \"2019-01-15T00:00:00\", \"2019-01-16T00:00:00\", \"2019-01-17T00:00:00\", \"2019-01-18T00:00:00\", \"2019-01-22T00:00:00\", \"2019-01-23T00:00:00\", \"2019-01-24T00:00:00\", \"2019-01-25T00:00:00\", \"2019-01-28T00:00:00\", \"2019-01-29T00:00:00\", \"2019-01-30T00:00:00\", \"2019-01-31T00:00:00\", \"2019-02-01T00:00:00\", \"2019-02-04T00:00:00\", \"2019-02-05T00:00:00\", \"2019-02-06T00:00:00\", \"2019-02-07T00:00:00\", \"2019-02-08T00:00:00\", \"2019-02-11T00:00:00\", \"2019-02-12T00:00:00\", \"2019-02-13T00:00:00\", \"2019-02-14T00:00:00\", \"2019-02-15T00:00:00\", \"2019-02-19T00:00:00\", \"2019-02-20T00:00:00\", \"2019-02-21T00:00:00\", \"2019-02-22T00:00:00\", \"2019-02-25T00:00:00\", \"2019-02-26T00:00:00\", \"2019-02-27T00:00:00\", \"2019-02-28T00:00:00\", \"2019-03-01T00:00:00\", \"2019-03-04T00:00:00\", \"2019-03-05T00:00:00\", \"2019-03-06T00:00:00\", \"2019-03-07T00:00:00\", \"2019-03-08T00:00:00\", \"2019-03-11T00:00:00\", \"2019-03-12T00:00:00\", \"2019-03-13T00:00:00\", \"2019-03-14T00:00:00\", \"2019-03-15T00:00:00\", \"2019-03-18T00:00:00\", \"2019-03-19T00:00:00\", \"2019-03-20T00:00:00\", \"2019-03-21T00:00:00\", \"2019-03-22T00:00:00\", \"2019-03-25T00:00:00\", \"2019-03-26T00:00:00\", \"2019-03-27T00:00:00\", \"2019-03-28T00:00:00\", \"2019-03-29T00:00:00\", \"2019-04-01T00:00:00\", \"2019-04-02T00:00:00\", \"2019-04-03T00:00:00\", \"2019-04-04T00:00:00\", \"2019-04-05T00:00:00\", \"2019-04-08T00:00:00\", \"2019-04-09T00:00:00\", \"2019-04-10T00:00:00\", \"2019-04-11T00:00:00\", \"2019-04-12T00:00:00\", \"2019-04-15T00:00:00\", \"2019-04-16T00:00:00\", \"2019-04-17T00:00:00\", \"2019-04-18T00:00:00\", \"2019-04-22T00:00:00\", \"2019-04-23T00:00:00\", \"2019-04-24T00:00:00\", \"2019-04-25T00:00:00\", \"2019-04-26T00:00:00\", \"2019-04-29T00:00:00\", \"2019-04-30T00:00:00\", \"2019-05-01T00:00:00\", \"2019-05-02T00:00:00\", \"2019-05-03T00:00:00\", \"2019-05-06T00:00:00\", \"2019-05-07T00:00:00\", \"2019-05-08T00:00:00\", \"2019-05-09T00:00:00\", \"2019-05-10T00:00:00\", \"2019-05-13T00:00:00\", \"2019-05-14T00:00:00\", \"2019-05-15T00:00:00\", \"2019-05-16T00:00:00\", \"2019-05-17T00:00:00\", \"2019-05-20T00:00:00\", \"2019-05-21T00:00:00\", \"2019-05-22T00:00:00\", \"2019-05-23T00:00:00\", \"2019-05-24T00:00:00\", \"2019-05-28T00:00:00\", \"2019-05-29T00:00:00\", \"2019-05-30T00:00:00\", \"2019-05-31T00:00:00\", \"2019-06-03T00:00:00\", \"2019-06-04T00:00:00\", \"2019-06-05T00:00:00\", \"2019-06-06T00:00:00\", \"2019-06-07T00:00:00\", \"2019-06-10T00:00:00\", \"2019-06-11T00:00:00\", \"2019-06-12T00:00:00\", \"2019-06-13T00:00:00\", \"2019-06-14T00:00:00\", \"2019-06-17T00:00:00\", \"2019-06-18T00:00:00\", \"2019-06-19T00:00:00\", \"2019-06-20T00:00:00\", \"2019-06-21T00:00:00\", \"2019-06-24T00:00:00\", \"2019-06-25T00:00:00\", \"2019-06-26T00:00:00\", \"2019-06-27T00:00:00\", \"2019-06-28T00:00:00\", \"2019-07-01T00:00:00\", \"2019-07-02T00:00:00\", \"2019-07-03T00:00:00\", \"2019-07-05T00:00:00\", \"2019-07-08T00:00:00\", \"2019-07-09T00:00:00\", \"2019-07-10T00:00:00\", \"2019-07-11T00:00:00\", \"2019-07-12T00:00:00\", \"2019-07-15T00:00:00\", \"2019-07-16T00:00:00\", \"2019-07-17T00:00:00\", \"2019-07-18T00:00:00\", \"2019-07-19T00:00:00\", \"2019-07-22T00:00:00\", \"2019-07-23T00:00:00\", \"2019-07-24T00:00:00\", \"2019-07-25T00:00:00\", \"2019-07-26T00:00:00\", \"2019-07-29T00:00:00\", \"2019-07-30T00:00:00\", \"2019-07-31T00:00:00\", \"2019-08-01T00:00:00\", \"2019-08-02T00:00:00\", \"2019-08-05T00:00:00\", \"2019-08-06T00:00:00\", \"2019-08-07T00:00:00\", \"2019-08-08T00:00:00\", \"2019-08-09T00:00:00\", \"2019-08-12T00:00:00\", \"2019-08-13T00:00:00\", \"2019-08-14T00:00:00\", \"2019-08-15T00:00:00\", \"2019-08-16T00:00:00\", \"2019-08-19T00:00:00\", \"2019-08-20T00:00:00\", \"2019-08-21T00:00:00\", \"2019-08-22T00:00:00\", \"2019-08-23T00:00:00\", \"2019-08-26T00:00:00\", \"2019-08-27T00:00:00\", \"2019-08-28T00:00:00\", \"2019-08-29T00:00:00\", \"2019-08-30T00:00:00\", \"2019-09-03T00:00:00\", \"2019-09-04T00:00:00\", \"2019-09-05T00:00:00\", \"2019-09-06T00:00:00\", \"2019-09-09T00:00:00\", \"2019-09-10T00:00:00\", \"2019-09-11T00:00:00\", \"2019-09-12T00:00:00\", \"2019-09-13T00:00:00\", \"2019-09-16T00:00:00\", \"2019-09-17T00:00:00\", \"2019-09-18T00:00:00\", \"2019-09-19T00:00:00\", \"2019-09-20T00:00:00\", \"2019-09-23T00:00:00\", \"2019-09-24T00:00:00\", \"2019-09-25T00:00:00\", \"2019-09-26T00:00:00\", \"2019-09-27T00:00:00\", \"2019-09-30T00:00:00\", \"2019-10-01T00:00:00\", \"2019-10-02T00:00:00\", \"2019-10-03T00:00:00\", \"2019-10-04T00:00:00\", \"2019-10-07T00:00:00\", \"2019-10-08T00:00:00\", \"2019-10-09T00:00:00\", \"2019-10-10T00:00:00\", \"2019-10-11T00:00:00\", \"2019-10-14T00:00:00\", \"2019-10-15T00:00:00\", \"2019-10-16T00:00:00\", \"2019-10-17T00:00:00\", \"2019-10-18T00:00:00\", \"2019-10-21T00:00:00\", \"2019-10-22T00:00:00\", \"2019-10-23T00:00:00\", \"2019-10-24T00:00:00\", \"2019-10-25T00:00:00\", \"2019-10-28T00:00:00\", \"2019-10-29T00:00:00\", \"2019-10-30T00:00:00\", \"2019-10-31T00:00:00\", \"2019-11-01T00:00:00\", \"2019-11-04T00:00:00\", \"2019-11-05T00:00:00\", \"2019-11-06T00:00:00\", \"2019-11-07T00:00:00\", \"2019-11-08T00:00:00\", \"2019-11-11T00:00:00\", \"2019-11-12T00:00:00\", \"2019-11-13T00:00:00\", \"2019-11-14T00:00:00\", \"2019-11-15T00:00:00\", \"2019-11-18T00:00:00\", \"2019-11-19T00:00:00\", \"2019-11-20T00:00:00\", \"2019-11-21T00:00:00\", \"2019-11-22T00:00:00\", \"2019-11-25T00:00:00\", \"2019-11-26T00:00:00\", \"2019-11-27T00:00:00\", \"2019-11-29T00:00:00\", \"2019-12-02T00:00:00\", \"2019-12-03T00:00:00\", \"2019-12-04T00:00:00\", \"2019-12-05T00:00:00\", \"2019-12-06T00:00:00\", \"2019-12-09T00:00:00\", \"2019-12-10T00:00:00\", \"2019-12-11T00:00:00\", \"2019-12-12T00:00:00\", \"2019-12-13T00:00:00\", \"2019-12-16T00:00:00\", \"2019-12-17T00:00:00\", \"2019-12-18T00:00:00\", \"2019-12-19T00:00:00\", \"2019-12-20T00:00:00\", \"2019-12-23T00:00:00\", \"2019-12-24T00:00:00\", \"2019-12-26T00:00:00\", \"2019-12-27T00:00:00\", \"2019-12-30T00:00:00\", \"2019-12-31T00:00:00\", \"2020-01-02T00:00:00\", \"2020-01-03T00:00:00\", \"2020-01-06T00:00:00\", \"2020-01-07T00:00:00\", \"2020-01-08T00:00:00\", \"2020-01-09T00:00:00\", \"2020-01-10T00:00:00\", \"2020-01-13T00:00:00\", \"2020-01-14T00:00:00\", \"2020-01-15T00:00:00\", \"2020-01-16T00:00:00\", \"2020-01-17T00:00:00\", \"2020-01-21T00:00:00\", \"2020-01-22T00:00:00\", \"2020-01-23T00:00:00\", \"2020-01-24T00:00:00\", \"2020-01-27T00:00:00\", \"2020-01-28T00:00:00\", \"2020-01-29T00:00:00\", \"2020-01-30T00:00:00\", \"2020-01-31T00:00:00\", \"2020-02-03T00:00:00\", \"2020-02-04T00:00:00\", \"2020-02-05T00:00:00\", \"2020-02-06T00:00:00\", \"2020-02-07T00:00:00\", \"2020-02-10T00:00:00\", \"2020-02-11T00:00:00\", \"2020-02-12T00:00:00\", \"2020-02-13T00:00:00\", \"2020-02-14T00:00:00\", \"2020-02-18T00:00:00\", \"2020-02-19T00:00:00\", \"2020-02-20T00:00:00\", \"2020-02-21T00:00:00\", \"2020-02-24T00:00:00\", \"2020-02-25T00:00:00\", \"2020-02-26T00:00:00\", \"2020-02-27T00:00:00\", \"2020-02-28T00:00:00\", \"2020-03-02T00:00:00\", \"2020-03-03T00:00:00\", \"2020-03-04T00:00:00\", \"2020-03-05T00:00:00\", \"2020-03-06T00:00:00\", \"2020-03-09T00:00:00\", \"2020-03-10T00:00:00\", \"2020-03-11T00:00:00\", \"2020-03-12T00:00:00\", \"2020-03-13T00:00:00\", \"2020-03-16T00:00:00\", \"2020-03-17T00:00:00\", \"2020-03-18T00:00:00\", \"2020-03-19T00:00:00\", \"2020-03-20T00:00:00\", \"2020-03-23T00:00:00\", \"2020-03-24T00:00:00\", \"2020-03-25T00:00:00\", \"2020-03-26T00:00:00\", \"2020-03-27T00:00:00\", \"2020-03-30T00:00:00\", \"2020-03-31T00:00:00\", \"2020-04-01T00:00:00\", \"2020-04-02T00:00:00\", \"2020-04-03T00:00:00\", \"2020-04-06T00:00:00\", \"2020-04-07T00:00:00\", \"2020-04-08T00:00:00\", \"2020-04-09T00:00:00\", \"2020-04-13T00:00:00\", \"2020-04-14T00:00:00\", \"2020-04-15T00:00:00\", \"2020-04-16T00:00:00\", \"2020-04-17T00:00:00\", \"2020-04-20T00:00:00\", \"2020-04-21T00:00:00\", \"2020-04-22T00:00:00\", \"2020-04-23T00:00:00\", \"2020-04-24T00:00:00\", \"2020-04-27T00:00:00\", \"2020-04-28T00:00:00\", \"2020-04-29T00:00:00\", \"2020-04-30T00:00:00\", \"2020-05-01T00:00:00\", \"2020-05-04T00:00:00\", \"2020-05-05T00:00:00\", \"2020-05-06T00:00:00\", \"2020-05-07T00:00:00\", \"2020-05-08T00:00:00\", \"2020-05-11T00:00:00\", \"2020-05-12T00:00:00\", \"2020-05-13T00:00:00\", \"2020-05-14T00:00:00\", \"2020-05-15T00:00:00\", \"2020-05-18T00:00:00\", \"2020-05-19T00:00:00\", \"2020-05-20T00:00:00\", \"2020-05-21T00:00:00\", \"2020-05-22T00:00:00\", \"2020-05-26T00:00:00\", \"2020-05-27T00:00:00\", \"2020-05-28T00:00:00\", \"2020-05-29T00:00:00\", \"2020-06-01T00:00:00\", \"2020-06-02T00:00:00\", \"2020-06-03T00:00:00\", \"2020-06-04T00:00:00\", \"2020-06-05T00:00:00\", \"2020-06-08T00:00:00\", \"2020-06-09T00:00:00\", \"2020-06-10T00:00:00\", \"2020-06-11T00:00:00\", \"2020-06-12T00:00:00\", \"2020-06-15T00:00:00\", \"2020-06-16T00:00:00\", \"2020-06-17T00:00:00\", \"2020-06-18T00:00:00\", \"2020-06-19T00:00:00\", \"2020-06-22T00:00:00\", \"2020-06-23T00:00:00\", \"2020-06-24T00:00:00\", \"2020-06-25T00:00:00\", \"2020-06-26T00:00:00\", \"2020-06-29T00:00:00\", \"2020-06-30T00:00:00\", \"2020-07-01T00:00:00\", \"2020-07-02T00:00:00\", \"2020-07-06T00:00:00\", \"2020-07-07T00:00:00\", \"2020-07-08T00:00:00\", \"2020-07-09T00:00:00\", \"2020-07-10T00:00:00\", \"2020-07-13T00:00:00\", \"2020-07-14T00:00:00\", \"2020-07-15T00:00:00\", \"2020-07-16T00:00:00\", \"2020-07-17T00:00:00\", \"2020-07-20T00:00:00\", \"2020-07-21T00:00:00\", \"2020-07-22T00:00:00\", \"2020-07-23T00:00:00\", \"2020-07-24T00:00:00\", \"2020-07-27T00:00:00\", \"2020-07-28T00:00:00\", \"2020-07-29T00:00:00\", \"2020-07-30T00:00:00\", \"2020-07-31T00:00:00\", \"2020-08-03T00:00:00\", \"2020-08-04T00:00:00\", \"2020-08-05T00:00:00\", \"2020-08-06T00:00:00\", \"2020-08-07T00:00:00\", \"2020-08-10T00:00:00\", \"2020-08-11T00:00:00\", \"2020-08-12T00:00:00\", \"2020-08-13T00:00:00\", \"2020-08-14T00:00:00\", \"2020-08-17T00:00:00\", \"2020-08-18T00:00:00\", \"2020-08-19T00:00:00\", \"2020-08-20T00:00:00\", \"2020-08-21T00:00:00\", \"2020-08-24T00:00:00\", \"2020-08-25T00:00:00\", \"2020-08-26T00:00:00\", \"2020-08-27T00:00:00\", \"2020-08-28T00:00:00\", \"2020-08-31T00:00:00\", \"2020-09-01T00:00:00\", \"2020-09-02T00:00:00\", \"2020-09-03T00:00:00\", \"2020-09-04T00:00:00\", \"2020-09-08T00:00:00\", \"2020-09-09T00:00:00\", \"2020-09-10T00:00:00\", \"2020-09-11T00:00:00\", \"2020-09-14T00:00:00\", \"2020-09-15T00:00:00\", \"2020-09-16T00:00:00\", \"2020-09-17T00:00:00\", \"2020-09-18T00:00:00\", \"2020-09-21T00:00:00\", \"2020-09-22T00:00:00\", \"2020-09-23T00:00:00\", \"2020-09-24T00:00:00\", \"2020-09-25T00:00:00\", \"2020-09-28T00:00:00\", \"2020-09-29T00:00:00\", \"2020-09-30T00:00:00\", \"2020-10-01T00:00:00\", \"2020-10-02T00:00:00\", \"2020-10-05T00:00:00\", \"2020-10-06T00:00:00\", \"2020-10-07T00:00:00\", \"2020-10-08T00:00:00\", \"2020-10-09T00:00:00\", \"2020-10-12T00:00:00\", \"2020-10-13T00:00:00\", \"2020-10-14T00:00:00\", \"2020-10-15T00:00:00\", \"2020-10-16T00:00:00\", \"2020-10-19T00:00:00\", \"2020-10-20T00:00:00\", \"2020-10-21T00:00:00\", \"2020-10-22T00:00:00\", \"2020-10-23T00:00:00\", \"2020-10-26T00:00:00\", \"2020-10-27T00:00:00\", \"2020-10-28T00:00:00\", \"2020-10-29T00:00:00\", \"2020-10-30T00:00:00\", \"2020-11-02T00:00:00\", \"2020-11-03T00:00:00\", \"2020-11-04T00:00:00\", \"2020-11-05T00:00:00\", \"2020-11-06T00:00:00\", \"2020-11-09T00:00:00\", \"2020-11-10T00:00:00\", \"2020-11-11T00:00:00\", \"2020-11-12T00:00:00\", \"2020-11-13T00:00:00\", \"2020-11-16T00:00:00\", \"2020-11-17T00:00:00\", \"2020-11-18T00:00:00\", \"2020-11-19T00:00:00\", \"2020-11-20T00:00:00\", \"2020-11-23T00:00:00\", \"2020-11-24T00:00:00\", \"2020-11-25T00:00:00\", \"2020-11-27T00:00:00\", \"2020-11-30T00:00:00\", \"2020-12-01T00:00:00\", \"2020-12-02T00:00:00\", \"2020-12-03T00:00:00\", \"2020-12-04T00:00:00\", \"2020-12-07T00:00:00\", \"2020-12-08T00:00:00\", \"2020-12-09T00:00:00\", \"2020-12-10T00:00:00\", \"2020-12-11T00:00:00\", \"2020-12-14T00:00:00\", \"2020-12-15T00:00:00\", \"2020-12-16T00:00:00\", \"2020-12-17T00:00:00\", \"2020-12-18T00:00:00\", \"2020-12-21T00:00:00\", \"2020-12-22T00:00:00\", \"2020-12-23T00:00:00\", \"2020-12-24T00:00:00\", \"2020-12-28T00:00:00\", \"2020-12-29T00:00:00\", \"2020-12-30T00:00:00\", \"2020-12-31T00:00:00\", \"2021-01-04T00:00:00\", \"2021-01-05T00:00:00\", \"2021-01-06T00:00:00\", \"2021-01-07T00:00:00\", \"2021-01-08T00:00:00\", \"2021-01-11T00:00:00\", \"2021-01-12T00:00:00\", \"2021-01-13T00:00:00\", \"2021-01-14T00:00:00\", \"2021-01-15T00:00:00\", \"2021-01-19T00:00:00\", \"2021-01-20T00:00:00\", \"2021-01-21T00:00:00\", \"2021-01-22T00:00:00\", \"2021-01-25T00:00:00\", \"2021-01-26T00:00:00\", \"2021-01-27T00:00:00\", \"2021-01-28T00:00:00\", \"2021-01-29T00:00:00\", \"2021-02-01T00:00:00\", \"2021-02-02T00:00:00\", \"2021-02-03T00:00:00\", \"2021-02-04T00:00:00\", \"2021-02-05T00:00:00\", \"2021-02-08T00:00:00\", \"2021-02-09T00:00:00\", \"2021-02-10T00:00:00\", \"2021-02-11T00:00:00\", \"2021-02-12T00:00:00\", \"2021-02-16T00:00:00\", \"2021-02-17T00:00:00\", \"2021-02-18T00:00:00\"], \"y\": [1.9500000476837158, 1.9500000476837158, 1.9500000476837158, 1.9500000476837158, 1.9500000476837158, 1.9500000476837158, 1.9500000476837158, 1.9562500417232513, 1.9611111481984456, 1.965000033378601, 1.968181848526001, 1.9708333611488342, 1.97307694875277, 1.975000023841858, 1.9766666889190674, 1.9781250208616257, 1.9794117843403536, 1.980555574099223, 1.9815789649361057, 1.9825000166893005, 1.9828571592058455, 1.9831818342208862, 1.983043494431869, 1.982916682958603, 1.9828000164031983, 1.9826923241982093, 1.98259260919359, 1.9825000166893005, 1.9824138098749622, 1.9830000162124635, 1.984666681289673, 1.9863333463668824, 1.9880000114440919, 1.9893333435058593, 1.990666675567627, 1.9920000076293944, 1.993333339691162, 1.9930000066757203, 1.9926666736602783, 1.9923333406448365, 1.9943333387374877, 1.9963333368301392, 1.9983333349227905, 2.000333333015442, 2.002333331108093, 2.004333329200745, 2.006333327293396, 2.0093333244323732, 2.01233332157135, 2.015333318710327, 2.018666648864746, 2.021999979019165, 2.0256666421890257, 2.029333305358887, 2.0329999685287476, 2.0366666316986084, 2.040333294868469, 2.040666627883911, 2.0433332920074463, 2.0453332901000976, 2.047999954223633, 2.0526666243871055, 2.057333294550578, 2.0699999570846557, 2.0833332935969033, 2.096666630109151, 2.109999966621399, 2.1233333031336468, 2.1366666396458944, 2.149999976158142, 2.1609999815622967, 2.171999986966451, 2.1829999923706054, 2.19399999777476, 2.2050000031789145, 2.2160000085830687, 2.2270000139872232, 2.237000020345052, 2.2470000267028807, 2.250666697820028, 2.2576666990915935, 2.264666700363159, 2.2716667016347247, 2.278666702906291, 2.2856667041778564, 2.2880000432332355, 2.290333382288615, 2.296000051498413, 2.299333389600118, 2.299333389600118, 2.299000056584676, 2.2913333853085835, 2.283666714032491, 2.268333383401235, 2.253333381811778, 2.2383333802223206, 2.2233333786328635, 2.2083333770434064, 2.193333375453949, 2.1783333738644917, 2.1633333722750345, 2.1483333706855774, 2.128333365917206, 2.1083333611488344, 2.0883333563804625, 2.068333351612091, 2.0483333468437195, 2.028333342075348, 2.0083333373069765, 1.9946666677792868, 1.9790000041325888, 1.9633333404858908, 1.9476666768391928, 1.9320000131924948, 1.9180000146230063, 1.9073333462079367, 1.8966666777928671, 1.8860000093777975, 1.875333340962728, 1.8680000106493633, 1.8603333473205566, 1.8580000162124635, 1.8556666851043702, 1.8533333539962769, 1.850000019868215, 1.846666685740153, 1.843333351612091, 1.8400000174840292, 1.8366666833559673, 1.8333333492279054, 1.831333347161611, 1.8293333450953166, 1.8323333462079365, 1.8353333473205566, 1.8383333484331768, 1.8413333495457966, 1.843000018596649, 1.8503333528836567, 1.8566666881243388, 1.8630000233650208, 1.8690000216166178, 1.8750000198682149, 1.8763333519299825, 1.8783333500226338, 1.8773333509763082, 1.8776666839917502, 1.8760000149408975, 1.8713333487510682, 1.8666666825612386, 1.859666681289673, 1.852666680018107, 1.8456666787465414, 1.8386666774749756, 1.8316666762034097, 1.824666674931844, 1.8176666736602782, 1.8106666723887126, 1.8036666711171467, 1.8020000020662943, 1.8003333330154419, 1.797333331902822, 1.7943333307902019, 1.7913333296775817, 1.7883333285649619, 1.7853333274523417, 1.7823333263397216, 1.7806666572888692, 1.7733333230018615, 1.7669999877611795, 1.7606666525204977, 1.75333331823349, 1.7459999839464824, 1.7433333158493043, 1.7403333147366842, 1.7386666456858317, 1.7369999766349793, 1.740666643778483, 1.7473333080609639, 1.7539999723434447, 1.7629999717076619, 1.771999971071879, 1.7809999704360961, 1.7899999698003133, 1.7983333031336466, 1.80666663646698, 1.8149999698003134, 1.8233333031336467, 1.83166663646698, 1.8346666375796, 1.83766663869222, 1.8406666398048401, 1.84366664091746, 1.8466666420300801, 1.8496666431427002, 1.8526666442553201, 1.8523333112398783, 1.8519999782244365, 1.8583333134651183, 1.8643333156903585, 1.8703333179155985, 1.8763333201408385, 1.8823333223660788, 1.8883333245913188, 1.893999993801117, 1.8996666630109151, 1.9013333320617676, 1.8990000009536743, 1.8963333368301392, 1.893666672706604, 1.891000008583069, 1.887333341439565, 1.884000007311503, 1.8806666731834412, 1.878000005086263, 1.8753333369890848, 1.8726666688919067, 1.8766666690508524, 1.8806666692097982, 1.884666669368744, 1.8886666695276897, 1.8926666696866354, 1.896666669845581, 1.9006666700045267, 1.9046666701634725, 1.9060000022252401, 1.9106666684150695, 1.915333334604899, 1.9133333325386048, 1.9116666634877524, 1.9099999944368997, 1.9083333253860473, 1.9066666563351948, 1.9049999872843424, 1.90333331823349, 1.9016666491826375, 1.9026666482289631, 1.9043333133061726, 1.9063333113988241, 1.9083333094914754, 1.910333307584127, 1.918999973932902, 1.9269999742507935, 1.9369999726613363, 1.946999971071879, 1.956333303451538, 1.9656666358311972, 1.9669999678929646, 1.9683332999547323, 1.969333299001058, 1.9706666310628256, 1.968666632970174, 1.968999965985616, 1.9799999634424845, 1.990999960899353, 2.0046666264533997, 2.0183332920074464, 2.024666623274485, 2.030999954541524, 2.037666618824005, 2.044333283106486, 2.050999947388967, 2.057666611671448, 2.0643332759539286, 2.0709999402364097, 2.0713332732518515, 2.072999938329061, 2.0746666034062704, 2.07633326848348, 2.0779999335606893, 2.0806666016578674, 2.074999936421712, 2.069666604200999, 2.059666605790456, 2.04733327627182, 2.035666612784068, 2.0243332823117575, 2.0143332839012147, 2.004333285490672, 1.994666620095571, 1.9846666216850282, 1.9823332866032919, 1.9749999523162842, 1.95699995358785, 1.9389999548594157, 1.9243332902590433, 1.909999958674113, 1.90299996137619, 1.8959999640782674, 1.8886666337649027, 1.881333303451538, 1.8739999731381733, 1.8599999785423278, 1.8429999828338623, 1.8259999871253967, 1.8143333236376444, 1.8026666601498922, 1.79099999666214, 1.7793333331743877, 1.7676666696866354, 1.7550000031789144, 1.7446666717529298, 1.7326666712760925, 1.7223333398501077, 1.7143333395322164, 1.703000005086263, 1.6913333376248678, 1.6796666701634726, 1.6693333347638448, 1.658999999364217, 1.6509999990463258, 1.6386666655540467, 1.6263333320617677, 1.6136666655540466, 1.6006666660308837, 1.5843333323796591, 1.5676666657129923, 1.5509999990463257, 1.5326666673024496, 1.5200000007947285, 1.506333335240682, 1.4860000014305115, 1.4723333319028218, 1.4616666634877522, 1.4509999950726826, 1.441333325703939, 1.434333324432373, 1.4273333231608072, 1.4213333209355672, 1.4153333187103272, 1.4053333163261414, 1.3983333150545756, 1.3929999828338624, 1.3866666475931804, 1.3829999804496764, 1.3866666475931804, 1.3896666487058005, 1.3926666498184204, 1.3916666507720947, 1.390666651725769, 1.3856666525204977, 1.3806666533152263, 1.377999989191691, 1.375666658083598, 1.3736666599909464, 1.3716666618982951, 1.3696666638056436, 1.3676666657129923, 1.3673333326975505, 1.3660000006357829, 1.365333334604899, 1.3643333355585734, 1.3633333365122478, 1.3623333374659221, 1.36200000445048, 1.3616666714350383, 1.3586666703224182, 1.3633333365122478, 1.3660000046094258, 1.368666672706604, 1.375333340962728, 1.3793333411216735, 1.3833333412806192, 1.3893333435058595, 1.3883333444595336, 1.3833333452542622, 1.3786666790644329, 1.3740000128746033, 1.372000014781952, 1.3700000166893005, 1.3696666836738587, 1.3740000168482462, 1.3786666830380758, 1.3833333492279052, 1.3880000154177348, 1.3926666816075643, 1.3973333477973937, 1.4020000139872233, 1.4066666801770529, 1.4066666801770529, 1.4070000131924947, 1.4176666816075643, 1.4283333500226338, 1.4513333519299825, 1.4710000197092692, 1.490666687488556, 1.5096666892369588, 1.521666689713796, 1.534666689236959, 1.5376666903495788, 1.540666691462199, 1.5503333568573, 1.5600000222524006, 1.5696666876475016, 1.5836666862169901, 1.593000018596649, 1.60266668399175, 1.612333349386851, 1.622000014781952, 1.6316666801770527, 1.6413333455721537, 1.6573333462079367, 1.6760000109672546, 1.6946666757265727, 1.7133333404858908, 1.7410000046094258, 1.7703333338101706, 1.8053333322207132, 1.840666663646698, 1.8759999950726827, 1.9136666576067607, 1.946999986966451, 1.9803333163261414, 1.9933333118756613, 2.015666643778483, 2.028999976317088, 2.050999975204468, 2.0693333109219867, 2.0899999777475995, 2.115999972820282, 2.1419999678929647, 2.1616666316986084, 2.185666632652283, 2.2083333015441893, 2.23766663869222, 2.272333308060964, 2.3069999774297076, 2.3416666467984517, 2.3739999771118163, 2.3989999810854594, 2.425999983151754, 2.4436666488647463, 2.4573333183924357, 2.4699999888738, 2.4826666593551634, 2.4833333253860475, 2.4823333263397216, 2.4693333307902017, 2.46133333047231, 2.4549999952316286, 2.4513333320617674, 2.4466666698455812, 2.4433333396911623, 2.4410000085830688, 2.4390000104904175, 2.4550000111262005, 2.460000014305115, 2.4703333457310994, 2.478333346048991, 2.487666686375936, 2.4970000267028807, 2.515666699409485, 2.5260000308354695, 2.537666694323222, 2.543000022570292, 2.5476666847864786, 2.5523333470026652, 2.5550000111262006, 2.565666683514913, 2.583666682243347, 2.59966668287913, 2.6146666844685873, 2.637333353360494, 2.6633333524068195, 2.6813333511352537, 2.702333354949951, 2.7383333603541056, 2.793666688601176, 2.843666688601176, 2.9063333590825398, 2.9566667000452678, 3.0003333648045856, 3.042666697502136, 3.0920000314712524, 3.1426666975021362, 3.191333365440369, 3.2500000317891438, 3.314333359400431, 3.3786666870117186, 3.4706666787465412, 3.549666674931844, 3.6133333365122478, 3.681333343187968, 3.746666685740153, 3.8170000235239665, 3.8800000190734862, 3.94266668955485, 4.007333358128865, 4.06233336130778, 4.1173333644866945, 4.166666698455811, 4.215333366394043, 4.261000029246012, 4.300666689872742, 4.357666691144307, 4.419000029563904, 4.476000022888184, 4.520000020662944, 4.566666682561238, 4.593333355585734, 4.634000015258789, 4.6833333492279055, 4.732666683197022, 4.801000022888184, 4.862666686375936, 4.928000020980835, 4.990666691462199, 5.045333369572957, 5.100000047683716, 5.145333385467529, 5.208000055948893, 5.27366673151652, 5.338333400090535, 5.4133334000905355, 5.466000064214071, 5.525333404541016, 5.579666741689047, 5.640000073115031, 5.703666734695434, 5.775000063578288, 5.846666733423869, 5.900000063578288, 5.94333340326945, 5.98033340771993, 5.995333401362101, 6.011000061035157, 6.010333395004272, 6.0096667289733885, 5.988333400090536, 5.985000054041545, 5.977333386739095, 5.966333389282227, 5.958000055948893, 5.930333375930786, 5.902000045776367, 5.884000047047933, 5.859666713078817, 5.845000044504801]}, {\"line\": {\"color\": \"red\", \"width\": 1}, \"mode\": \"lines\", \"name\": \"Moving Average of 50 periods\", \"type\": \"scatter\", \"x\": [\"2019-01-02T00:00:00\", \"2019-01-03T00:00:00\", \"2019-01-04T00:00:00\", \"2019-01-07T00:00:00\", \"2019-01-08T00:00:00\", \"2019-01-09T00:00:00\", \"2019-01-10T00:00:00\", \"2019-01-11T00:00:00\", \"2019-01-14T00:00:00\", \"2019-01-15T00:00:00\", \"2019-01-16T00:00:00\", \"2019-01-17T00:00:00\", \"2019-01-18T00:00:00\", \"2019-01-22T00:00:00\", \"2019-01-23T00:00:00\", \"2019-01-24T00:00:00\", \"2019-01-25T00:00:00\", \"2019-01-28T00:00:00\", \"2019-01-29T00:00:00\", \"2019-01-30T00:00:00\", \"2019-01-31T00:00:00\", \"2019-02-01T00:00:00\", \"2019-02-04T00:00:00\", \"2019-02-05T00:00:00\", \"2019-02-06T00:00:00\", \"2019-02-07T00:00:00\", \"2019-02-08T00:00:00\", \"2019-02-11T00:00:00\", \"2019-02-12T00:00:00\", \"2019-02-13T00:00:00\", \"2019-02-14T00:00:00\", \"2019-02-15T00:00:00\", \"2019-02-19T00:00:00\", \"2019-02-20T00:00:00\", \"2019-02-21T00:00:00\", \"2019-02-22T00:00:00\", \"2019-02-25T00:00:00\", \"2019-02-26T00:00:00\", \"2019-02-27T00:00:00\", \"2019-02-28T00:00:00\", \"2019-03-01T00:00:00\", \"2019-03-04T00:00:00\", \"2019-03-05T00:00:00\", \"2019-03-06T00:00:00\", \"2019-03-07T00:00:00\", \"2019-03-08T00:00:00\", \"2019-03-11T00:00:00\", \"2019-03-12T00:00:00\", \"2019-03-13T00:00:00\", \"2019-03-14T00:00:00\", \"2019-03-15T00:00:00\", \"2019-03-18T00:00:00\", \"2019-03-19T00:00:00\", \"2019-03-20T00:00:00\", \"2019-03-21T00:00:00\", \"2019-03-22T00:00:00\", \"2019-03-25T00:00:00\", \"2019-03-26T00:00:00\", \"2019-03-27T00:00:00\", \"2019-03-28T00:00:00\", \"2019-03-29T00:00:00\", \"2019-04-01T00:00:00\", \"2019-04-02T00:00:00\", \"2019-04-03T00:00:00\", \"2019-04-04T00:00:00\", \"2019-04-05T00:00:00\", \"2019-04-08T00:00:00\", \"2019-04-09T00:00:00\", \"2019-04-10T00:00:00\", \"2019-04-11T00:00:00\", \"2019-04-12T00:00:00\", \"2019-04-15T00:00:00\", \"2019-04-16T00:00:00\", \"2019-04-17T00:00:00\", \"2019-04-18T00:00:00\", \"2019-04-22T00:00:00\", \"2019-04-23T00:00:00\", \"2019-04-24T00:00:00\", \"2019-04-25T00:00:00\", \"2019-04-26T00:00:00\", \"2019-04-29T00:00:00\", \"2019-04-30T00:00:00\", \"2019-05-01T00:00:00\", \"2019-05-02T00:00:00\", \"2019-05-03T00:00:00\", \"2019-05-06T00:00:00\", \"2019-05-07T00:00:00\", \"2019-05-08T00:00:00\", \"2019-05-09T00:00:00\", \"2019-05-10T00:00:00\", \"2019-05-13T00:00:00\", \"2019-05-14T00:00:00\", \"2019-05-15T00:00:00\", \"2019-05-16T00:00:00\", \"2019-05-17T00:00:00\", \"2019-05-20T00:00:00\", \"2019-05-21T00:00:00\", \"2019-05-22T00:00:00\", \"2019-05-23T00:00:00\", \"2019-05-24T00:00:00\", \"2019-05-28T00:00:00\", \"2019-05-29T00:00:00\", \"2019-05-30T00:00:00\", \"2019-05-31T00:00:00\", \"2019-06-03T00:00:00\", \"2019-06-04T00:00:00\", \"2019-06-05T00:00:00\", \"2019-06-06T00:00:00\", \"2019-06-07T00:00:00\", \"2019-06-10T00:00:00\", \"2019-06-11T00:00:00\", \"2019-06-12T00:00:00\", \"2019-06-13T00:00:00\", \"2019-06-14T00:00:00\", \"2019-06-17T00:00:00\", \"2019-06-18T00:00:00\", \"2019-06-19T00:00:00\", \"2019-06-20T00:00:00\", \"2019-06-21T00:00:00\", \"2019-06-24T00:00:00\", \"2019-06-25T00:00:00\", \"2019-06-26T00:00:00\", \"2019-06-27T00:00:00\", \"2019-06-28T00:00:00\", \"2019-07-01T00:00:00\", \"2019-07-02T00:00:00\", \"2019-07-03T00:00:00\", \"2019-07-05T00:00:00\", \"2019-07-08T00:00:00\", \"2019-07-09T00:00:00\", \"2019-07-10T00:00:00\", \"2019-07-11T00:00:00\", \"2019-07-12T00:00:00\", \"2019-07-15T00:00:00\", \"2019-07-16T00:00:00\", \"2019-07-17T00:00:00\", \"2019-07-18T00:00:00\", \"2019-07-19T00:00:00\", \"2019-07-22T00:00:00\", \"2019-07-23T00:00:00\", \"2019-07-24T00:00:00\", \"2019-07-25T00:00:00\", \"2019-07-26T00:00:00\", \"2019-07-29T00:00:00\", \"2019-07-30T00:00:00\", \"2019-07-31T00:00:00\", \"2019-08-01T00:00:00\", \"2019-08-02T00:00:00\", \"2019-08-05T00:00:00\", \"2019-08-06T00:00:00\", \"2019-08-07T00:00:00\", \"2019-08-08T00:00:00\", \"2019-08-09T00:00:00\", \"2019-08-12T00:00:00\", \"2019-08-13T00:00:00\", \"2019-08-14T00:00:00\", \"2019-08-15T00:00:00\", \"2019-08-16T00:00:00\", \"2019-08-19T00:00:00\", \"2019-08-20T00:00:00\", \"2019-08-21T00:00:00\", \"2019-08-22T00:00:00\", \"2019-08-23T00:00:00\", \"2019-08-26T00:00:00\", \"2019-08-27T00:00:00\", \"2019-08-28T00:00:00\", \"2019-08-29T00:00:00\", \"2019-08-30T00:00:00\", \"2019-09-03T00:00:00\", \"2019-09-04T00:00:00\", \"2019-09-05T00:00:00\", \"2019-09-06T00:00:00\", \"2019-09-09T00:00:00\", \"2019-09-10T00:00:00\", \"2019-09-11T00:00:00\", \"2019-09-12T00:00:00\", \"2019-09-13T00:00:00\", \"2019-09-16T00:00:00\", \"2019-09-17T00:00:00\", \"2019-09-18T00:00:00\", \"2019-09-19T00:00:00\", \"2019-09-20T00:00:00\", \"2019-09-23T00:00:00\", \"2019-09-24T00:00:00\", \"2019-09-25T00:00:00\", \"2019-09-26T00:00:00\", \"2019-09-27T00:00:00\", \"2019-09-30T00:00:00\", \"2019-10-01T00:00:00\", \"2019-10-02T00:00:00\", \"2019-10-03T00:00:00\", \"2019-10-04T00:00:00\", \"2019-10-07T00:00:00\", \"2019-10-08T00:00:00\", \"2019-10-09T00:00:00\", \"2019-10-10T00:00:00\", \"2019-10-11T00:00:00\", \"2019-10-14T00:00:00\", \"2019-10-15T00:00:00\", \"2019-10-16T00:00:00\", \"2019-10-17T00:00:00\", \"2019-10-18T00:00:00\", \"2019-10-21T00:00:00\", \"2019-10-22T00:00:00\", \"2019-10-23T00:00:00\", \"2019-10-24T00:00:00\", \"2019-10-25T00:00:00\", \"2019-10-28T00:00:00\", \"2019-10-29T00:00:00\", \"2019-10-30T00:00:00\", \"2019-10-31T00:00:00\", \"2019-11-01T00:00:00\", \"2019-11-04T00:00:00\", \"2019-11-05T00:00:00\", \"2019-11-06T00:00:00\", \"2019-11-07T00:00:00\", \"2019-11-08T00:00:00\", \"2019-11-11T00:00:00\", \"2019-11-12T00:00:00\", \"2019-11-13T00:00:00\", \"2019-11-14T00:00:00\", \"2019-11-15T00:00:00\", \"2019-11-18T00:00:00\", \"2019-11-19T00:00:00\", \"2019-11-20T00:00:00\", \"2019-11-21T00:00:00\", \"2019-11-22T00:00:00\", \"2019-11-25T00:00:00\", \"2019-11-26T00:00:00\", \"2019-11-27T00:00:00\", \"2019-11-29T00:00:00\", \"2019-12-02T00:00:00\", \"2019-12-03T00:00:00\", \"2019-12-04T00:00:00\", \"2019-12-05T00:00:00\", \"2019-12-06T00:00:00\", \"2019-12-09T00:00:00\", \"2019-12-10T00:00:00\", \"2019-12-11T00:00:00\", \"2019-12-12T00:00:00\", \"2019-12-13T00:00:00\", \"2019-12-16T00:00:00\", \"2019-12-17T00:00:00\", \"2019-12-18T00:00:00\", \"2019-12-19T00:00:00\", \"2019-12-20T00:00:00\", \"2019-12-23T00:00:00\", \"2019-12-24T00:00:00\", \"2019-12-26T00:00:00\", \"2019-12-27T00:00:00\", \"2019-12-30T00:00:00\", \"2019-12-31T00:00:00\", \"2020-01-02T00:00:00\", \"2020-01-03T00:00:00\", \"2020-01-06T00:00:00\", \"2020-01-07T00:00:00\", \"2020-01-08T00:00:00\", \"2020-01-09T00:00:00\", \"2020-01-10T00:00:00\", \"2020-01-13T00:00:00\", \"2020-01-14T00:00:00\", \"2020-01-15T00:00:00\", \"2020-01-16T00:00:00\", \"2020-01-17T00:00:00\", \"2020-01-21T00:00:00\", \"2020-01-22T00:00:00\", \"2020-01-23T00:00:00\", \"2020-01-24T00:00:00\", \"2020-01-27T00:00:00\", \"2020-01-28T00:00:00\", \"2020-01-29T00:00:00\", \"2020-01-30T00:00:00\", \"2020-01-31T00:00:00\", \"2020-02-03T00:00:00\", \"2020-02-04T00:00:00\", \"2020-02-05T00:00:00\", \"2020-02-06T00:00:00\", \"2020-02-07T00:00:00\", \"2020-02-10T00:00:00\", \"2020-02-11T00:00:00\", \"2020-02-12T00:00:00\", \"2020-02-13T00:00:00\", \"2020-02-14T00:00:00\", \"2020-02-18T00:00:00\", \"2020-02-19T00:00:00\", \"2020-02-20T00:00:00\", \"2020-02-21T00:00:00\", \"2020-02-24T00:00:00\", \"2020-02-25T00:00:00\", \"2020-02-26T00:00:00\", \"2020-02-27T00:00:00\", \"2020-02-28T00:00:00\", \"2020-03-02T00:00:00\", \"2020-03-03T00:00:00\", \"2020-03-04T00:00:00\", \"2020-03-05T00:00:00\", \"2020-03-06T00:00:00\", \"2020-03-09T00:00:00\", \"2020-03-10T00:00:00\", \"2020-03-11T00:00:00\", \"2020-03-12T00:00:00\", \"2020-03-13T00:00:00\", \"2020-03-16T00:00:00\", \"2020-03-17T00:00:00\", \"2020-03-18T00:00:00\", \"2020-03-19T00:00:00\", \"2020-03-20T00:00:00\", \"2020-03-23T00:00:00\", \"2020-03-24T00:00:00\", \"2020-03-25T00:00:00\", \"2020-03-26T00:00:00\", \"2020-03-27T00:00:00\", \"2020-03-30T00:00:00\", \"2020-03-31T00:00:00\", \"2020-04-01T00:00:00\", \"2020-04-02T00:00:00\", \"2020-04-03T00:00:00\", \"2020-04-06T00:00:00\", \"2020-04-07T00:00:00\", \"2020-04-08T00:00:00\", \"2020-04-09T00:00:00\", \"2020-04-13T00:00:00\", \"2020-04-14T00:00:00\", \"2020-04-15T00:00:00\", \"2020-04-16T00:00:00\", \"2020-04-17T00:00:00\", \"2020-04-20T00:00:00\", \"2020-04-21T00:00:00\", \"2020-04-22T00:00:00\", \"2020-04-23T00:00:00\", \"2020-04-24T00:00:00\", \"2020-04-27T00:00:00\", \"2020-04-28T00:00:00\", \"2020-04-29T00:00:00\", \"2020-04-30T00:00:00\", \"2020-05-01T00:00:00\", \"2020-05-04T00:00:00\", \"2020-05-05T00:00:00\", \"2020-05-06T00:00:00\", \"2020-05-07T00:00:00\", \"2020-05-08T00:00:00\", \"2020-05-11T00:00:00\", \"2020-05-12T00:00:00\", \"2020-05-13T00:00:00\", \"2020-05-14T00:00:00\", \"2020-05-15T00:00:00\", \"2020-05-18T00:00:00\", \"2020-05-19T00:00:00\", \"2020-05-20T00:00:00\", \"2020-05-21T00:00:00\", \"2020-05-22T00:00:00\", \"2020-05-26T00:00:00\", \"2020-05-27T00:00:00\", \"2020-05-28T00:00:00\", \"2020-05-29T00:00:00\", \"2020-06-01T00:00:00\", \"2020-06-02T00:00:00\", \"2020-06-03T00:00:00\", \"2020-06-04T00:00:00\", \"2020-06-05T00:00:00\", \"2020-06-08T00:00:00\", \"2020-06-09T00:00:00\", \"2020-06-10T00:00:00\", \"2020-06-11T00:00:00\", \"2020-06-12T00:00:00\", \"2020-06-15T00:00:00\", \"2020-06-16T00:00:00\", \"2020-06-17T00:00:00\", \"2020-06-18T00:00:00\", \"2020-06-19T00:00:00\", \"2020-06-22T00:00:00\", \"2020-06-23T00:00:00\", \"2020-06-24T00:00:00\", \"2020-06-25T00:00:00\", \"2020-06-26T00:00:00\", \"2020-06-29T00:00:00\", \"2020-06-30T00:00:00\", \"2020-07-01T00:00:00\", \"2020-07-02T00:00:00\", \"2020-07-06T00:00:00\", \"2020-07-07T00:00:00\", \"2020-07-08T00:00:00\", \"2020-07-09T00:00:00\", \"2020-07-10T00:00:00\", \"2020-07-13T00:00:00\", \"2020-07-14T00:00:00\", \"2020-07-15T00:00:00\", \"2020-07-16T00:00:00\", \"2020-07-17T00:00:00\", \"2020-07-20T00:00:00\", \"2020-07-21T00:00:00\", \"2020-07-22T00:00:00\", \"2020-07-23T00:00:00\", \"2020-07-24T00:00:00\", \"2020-07-27T00:00:00\", \"2020-07-28T00:00:00\", \"2020-07-29T00:00:00\", \"2020-07-30T00:00:00\", \"2020-07-31T00:00:00\", \"2020-08-03T00:00:00\", \"2020-08-04T00:00:00\", \"2020-08-05T00:00:00\", \"2020-08-06T00:00:00\", \"2020-08-07T00:00:00\", \"2020-08-10T00:00:00\", \"2020-08-11T00:00:00\", \"2020-08-12T00:00:00\", \"2020-08-13T00:00:00\", \"2020-08-14T00:00:00\", \"2020-08-17T00:00:00\", \"2020-08-18T00:00:00\", \"2020-08-19T00:00:00\", \"2020-08-20T00:00:00\", \"2020-08-21T00:00:00\", \"2020-08-24T00:00:00\", \"2020-08-25T00:00:00\", \"2020-08-26T00:00:00\", \"2020-08-27T00:00:00\", \"2020-08-28T00:00:00\", \"2020-08-31T00:00:00\", \"2020-09-01T00:00:00\", \"2020-09-02T00:00:00\", \"2020-09-03T00:00:00\", \"2020-09-04T00:00:00\", \"2020-09-08T00:00:00\", \"2020-09-09T00:00:00\", \"2020-09-10T00:00:00\", \"2020-09-11T00:00:00\", \"2020-09-14T00:00:00\", \"2020-09-15T00:00:00\", \"2020-09-16T00:00:00\", \"2020-09-17T00:00:00\", \"2020-09-18T00:00:00\", \"2020-09-21T00:00:00\", \"2020-09-22T00:00:00\", \"2020-09-23T00:00:00\", \"2020-09-24T00:00:00\", \"2020-09-25T00:00:00\", \"2020-09-28T00:00:00\", \"2020-09-29T00:00:00\", \"2020-09-30T00:00:00\", \"2020-10-01T00:00:00\", \"2020-10-02T00:00:00\", \"2020-10-05T00:00:00\", \"2020-10-06T00:00:00\", \"2020-10-07T00:00:00\", \"2020-10-08T00:00:00\", \"2020-10-09T00:00:00\", \"2020-10-12T00:00:00\", \"2020-10-13T00:00:00\", \"2020-10-14T00:00:00\", \"2020-10-15T00:00:00\", \"2020-10-16T00:00:00\", \"2020-10-19T00:00:00\", \"2020-10-20T00:00:00\", \"2020-10-21T00:00:00\", \"2020-10-22T00:00:00\", \"2020-10-23T00:00:00\", \"2020-10-26T00:00:00\", \"2020-10-27T00:00:00\", \"2020-10-28T00:00:00\", \"2020-10-29T00:00:00\", \"2020-10-30T00:00:00\", \"2020-11-02T00:00:00\", \"2020-11-03T00:00:00\", \"2020-11-04T00:00:00\", \"2020-11-05T00:00:00\", \"2020-11-06T00:00:00\", \"2020-11-09T00:00:00\", \"2020-11-10T00:00:00\", \"2020-11-11T00:00:00\", \"2020-11-12T00:00:00\", \"2020-11-13T00:00:00\", \"2020-11-16T00:00:00\", \"2020-11-17T00:00:00\", \"2020-11-18T00:00:00\", \"2020-11-19T00:00:00\", \"2020-11-20T00:00:00\", \"2020-11-23T00:00:00\", \"2020-11-24T00:00:00\", \"2020-11-25T00:00:00\", \"2020-11-27T00:00:00\", \"2020-11-30T00:00:00\", \"2020-12-01T00:00:00\", \"2020-12-02T00:00:00\", \"2020-12-03T00:00:00\", \"2020-12-04T00:00:00\", \"2020-12-07T00:00:00\", \"2020-12-08T00:00:00\", \"2020-12-09T00:00:00\", \"2020-12-10T00:00:00\", \"2020-12-11T00:00:00\", \"2020-12-14T00:00:00\", \"2020-12-15T00:00:00\", \"2020-12-16T00:00:00\", \"2020-12-17T00:00:00\", \"2020-12-18T00:00:00\", \"2020-12-21T00:00:00\", \"2020-12-22T00:00:00\", \"2020-12-23T00:00:00\", \"2020-12-24T00:00:00\", \"2020-12-28T00:00:00\", \"2020-12-29T00:00:00\", \"2020-12-30T00:00:00\", \"2020-12-31T00:00:00\", \"2021-01-04T00:00:00\", \"2021-01-05T00:00:00\", \"2021-01-06T00:00:00\", \"2021-01-07T00:00:00\", \"2021-01-08T00:00:00\", \"2021-01-11T00:00:00\", \"2021-01-12T00:00:00\", \"2021-01-13T00:00:00\", \"2021-01-14T00:00:00\", \"2021-01-15T00:00:00\", \"2021-01-19T00:00:00\", \"2021-01-20T00:00:00\", \"2021-01-21T00:00:00\", \"2021-01-22T00:00:00\", \"2021-01-25T00:00:00\", \"2021-01-26T00:00:00\", \"2021-01-27T00:00:00\", \"2021-01-28T00:00:00\", \"2021-01-29T00:00:00\", \"2021-02-01T00:00:00\", \"2021-02-02T00:00:00\", \"2021-02-03T00:00:00\", \"2021-02-04T00:00:00\", \"2021-02-05T00:00:00\", \"2021-02-08T00:00:00\", \"2021-02-09T00:00:00\", \"2021-02-10T00:00:00\", \"2021-02-11T00:00:00\", \"2021-02-12T00:00:00\", \"2021-02-16T00:00:00\", \"2021-02-17T00:00:00\", \"2021-02-18T00:00:00\"], \"y\": [1.9500000476837158, 1.9500000476837158, 1.9500000476837158, 1.9500000476837158, 1.9500000476837158, 1.9500000476837158, 1.9500000476837158, 1.9562500417232513, 1.9611111481984456, 1.965000033378601, 1.968181848526001, 1.9708333611488342, 1.97307694875277, 1.975000023841858, 1.9766666889190674, 1.9781250208616257, 1.9794117843403536, 1.980555574099223, 1.9815789649361057, 1.9825000166893005, 1.9828571592058455, 1.9831818342208862, 1.983043494431869, 1.982916682958603, 1.9828000164031983, 1.9826923241982093, 1.98259260919359, 1.9825000166893005, 1.9824138098749622, 1.9830000162124635, 1.9835484027862549, 1.9840625151991844, 1.9845454692840576, 1.9847058969385483, 1.9848571572984968, 1.9850000143051147, 1.985135149311375, 1.9852631719488847, 1.9853846293229322, 1.9855000138282777, 1.9873170852661133, 1.9890476294926234, 1.9906976832899936, 1.9922727346420288, 1.9937777837117514, 1.995217395865399, 1.996595747927402, 1.9985416680574417, 2.0004081628760515, 2.0021999979019167, 2.0049999952316284, 2.00779999256134, 2.0105999898910523, 2.013399987220764, 2.016199984550476, 2.018999981880188, 2.0217999792099, 2.021599979400635, 2.0227999782562254, 2.0239999771118162, 2.0255999755859375, 2.028399977684021, 2.0311999797821043, 2.038599977493286, 2.0463999795913694, 2.054199981689453, 2.0619999837875365, 2.06979998588562, 2.0775999879837035, 2.085399990081787, 2.093399991989136, 2.1013999938964845, 2.109599995613098, 2.117799997329712, 2.125999999046326, 2.1342000007629394, 2.1424000024795533, 2.150600004196167, 2.1588000059127808, 2.1628000068664552, 2.1688000059127805, 2.1748000049591063, 2.180800004005432, 2.187000002861023, 2.1932000017166136, 2.1966000032424926, 2.2000000047683717, 2.2034000062942507, 2.2068000078201293, 2.208200006484985, 2.2084000062942506, 2.2054000067710877, 2.202400007247925, 2.199400007724762, 2.1970000100135803, 2.1946000123023985, 2.192200014591217, 2.18920001745224, 2.186200020313263, 2.183200023174286, 2.1802000260353087, 2.1772000288963316, 2.1712000298500063, 2.1652000308036805, 2.1592000317573548, 2.153200032711029, 2.1472000336647032, 2.143200032711029, 2.137800033092499, 2.1324000334739686, 2.1274000358581544, 2.1212000346183775, 2.115000033378601, 2.1042000365257265, 2.0940000343322756, 2.0830000329017637, 2.0720000314712523, 2.061000030040741, 2.0500000286102296, 2.039000027179718, 2.0280000257492063, 2.017000024318695, 2.0060000228881836, 1.9950000214576722, 1.9840000200271606, 1.9730000185966492, 1.9620000171661376, 1.9510000157356262, 1.9400000143051148, 1.9328000140190125, 1.9244000148773193, 1.9160000157356263, 1.907600016593933, 1.89920001745224, 1.890800018310547, 1.8852000164985656, 1.878800015449524, 1.8758000135421753, 1.8722000122070312, 1.8706000137329102, 1.8694000148773193, 1.8714000153541566, 1.870600016117096, 1.8702000164985657, 1.8684000158309937, 1.8666000151634217, 1.863600013256073, 1.8588000130653382, 1.8540000128746033, 1.8478000116348268, 1.84160001039505, 1.8354000091552733, 1.8322000098228455, 1.8290000104904174, 1.8258000111579895, 1.8226000118255614, 1.8194000124931335, 1.8162000131607057, 1.8162000131607057, 1.8162000131607057, 1.8154000115394593, 1.814600009918213, 1.8138000082969665, 1.8130000066757201, 1.8112000060081481, 1.8102000045776367, 1.8092000031471251, 1.8082000017166138, 1.8072000002861024, 1.8061999988555908, 1.8051999974250794, 1.8041999959945678, 1.8031999945640564, 1.80239999294281, 1.8015999913215637, 1.8007999897003173, 1.8019999885559081, 1.803199987411499, 1.8043999862670899, 1.8055999851226807, 1.805999984741211, 1.8063999843597411, 1.8067999839782716, 1.8067999839782716, 1.8067999839782716, 1.8067999839782716, 1.807599983215332, 1.8049999833106996, 1.8029999828338623, 1.800999982357025, 1.7983999824523926, 1.79579998254776, 1.7959999823570252, 1.79579998254776, 1.7963999819755554, 1.7949999809265136, 1.7947999811172486, 1.800399980545044, 1.8057999801635742, 1.8125999808311462, 1.8193999814987183, 1.8261999821662902, 1.8329999828338623, 1.8397999835014343, 1.8465999841690064, 1.8509999847412109, 1.8549999856948853, 1.8587999868392944, 1.8593999886512755, 1.859999990463257, 1.859999990463257, 1.860199990272522, 1.8603999900817871, 1.8605999898910524, 1.8607999897003173, 1.8609999895095826, 1.865199990272522, 1.8693999910354615, 1.873599991798401, 1.8777999925613402, 1.8819999933242797, 1.8861999940872192, 1.8903999948501586, 1.8943999958038331, 1.8967999958992003, 1.8991999959945678, 1.8995999956130982, 1.8999999952316284, 1.9003999948501586, 1.9007999944686889, 1.9011999940872193, 1.9015999937057495, 1.9019999933242797, 1.9027999925613404, 1.9035999917984008, 1.9035999917984008, 1.9035999917984008, 1.9035999917984008, 1.9035999917984008, 1.9035999917984008, 1.906999990940094, 1.910199990272522, 1.9145999884605407, 1.9189999866485596, 1.9229999852180482, 1.9289999842643737, 1.934199984073639, 1.9353999829292297, 1.9365999817848205, 1.9379999804496766, 1.9373999810218812, 1.9381999802589416, 1.9453999781608582, 1.9525999760627746, 1.9597999739646912, 1.969399971961975, 1.9749999690055846, 1.9807999658584594, 1.9867999625205994, 1.9927999591827392, 1.9993999576568604, 2.005799956321716, 2.0121999549865723, 2.018599953651428, 2.021199953556061, 2.0237999534606934, 2.022399952411652, 2.02099995136261, 2.019599950313568, 2.018799951076508, 2.0163999509811403, 2.013999950885773, 2.0099999499320984, 2.004599950313568, 2.000799951553345, 1.9971999526023865, 1.9935999536514282, 1.9899999547004699, 1.9863999557495118, 1.9827999567985535, 1.9817999577522278, 1.9791999578475952, 1.9765999579429627, 1.97399995803833, 1.9733999586105346, 1.9737999582290648, 1.9741999578475953, 1.9745999574661255, 1.9749999570846557, 1.9753999567031861, 1.9723999571800233, 1.9655999588966369, 1.9557999610900878, 1.9459999632835387, 1.9359999656677247, 1.9259999680519104, 1.9167999696731568, 1.9075999712944032, 1.8985999727249145, 1.889399974346161, 1.8819999742507934, 1.8721999740600586, 1.8553999757766724, 1.8385999774932862, 1.8197999787330628, 1.8009999799728393, 1.7865999817848206, 1.7729999828338623, 1.759199984073639, 1.7467999863624573, 1.7343999886512755, 1.720399990081787, 1.7061999917030335, 1.6917999935150148, 1.6811999940872193, 1.6705999946594239, 1.6599999952316284, 1.6483999967575074, 1.6401999974250794, 1.6307999968528748, 1.6189999961853028, 1.6071999955177307, 1.5969999957084655, 1.5881999945640564, 1.5793999934196472, 1.5719999933242799, 1.5645999932289123, 1.5577999925613404, 1.5509999918937682, 1.5417999911308289, 1.5315999913215637, 1.5229999923706055, 1.5131999921798707, 1.5049999928474427, 1.497199993133545, 1.4887999939918517, 1.4803999948501587, 1.4703999948501587, 1.4603999948501587, 1.449399995803833, 1.4383999967575074, 1.431199996471405, 1.4257999968528747, 1.4203999972343444, 1.4155999970436097, 1.4107999968528748, 1.40599999666214, 1.401199996471405, 1.3991999959945678, 1.3969999957084656, 1.390799994468689, 1.3855999946594237, 1.380999994277954, 1.3767999935150146, 1.3745999932289124, 1.3723999929428101, 1.3747999930381776, 1.375799994468689, 1.3767999958992005, 1.3763999962806701, 1.37599999666214, 1.3771999979019165, 1.3785999989509583, 1.3775999999046327, 1.3766000008583068, 1.3754000020027162, 1.3742000031471253, 1.37400000333786, 1.3704000043869018, 1.367400004863739, 1.3712000060081482, 1.3750000071525574, 1.3788000082969665, 1.3826000094413757, 1.386400010585785, 1.3886000108718872, 1.3908000111579895, 1.3924000120162965, 1.3940000128746033, 1.3980000138282775, 1.4024000144004822, 1.4068000149726867, 1.4198000168800353, 1.4296000170707703, 1.4370000171661377, 1.444400017261505, 1.4522000169754028, 1.4616000175476074, 1.4650000190734864, 1.469400019645691, 1.477800018787384, 1.4864000177383423, 1.4950000166893005, 1.5036000156402587, 1.5094000148773192, 1.51520001411438, 1.5210000133514405, 1.526800012588501, 1.5298000121116637, 1.5330000114440918, 1.547000012397766, 1.5626000118255616, 1.578200011253357, 1.593400011062622, 1.6140000104904175, 1.6356000089645386, 1.6560000085830688, 1.6772000074386597, 1.6984000062942506, 1.7210000038146973, 1.7430000019073486, 1.765, 1.7821999979019165, 1.8059999966621398, 1.824399995803833, 1.8477999949455262, 1.869399995803833, 1.8923999953269959, 1.9125999927520752, 1.9327999901771546, 1.9503999876976013, 1.9705999875068665, 1.989999988079071, 2.01339998960495, 2.037199990749359, 2.0609999918937683, 2.0847999930381773, 2.107199990749359, 2.125199992656708, 2.1443999934196474, 2.1625999927520754, 2.1799999928474425, 2.1893999934196473, 2.2003999948501587, 2.2095999932289123, 2.2191999912261964, 2.2245999932289124, 2.2331999921798706, 2.24879998922348, 2.2673999881744384, 2.2807999897003173, 2.294999990463257, 2.3049999904632568, 2.3191999912261965, 2.341599991321564, 2.362199993133545, 2.384199993610382, 2.406199994087219, 2.426199996471405, 2.4461999988555907, 2.4653999996185303, 2.4805999994277954, 2.4957999992370605, 2.5111999988555906, 2.521199998855591, 2.5301999998092652, 2.5346000003814697, 2.5422000026702882, 2.5498000049591063, 2.556000008583069, 2.563200011253357, 2.574200015068054, 2.5914000177383425, 2.599800019264221, 2.6136000204086303, 2.631600022315979, 2.6592000198364256, 2.6854000186920164, 2.723000020980835, 2.7562000274658205, 2.784000029563904, 2.809200029373169, 2.8352000284194947, 2.862200026512146, 2.8930000257492066, 2.9280000257492067, 2.96780002117157, 3.0090000200271607, 3.0692000150680543, 3.120400013923645, 3.167200012207031, 3.2150000143051147, 3.2618000173568724, 3.3118000173568727, 3.3592000150680543, 3.4064000177383424, 3.457400016784668, 3.50280002117157, 3.547200026512146, 3.5852000284194947, 3.624400029182434, 3.6648000288009643, 3.707200026512146, 3.751000027656555, 3.7920000314712525, 3.8412000274658205, 3.889000024795532, 3.9384000205993654, 3.986400022506714, 4.038400020599365, 4.084600019454956, 4.1332000207901, 4.193200025558472, 4.254000024795532, 4.32120002746582, 4.391000032424927, 4.462000036239624, 4.529600038528442, 4.606200037002563, 4.685400037765503, 4.762600040435791, 4.83560004234314, 4.911800045967102, 4.982600045204163, 5.053000044822693, 5.111200046539307, 5.165200047492981, 5.218800048828125, 5.268400049209594, 5.319200048446655, 5.364200048446655, 5.405200052261352, 5.4402000522613525, 5.462600049972534, 5.483800048828125, 5.4974000453948975, 5.506200046539306, 5.504200048446656, 5.495000047683716, 5.495000047683716, 5.496400051116943, 5.499200048446656, 5.503400039672852, 5.505000038146973, 5.523600044250489, 5.5412000465393065, 5.564600048065185]}],\n",
              "                        {\"template\": {\"data\": {\"bar\": [{\"error_x\": {\"color\": \"#2a3f5f\"}, \"error_y\": {\"color\": \"#2a3f5f\"}, \"marker\": {\"line\": {\"color\": \"#E5ECF6\", \"width\": 0.5}}, \"type\": \"bar\"}], \"barpolar\": [{\"marker\": {\"line\": {\"color\": \"#E5ECF6\", \"width\": 0.5}}, \"type\": \"barpolar\"}], \"carpet\": [{\"aaxis\": {\"endlinecolor\": \"#2a3f5f\", \"gridcolor\": \"white\", \"linecolor\": \"white\", \"minorgridcolor\": \"white\", \"startlinecolor\": \"#2a3f5f\"}, \"baxis\": {\"endlinecolor\": \"#2a3f5f\", \"gridcolor\": \"white\", \"linecolor\": \"white\", \"minorgridcolor\": \"white\", \"startlinecolor\": \"#2a3f5f\"}, \"type\": \"carpet\"}], \"choropleth\": [{\"colorbar\": {\"outlinewidth\": 0, \"ticks\": \"\"}, \"type\": \"choropleth\"}], \"contour\": [{\"colorbar\": {\"outlinewidth\": 0, \"ticks\": \"\"}, \"colorscale\": [[0.0, \"#0d0887\"], [0.1111111111111111, \"#46039f\"], [0.2222222222222222, \"#7201a8\"], [0.3333333333333333, \"#9c179e\"], [0.4444444444444444, \"#bd3786\"], [0.5555555555555556, \"#d8576b\"], [0.6666666666666666, \"#ed7953\"], [0.7777777777777778, \"#fb9f3a\"], [0.8888888888888888, \"#fdca26\"], [1.0, \"#f0f921\"]], \"type\": \"contour\"}], \"contourcarpet\": [{\"colorbar\": {\"outlinewidth\": 0, \"ticks\": \"\"}, \"type\": \"contourcarpet\"}], \"heatmap\": [{\"colorbar\": {\"outlinewidth\": 0, \"ticks\": \"\"}, \"colorscale\": [[0.0, \"#0d0887\"], [0.1111111111111111, \"#46039f\"], [0.2222222222222222, \"#7201a8\"], [0.3333333333333333, \"#9c179e\"], [0.4444444444444444, \"#bd3786\"], [0.5555555555555556, \"#d8576b\"], [0.6666666666666666, \"#ed7953\"], [0.7777777777777778, \"#fb9f3a\"], [0.8888888888888888, \"#fdca26\"], [1.0, \"#f0f921\"]], \"type\": \"heatmap\"}], \"heatmapgl\": [{\"colorbar\": {\"outlinewidth\": 0, \"ticks\": \"\"}, \"colorscale\": [[0.0, \"#0d0887\"], [0.1111111111111111, \"#46039f\"], [0.2222222222222222, \"#7201a8\"], [0.3333333333333333, \"#9c179e\"], [0.4444444444444444, \"#bd3786\"], [0.5555555555555556, \"#d8576b\"], [0.6666666666666666, \"#ed7953\"], [0.7777777777777778, \"#fb9f3a\"], [0.8888888888888888, \"#fdca26\"], [1.0, \"#f0f921\"]], \"type\": \"heatmapgl\"}], \"histogram\": [{\"marker\": {\"colorbar\": {\"outlinewidth\": 0, \"ticks\": \"\"}}, \"type\": \"histogram\"}], \"histogram2d\": [{\"colorbar\": {\"outlinewidth\": 0, \"ticks\": \"\"}, \"colorscale\": [[0.0, \"#0d0887\"], [0.1111111111111111, \"#46039f\"], [0.2222222222222222, \"#7201a8\"], [0.3333333333333333, \"#9c179e\"], [0.4444444444444444, \"#bd3786\"], [0.5555555555555556, \"#d8576b\"], [0.6666666666666666, \"#ed7953\"], [0.7777777777777778, \"#fb9f3a\"], [0.8888888888888888, \"#fdca26\"], [1.0, \"#f0f921\"]], \"type\": \"histogram2d\"}], \"histogram2dcontour\": [{\"colorbar\": {\"outlinewidth\": 0, \"ticks\": \"\"}, \"colorscale\": [[0.0, \"#0d0887\"], [0.1111111111111111, \"#46039f\"], [0.2222222222222222, \"#7201a8\"], [0.3333333333333333, \"#9c179e\"], [0.4444444444444444, \"#bd3786\"], [0.5555555555555556, \"#d8576b\"], [0.6666666666666666, \"#ed7953\"], [0.7777777777777778, \"#fb9f3a\"], [0.8888888888888888, \"#fdca26\"], [1.0, \"#f0f921\"]], \"type\": \"histogram2dcontour\"}], \"mesh3d\": [{\"colorbar\": {\"outlinewidth\": 0, \"ticks\": \"\"}, \"type\": \"mesh3d\"}], \"parcoords\": [{\"line\": {\"colorbar\": {\"outlinewidth\": 0, \"ticks\": \"\"}}, \"type\": \"parcoords\"}], \"pie\": [{\"automargin\": true, \"type\": \"pie\"}], \"scatter\": [{\"marker\": {\"colorbar\": {\"outlinewidth\": 0, \"ticks\": \"\"}}, \"type\": \"scatter\"}], \"scatter3d\": [{\"line\": {\"colorbar\": {\"outlinewidth\": 0, \"ticks\": \"\"}}, \"marker\": {\"colorbar\": {\"outlinewidth\": 0, \"ticks\": \"\"}}, \"type\": \"scatter3d\"}], \"scattercarpet\": [{\"marker\": {\"colorbar\": {\"outlinewidth\": 0, \"ticks\": \"\"}}, \"type\": \"scattercarpet\"}], \"scattergeo\": [{\"marker\": {\"colorbar\": {\"outlinewidth\": 0, \"ticks\": \"\"}}, \"type\": \"scattergeo\"}], \"scattergl\": [{\"marker\": {\"colorbar\": {\"outlinewidth\": 0, \"ticks\": \"\"}}, \"type\": \"scattergl\"}], \"scattermapbox\": [{\"marker\": {\"colorbar\": {\"outlinewidth\": 0, \"ticks\": \"\"}}, \"type\": \"scattermapbox\"}], \"scatterpolar\": [{\"marker\": {\"colorbar\": {\"outlinewidth\": 0, \"ticks\": \"\"}}, \"type\": \"scatterpolar\"}], \"scatterpolargl\": [{\"marker\": {\"colorbar\": {\"outlinewidth\": 0, \"ticks\": \"\"}}, \"type\": \"scatterpolargl\"}], \"scatterternary\": [{\"marker\": {\"colorbar\": {\"outlinewidth\": 0, \"ticks\": \"\"}}, \"type\": \"scatterternary\"}], \"surface\": [{\"colorbar\": {\"outlinewidth\": 0, \"ticks\": \"\"}, \"colorscale\": [[0.0, \"#0d0887\"], [0.1111111111111111, \"#46039f\"], [0.2222222222222222, \"#7201a8\"], [0.3333333333333333, \"#9c179e\"], [0.4444444444444444, \"#bd3786\"], [0.5555555555555556, \"#d8576b\"], [0.6666666666666666, \"#ed7953\"], [0.7777777777777778, \"#fb9f3a\"], [0.8888888888888888, \"#fdca26\"], [1.0, \"#f0f921\"]], \"type\": \"surface\"}], \"table\": [{\"cells\": {\"fill\": {\"color\": \"#EBF0F8\"}, \"line\": {\"color\": \"white\"}}, \"header\": {\"fill\": {\"color\": \"#C8D4E3\"}, \"line\": {\"color\": \"white\"}}, \"type\": \"table\"}]}, \"layout\": {\"annotationdefaults\": {\"arrowcolor\": \"#2a3f5f\", \"arrowhead\": 0, \"arrowwidth\": 1}, \"coloraxis\": {\"colorbar\": {\"outlinewidth\": 0, \"ticks\": \"\"}}, \"colorscale\": {\"diverging\": [[0, \"#8e0152\"], [0.1, \"#c51b7d\"], [0.2, \"#de77ae\"], [0.3, \"#f1b6da\"], [0.4, \"#fde0ef\"], [0.5, \"#f7f7f7\"], [0.6, \"#e6f5d0\"], [0.7, \"#b8e186\"], [0.8, \"#7fbc41\"], [0.9, \"#4d9221\"], [1, \"#276419\"]], \"sequential\": [[0.0, \"#0d0887\"], [0.1111111111111111, \"#46039f\"], [0.2222222222222222, \"#7201a8\"], [0.3333333333333333, \"#9c179e\"], [0.4444444444444444, \"#bd3786\"], [0.5555555555555556, \"#d8576b\"], [0.6666666666666666, \"#ed7953\"], [0.7777777777777778, \"#fb9f3a\"], [0.8888888888888888, \"#fdca26\"], [1.0, \"#f0f921\"]], \"sequentialminus\": [[0.0, \"#0d0887\"], [0.1111111111111111, \"#46039f\"], [0.2222222222222222, \"#7201a8\"], [0.3333333333333333, \"#9c179e\"], [0.4444444444444444, \"#bd3786\"], [0.5555555555555556, \"#d8576b\"], [0.6666666666666666, \"#ed7953\"], [0.7777777777777778, \"#fb9f3a\"], [0.8888888888888888, \"#fdca26\"], [1.0, \"#f0f921\"]]}, \"colorway\": [\"#636efa\", \"#EF553B\", \"#00cc96\", \"#ab63fa\", \"#FFA15A\", \"#19d3f3\", \"#FF6692\", \"#B6E880\", \"#FF97FF\", \"#FECB52\"], \"font\": {\"color\": \"#2a3f5f\"}, \"geo\": {\"bgcolor\": \"white\", \"lakecolor\": \"white\", \"landcolor\": \"#E5ECF6\", \"showlakes\": true, \"showland\": true, \"subunitcolor\": \"white\"}, \"hoverlabel\": {\"align\": \"left\"}, \"hovermode\": \"closest\", \"mapbox\": {\"style\": \"light\"}, \"paper_bgcolor\": \"white\", \"plot_bgcolor\": \"#E5ECF6\", \"polar\": {\"angularaxis\": {\"gridcolor\": \"white\", \"linecolor\": \"white\", \"ticks\": \"\"}, \"bgcolor\": \"#E5ECF6\", \"radialaxis\": {\"gridcolor\": \"white\", \"linecolor\": \"white\", \"ticks\": \"\"}}, \"scene\": {\"xaxis\": {\"backgroundcolor\": \"#E5ECF6\", \"gridcolor\": \"white\", \"gridwidth\": 2, \"linecolor\": \"white\", \"showbackground\": true, \"ticks\": \"\", \"zerolinecolor\": \"white\"}, \"yaxis\": {\"backgroundcolor\": \"#E5ECF6\", \"gridcolor\": \"white\", \"gridwidth\": 2, \"linecolor\": \"white\", \"showbackground\": true, \"ticks\": \"\", \"zerolinecolor\": \"white\"}, \"zaxis\": {\"backgroundcolor\": \"#E5ECF6\", \"gridcolor\": \"white\", \"gridwidth\": 2, \"linecolor\": \"white\", \"showbackground\": true, \"ticks\": \"\", \"zerolinecolor\": \"white\"}}, \"shapedefaults\": {\"line\": {\"color\": \"#2a3f5f\"}}, \"ternary\": {\"aaxis\": {\"gridcolor\": \"white\", \"linecolor\": \"white\", \"ticks\": \"\"}, \"baxis\": {\"gridcolor\": \"white\", \"linecolor\": \"white\", \"ticks\": \"\"}, \"bgcolor\": \"#E5ECF6\", \"caxis\": {\"gridcolor\": \"white\", \"linecolor\": \"white\", \"ticks\": \"\"}}, \"title\": {\"x\": 0.05}, \"xaxis\": {\"automargin\": true, \"gridcolor\": \"white\", \"linecolor\": \"white\", \"ticks\": \"\", \"title\": {\"standoff\": 15}, \"zerolinecolor\": \"white\", \"zerolinewidth\": 2}, \"yaxis\": {\"automargin\": true, \"gridcolor\": \"white\", \"linecolor\": \"white\", \"ticks\": \"\", \"title\": {\"standoff\": 15}, \"zerolinecolor\": \"white\", \"zerolinewidth\": 2}}}, \"title\": {\"font\": {\"size\": 15}, \"text\": \"COSCO SHIPPING(CICOY) Moving Averages\"}},\n",
              "                        {\"responsive\": true}\n",
              "                    ).then(function(){\n",
              "                            \n",
              "var gd = document.getElementById('2fd67fc9-a239-419e-b671-4bf0d0467183');\n",
              "var x = new MutationObserver(function (mutations, observer) {{\n",
              "        var display = window.getComputedStyle(gd).display;\n",
              "        if (!display || display === 'none') {{\n",
              "            console.log([gd, 'removed!']);\n",
              "            Plotly.purge(gd);\n",
              "            observer.disconnect();\n",
              "        }}\n",
              "}});\n",
              "\n",
              "// Listen for the removal of the full notebook cells\n",
              "var notebookContainer = gd.closest('#notebook-container');\n",
              "if (notebookContainer) {{\n",
              "    x.observe(notebookContainer, {childList: true});\n",
              "}}\n",
              "\n",
              "// Listen for the clearing of the current output cell\n",
              "var outputEl = gd.closest('.output');\n",
              "if (outputEl) {{\n",
              "    x.observe(outputEl, {childList: true});\n",
              "}}\n",
              "\n",
              "                        })\n",
              "                };\n",
              "                \n",
              "            </script>\n",
              "        </div>\n",
              "</body>\n",
              "</html>"
            ]
          },
          "metadata": {
            "tags": []
          }
        }
      ]
    },
    {
      "cell_type": "code",
      "metadata": {
        "id": "tn8T8JHaxn79"
      },
      "source": [
        ""
      ],
      "execution_count": null,
      "outputs": []
    }
  ]
}