{
  "nbformat": 4,
  "nbformat_minor": 0,
  "metadata": {
    "colab": {
      "name": "Covid Effects On Logistical Stocks",
      "provenance": [],
      "collapsed_sections": [
        "4-LpfHm6ZFFa"
      ],
      "toc_visible": true
    },
    "kernelspec": {
      "name": "python3",
      "display_name": "Python 3"
    }
  },
  "cells": [
    {
      "cell_type": "markdown",
      "metadata": {
        "id": "KLCSJQuwY_T-"
      },
      "source": [
        "Chalenge: To determine the effects of Covid-19 in the U.S as it relates to the stock values of major shipping companies.\r\n",
        "\r\n",
        "Hypothesis: The pandemic is inversely correlated with the rise of major shipping companie stock prices.\r\n",
        "\r\n",
        "Process:\r\n",
        "\r\n",
        "  1. Pull covid-19 infection data in U.S. and sort by date\r\n",
        "  2. Pull stock information for various logistic corporations after first covid-19 infections began.\r\n",
        "  3. Calculate any correlations between covid-19 and individual stock prices\r\n",
        "  4. Evaluate any changes in market value for individual stocks\r\n",
        "  5. Evaluate the percentage of market change for all stocks."
      ]
    },
    {
      "cell_type": "markdown",
      "metadata": {
        "id": "NyaKICkCZe6P"
      },
      "source": [
        "# Covid-19 DataSet\r\n",
        "\r\n",
        "https://www.kaggle.com/sudalairajkumar/covid19-in-usa"
      ]
    },
    {
      "cell_type": "markdown",
      "metadata": {
        "id": "iNBTBPn8Zo3W"
      },
      "source": [
        "## Import Libraries"
      ]
    },
    {
      "cell_type": "code",
      "metadata": {
        "id": "azO2xV_MaFle"
      },
      "source": [
        "import datetime\r\n",
        "from pandas_datareader import data as pdr\r\n",
        "import matplotlib.pyplot as plt\r\n",
        "from scipy import stats\r\n",
        "import pandas as pd\r\n",
        "import seaborn as sns\r\n",
        "import numpy as np\r\n",
        "import plotly.express as px"
      ],
      "execution_count": null,
      "outputs": []
    },
    {
      "cell_type": "code",
      "metadata": {
        "colab": {
          "base_uri": "https://localhost:8080/"
        },
        "id": "TjF76I6sbRDW",
        "outputId": "e7c158b3-8c0f-4669-c2a5-5dfc87659e26"
      },
      "source": [
        "# Store dataset in a Pandas Dataframe\r\n",
        "from google.colab import drive\r\n",
        "drive.mount(\"/content/gdrive\")\r\n",
        "\r\n"
      ],
      "execution_count": null,
      "outputs": [
        {
          "output_type": "stream",
          "text": [
            "Mounted at /content/gdrive\n"
          ],
          "name": "stdout"
        }
      ]
    },
    {
      "cell_type": "markdown",
      "metadata": {
        "id": "aAmFGbHEbipW"
      },
      "source": [
        "## Create Clean Covid-19 Dataframe"
      ]
    },
    {
      "cell_type": "code",
      "metadata": {
        "colab": {
          "base_uri": "https://localhost:8080/",
          "height": 195
        },
        "id": "SALJnCHjboug",
        "outputId": "4e39f482-ac3f-49b1-f8a2-f13a903550b7"
      },
      "source": [
        "covid_df = pd.read_csv(\"/content/gdrive/MyDrive/Thinkful/CAPSTONE3 /us-counties.csv\") \r\n",
        "covid_df.head()"
      ],
      "execution_count": null,
      "outputs": [
        {
          "output_type": "execute_result",
          "data": {
            "text/html": [
              "<div>\n",
              "<style scoped>\n",
              "    .dataframe tbody tr th:only-of-type {\n",
              "        vertical-align: middle;\n",
              "    }\n",
              "\n",
              "    .dataframe tbody tr th {\n",
              "        vertical-align: top;\n",
              "    }\n",
              "\n",
              "    .dataframe thead th {\n",
              "        text-align: right;\n",
              "    }\n",
              "</style>\n",
              "<table border=\"1\" class=\"dataframe\">\n",
              "  <thead>\n",
              "    <tr style=\"text-align: right;\">\n",
              "      <th></th>\n",
              "      <th>date</th>\n",
              "      <th>county</th>\n",
              "      <th>state</th>\n",
              "      <th>fips</th>\n",
              "      <th>cases</th>\n",
              "      <th>deaths</th>\n",
              "    </tr>\n",
              "  </thead>\n",
              "  <tbody>\n",
              "    <tr>\n",
              "      <th>0</th>\n",
              "      <td>2020-01-21</td>\n",
              "      <td>Snohomish</td>\n",
              "      <td>Washington</td>\n",
              "      <td>53061.0</td>\n",
              "      <td>1</td>\n",
              "      <td>0.0</td>\n",
              "    </tr>\n",
              "    <tr>\n",
              "      <th>1</th>\n",
              "      <td>2020-01-22</td>\n",
              "      <td>Snohomish</td>\n",
              "      <td>Washington</td>\n",
              "      <td>53061.0</td>\n",
              "      <td>1</td>\n",
              "      <td>0.0</td>\n",
              "    </tr>\n",
              "    <tr>\n",
              "      <th>2</th>\n",
              "      <td>2020-01-23</td>\n",
              "      <td>Snohomish</td>\n",
              "      <td>Washington</td>\n",
              "      <td>53061.0</td>\n",
              "      <td>1</td>\n",
              "      <td>0.0</td>\n",
              "    </tr>\n",
              "    <tr>\n",
              "      <th>3</th>\n",
              "      <td>2020-01-24</td>\n",
              "      <td>Cook</td>\n",
              "      <td>Illinois</td>\n",
              "      <td>17031.0</td>\n",
              "      <td>1</td>\n",
              "      <td>0.0</td>\n",
              "    </tr>\n",
              "    <tr>\n",
              "      <th>4</th>\n",
              "      <td>2020-01-24</td>\n",
              "      <td>Snohomish</td>\n",
              "      <td>Washington</td>\n",
              "      <td>53061.0</td>\n",
              "      <td>1</td>\n",
              "      <td>0.0</td>\n",
              "    </tr>\n",
              "  </tbody>\n",
              "</table>\n",
              "</div>"
            ],
            "text/plain": [
              "         date     county       state     fips  cases  deaths\n",
              "0  2020-01-21  Snohomish  Washington  53061.0      1     0.0\n",
              "1  2020-01-22  Snohomish  Washington  53061.0      1     0.0\n",
              "2  2020-01-23  Snohomish  Washington  53061.0      1     0.0\n",
              "3  2020-01-24       Cook    Illinois  17031.0      1     0.0\n",
              "4  2020-01-24  Snohomish  Washington  53061.0      1     0.0"
            ]
          },
          "metadata": {
            "tags": []
          },
          "execution_count": 3
        }
      ]
    },
    {
      "cell_type": "code",
      "metadata": {
        "colab": {
          "base_uri": "https://localhost:8080/",
          "height": 431
        },
        "id": "etSiop7GbvNg",
        "outputId": "0a592a01-c30f-4881-fd6c-dbf4710a0504"
      },
      "source": [
        "# Create table with running total of cases and deaths and remove the fips column\r\n",
        "covid_total = covid_df.groupby(['date']).sum()\r\n",
        "covid_total = covid_total.drop(['fips'], axis=1)\r\n",
        "covid_total"
      ],
      "execution_count": null,
      "outputs": [
        {
          "output_type": "execute_result",
          "data": {
            "text/html": [
              "<div>\n",
              "<style scoped>\n",
              "    .dataframe tbody tr th:only-of-type {\n",
              "        vertical-align: middle;\n",
              "    }\n",
              "\n",
              "    .dataframe tbody tr th {\n",
              "        vertical-align: top;\n",
              "    }\n",
              "\n",
              "    .dataframe thead th {\n",
              "        text-align: right;\n",
              "    }\n",
              "</style>\n",
              "<table border=\"1\" class=\"dataframe\">\n",
              "  <thead>\n",
              "    <tr style=\"text-align: right;\">\n",
              "      <th></th>\n",
              "      <th>cases</th>\n",
              "      <th>deaths</th>\n",
              "    </tr>\n",
              "    <tr>\n",
              "      <th>date</th>\n",
              "      <th></th>\n",
              "      <th></th>\n",
              "    </tr>\n",
              "  </thead>\n",
              "  <tbody>\n",
              "    <tr>\n",
              "      <th>2020-01-21</th>\n",
              "      <td>1</td>\n",
              "      <td>0.0</td>\n",
              "    </tr>\n",
              "    <tr>\n",
              "      <th>2020-01-22</th>\n",
              "      <td>1</td>\n",
              "      <td>0.0</td>\n",
              "    </tr>\n",
              "    <tr>\n",
              "      <th>2020-01-23</th>\n",
              "      <td>1</td>\n",
              "      <td>0.0</td>\n",
              "    </tr>\n",
              "    <tr>\n",
              "      <th>2020-01-24</th>\n",
              "      <td>2</td>\n",
              "      <td>0.0</td>\n",
              "    </tr>\n",
              "    <tr>\n",
              "      <th>2020-01-25</th>\n",
              "      <td>3</td>\n",
              "      <td>0.0</td>\n",
              "    </tr>\n",
              "    <tr>\n",
              "      <th>...</th>\n",
              "      <td>...</td>\n",
              "      <td>...</td>\n",
              "    </tr>\n",
              "    <tr>\n",
              "      <th>2021-01-26</th>\n",
              "      <td>25484820</td>\n",
              "      <td>425211.0</td>\n",
              "    </tr>\n",
              "    <tr>\n",
              "      <th>2021-01-27</th>\n",
              "      <td>25640449</td>\n",
              "      <td>429312.0</td>\n",
              "    </tr>\n",
              "    <tr>\n",
              "      <th>2021-01-28</th>\n",
              "      <td>25805713</td>\n",
              "      <td>433180.0</td>\n",
              "    </tr>\n",
              "    <tr>\n",
              "      <th>2021-01-29</th>\n",
              "      <td>25971349</td>\n",
              "      <td>436780.0</td>\n",
              "    </tr>\n",
              "    <tr>\n",
              "      <th>2021-01-30</th>\n",
              "      <td>26105263</td>\n",
              "      <td>439421.0</td>\n",
              "    </tr>\n",
              "  </tbody>\n",
              "</table>\n",
              "<p>376 rows × 2 columns</p>\n",
              "</div>"
            ],
            "text/plain": [
              "               cases    deaths\n",
              "date                          \n",
              "2020-01-21         1       0.0\n",
              "2020-01-22         1       0.0\n",
              "2020-01-23         1       0.0\n",
              "2020-01-24         2       0.0\n",
              "2020-01-25         3       0.0\n",
              "...              ...       ...\n",
              "2021-01-26  25484820  425211.0\n",
              "2021-01-27  25640449  429312.0\n",
              "2021-01-28  25805713  433180.0\n",
              "2021-01-29  25971349  436780.0\n",
              "2021-01-30  26105263  439421.0\n",
              "\n",
              "[376 rows x 2 columns]"
            ]
          },
          "metadata": {
            "tags": []
          },
          "execution_count": 4
        }
      ]
    },
    {
      "cell_type": "code",
      "metadata": {
        "colab": {
          "base_uri": "https://localhost:8080/",
          "height": 307
        },
        "id": "PdPAO-WjeKyx",
        "outputId": "5d9bdb85-13ae-479d-ce96-ed10dd73fa00"
      },
      "source": [
        "# Scatterplot representing total cases\r\n",
        "sns.scatterplot(x=\"date\", y=\"cases\", data=covid_total)\r\n",
        "plt.ylabel('Cases in Millions')"
      ],
      "execution_count": null,
      "outputs": [
        {
          "output_type": "execute_result",
          "data": {
            "text/plain": [
              "Text(0, 0.5, 'Cases in Millions')"
            ]
          },
          "metadata": {
            "tags": []
          },
          "execution_count": 5
        },
        {
          "output_type": "display_data",
          "data": {
            "image/png": "[encoded data removed]",
            "text/plain": [
              "<Figure size 432x288 with 1 Axes>"
            ]
          },
          "metadata": {
            "tags": [],
            "needs_background": "light"
          }
        }
      ]
    },
    {
      "cell_type": "code",
      "metadata": {
        "colab": {
          "base_uri": "https://localhost:8080/",
          "height": 296
        },
        "id": "UPdxi2z_fwtI",
        "outputId": "64c50ddd-a3fa-49bd-bc92-3eee9d0ecf08"
      },
      "source": [
        "# Scatterplot representing total deaths\r\n",
        "sns.scatterplot(x=\"date\", y=\"deaths\", data=covid_total)"
      ],
      "execution_count": null,
      "outputs": [
        {
          "output_type": "execute_result",
          "data": {
            "text/plain": [
              "<matplotlib.axes._subplots.AxesSubplot at 0x7f9612464d68>"
            ]
          },
          "metadata": {
            "tags": []
          },
          "execution_count": 6
        },
        {
          "output_type": "display_data",
          "data": {
            "image/png": "[encoded data removed]",
            "text/plain": [
              "<Figure size 432x288 with 1 Axes>"
            ]
          },
          "metadata": {
            "tags": [],
            "needs_background": "light"
          }
        }
      ]
    },
    {
      "cell_type": "code",
      "metadata": {
        "id": "XXEcK2YsgiUb"
      },
      "source": [
        "# For visual effect, I created table with number of cases and deaths by date \r\n",
        "covid_by_date = covid_df.groupby(['date']).sum()\r\n",
        "covid_by_date = covid_by_date.sort_values(by =['date'])\r\n",
        "covid_by_date = covid_by_date -  covid_by_date.shift(1)\r\n",
        "covid_by_date  = covid_by_date.drop(['fips'], axis=1)"
      ],
      "execution_count": null,
      "outputs": []
    },
    {
      "cell_type": "code",
      "metadata": {
        "colab": {
          "base_uri": "https://localhost:8080/",
          "height": 284
        },
        "id": "pzJ5QjzQiINJ",
        "outputId": "950090cf-20d7-4161-b39a-071e867b8a6e"
      },
      "source": [
        "covid_by_date.describe()"
      ],
      "execution_count": null,
      "outputs": [
        {
          "output_type": "execute_result",
          "data": {
            "text/html": [
              "<div>\n",
              "<style scoped>\n",
              "    .dataframe tbody tr th:only-of-type {\n",
              "        vertical-align: middle;\n",
              "    }\n",
              "\n",
              "    .dataframe tbody tr th {\n",
              "        vertical-align: top;\n",
              "    }\n",
              "\n",
              "    .dataframe thead th {\n",
              "        text-align: right;\n",
              "    }\n",
              "</style>\n",
              "<table border=\"1\" class=\"dataframe\">\n",
              "  <thead>\n",
              "    <tr style=\"text-align: right;\">\n",
              "      <th></th>\n",
              "      <th>cases</th>\n",
              "      <th>deaths</th>\n",
              "    </tr>\n",
              "  </thead>\n",
              "  <tbody>\n",
              "    <tr>\n",
              "      <th>count</th>\n",
              "      <td>375.000000</td>\n",
              "      <td>375.000000</td>\n",
              "    </tr>\n",
              "    <tr>\n",
              "      <th>mean</th>\n",
              "      <td>69614.032000</td>\n",
              "      <td>1171.789333</td>\n",
              "    </tr>\n",
              "    <tr>\n",
              "      <th>std</th>\n",
              "      <td>72467.300219</td>\n",
              "      <td>1012.979676</td>\n",
              "    </tr>\n",
              "    <tr>\n",
              "      <th>min</th>\n",
              "      <td>0.000000</td>\n",
              "      <td>0.000000</td>\n",
              "    </tr>\n",
              "    <tr>\n",
              "      <th>25%</th>\n",
              "      <td>22684.000000</td>\n",
              "      <td>429.500000</td>\n",
              "    </tr>\n",
              "    <tr>\n",
              "      <th>50%</th>\n",
              "      <td>42862.000000</td>\n",
              "      <td>971.000000</td>\n",
              "    </tr>\n",
              "    <tr>\n",
              "      <th>75%</th>\n",
              "      <td>83079.500000</td>\n",
              "      <td>1544.500000</td>\n",
              "    </tr>\n",
              "    <tr>\n",
              "      <th>max</th>\n",
              "      <td>300594.000000</td>\n",
              "      <td>4406.000000</td>\n",
              "    </tr>\n",
              "  </tbody>\n",
              "</table>\n",
              "</div>"
            ],
            "text/plain": [
              "               cases       deaths\n",
              "count     375.000000   375.000000\n",
              "mean    69614.032000  1171.789333\n",
              "std     72467.300219  1012.979676\n",
              "min         0.000000     0.000000\n",
              "25%     22684.000000   429.500000\n",
              "50%     42862.000000   971.000000\n",
              "75%     83079.500000  1544.500000\n",
              "max    300594.000000  4406.000000"
            ]
          },
          "metadata": {
            "tags": []
          },
          "execution_count": 8
        }
      ]
    },
    {
      "cell_type": "code",
      "metadata": {
        "colab": {
          "base_uri": "https://localhost:8080/",
          "height": 296
        },
        "id": "n4NHbGvmEnbc",
        "outputId": "b5afc1d0-ff8c-4972-b454-207acd083a03"
      },
      "source": [
        "# Scatterplot representing daily deaths\r\n",
        "sns.scatterplot(x=\"date\", y=\"deaths\", data=covid_by_date)"
      ],
      "execution_count": null,
      "outputs": [
        {
          "output_type": "execute_result",
          "data": {
            "text/plain": [
              "<matplotlib.axes._subplots.AxesSubplot at 0x7f9611bc42b0>"
            ]
          },
          "metadata": {
            "tags": []
          },
          "execution_count": 9
        },
        {
          "output_type": "display_data",
          "data": {
            "image/png": "[encoded data removed]",
            "text/plain": [
              "<Figure size 432x288 with 1 Axes>"
            ]
          },
          "metadata": {
            "tags": [],
            "needs_background": "light"
          }
        }
      ]
    },
    {
      "cell_type": "code",
      "metadata": {
        "colab": {
          "base_uri": "https://localhost:8080/",
          "height": 296
        },
        "id": "RsRwMt8xE1Lw",
        "outputId": "775304d3-b653-4adf-9bc3-39bfe6b9fea5"
      },
      "source": [
        "# Scatterplot representing daily cases\r\n",
        "sns.scatterplot(x=\"date\", y=\"cases\", data=covid_by_date)\r\n",
        "plt.ylabel('Cases in Millions')"
      ],
      "execution_count": null,
      "outputs": [
        {
          "output_type": "execute_result",
          "data": {
            "text/plain": [
              "Text(0, 0.5, 'Cases in Millions')"
            ]
          },
          "metadata": {
            "tags": []
          },
          "execution_count": 10
        },
        {
          "output_type": "display_data",
          "data": {
            "image/png": "[encoded data removed]",
            "text/plain": [
              "<Figure size 432x288 with 1 Axes>"
            ]
          },
          "metadata": {
            "tags": [],
            "needs_background": "light"
          }
        }
      ]
    },
    {
      "cell_type": "markdown",
      "metadata": {
        "id": "BA6c9l5FieJO"
      },
      "source": [
        "# Stock Values During Covid-19 Dataset"
      ]
    },
    {
      "cell_type": "markdown",
      "metadata": {
        "id": "3hRw0PZCip7m"
      },
      "source": [
        "In this dataset I will be looking at the following stock values:\r\n",
        "\r\n",
        "  AMKBY - Maersk\r\n",
        "\r\n",
        "  CICOY - Cosco Shipping\r\n",
        "\r\n",
        "  DAC - Danaos Shipping Co. \r\n",
        "\r\n",
        "  DPSGY - DHL \r\n",
        "\r\n",
        "  FDX - FedEx\r\n",
        "\r\n",
        "  INSW - International Seaways Inc\r\n",
        "\r\n",
        "  MATX - Matson, Inc\r\n",
        "\r\n",
        "  NAT - Nordic American Tanker Ltd\r\n",
        "\r\n",
        "  SBLK - Star Bulk Carriers Corp.\r\n",
        "\r\n",
        "  SFL - SFL Corporation Ltd. (Marine Shipping)\r\n",
        "\r\n",
        "  UPS - United Parcel Service\r\n",
        "\r\n",
        "  ^DJI - Dow Jones Industrial\r\n",
        "\r\n",
        "  ^GSPC - S&P 500\r\n",
        "\r\n",
        "  ^IXIC - Nasdaq Index\r\n",
        "  \r\n"
      ]
    },
    {
      "cell_type": "markdown",
      "metadata": {
        "id": "NweWCckrWyFa"
      },
      "source": [
        "## Import Libraries"
      ]
    },
    {
      "cell_type": "code",
      "metadata": {
        "colab": {
          "base_uri": "https://localhost:8080/"
        },
        "id": "jvM_0m0jWngP",
        "outputId": "2818b913-f7ea-48dd-e47d-62c3d744e61f"
      },
      "source": [
        "!pip install yfinance\r\n",
        "import seaborn as sns\r\n",
        "import datetime\r\n",
        "import yfinance as yf\r\n",
        "from pandas_datareader import data as web"
      ],
      "execution_count": null,
      "outputs": [
        {
          "output_type": "stream",
          "text": [
            "Collecting yfinance\n",
            "  Downloading https://files.pythonhosted.org/packages/7a/e8/b9d7104d3a4bf39924799067592d9e59119fcfc900a425a12e80a3123ec8/yfinance-0.1.55.tar.gz\n",
            "Requirement already satisfied: pandas>=0.24 in /usr/local/lib/python3.6/dist-packages (from yfinance) (1.1.5)\n",
            "Requirement already satisfied: numpy>=1.15 in /usr/local/lib/python3.6/dist-packages (from yfinance) (1.19.5)\n",
            "Requirement already satisfied: requests>=2.20 in /usr/local/lib/python3.6/dist-packages (from yfinance) (2.23.0)\n",
            "Requirement already satisfied: multitasking>=0.0.7 in /usr/local/lib/python3.6/dist-packages (from yfinance) (0.0.9)\n",
            "Collecting lxml>=4.5.1\n",
            "\u001b[?25l  Downloading https://files.pythonhosted.org/packages/bd/78/56a7c88a57d0d14945472535d0df9fb4bbad7d34ede658ec7961635c790e/lxml-4.6.2-cp36-cp36m-manylinux1_x86_64.whl (5.5MB)\n",
            "\u001b[K     |████████████████████████████████| 5.5MB 12.6MB/s \n",
            "\u001b[?25hRequirement already satisfied: python-dateutil>=2.7.3 in /usr/local/lib/python3.6/dist-packages (from pandas>=0.24->yfinance) (2.8.1)\n",
            "Requirement already satisfied: pytz>=2017.2 in /usr/local/lib/python3.6/dist-packages (from pandas>=0.24->yfinance) (2018.9)\n",
            "Requirement already satisfied: urllib3!=1.25.0,!=1.25.1,<1.26,>=1.21.1 in /usr/local/lib/python3.6/dist-packages (from requests>=2.20->yfinance) (1.24.3)\n",
            "Requirement already satisfied: idna<3,>=2.5 in /usr/local/lib/python3.6/dist-packages (from requests>=2.20->yfinance) (2.10)\n",
            "Requirement already satisfied: certifi>=2017.4.17 in /usr/local/lib/python3.6/dist-packages (from requests>=2.20->yfinance) (2020.12.5)\n",
            "Requirement already satisfied: chardet<4,>=3.0.2 in /usr/local/lib/python3.6/dist-packages (from requests>=2.20->yfinance) (3.0.4)\n",
            "Requirement already satisfied: six>=1.5 in /usr/local/lib/python3.6/dist-packages (from python-dateutil>=2.7.3->pandas>=0.24->yfinance) (1.15.0)\n",
            "Building wheels for collected packages: yfinance\n",
            "  Building wheel for yfinance (setup.py) ... \u001b[?25l\u001b[?25hdone\n",
            "  Created wheel for yfinance: filename=yfinance-0.1.55-py2.py3-none-any.whl size=22616 sha256=d190f0a8ce4b1b4b8590d8965d29ac6655ff2476f243669f402caefd91262fd4\n",
            "  Stored in directory: /root/.cache/pip/wheels/04/98/cc/2702a4242d60bdc14f48b4557c427ded1fe92aedf257d4565c\n",
            "Successfully built yfinance\n",
            "Installing collected packages: lxml, yfinance\n",
            "  Found existing installation: lxml 4.2.6\n",
            "    Uninstalling lxml-4.2.6:\n",
            "      Successfully uninstalled lxml-4.2.6\n",
            "Successfully installed lxml-4.6.2 yfinance-0.1.55\n"
          ],
          "name": "stdout"
        }
      ]
    },
    {
      "cell_type": "markdown",
      "metadata": {
        "id": "-d1ohhYpYOqC"
      },
      "source": [
        "## Create Clean Stock Value Dataset"
      ]
    },
    {
      "cell_type": "code",
      "metadata": {
        "id": "i_kkaZOUW7Qj"
      },
      "source": [
        "# Set stock values to analyize\r\n",
        "stocks = [\"AMKBY\",\"CICOY\", \"DAC\", \"DPSGY\", \"FDX\", \"INSW\", \"MATX\", \"NAT\", \"SBLK\", \"SFL\", \"UPS\", \"^DJI\", \"^GSPC\", \"^IXIC\"]"
      ],
      "execution_count": null,
      "outputs": []
    },
    {
      "cell_type": "code",
      "metadata": {
        "id": "RE5vyACcYLE6"
      },
      "source": [
        "# Set start and end dates for during covid-19\r\n",
        "start = datetime.datetime(2020, 1, 1)\r\n",
        "end   = datetime.datetime(2020, 12, 31)"
      ],
      "execution_count": null,
      "outputs": []
    },
    {
      "cell_type": "code",
      "metadata": {
        "id": "8o0iy3h-YdX3"
      },
      "source": [
        "# Grab data\r\n",
        "data = pdr.get_data_yahoo(stocks, start = start, end = end)"
      ],
      "execution_count": null,
      "outputs": []
    },
    {
      "cell_type": "code",
      "metadata": {
        "colab": {
          "base_uri": "https://localhost:8080/",
          "height": 481
        },
        "id": "468jAoIQYp3U",
        "outputId": "800490c1-3ed0-479d-f16c-58bece87ed53"
      },
      "source": [
        "# Select only Adjusted Closed Stock Price\r\n",
        "adj_close = ['Adj Close']\r\n",
        "data[adj_close]"
      ],
      "execution_count": null,
      "outputs": [
        {
          "output_type": "execute_result",
          "data": {
            "text/html": [
              "<div>\n",
              "<style scoped>\n",
              "    .dataframe tbody tr th:only-of-type {\n",
              "        vertical-align: middle;\n",
              "    }\n",
              "\n",
              "    .dataframe tbody tr th {\n",
              "        vertical-align: top;\n",
              "    }\n",
              "\n",
              "    .dataframe thead tr th {\n",
              "        text-align: left;\n",
              "    }\n",
              "\n",
              "    .dataframe thead tr:last-of-type th {\n",
              "        text-align: right;\n",
              "    }\n",
              "</style>\n",
              "<table border=\"1\" class=\"dataframe\">\n",
              "  <thead>\n",
              "    <tr>\n",
              "      <th>Attributes</th>\n",
              "      <th colspan=\"14\" halign=\"left\">Adj Close</th>\n",
              "    </tr>\n",
              "    <tr>\n",
              "      <th>Symbols</th>\n",
              "      <th>AMKBY</th>\n",
              "      <th>CICOY</th>\n",
              "      <th>DAC</th>\n",
              "      <th>DPSGY</th>\n",
              "      <th>FDX</th>\n",
              "      <th>INSW</th>\n",
              "      <th>MATX</th>\n",
              "      <th>NAT</th>\n",
              "      <th>SBLK</th>\n",
              "      <th>SFL</th>\n",
              "      <th>UPS</th>\n",
              "      <th>^DJI</th>\n",
              "      <th>^GSPC</th>\n",
              "      <th>^IXIC</th>\n",
              "    </tr>\n",
              "    <tr>\n",
              "      <th>Date</th>\n",
              "      <th></th>\n",
              "      <th></th>\n",
              "      <th></th>\n",
              "      <th></th>\n",
              "      <th></th>\n",
              "      <th></th>\n",
              "      <th></th>\n",
              "      <th></th>\n",
              "      <th></th>\n",
              "      <th></th>\n",
              "      <th></th>\n",
              "      <th></th>\n",
              "      <th></th>\n",
              "      <th></th>\n",
              "    </tr>\n",
              "  </thead>\n",
              "  <tbody>\n",
              "    <tr>\n",
              "      <th>2020-01-02</th>\n",
              "      <td>6.987317</td>\n",
              "      <td>2.33</td>\n",
              "      <td>9.400000</td>\n",
              "      <td>37.315598</td>\n",
              "      <td>152.806885</td>\n",
              "      <td>29.447218</td>\n",
              "      <td>39.347618</td>\n",
              "      <td>4.319791</td>\n",
              "      <td>11.379668</td>\n",
              "      <td>13.100537</td>\n",
              "      <td>113.030106</td>\n",
              "      <td>28868.800781</td>\n",
              "      <td>3257.850098</td>\n",
              "      <td>9092.190430</td>\n",
              "    </tr>\n",
              "    <tr>\n",
              "      <th>2020-01-03</th>\n",
              "      <td>6.793225</td>\n",
              "      <td>2.33</td>\n",
              "      <td>9.190000</td>\n",
              "      <td>36.519375</td>\n",
              "      <td>150.915253</td>\n",
              "      <td>29.624966</td>\n",
              "      <td>38.781460</td>\n",
              "      <td>4.507220</td>\n",
              "      <td>10.992064</td>\n",
              "      <td>13.073600</td>\n",
              "      <td>112.962364</td>\n",
              "      <td>28634.880859</td>\n",
              "      <td>3234.850098</td>\n",
              "      <td>9020.769531</td>\n",
              "    </tr>\n",
              "    <tr>\n",
              "      <th>2020-01-06</th>\n",
              "      <td>6.696179</td>\n",
              "      <td>2.33</td>\n",
              "      <td>9.610000</td>\n",
              "      <td>36.567924</td>\n",
              "      <td>151.033478</td>\n",
              "      <td>29.585464</td>\n",
              "      <td>38.361725</td>\n",
              "      <td>4.489370</td>\n",
              "      <td>11.131204</td>\n",
              "      <td>13.037683</td>\n",
              "      <td>112.459099</td>\n",
              "      <td>28703.380859</td>\n",
              "      <td>3246.280029</td>\n",
              "      <td>9071.469727</td>\n",
              "    </tr>\n",
              "    <tr>\n",
              "      <th>2020-01-07</th>\n",
              "      <td>6.783520</td>\n",
              "      <td>2.33</td>\n",
              "      <td>9.580000</td>\n",
              "      <td>36.567924</td>\n",
              "      <td>152.511307</td>\n",
              "      <td>30.247089</td>\n",
              "      <td>38.000561</td>\n",
              "      <td>4.587546</td>\n",
              "      <td>11.687764</td>\n",
              "      <td>13.064621</td>\n",
              "      <td>112.265533</td>\n",
              "      <td>28583.679688</td>\n",
              "      <td>3237.179932</td>\n",
              "      <td>9068.580078</td>\n",
              "    </tr>\n",
              "    <tr>\n",
              "      <th>2020-01-08</th>\n",
              "      <td>6.686474</td>\n",
              "      <td>2.11</td>\n",
              "      <td>9.440000</td>\n",
              "      <td>37.053425</td>\n",
              "      <td>154.806854</td>\n",
              "      <td>29.299093</td>\n",
              "      <td>37.912712</td>\n",
              "      <td>4.337642</td>\n",
              "      <td>11.479054</td>\n",
              "      <td>12.929934</td>\n",
              "      <td>112.904289</td>\n",
              "      <td>28745.089844</td>\n",
              "      <td>3253.050049</td>\n",
              "      <td>9129.240234</td>\n",
              "    </tr>\n",
              "    <tr>\n",
              "      <th>...</th>\n",
              "      <td>...</td>\n",
              "      <td>...</td>\n",
              "      <td>...</td>\n",
              "      <td>...</td>\n",
              "      <td>...</td>\n",
              "      <td>...</td>\n",
              "      <td>...</td>\n",
              "      <td>...</td>\n",
              "      <td>...</td>\n",
              "      <td>...</td>\n",
              "      <td>...</td>\n",
              "      <td>...</td>\n",
              "      <td>...</td>\n",
              "      <td>...</td>\n",
              "    </tr>\n",
              "    <tr>\n",
              "      <th>2020-12-24</th>\n",
              "      <td>11.170000</td>\n",
              "      <td>5.23</td>\n",
              "      <td>21.010000</td>\n",
              "      <td>48.759998</td>\n",
              "      <td>268.820007</td>\n",
              "      <td>16.549999</td>\n",
              "      <td>57.259998</td>\n",
              "      <td>3.160000</td>\n",
              "      <td>8.740000</td>\n",
              "      <td>6.180000</td>\n",
              "      <td>172.190002</td>\n",
              "      <td>30199.869141</td>\n",
              "      <td>3703.060059</td>\n",
              "      <td>12804.730469</td>\n",
              "    </tr>\n",
              "    <tr>\n",
              "      <th>2020-12-28</th>\n",
              "      <td>11.190000</td>\n",
              "      <td>5.23</td>\n",
              "      <td>21.030001</td>\n",
              "      <td>50.110001</td>\n",
              "      <td>262.940002</td>\n",
              "      <td>16.240000</td>\n",
              "      <td>56.740002</td>\n",
              "      <td>3.080000</td>\n",
              "      <td>8.440000</td>\n",
              "      <td>6.030000</td>\n",
              "      <td>171.360001</td>\n",
              "      <td>30403.970703</td>\n",
              "      <td>3735.360107</td>\n",
              "      <td>12899.419922</td>\n",
              "    </tr>\n",
              "    <tr>\n",
              "      <th>2020-12-29</th>\n",
              "      <td>11.250000</td>\n",
              "      <td>5.80</td>\n",
              "      <td>20.330000</td>\n",
              "      <td>49.759998</td>\n",
              "      <td>261.559998</td>\n",
              "      <td>16.190001</td>\n",
              "      <td>55.750000</td>\n",
              "      <td>3.060000</td>\n",
              "      <td>8.430000</td>\n",
              "      <td>6.060000</td>\n",
              "      <td>169.029999</td>\n",
              "      <td>30335.669922</td>\n",
              "      <td>3727.040039</td>\n",
              "      <td>12850.219727</td>\n",
              "    </tr>\n",
              "    <tr>\n",
              "      <th>2020-12-30</th>\n",
              "      <td>11.150000</td>\n",
              "      <td>5.85</td>\n",
              "      <td>20.580000</td>\n",
              "      <td>49.570000</td>\n",
              "      <td>259.980011</td>\n",
              "      <td>16.379999</td>\n",
              "      <td>56.290001</td>\n",
              "      <td>3.010000</td>\n",
              "      <td>8.590000</td>\n",
              "      <td>6.120000</td>\n",
              "      <td>166.229996</td>\n",
              "      <td>30409.560547</td>\n",
              "      <td>3732.040039</td>\n",
              "      <td>12870.000000</td>\n",
              "    </tr>\n",
              "    <tr>\n",
              "      <th>2020-12-31</th>\n",
              "      <td>11.110000</td>\n",
              "      <td>6.17</td>\n",
              "      <td>21.430000</td>\n",
              "      <td>49.840000</td>\n",
              "      <td>259.619995</td>\n",
              "      <td>16.330000</td>\n",
              "      <td>56.970001</td>\n",
              "      <td>2.950000</td>\n",
              "      <td>8.830000</td>\n",
              "      <td>6.280000</td>\n",
              "      <td>168.399994</td>\n",
              "      <td>30606.480469</td>\n",
              "      <td>3756.070068</td>\n",
              "      <td>12888.280273</td>\n",
              "    </tr>\n",
              "  </tbody>\n",
              "</table>\n",
              "<p>253 rows × 14 columns</p>\n",
              "</div>"
            ],
            "text/plain": [
              "Attributes  Adj Close                   ...                                         \n",
              "Symbols         AMKBY CICOY        DAC  ...          ^DJI        ^GSPC         ^IXIC\n",
              "Date                                    ...                                         \n",
              "2020-01-02   6.987317  2.33   9.400000  ...  28868.800781  3257.850098   9092.190430\n",
              "2020-01-03   6.793225  2.33   9.190000  ...  28634.880859  3234.850098   9020.769531\n",
              "2020-01-06   6.696179  2.33   9.610000  ...  28703.380859  3246.280029   9071.469727\n",
              "2020-01-07   6.783520  2.33   9.580000  ...  28583.679688  3237.179932   9068.580078\n",
              "2020-01-08   6.686474  2.11   9.440000  ...  28745.089844  3253.050049   9129.240234\n",
              "...               ...   ...        ...  ...           ...          ...           ...\n",
              "2020-12-24  11.170000  5.23  21.010000  ...  30199.869141  3703.060059  12804.730469\n",
              "2020-12-28  11.190000  5.23  21.030001  ...  30403.970703  3735.360107  12899.419922\n",
              "2020-12-29  11.250000  5.80  20.330000  ...  30335.669922  3727.040039  12850.219727\n",
              "2020-12-30  11.150000  5.85  20.580000  ...  30409.560547  3732.040039  12870.000000\n",
              "2020-12-31  11.110000  6.17  21.430000  ...  30606.480469  3756.070068  12888.280273\n",
              "\n",
              "[253 rows x 14 columns]"
            ]
          },
          "metadata": {
            "tags": []
          },
          "execution_count": 15
        }
      ]
    },
    {
      "cell_type": "code",
      "metadata": {
        "id": "S_sJFaQhZ4e5"
      },
      "source": [
        "stocks_df = data[adj_close]"
      ],
      "execution_count": null,
      "outputs": []
    },
    {
      "cell_type": "code",
      "metadata": {
        "id": "SaOzLa0rjGC3"
      },
      "source": [
        "# Relabel columns \r\n",
        "stocks_df.columns = [\"Maersk\", \"Cosco Shipping\", \"Danaos Shipping\", \"DHL\", \"FedEx\", \"International Seaways\", \"Matson\", \"Nordic American\", \"Star Bulk Carriers\", \"SFL Corp\", \"UPS\", \"Dow Jones\", \"S&P 500\", \"Nasdaq\"]"
      ],
      "execution_count": null,
      "outputs": []
    },
    {
      "cell_type": "markdown",
      "metadata": {
        "id": "4-LpfHm6ZFFa"
      },
      "source": [
        "# Merge Covid-19 Dataframe and Stock Value Dataframe by Date"
      ]
    },
    {
      "cell_type": "code",
      "metadata": {
        "id": "6jH0vEZuZRkO"
      },
      "source": [
        "# Merge dataframes by Index using date\r\n",
        "covid_stocks_df = pd.merge(covid_total, stocks_df, how='inner', left_index=True, right_index=True)"
      ],
      "execution_count": null,
      "outputs": []
    },
    {
      "cell_type": "code",
      "metadata": {
        "colab": {
          "base_uri": "https://localhost:8080/"
        },
        "id": "dIvqizk2azHF",
        "outputId": "bea56bcb-e870-4a4d-9d14-f954f1bbdf18"
      },
      "source": [
        "covid_stocks_df.head()"
      ],
      "execution_count": null,
      "outputs": [
        {
          "output_type": "execute_result",
          "data": {
            "text/html": [
              "<div>\n",
              "<style scoped>\n",
              "    .dataframe tbody tr th:only-of-type {\n",
              "        vertical-align: middle;\n",
              "    }\n",
              "\n",
              "    .dataframe tbody tr th {\n",
              "        vertical-align: top;\n",
              "    }\n",
              "\n",
              "    .dataframe thead th {\n",
              "        text-align: right;\n",
              "    }\n",
              "</style>\n",
              "<table border=\"1\" class=\"dataframe\">\n",
              "  <thead>\n",
              "    <tr style=\"text-align: right;\">\n",
              "      <th></th>\n",
              "      <th>cases</th>\n",
              "      <th>deaths</th>\n",
              "      <th>Maersk</th>\n",
              "      <th>Cosco Shipping</th>\n",
              "      <th>Danaos Shipping</th>\n",
              "      <th>DHL</th>\n",
              "      <th>FedEx</th>\n",
              "      <th>International Seaways</th>\n",
              "      <th>Matson</th>\n",
              "      <th>Nordic American</th>\n",
              "      <th>Star Bulk Carriers</th>\n",
              "      <th>SFL Corp</th>\n",
              "      <th>UPS</th>\n",
              "      <th>Dow Jones</th>\n",
              "      <th>S&amp;P 500</th>\n",
              "      <th>Nasdaq</th>\n",
              "    </tr>\n",
              "  </thead>\n",
              "  <tbody>\n",
              "    <tr>\n",
              "      <th>2020-01-21</th>\n",
              "      <td>1</td>\n",
              "      <td>0.0</td>\n",
              "      <td>6.133312</td>\n",
              "      <td>1.93</td>\n",
              "      <td>7.61</td>\n",
              "      <td>36.412567</td>\n",
              "      <td>155.200943</td>\n",
              "      <td>26.464970</td>\n",
              "      <td>38.361725</td>\n",
              "      <td>3.944933</td>\n",
              "      <td>10.306302</td>\n",
              "      <td>12.840142</td>\n",
              "      <td>113.610794</td>\n",
              "      <td>29196.039062</td>\n",
              "      <td>3320.790039</td>\n",
              "      <td>9370.809570</td>\n",
              "    </tr>\n",
              "    <tr>\n",
              "      <th>2020-01-22</th>\n",
              "      <td>1</td>\n",
              "      <td>0.0</td>\n",
              "      <td>6.065380</td>\n",
              "      <td>1.93</td>\n",
              "      <td>7.20</td>\n",
              "      <td>36.422276</td>\n",
              "      <td>153.240356</td>\n",
              "      <td>25.981096</td>\n",
              "      <td>38.391010</td>\n",
              "      <td>3.927083</td>\n",
              "      <td>9.700049</td>\n",
              "      <td>12.696477</td>\n",
              "      <td>113.484978</td>\n",
              "      <td>29186.269531</td>\n",
              "      <td>3321.750000</td>\n",
              "      <td>9383.769531</td>\n",
              "    </tr>\n",
              "    <tr>\n",
              "      <th>2020-01-23</th>\n",
              "      <td>1</td>\n",
              "      <td>0.0</td>\n",
              "      <td>6.016856</td>\n",
              "      <td>1.93</td>\n",
              "      <td>7.33</td>\n",
              "      <td>35.606632</td>\n",
              "      <td>152.590118</td>\n",
              "      <td>25.645348</td>\n",
              "      <td>38.469101</td>\n",
              "      <td>3.882457</td>\n",
              "      <td>9.372077</td>\n",
              "      <td>12.633624</td>\n",
              "      <td>113.165604</td>\n",
              "      <td>29160.089844</td>\n",
              "      <td>3325.540039</td>\n",
              "      <td>9402.480469</td>\n",
              "    </tr>\n",
              "    <tr>\n",
              "      <th>2020-01-24</th>\n",
              "      <td>2</td>\n",
              "      <td>0.0</td>\n",
              "      <td>6.084789</td>\n",
              "      <td>1.93</td>\n",
              "      <td>6.99</td>\n",
              "      <td>35.422142</td>\n",
              "      <td>151.792099</td>\n",
              "      <td>24.292473</td>\n",
              "      <td>38.264114</td>\n",
              "      <td>3.650402</td>\n",
              "      <td>9.173305</td>\n",
              "      <td>12.400167</td>\n",
              "      <td>112.904289</td>\n",
              "      <td>28989.730469</td>\n",
              "      <td>3295.469971</td>\n",
              "      <td>9314.910156</td>\n",
              "    </tr>\n",
              "    <tr>\n",
              "      <th>2020-01-27</th>\n",
              "      <td>5</td>\n",
              "      <td>0.0</td>\n",
              "      <td>5.871287</td>\n",
              "      <td>1.93</td>\n",
              "      <td>6.54</td>\n",
              "      <td>34.548244</td>\n",
              "      <td>146.294586</td>\n",
              "      <td>23.808599</td>\n",
              "      <td>37.795578</td>\n",
              "      <td>3.489749</td>\n",
              "      <td>8.447789</td>\n",
              "      <td>12.220583</td>\n",
              "      <td>111.220299</td>\n",
              "      <td>28535.800781</td>\n",
              "      <td>3243.629883</td>\n",
              "      <td>9139.309570</td>\n",
              "    </tr>\n",
              "  </tbody>\n",
              "</table>\n",
              "</div>"
            ],
            "text/plain": [
              "            cases  deaths    Maersk  ...     Dow Jones      S&P 500       Nasdaq\n",
              "2020-01-21      1     0.0  6.133312  ...  29196.039062  3320.790039  9370.809570\n",
              "2020-01-22      1     0.0  6.065380  ...  29186.269531  3321.750000  9383.769531\n",
              "2020-01-23      1     0.0  6.016856  ...  29160.089844  3325.540039  9402.480469\n",
              "2020-01-24      2     0.0  6.084789  ...  28989.730469  3295.469971  9314.910156\n",
              "2020-01-27      5     0.0  5.871287  ...  28535.800781  3243.629883  9139.309570\n",
              "\n",
              "[5 rows x 16 columns]"
            ]
          },
          "metadata": {
            "tags": []
          },
          "execution_count": 19
        }
      ]
    },
    {
      "cell_type": "code",
      "metadata": {
        "colab": {
          "base_uri": "https://localhost:8080/"
        },
        "id": "Wlcsac2sa6mD",
        "outputId": "36b7cebb-068e-4eea-9b60-a27414c575df"
      },
      "source": [
        "covid_stocks_df.info()"
      ],
      "execution_count": null,
      "outputs": [
        {
          "output_type": "stream",
          "text": [
            "<class 'pandas.core.frame.DataFrame'>\n",
            "DatetimeIndex: 241 entries, 2020-01-21 to 2020-12-31\n",
            "Data columns (total 16 columns):\n",
            " #   Column                 Non-Null Count  Dtype  \n",
            "---  ------                 --------------  -----  \n",
            " 0   cases                  241 non-null    int64  \n",
            " 1   deaths                 241 non-null    float64\n",
            " 2   Maersk                 241 non-null    float64\n",
            " 3   Cosco Shipping         241 non-null    float64\n",
            " 4   Danaos Shipping        241 non-null    float64\n",
            " 5   DHL                    241 non-null    float64\n",
            " 6   FedEx                  241 non-null    float64\n",
            " 7   International Seaways  241 non-null    float64\n",
            " 8   Matson                 241 non-null    float64\n",
            " 9   Nordic American        241 non-null    float64\n",
            " 10  Star Bulk Carriers     241 non-null    float64\n",
            " 11  SFL Corp               241 non-null    float64\n",
            " 12  UPS                    241 non-null    float64\n",
            " 13  Dow Jones              241 non-null    float64\n",
            " 14  S&P 500                241 non-null    float64\n",
            " 15  Nasdaq                 241 non-null    float64\n",
            "dtypes: float64(15), int64(1)\n",
            "memory usage: 32.0 KB\n"
          ],
          "name": "stdout"
        }
      ]
    },
    {
      "cell_type": "code",
      "metadata": {
        "colab": {
          "base_uri": "https://localhost:8080/"
        },
        "id": "BN2yuwKbbCOD",
        "outputId": "8bf04b67-8148-4497-b998-6624ede00840"
      },
      "source": [
        "covid_stocks_df.describe()"
      ],
      "execution_count": null,
      "outputs": [
        {
          "output_type": "execute_result",
          "data": {
            "text/html": [
              "<div>\n",
              "<style scoped>\n",
              "    .dataframe tbody tr th:only-of-type {\n",
              "        vertical-align: middle;\n",
              "    }\n",
              "\n",
              "    .dataframe tbody tr th {\n",
              "        vertical-align: top;\n",
              "    }\n",
              "\n",
              "    .dataframe thead th {\n",
              "        text-align: right;\n",
              "    }\n",
              "</style>\n",
              "<table border=\"1\" class=\"dataframe\">\n",
              "  <thead>\n",
              "    <tr style=\"text-align: right;\">\n",
              "      <th></th>\n",
              "      <th>cases</th>\n",
              "      <th>deaths</th>\n",
              "      <th>Maersk</th>\n",
              "      <th>Cosco Shipping</th>\n",
              "      <th>Danaos Shipping</th>\n",
              "      <th>DHL</th>\n",
              "      <th>FedEx</th>\n",
              "      <th>International Seaways</th>\n",
              "      <th>Matson</th>\n",
              "      <th>Nordic American</th>\n",
              "      <th>Star Bulk Carriers</th>\n",
              "      <th>SFL Corp</th>\n",
              "      <th>UPS</th>\n",
              "      <th>Dow Jones</th>\n",
              "      <th>S&amp;P 500</th>\n",
              "      <th>Nasdaq</th>\n",
              "    </tr>\n",
              "  </thead>\n",
              "  <tbody>\n",
              "    <tr>\n",
              "      <th>count</th>\n",
              "      <td>2.410000e+02</td>\n",
              "      <td>241.000000</td>\n",
              "      <td>241.000000</td>\n",
              "      <td>241.00000</td>\n",
              "      <td>241.000000</td>\n",
              "      <td>241.000000</td>\n",
              "      <td>241.000000</td>\n",
              "      <td>241.000000</td>\n",
              "      <td>241.000000</td>\n",
              "      <td>241.000000</td>\n",
              "      <td>241.000000</td>\n",
              "      <td>241.000000</td>\n",
              "      <td>241.000000</td>\n",
              "      <td>241.000000</td>\n",
              "      <td>241.000000</td>\n",
              "      <td>241.000000</td>\n",
              "    </tr>\n",
              "    <tr>\n",
              "      <th>mean</th>\n",
              "      <td>4.975517e+06</td>\n",
              "      <td>133885.385892</td>\n",
              "      <td>6.748204</td>\n",
              "      <td>2.33722</td>\n",
              "      <td>6.894979</td>\n",
              "      <td>38.017637</td>\n",
              "      <td>186.894553</td>\n",
              "      <td>18.653895</td>\n",
              "      <td>38.858041</td>\n",
              "      <td>3.687634</td>\n",
              "      <td>6.859231</td>\n",
              "      <td>8.684332</td>\n",
              "      <td>128.878613</td>\n",
              "      <td>26790.461578</td>\n",
              "      <td>3215.109002</td>\n",
              "      <td>10251.811442</td>\n",
              "    </tr>\n",
              "    <tr>\n",
              "      <th>std</th>\n",
              "      <td>5.160584e+06</td>\n",
              "      <td>99251.589757</td>\n",
              "      <td>1.952912</td>\n",
              "      <td>1.17040</td>\n",
              "      <td>4.344092</td>\n",
              "      <td>8.447786</td>\n",
              "      <td>64.770457</td>\n",
              "      <td>3.180756</td>\n",
              "      <td>10.661320</td>\n",
              "      <td>0.719425</td>\n",
              "      <td>1.133207</td>\n",
              "      <td>1.664046</td>\n",
              "      <td>32.656033</td>\n",
              "      <td>2541.996892</td>\n",
              "      <td>326.802336</td>\n",
              "      <td>1489.496946</td>\n",
              "    </tr>\n",
              "    <tr>\n",
              "      <th>min</th>\n",
              "      <td>1.000000e+00</td>\n",
              "      <td>0.000000</td>\n",
              "      <td>3.493659</td>\n",
              "      <td>1.26000</td>\n",
              "      <td>2.780000</td>\n",
              "      <td>20.109446</td>\n",
              "      <td>89.600357</td>\n",
              "      <td>12.857842</td>\n",
              "      <td>24.664156</td>\n",
              "      <td>2.248411</td>\n",
              "      <td>3.920000</td>\n",
              "      <td>5.920000</td>\n",
              "      <td>84.222221</td>\n",
              "      <td>18591.929688</td>\n",
              "      <td>2237.399902</td>\n",
              "      <td>6860.669922</td>\n",
              "    </tr>\n",
              "    <tr>\n",
              "      <th>25%</th>\n",
              "      <td>6.723550e+05</td>\n",
              "      <td>34418.000000</td>\n",
              "      <td>4.990000</td>\n",
              "      <td>1.48000</td>\n",
              "      <td>4.080000</td>\n",
              "      <td>30.013664</td>\n",
              "      <td>129.276413</td>\n",
              "      <td>16.333899</td>\n",
              "      <td>29.533646</td>\n",
              "      <td>3.150000</td>\n",
              "      <td>6.200000</td>\n",
              "      <td>7.404234</td>\n",
              "      <td>98.345596</td>\n",
              "      <td>25445.939453</td>\n",
              "      <td>3009.050049</td>\n",
              "      <td>9192.339844</td>\n",
              "    </tr>\n",
              "    <tr>\n",
              "      <th>50%</th>\n",
              "      <td>3.379846e+06</td>\n",
              "      <td>135402.000000</td>\n",
              "      <td>6.260000</td>\n",
              "      <td>1.88000</td>\n",
              "      <td>5.090000</td>\n",
              "      <td>37.665157</td>\n",
              "      <td>160.430832</td>\n",
              "      <td>17.704159</td>\n",
              "      <td>36.316914</td>\n",
              "      <td>3.604232</td>\n",
              "      <td>6.860000</td>\n",
              "      <td>8.637179</td>\n",
              "      <td>113.905342</td>\n",
              "      <td>27272.300781</td>\n",
              "      <td>3276.239990</td>\n",
              "      <td>10461.419922</td>\n",
              "    </tr>\n",
              "    <tr>\n",
              "      <th>75%</th>\n",
              "      <td>7.550848e+06</td>\n",
              "      <td>210756.000000</td>\n",
              "      <td>7.910000</td>\n",
              "      <td>2.67000</td>\n",
              "      <td>8.210000</td>\n",
              "      <td>46.000000</td>\n",
              "      <td>258.690674</td>\n",
              "      <td>20.934980</td>\n",
              "      <td>43.668518</td>\n",
              "      <td>4.162513</td>\n",
              "      <td>7.650000</td>\n",
              "      <td>9.408612</td>\n",
              "      <td>163.110001</td>\n",
              "      <td>28653.869141</td>\n",
              "      <td>3426.959961</td>\n",
              "      <td>11420.980469</td>\n",
              "    </tr>\n",
              "    <tr>\n",
              "      <th>max</th>\n",
              "      <td>2.002622e+07</td>\n",
              "      <td>346039.000000</td>\n",
              "      <td>11.570000</td>\n",
              "      <td>6.17000</td>\n",
              "      <td>21.430000</td>\n",
              "      <td>50.849998</td>\n",
              "      <td>300.776428</td>\n",
              "      <td>28.008038</td>\n",
              "      <td>61.459999</td>\n",
              "      <td>6.708675</td>\n",
              "      <td>10.306302</td>\n",
              "      <td>12.840142</td>\n",
              "      <td>175.469986</td>\n",
              "      <td>30606.480469</td>\n",
              "      <td>3756.070068</td>\n",
              "      <td>12899.419922</td>\n",
              "    </tr>\n",
              "  </tbody>\n",
              "</table>\n",
              "</div>"
            ],
            "text/plain": [
              "              cases         deaths  ...      S&P 500        Nasdaq\n",
              "count  2.410000e+02     241.000000  ...   241.000000    241.000000\n",
              "mean   4.975517e+06  133885.385892  ...  3215.109002  10251.811442\n",
              "std    5.160584e+06   99251.589757  ...   326.802336   1489.496946\n",
              "min    1.000000e+00       0.000000  ...  2237.399902   6860.669922\n",
              "25%    6.723550e+05   34418.000000  ...  3009.050049   9192.339844\n",
              "50%    3.379846e+06  135402.000000  ...  3276.239990  10461.419922\n",
              "75%    7.550848e+06  210756.000000  ...  3426.959961  11420.980469\n",
              "max    2.002622e+07  346039.000000  ...  3756.070068  12899.419922\n",
              "\n",
              "[8 rows x 16 columns]"
            ]
          },
          "metadata": {
            "tags": []
          },
          "execution_count": 21
        }
      ]
    },
    {
      "cell_type": "markdown",
      "metadata": {
        "id": "eqOOhVe9bUQp"
      },
      "source": [
        "# Analysis"
      ]
    },
    {
      "cell_type": "code",
      "metadata": {
        "id": "4NnxCfyvUk7E"
      },
      "source": [
        "from sqlalchemy import create_engine\r\n",
        "import pandas as pd\r\n",
        "from scipy import stats"
      ],
      "execution_count": null,
      "outputs": []
    },
    {
      "cell_type": "code",
      "metadata": {
        "id": "J9_C59nDgD4v"
      },
      "source": [
        "# Here I create a dataframe using only the shipping stocks.\r\n",
        "ship_stocks = covid_stocks_df.drop(['cases', 'deaths', 'Dow Jones', 'S&P 500', 'Nasdaq'],axis=1)"
      ],
      "execution_count": null,
      "outputs": []
    },
    {
      "cell_type": "code",
      "metadata": {
        "colab": {
          "base_uri": "https://localhost:8080/",
          "height": 296
        },
        "id": "Zi1BmOYEheX_",
        "outputId": "5e7f0190-3d16-4b56-c9ad-711b3b270ef0"
      },
      "source": [
        "ship_stocks.head()"
      ],
      "execution_count": null,
      "outputs": [
        {
          "output_type": "execute_result",
          "data": {
            "text/html": [
              "<div>\n",
              "<style scoped>\n",
              "    .dataframe tbody tr th:only-of-type {\n",
              "        vertical-align: middle;\n",
              "    }\n",
              "\n",
              "    .dataframe tbody tr th {\n",
              "        vertical-align: top;\n",
              "    }\n",
              "\n",
              "    .dataframe thead th {\n",
              "        text-align: right;\n",
              "    }\n",
              "</style>\n",
              "<table border=\"1\" class=\"dataframe\">\n",
              "  <thead>\n",
              "    <tr style=\"text-align: right;\">\n",
              "      <th></th>\n",
              "      <th>Maersk</th>\n",
              "      <th>Cosco Shipping</th>\n",
              "      <th>Danaos Shipping</th>\n",
              "      <th>DHL</th>\n",
              "      <th>FedEx</th>\n",
              "      <th>International Seaways</th>\n",
              "      <th>Matson</th>\n",
              "      <th>Nordic American</th>\n",
              "      <th>Star Bulk Carriers</th>\n",
              "      <th>SFL Corp</th>\n",
              "      <th>UPS</th>\n",
              "    </tr>\n",
              "  </thead>\n",
              "  <tbody>\n",
              "    <tr>\n",
              "      <th>2020-01-21</th>\n",
              "      <td>6.133312</td>\n",
              "      <td>1.93</td>\n",
              "      <td>7.61</td>\n",
              "      <td>36.412567</td>\n",
              "      <td>155.200943</td>\n",
              "      <td>26.464970</td>\n",
              "      <td>38.361725</td>\n",
              "      <td>3.944933</td>\n",
              "      <td>10.306302</td>\n",
              "      <td>12.840142</td>\n",
              "      <td>113.610794</td>\n",
              "    </tr>\n",
              "    <tr>\n",
              "      <th>2020-01-22</th>\n",
              "      <td>6.065380</td>\n",
              "      <td>1.93</td>\n",
              "      <td>7.20</td>\n",
              "      <td>36.422276</td>\n",
              "      <td>153.240356</td>\n",
              "      <td>25.981096</td>\n",
              "      <td>38.391010</td>\n",
              "      <td>3.927083</td>\n",
              "      <td>9.700049</td>\n",
              "      <td>12.696477</td>\n",
              "      <td>113.484978</td>\n",
              "    </tr>\n",
              "    <tr>\n",
              "      <th>2020-01-23</th>\n",
              "      <td>6.016856</td>\n",
              "      <td>1.93</td>\n",
              "      <td>7.33</td>\n",
              "      <td>35.606632</td>\n",
              "      <td>152.590118</td>\n",
              "      <td>25.645348</td>\n",
              "      <td>38.469101</td>\n",
              "      <td>3.882457</td>\n",
              "      <td>9.372077</td>\n",
              "      <td>12.633624</td>\n",
              "      <td>113.165604</td>\n",
              "    </tr>\n",
              "    <tr>\n",
              "      <th>2020-01-24</th>\n",
              "      <td>6.084789</td>\n",
              "      <td>1.93</td>\n",
              "      <td>6.99</td>\n",
              "      <td>35.422142</td>\n",
              "      <td>151.792099</td>\n",
              "      <td>24.292473</td>\n",
              "      <td>38.264114</td>\n",
              "      <td>3.650402</td>\n",
              "      <td>9.173305</td>\n",
              "      <td>12.400167</td>\n",
              "      <td>112.904289</td>\n",
              "    </tr>\n",
              "    <tr>\n",
              "      <th>2020-01-27</th>\n",
              "      <td>5.871287</td>\n",
              "      <td>1.93</td>\n",
              "      <td>6.54</td>\n",
              "      <td>34.548244</td>\n",
              "      <td>146.294586</td>\n",
              "      <td>23.808599</td>\n",
              "      <td>37.795578</td>\n",
              "      <td>3.489749</td>\n",
              "      <td>8.447789</td>\n",
              "      <td>12.220583</td>\n",
              "      <td>111.220299</td>\n",
              "    </tr>\n",
              "  </tbody>\n",
              "</table>\n",
              "</div>"
            ],
            "text/plain": [
              "              Maersk  Cosco Shipping  ...   SFL Corp         UPS\n",
              "2020-01-21  6.133312            1.93  ...  12.840142  113.610794\n",
              "2020-01-22  6.065380            1.93  ...  12.696477  113.484978\n",
              "2020-01-23  6.016856            1.93  ...  12.633624  113.165604\n",
              "2020-01-24  6.084789            1.93  ...  12.400167  112.904289\n",
              "2020-01-27  5.871287            1.93  ...  12.220583  111.220299\n",
              "\n",
              "[5 rows x 11 columns]"
            ]
          },
          "metadata": {
            "tags": []
          },
          "execution_count": 24
        }
      ]
    },
    {
      "cell_type": "markdown",
      "metadata": {
        "id": "1u6lLMA20eu0"
      },
      "source": [
        "## Visuals"
      ]
    },
    {
      "cell_type": "code",
      "metadata": {
        "colab": {
          "base_uri": "https://localhost:8080/",
          "height": 838
        },
        "id": "T-ys54yskwGH",
        "outputId": "3d343150-db8d-48c9-fda7-badf402a1731"
      },
      "source": [
        "# Plot all the close prices\r\n",
        "ship_stocks.plot(figsize=(15, 15))\r\n",
        "# Show the legend\r\n",
        "plt.legend(loc='center left', bbox_to_anchor=(1, 0.5))\r\n",
        "# Define the label for the title of the figure\r\n",
        "plt.title(\"Adjusted Close Price\", fontsize=16)\r\n",
        "# Define the labels for x-axis and y-axis\r\n",
        "plt.ylabel('Price', fontsize=14)\r\n",
        "plt.xlabel('Year', fontsize=14)\r\n",
        "# Plot the grid lines\r\n",
        "plt.grid(which=\"major\", color='k', linestyle='-.', linewidth=0.5)\r\n",
        "plt.show()"
      ],
      "execution_count": null,
      "outputs": [
        {
          "output_type": "display_data",
          "data": {
            "image/png": "[encoded data removed]",
            "text/plain": [
              "<Figure size 1080x1080 with 1 Axes>"
            ]
          },
          "metadata": {
            "tags": [],
            "needs_background": "light"
          }
        }
      ]
    },
    {
      "cell_type": "code",
      "metadata": {
        "colab": {
          "base_uri": "https://localhost:8080/",
          "height": 519
        },
        "id": "Rcv4k2GllDv5",
        "outputId": "789642c2-e4d0-4cff-85ba-b4ffb433fa4a"
      },
      "source": [
        "# Plot all Covid-19 Cases\r\n",
        "plt.style.use('dark_background')\r\n",
        "covid_total.plot(figsize=(8, 8))\r\n",
        "# Show the legend\r\n",
        "plt.legend(loc='center left', bbox_to_anchor=(1, 0.75), fontsize=\"x-large\")\r\n",
        "# Define the label for the title of the figure\r\n",
        "plt.title(\"Covid-19\", fontsize=16)\r\n",
        "# Define the labels for x-axis and y-axis\r\n",
        "plt.ylabel('Cases in Millions', fontsize=14)\r\n",
        "plt.xlabel('January 2020 - January 2021', fontsize=14)\r\n",
        "# Plot the grid lines\r\n",
        "plt.grid(which=\"major\", color='white', linestyle='-.', linewidth=0.5)\r\n",
        "plt.show()"
      ],
      "execution_count": null,
      "outputs": [
        {
          "output_type": "display_data",
          "data": {
            "image/png": "[encoded data removed]",
            "text/plain": [
              "<Figure size 576x576 with 1 Axes>"
            ]
          },
          "metadata": {
            "tags": []
          }
        }
      ]
    },
    {
      "cell_type": "code",
      "metadata": {
        "colab": {
          "base_uri": "https://localhost:8080/",
          "height": 519
        },
        "id": "2QIG69b6l2-d",
        "outputId": "9e826f0a-34f3-4c12-9923-c01158082773"
      },
      "source": [
        "# Plot all Covid-19 deaths\r\n",
        "covid_total['deaths'].plot(figsize=(8, 8))\r\n",
        "# Show the legend\r\n",
        "plt.legend(loc='center left', bbox_to_anchor=(1, 0.5))\r\n",
        "# Define the label for the title of the figure\r\n",
        "plt.title(\"Covid-19 Deaths\", fontsize=16)\r\n",
        "# Define the labels for x-axis and y-axis\r\n",
        "plt.ylabel('Deaths', fontsize=14)\r\n",
        "plt.xlabel('January 2020 - January 2021', fontsize=14)\r\n",
        "# Plot the grid lines\r\n",
        "plt.grid(which=\"major\", color='k', linestyle='-.', linewidth=0.5)\r\n",
        "plt.show()"
      ],
      "execution_count": null,
      "outputs": [
        {
          "output_type": "display_data",
          "data": {
            "image/png": "[encoded data removed]",
            "text/plain": [
              "<Figure size 576x576 with 1 Axes>"
            ]
          },
          "metadata": {
            "tags": []
          }
        }
      ]
    },
    {
      "cell_type": "markdown",
      "metadata": {
        "id": "Y7uYDvBx0uNO"
      },
      "source": [
        "## Pearsonr Testing\r\n"
      ]
    },
    {
      "cell_type": "code",
      "metadata": {
        "colab": {
          "base_uri": "https://localhost:8080/",
          "height": 658
        },
        "id": "x5xtFG_BzFc3",
        "outputId": "abe75724-bbab-43bb-c166-105e121bdecb"
      },
      "source": [
        "# Examine Dataframe Coorelations\r\n",
        "covid_corr = covid_stocks_df.corr()\r\n",
        "covid_corr"
      ],
      "execution_count": null,
      "outputs": [
        {
          "output_type": "execute_result",
          "data": {
            "text/html": [
              "<div>\n",
              "<style scoped>\n",
              "    .dataframe tbody tr th:only-of-type {\n",
              "        vertical-align: middle;\n",
              "    }\n",
              "\n",
              "    .dataframe tbody tr th {\n",
              "        vertical-align: top;\n",
              "    }\n",
              "\n",
              "    .dataframe thead th {\n",
              "        text-align: right;\n",
              "    }\n",
              "</style>\n",
              "<table border=\"1\" class=\"dataframe\">\n",
              "  <thead>\n",
              "    <tr style=\"text-align: right;\">\n",
              "      <th></th>\n",
              "      <th>cases</th>\n",
              "      <th>deaths</th>\n",
              "      <th>Maersk</th>\n",
              "      <th>Cosco Shipping</th>\n",
              "      <th>Danaos Shipping</th>\n",
              "      <th>DHL</th>\n",
              "      <th>FedEx</th>\n",
              "      <th>International Seaways</th>\n",
              "      <th>Matson</th>\n",
              "      <th>Nordic American</th>\n",
              "      <th>Star Bulk Carriers</th>\n",
              "      <th>SFL Corp</th>\n",
              "      <th>UPS</th>\n",
              "      <th>Dow Jones</th>\n",
              "      <th>S&amp;P 500</th>\n",
              "      <th>Nasdaq</th>\n",
              "    </tr>\n",
              "  </thead>\n",
              "  <tbody>\n",
              "    <tr>\n",
              "      <th>cases</th>\n",
              "      <td>1.000000</td>\n",
              "      <td>0.943115</td>\n",
              "      <td>0.962215</td>\n",
              "      <td>0.948715</td>\n",
              "      <td>0.891410</td>\n",
              "      <td>0.843987</td>\n",
              "      <td>0.890609</td>\n",
              "      <td>-0.588493</td>\n",
              "      <td>0.893615</td>\n",
              "      <td>-0.231601</td>\n",
              "      <td>0.344590</td>\n",
              "      <td>-0.786526</td>\n",
              "      <td>0.858802</td>\n",
              "      <td>0.657245</td>\n",
              "      <td>0.772597</td>\n",
              "      <td>0.877011</td>\n",
              "    </tr>\n",
              "    <tr>\n",
              "      <th>deaths</th>\n",
              "      <td>0.943115</td>\n",
              "      <td>1.000000</td>\n",
              "      <td>0.918157</td>\n",
              "      <td>0.825001</td>\n",
              "      <td>0.717769</td>\n",
              "      <td>0.897298</td>\n",
              "      <td>0.887251</td>\n",
              "      <td>-0.694911</td>\n",
              "      <td>0.806760</td>\n",
              "      <td>-0.044400</td>\n",
              "      <td>0.190229</td>\n",
              "      <td>-0.823912</td>\n",
              "      <td>0.900172</td>\n",
              "      <td>0.630595</td>\n",
              "      <td>0.777518</td>\n",
              "      <td>0.925765</td>\n",
              "    </tr>\n",
              "    <tr>\n",
              "      <th>Maersk</th>\n",
              "      <td>0.962215</td>\n",
              "      <td>0.918157</td>\n",
              "      <td>1.000000</td>\n",
              "      <td>0.934854</td>\n",
              "      <td>0.866460</td>\n",
              "      <td>0.928922</td>\n",
              "      <td>0.935648</td>\n",
              "      <td>-0.600299</td>\n",
              "      <td>0.923496</td>\n",
              "      <td>-0.244130</td>\n",
              "      <td>0.500320</td>\n",
              "      <td>-0.658719</td>\n",
              "      <td>0.908393</td>\n",
              "      <td>0.814254</td>\n",
              "      <td>0.895768</td>\n",
              "      <td>0.942219</td>\n",
              "    </tr>\n",
              "    <tr>\n",
              "      <th>Cosco Shipping</th>\n",
              "      <td>0.948715</td>\n",
              "      <td>0.825001</td>\n",
              "      <td>0.934854</td>\n",
              "      <td>1.000000</td>\n",
              "      <td>0.936621</td>\n",
              "      <td>0.782671</td>\n",
              "      <td>0.860318</td>\n",
              "      <td>-0.480015</td>\n",
              "      <td>0.934331</td>\n",
              "      <td>-0.369057</td>\n",
              "      <td>0.478281</td>\n",
              "      <td>-0.647196</td>\n",
              "      <td>0.794321</td>\n",
              "      <td>0.699891</td>\n",
              "      <td>0.769207</td>\n",
              "      <td>0.806235</td>\n",
              "    </tr>\n",
              "    <tr>\n",
              "      <th>Danaos Shipping</th>\n",
              "      <td>0.891410</td>\n",
              "      <td>0.717769</td>\n",
              "      <td>0.866460</td>\n",
              "      <td>0.936621</td>\n",
              "      <td>1.000000</td>\n",
              "      <td>0.657824</td>\n",
              "      <td>0.756329</td>\n",
              "      <td>-0.310890</td>\n",
              "      <td>0.858670</td>\n",
              "      <td>-0.366812</td>\n",
              "      <td>0.523446</td>\n",
              "      <td>-0.528860</td>\n",
              "      <td>0.661134</td>\n",
              "      <td>0.664661</td>\n",
              "      <td>0.700664</td>\n",
              "      <td>0.701821</td>\n",
              "    </tr>\n",
              "    <tr>\n",
              "      <th>DHL</th>\n",
              "      <td>0.843987</td>\n",
              "      <td>0.897298</td>\n",
              "      <td>0.928922</td>\n",
              "      <td>0.782671</td>\n",
              "      <td>0.657824</td>\n",
              "      <td>1.000000</td>\n",
              "      <td>0.947218</td>\n",
              "      <td>-0.712321</td>\n",
              "      <td>0.847918</td>\n",
              "      <td>-0.152394</td>\n",
              "      <td>0.441546</td>\n",
              "      <td>-0.598179</td>\n",
              "      <td>0.959655</td>\n",
              "      <td>0.836471</td>\n",
              "      <td>0.921923</td>\n",
              "      <td>0.967451</td>\n",
              "    </tr>\n",
              "    <tr>\n",
              "      <th>FedEx</th>\n",
              "      <td>0.890609</td>\n",
              "      <td>0.887251</td>\n",
              "      <td>0.935648</td>\n",
              "      <td>0.860318</td>\n",
              "      <td>0.756329</td>\n",
              "      <td>0.947218</td>\n",
              "      <td>1.000000</td>\n",
              "      <td>-0.686865</td>\n",
              "      <td>0.930304</td>\n",
              "      <td>-0.300711</td>\n",
              "      <td>0.408408</td>\n",
              "      <td>-0.679573</td>\n",
              "      <td>0.961913</td>\n",
              "      <td>0.758268</td>\n",
              "      <td>0.846527</td>\n",
              "      <td>0.900817</td>\n",
              "    </tr>\n",
              "    <tr>\n",
              "      <th>International Seaways</th>\n",
              "      <td>-0.588493</td>\n",
              "      <td>-0.694911</td>\n",
              "      <td>-0.600299</td>\n",
              "      <td>-0.480015</td>\n",
              "      <td>-0.310890</td>\n",
              "      <td>-0.712321</td>\n",
              "      <td>-0.686865</td>\n",
              "      <td>1.000000</td>\n",
              "      <td>-0.551385</td>\n",
              "      <td>0.393753</td>\n",
              "      <td>-0.154513</td>\n",
              "      <td>0.688015</td>\n",
              "      <td>-0.711809</td>\n",
              "      <td>-0.402237</td>\n",
              "      <td>-0.525089</td>\n",
              "      <td>-0.665315</td>\n",
              "    </tr>\n",
              "    <tr>\n",
              "      <th>Matson</th>\n",
              "      <td>0.893615</td>\n",
              "      <td>0.806760</td>\n",
              "      <td>0.923496</td>\n",
              "      <td>0.934331</td>\n",
              "      <td>0.858670</td>\n",
              "      <td>0.847918</td>\n",
              "      <td>0.930304</td>\n",
              "      <td>-0.551385</td>\n",
              "      <td>1.000000</td>\n",
              "      <td>-0.400321</td>\n",
              "      <td>0.499363</td>\n",
              "      <td>-0.621384</td>\n",
              "      <td>0.856765</td>\n",
              "      <td>0.758032</td>\n",
              "      <td>0.818812</td>\n",
              "      <td>0.831142</td>\n",
              "    </tr>\n",
              "    <tr>\n",
              "      <th>Nordic American</th>\n",
              "      <td>-0.231601</td>\n",
              "      <td>-0.044400</td>\n",
              "      <td>-0.244130</td>\n",
              "      <td>-0.369057</td>\n",
              "      <td>-0.366812</td>\n",
              "      <td>-0.152394</td>\n",
              "      <td>-0.300711</td>\n",
              "      <td>0.393753</td>\n",
              "      <td>-0.400321</td>\n",
              "      <td>1.000000</td>\n",
              "      <td>-0.458136</td>\n",
              "      <td>0.159681</td>\n",
              "      <td>-0.193955</td>\n",
              "      <td>-0.190325</td>\n",
              "      <td>-0.145541</td>\n",
              "      <td>-0.077075</td>\n",
              "    </tr>\n",
              "    <tr>\n",
              "      <th>Star Bulk Carriers</th>\n",
              "      <td>0.344590</td>\n",
              "      <td>0.190229</td>\n",
              "      <td>0.500320</td>\n",
              "      <td>0.478281</td>\n",
              "      <td>0.523446</td>\n",
              "      <td>0.441546</td>\n",
              "      <td>0.408408</td>\n",
              "      <td>-0.154513</td>\n",
              "      <td>0.499363</td>\n",
              "      <td>-0.458136</td>\n",
              "      <td>1.000000</td>\n",
              "      <td>0.158566</td>\n",
              "      <td>0.352273</td>\n",
              "      <td>0.731309</td>\n",
              "      <td>0.624431</td>\n",
              "      <td>0.430876</td>\n",
              "    </tr>\n",
              "    <tr>\n",
              "      <th>SFL Corp</th>\n",
              "      <td>-0.786526</td>\n",
              "      <td>-0.823912</td>\n",
              "      <td>-0.658719</td>\n",
              "      <td>-0.647196</td>\n",
              "      <td>-0.528860</td>\n",
              "      <td>-0.598179</td>\n",
              "      <td>-0.679573</td>\n",
              "      <td>0.688015</td>\n",
              "      <td>-0.621384</td>\n",
              "      <td>0.159681</td>\n",
              "      <td>0.158566</td>\n",
              "      <td>1.000000</td>\n",
              "      <td>-0.699253</td>\n",
              "      <td>-0.158212</td>\n",
              "      <td>-0.350934</td>\n",
              "      <td>-0.600790</td>\n",
              "    </tr>\n",
              "    <tr>\n",
              "      <th>UPS</th>\n",
              "      <td>0.858802</td>\n",
              "      <td>0.900172</td>\n",
              "      <td>0.908393</td>\n",
              "      <td>0.794321</td>\n",
              "      <td>0.661134</td>\n",
              "      <td>0.959655</td>\n",
              "      <td>0.961913</td>\n",
              "      <td>-0.711809</td>\n",
              "      <td>0.856765</td>\n",
              "      <td>-0.193955</td>\n",
              "      <td>0.352273</td>\n",
              "      <td>-0.699253</td>\n",
              "      <td>1.000000</td>\n",
              "      <td>0.715111</td>\n",
              "      <td>0.823724</td>\n",
              "      <td>0.908574</td>\n",
              "    </tr>\n",
              "    <tr>\n",
              "      <th>Dow Jones</th>\n",
              "      <td>0.657245</td>\n",
              "      <td>0.630595</td>\n",
              "      <td>0.814254</td>\n",
              "      <td>0.699891</td>\n",
              "      <td>0.664661</td>\n",
              "      <td>0.836471</td>\n",
              "      <td>0.758268</td>\n",
              "      <td>-0.402237</td>\n",
              "      <td>0.758032</td>\n",
              "      <td>-0.190325</td>\n",
              "      <td>0.731309</td>\n",
              "      <td>-0.158212</td>\n",
              "      <td>0.715111</td>\n",
              "      <td>1.000000</td>\n",
              "      <td>0.974476</td>\n",
              "      <td>0.854690</td>\n",
              "    </tr>\n",
              "    <tr>\n",
              "      <th>S&amp;P 500</th>\n",
              "      <td>0.772597</td>\n",
              "      <td>0.777518</td>\n",
              "      <td>0.895768</td>\n",
              "      <td>0.769207</td>\n",
              "      <td>0.700664</td>\n",
              "      <td>0.921923</td>\n",
              "      <td>0.846527</td>\n",
              "      <td>-0.525089</td>\n",
              "      <td>0.818812</td>\n",
              "      <td>-0.145541</td>\n",
              "      <td>0.624431</td>\n",
              "      <td>-0.350934</td>\n",
              "      <td>0.823724</td>\n",
              "      <td>0.974476</td>\n",
              "      <td>1.000000</td>\n",
              "      <td>0.947673</td>\n",
              "    </tr>\n",
              "    <tr>\n",
              "      <th>Nasdaq</th>\n",
              "      <td>0.877011</td>\n",
              "      <td>0.925765</td>\n",
              "      <td>0.942219</td>\n",
              "      <td>0.806235</td>\n",
              "      <td>0.701821</td>\n",
              "      <td>0.967451</td>\n",
              "      <td>0.900817</td>\n",
              "      <td>-0.665315</td>\n",
              "      <td>0.831142</td>\n",
              "      <td>-0.077075</td>\n",
              "      <td>0.430876</td>\n",
              "      <td>-0.600790</td>\n",
              "      <td>0.908574</td>\n",
              "      <td>0.854690</td>\n",
              "      <td>0.947673</td>\n",
              "      <td>1.000000</td>\n",
              "    </tr>\n",
              "  </tbody>\n",
              "</table>\n",
              "</div>"
            ],
            "text/plain": [
              "                          cases    deaths  ...   S&P 500    Nasdaq\n",
              "cases                  1.000000  0.943115  ...  0.772597  0.877011\n",
              "deaths                 0.943115  1.000000  ...  0.777518  0.925765\n",
              "Maersk                 0.962215  0.918157  ...  0.895768  0.942219\n",
              "Cosco Shipping         0.948715  0.825001  ...  0.769207  0.806235\n",
              "Danaos Shipping        0.891410  0.717769  ...  0.700664  0.701821\n",
              "DHL                    0.843987  0.897298  ...  0.921923  0.967451\n",
              "FedEx                  0.890609  0.887251  ...  0.846527  0.900817\n",
              "International Seaways -0.588493 -0.694911  ... -0.525089 -0.665315\n",
              "Matson                 0.893615  0.806760  ...  0.818812  0.831142\n",
              "Nordic American       -0.231601 -0.044400  ... -0.145541 -0.077075\n",
              "Star Bulk Carriers     0.344590  0.190229  ...  0.624431  0.430876\n",
              "SFL Corp              -0.786526 -0.823912  ... -0.350934 -0.600790\n",
              "UPS                    0.858802  0.900172  ...  0.823724  0.908574\n",
              "Dow Jones              0.657245  0.630595  ...  0.974476  0.854690\n",
              "S&P 500                0.772597  0.777518  ...  1.000000  0.947673\n",
              "Nasdaq                 0.877011  0.925765  ...  0.947673  1.000000\n",
              "\n",
              "[16 rows x 16 columns]"
            ]
          },
          "metadata": {
            "tags": []
          },
          "execution_count": 28
        }
      ]
    },
    {
      "cell_type": "code",
      "metadata": {
        "colab": {
          "base_uri": "https://localhost:8080/",
          "height": 157
        },
        "id": "zvRvVJ2Ymsv_",
        "outputId": "4ee08e5c-f50b-416f-e4f2-5748794ff217"
      },
      "source": [
        "# Show stocks for only the begining and end of the dataframe\r\n",
        "ship_stocks_change = ship_stocks.iloc[[0, -1]]\r\n",
        "ship_stocks_change"
      ],
      "execution_count": null,
      "outputs": [
        {
          "output_type": "execute_result",
          "data": {
            "text/html": [
              "<div>\n",
              "<style scoped>\n",
              "    .dataframe tbody tr th:only-of-type {\n",
              "        vertical-align: middle;\n",
              "    }\n",
              "\n",
              "    .dataframe tbody tr th {\n",
              "        vertical-align: top;\n",
              "    }\n",
              "\n",
              "    .dataframe thead th {\n",
              "        text-align: right;\n",
              "    }\n",
              "</style>\n",
              "<table border=\"1\" class=\"dataframe\">\n",
              "  <thead>\n",
              "    <tr style=\"text-align: right;\">\n",
              "      <th></th>\n",
              "      <th>Maersk</th>\n",
              "      <th>Cosco Shipping</th>\n",
              "      <th>Danaos Shipping</th>\n",
              "      <th>DHL</th>\n",
              "      <th>FedEx</th>\n",
              "      <th>International Seaways</th>\n",
              "      <th>Matson</th>\n",
              "      <th>Nordic American</th>\n",
              "      <th>Star Bulk Carriers</th>\n",
              "      <th>SFL Corp</th>\n",
              "      <th>UPS</th>\n",
              "    </tr>\n",
              "  </thead>\n",
              "  <tbody>\n",
              "    <tr>\n",
              "      <th>2020-01-21</th>\n",
              "      <td>6.133312</td>\n",
              "      <td>1.93</td>\n",
              "      <td>7.61</td>\n",
              "      <td>36.412567</td>\n",
              "      <td>155.200943</td>\n",
              "      <td>26.46497</td>\n",
              "      <td>38.361725</td>\n",
              "      <td>3.944933</td>\n",
              "      <td>10.306302</td>\n",
              "      <td>12.840142</td>\n",
              "      <td>113.610794</td>\n",
              "    </tr>\n",
              "    <tr>\n",
              "      <th>2020-12-31</th>\n",
              "      <td>11.110000</td>\n",
              "      <td>6.17</td>\n",
              "      <td>21.43</td>\n",
              "      <td>49.840000</td>\n",
              "      <td>259.619995</td>\n",
              "      <td>16.33000</td>\n",
              "      <td>56.970001</td>\n",
              "      <td>2.950000</td>\n",
              "      <td>8.830000</td>\n",
              "      <td>6.280000</td>\n",
              "      <td>168.399994</td>\n",
              "    </tr>\n",
              "  </tbody>\n",
              "</table>\n",
              "</div>"
            ],
            "text/plain": [
              "               Maersk  Cosco Shipping  ...   SFL Corp         UPS\n",
              "2020-01-21   6.133312            1.93  ...  12.840142  113.610794\n",
              "2020-12-31  11.110000            6.17  ...   6.280000  168.399994\n",
              "\n",
              "[2 rows x 11 columns]"
            ]
          },
          "metadata": {
            "tags": []
          },
          "execution_count": 29
        }
      ]
    },
    {
      "cell_type": "code",
      "metadata": {
        "colab": {
          "base_uri": "https://localhost:8080/",
          "height": 157
        },
        "id": "k41cNb3ynbAq",
        "outputId": "bd81befc-06e7-4651-fbfc-aae1804df6f8"
      },
      "source": [
        "# Show the difference in values by percent\r\n",
        "percent_change_df = ship_stocks_change.pct_change(axis='rows')\r\n",
        "percent_change_df"
      ],
      "execution_count": null,
      "outputs": [
        {
          "output_type": "execute_result",
          "data": {
            "text/html": [
              "<div>\n",
              "<style scoped>\n",
              "    .dataframe tbody tr th:only-of-type {\n",
              "        vertical-align: middle;\n",
              "    }\n",
              "\n",
              "    .dataframe tbody tr th {\n",
              "        vertical-align: top;\n",
              "    }\n",
              "\n",
              "    .dataframe thead th {\n",
              "        text-align: right;\n",
              "    }\n",
              "</style>\n",
              "<table border=\"1\" class=\"dataframe\">\n",
              "  <thead>\n",
              "    <tr style=\"text-align: right;\">\n",
              "      <th></th>\n",
              "      <th>Maersk</th>\n",
              "      <th>Cosco Shipping</th>\n",
              "      <th>Danaos Shipping</th>\n",
              "      <th>DHL</th>\n",
              "      <th>FedEx</th>\n",
              "      <th>International Seaways</th>\n",
              "      <th>Matson</th>\n",
              "      <th>Nordic American</th>\n",
              "      <th>Star Bulk Carriers</th>\n",
              "      <th>SFL Corp</th>\n",
              "      <th>UPS</th>\n",
              "    </tr>\n",
              "  </thead>\n",
              "  <tbody>\n",
              "    <tr>\n",
              "      <th>2020-01-21</th>\n",
              "      <td>NaN</td>\n",
              "      <td>NaN</td>\n",
              "      <td>NaN</td>\n",
              "      <td>NaN</td>\n",
              "      <td>NaN</td>\n",
              "      <td>NaN</td>\n",
              "      <td>NaN</td>\n",
              "      <td>NaN</td>\n",
              "      <td>NaN</td>\n",
              "      <td>NaN</td>\n",
              "      <td>NaN</td>\n",
              "    </tr>\n",
              "    <tr>\n",
              "      <th>2020-12-31</th>\n",
              "      <td>0.811419</td>\n",
              "      <td>2.196891</td>\n",
              "      <td>1.816032</td>\n",
              "      <td>0.368758</td>\n",
              "      <td>0.672799</td>\n",
              "      <td>-0.382958</td>\n",
              "      <td>0.485074</td>\n",
              "      <td>-0.252205</td>\n",
              "      <td>-0.143243</td>\n",
              "      <td>-0.510909</td>\n",
              "      <td>0.482253</td>\n",
              "    </tr>\n",
              "  </tbody>\n",
              "</table>\n",
              "</div>"
            ],
            "text/plain": [
              "              Maersk  Cosco Shipping  ...  SFL Corp       UPS\n",
              "2020-01-21       NaN             NaN  ...       NaN       NaN\n",
              "2020-12-31  0.811419        2.196891  ... -0.510909  0.482253\n",
              "\n",
              "[2 rows x 11 columns]"
            ]
          },
          "metadata": {
            "tags": []
          },
          "execution_count": 30
        }
      ]
    },
    {
      "cell_type": "code",
      "metadata": {
        "colab": {
          "base_uri": "https://localhost:8080/"
        },
        "id": "iE5kfn2tn6hd",
        "outputId": "b8b25e74-2eb1-41e9-b814-91ccbcde4439"
      },
      "source": [
        "transposed_df = percent_change_df.T\r\n",
        "print(transposed_df)"
      ],
      "execution_count": null,
      "outputs": [
        {
          "output_type": "stream",
          "text": [
            "                       2020-01-21  2020-12-31\n",
            "Maersk                        NaN    0.811419\n",
            "Cosco Shipping                NaN    2.196891\n",
            "Danaos Shipping               NaN    1.816032\n",
            "DHL                           NaN    0.368758\n",
            "FedEx                         NaN    0.672799\n",
            "International Seaways         NaN   -0.382958\n",
            "Matson                        NaN    0.485074\n",
            "Nordic American               NaN   -0.252205\n",
            "Star Bulk Carriers            NaN   -0.143243\n",
            "SFL Corp                      NaN   -0.510909\n",
            "UPS                           NaN    0.482253\n"
          ],
          "name": "stdout"
        }
      ]
    },
    {
      "cell_type": "code",
      "metadata": {
        "colab": {
          "base_uri": "https://localhost:8080/"
        },
        "id": "CjMaUMbjoJ1r",
        "outputId": "af439ce7-6738-4ac1-e734-4230863c1ff0"
      },
      "source": [
        "trans_df = transposed_df.iloc[:, -1]\r\n",
        "trans_df"
      ],
      "execution_count": null,
      "outputs": [
        {
          "output_type": "execute_result",
          "data": {
            "text/plain": [
              "Maersk                   0.811419\n",
              "Cosco Shipping           2.196891\n",
              "Danaos Shipping          1.816032\n",
              "DHL                      0.368758\n",
              "FedEx                    0.672799\n",
              "International Seaways   -0.382958\n",
              "Matson                   0.485074\n",
              "Nordic American         -0.252205\n",
              "Star Bulk Carriers      -0.143243\n",
              "SFL Corp                -0.510909\n",
              "UPS                      0.482253\n",
              "Name: 2020-12-31 00:00:00, dtype: float64"
            ]
          },
          "metadata": {
            "tags": []
          },
          "execution_count": 32
        }
      ]
    },
    {
      "cell_type": "code",
      "metadata": {
        "id": "ZvdbrYRsoUdb"
      },
      "source": [
        "trans_df = trans_df*100"
      ],
      "execution_count": null,
      "outputs": []
    },
    {
      "cell_type": "code",
      "metadata": {
        "id": "i2tEhniaoZYa"
      },
      "source": [
        "# Set default format for float to percentage\r\n",
        "pd.options.display.float_format = '{:.2f}%'.format"
      ],
      "execution_count": null,
      "outputs": []
    },
    {
      "cell_type": "code",
      "metadata": {
        "colab": {
          "base_uri": "https://localhost:8080/"
        },
        "id": "DyepKKhUokCL",
        "outputId": "75f53399-49f6-4765-eeeb-b27cbe7c8b4e"
      },
      "source": [
        "trans_df"
      ],
      "execution_count": null,
      "outputs": [
        {
          "output_type": "execute_result",
          "data": {
            "text/plain": [
              "Maersk                   81.14%\n",
              "Cosco Shipping          219.69%\n",
              "Danaos Shipping         181.60%\n",
              "DHL                      36.88%\n",
              "FedEx                    67.28%\n",
              "International Seaways   -38.30%\n",
              "Matson                   48.51%\n",
              "Nordic American         -25.22%\n",
              "Star Bulk Carriers      -14.32%\n",
              "SFL Corp                -51.09%\n",
              "UPS                      48.23%\n",
              "Name: 2020-12-31 00:00:00, dtype: float64"
            ]
          },
          "metadata": {
            "tags": []
          },
          "execution_count": 35
        }
      ]
    },
    {
      "cell_type": "code",
      "metadata": {
        "colab": {
          "base_uri": "https://localhost:8080/"
        },
        "id": "4yo6e-c2pYWo",
        "outputId": "05d533e7-386b-4ce0-d46a-447b044e0fb0"
      },
      "source": [
        "# Sort dataframe by Largest stock market loss to smallest\r\n",
        "trans_df = trans_df.sort_values(ascending=True)\r\n",
        "trans_df"
      ],
      "execution_count": null,
      "outputs": [
        {
          "output_type": "execute_result",
          "data": {
            "text/plain": [
              "SFL Corp                -51.09%\n",
              "International Seaways   -38.30%\n",
              "Nordic American         -25.22%\n",
              "Star Bulk Carriers      -14.32%\n",
              "DHL                      36.88%\n",
              "UPS                      48.23%\n",
              "Matson                   48.51%\n",
              "FedEx                    67.28%\n",
              "Maersk                   81.14%\n",
              "Danaos Shipping         181.60%\n",
              "Cosco Shipping          219.69%\n",
              "Name: 2020-12-31 00:00:00, dtype: float64"
            ]
          },
          "metadata": {
            "tags": []
          },
          "execution_count": 36
        }
      ]
    },
    {
      "cell_type": "code",
      "metadata": {
        "id": "NCHm9M3gyp9f"
      },
      "source": [
        "# Set default format for float to percentage\r\n",
        "pd.options.display.float_format = '{:.2f}'.format"
      ],
      "execution_count": null,
      "outputs": []
    },
    {
      "cell_type": "code",
      "metadata": {
        "id": "FS-g4Mp00SKT"
      },
      "source": [
        "CDR_corr = covid_corr.iloc[3:, : 3]"
      ],
      "execution_count": null,
      "outputs": []
    },
    {
      "cell_type": "code",
      "metadata": {
        "colab": {
          "base_uri": "https://localhost:8080/",
          "height": 343
        },
        "id": "ehADFo4t0USd",
        "outputId": "6a281879-0c99-4eb2-c7e6-b8bdbad79016"
      },
      "source": [
        "# Merge by Index\r\n",
        "corr_loss = pd.merge(CDR_corr, trans_df, how='inner', left_index=True, right_index=True)\r\n",
        "corr_loss"
      ],
      "execution_count": null,
      "outputs": [
        {
          "output_type": "execute_result",
          "data": {
            "text/html": [
              "<div>\n",
              "<style scoped>\n",
              "    .dataframe tbody tr th:only-of-type {\n",
              "        vertical-align: middle;\n",
              "    }\n",
              "\n",
              "    .dataframe tbody tr th {\n",
              "        vertical-align: top;\n",
              "    }\n",
              "\n",
              "    .dataframe thead th {\n",
              "        text-align: right;\n",
              "    }\n",
              "</style>\n",
              "<table border=\"1\" class=\"dataframe\">\n",
              "  <thead>\n",
              "    <tr style=\"text-align: right;\">\n",
              "      <th></th>\n",
              "      <th>cases</th>\n",
              "      <th>deaths</th>\n",
              "      <th>Maersk</th>\n",
              "      <th>2020-12-31 00:00:00</th>\n",
              "    </tr>\n",
              "  </thead>\n",
              "  <tbody>\n",
              "    <tr>\n",
              "      <th>Cosco Shipping</th>\n",
              "      <td>0.95</td>\n",
              "      <td>0.83</td>\n",
              "      <td>0.93</td>\n",
              "      <td>219.69</td>\n",
              "    </tr>\n",
              "    <tr>\n",
              "      <th>Danaos Shipping</th>\n",
              "      <td>0.89</td>\n",
              "      <td>0.72</td>\n",
              "      <td>0.87</td>\n",
              "      <td>181.60</td>\n",
              "    </tr>\n",
              "    <tr>\n",
              "      <th>DHL</th>\n",
              "      <td>0.84</td>\n",
              "      <td>0.90</td>\n",
              "      <td>0.93</td>\n",
              "      <td>36.88</td>\n",
              "    </tr>\n",
              "    <tr>\n",
              "      <th>FedEx</th>\n",
              "      <td>0.89</td>\n",
              "      <td>0.89</td>\n",
              "      <td>0.94</td>\n",
              "      <td>67.28</td>\n",
              "    </tr>\n",
              "    <tr>\n",
              "      <th>International Seaways</th>\n",
              "      <td>-0.59</td>\n",
              "      <td>-0.69</td>\n",
              "      <td>-0.60</td>\n",
              "      <td>-38.30</td>\n",
              "    </tr>\n",
              "    <tr>\n",
              "      <th>Matson</th>\n",
              "      <td>0.89</td>\n",
              "      <td>0.81</td>\n",
              "      <td>0.92</td>\n",
              "      <td>48.51</td>\n",
              "    </tr>\n",
              "    <tr>\n",
              "      <th>Nordic American</th>\n",
              "      <td>-0.23</td>\n",
              "      <td>-0.04</td>\n",
              "      <td>-0.24</td>\n",
              "      <td>-25.22</td>\n",
              "    </tr>\n",
              "    <tr>\n",
              "      <th>Star Bulk Carriers</th>\n",
              "      <td>0.34</td>\n",
              "      <td>0.19</td>\n",
              "      <td>0.50</td>\n",
              "      <td>-14.32</td>\n",
              "    </tr>\n",
              "    <tr>\n",
              "      <th>SFL Corp</th>\n",
              "      <td>-0.79</td>\n",
              "      <td>-0.82</td>\n",
              "      <td>-0.66</td>\n",
              "      <td>-51.09</td>\n",
              "    </tr>\n",
              "    <tr>\n",
              "      <th>UPS</th>\n",
              "      <td>0.86</td>\n",
              "      <td>0.90</td>\n",
              "      <td>0.91</td>\n",
              "      <td>48.23</td>\n",
              "    </tr>\n",
              "  </tbody>\n",
              "</table>\n",
              "</div>"
            ],
            "text/plain": [
              "                       cases  deaths  Maersk  2020-12-31 00:00:00\n",
              "Cosco Shipping          0.95    0.83    0.93               219.69\n",
              "Danaos Shipping         0.89    0.72    0.87               181.60\n",
              "DHL                     0.84    0.90    0.93                36.88\n",
              "FedEx                   0.89    0.89    0.94                67.28\n",
              "International Seaways  -0.59   -0.69   -0.60               -38.30\n",
              "Matson                  0.89    0.81    0.92                48.51\n",
              "Nordic American        -0.23   -0.04   -0.24               -25.22\n",
              "Star Bulk Carriers      0.34    0.19    0.50               -14.32\n",
              "SFL Corp               -0.79   -0.82   -0.66               -51.09\n",
              "UPS                     0.86    0.90    0.91                48.23"
            ]
          },
          "metadata": {
            "tags": []
          },
          "execution_count": 39
        }
      ]
    },
    {
      "cell_type": "code",
      "metadata": {
        "colab": {
          "base_uri": "https://localhost:8080/"
        },
        "id": "UWomAC9FN850",
        "outputId": "dcf5a847-9a4b-4887-9abb-ccbb1f0f8902"
      },
      "source": [
        "corr_loss.info()"
      ],
      "execution_count": null,
      "outputs": [
        {
          "output_type": "stream",
          "text": [
            "<class 'pandas.core.frame.DataFrame'>\n",
            "Index: 10 entries, Cosco Shipping to UPS\n",
            "Data columns (total 4 columns):\n",
            " #   Column               Non-Null Count  Dtype  \n",
            "---  ------               --------------  -----  \n",
            " 0   cases                10 non-null     float64\n",
            " 1   deaths               10 non-null     float64\n",
            " 2   Maersk               10 non-null     float64\n",
            " 3   2020-12-31 00:00:00  10 non-null     float64\n",
            "dtypes: float64(4)\n",
            "memory usage: 400.0+ bytes\n"
          ],
          "name": "stdout"
        }
      ]
    },
    {
      "cell_type": "code",
      "metadata": {
        "id": "Sd2AQKgoPKN8"
      },
      "source": [
        "corr_loss = corr_loss.drop([\"Maersk\"], axis=1)"
      ],
      "execution_count": null,
      "outputs": []
    },
    {
      "cell_type": "code",
      "metadata": {
        "colab": {
          "base_uri": "https://localhost:8080/",
          "height": 343
        },
        "id": "OCTbF37yPbeN",
        "outputId": "20419554-0b7a-46c1-c5ed-acd4f45431e7"
      },
      "source": [
        "corr_loss.columns = ['Cases', 'Deaths', '% Change']\r\n",
        "corr_loss"
      ],
      "execution_count": null,
      "outputs": [
        {
          "output_type": "execute_result",
          "data": {
            "text/html": [
              "<div>\n",
              "<style scoped>\n",
              "    .dataframe tbody tr th:only-of-type {\n",
              "        vertical-align: middle;\n",
              "    }\n",
              "\n",
              "    .dataframe tbody tr th {\n",
              "        vertical-align: top;\n",
              "    }\n",
              "\n",
              "    .dataframe thead th {\n",
              "        text-align: right;\n",
              "    }\n",
              "</style>\n",
              "<table border=\"1\" class=\"dataframe\">\n",
              "  <thead>\n",
              "    <tr style=\"text-align: right;\">\n",
              "      <th></th>\n",
              "      <th>Cases</th>\n",
              "      <th>Deaths</th>\n",
              "      <th>% Change</th>\n",
              "    </tr>\n",
              "  </thead>\n",
              "  <tbody>\n",
              "    <tr>\n",
              "      <th>Cosco Shipping</th>\n",
              "      <td>0.95</td>\n",
              "      <td>0.83</td>\n",
              "      <td>219.69</td>\n",
              "    </tr>\n",
              "    <tr>\n",
              "      <th>Danaos Shipping</th>\n",
              "      <td>0.89</td>\n",
              "      <td>0.72</td>\n",
              "      <td>181.60</td>\n",
              "    </tr>\n",
              "    <tr>\n",
              "      <th>DHL</th>\n",
              "      <td>0.84</td>\n",
              "      <td>0.90</td>\n",
              "      <td>36.88</td>\n",
              "    </tr>\n",
              "    <tr>\n",
              "      <th>FedEx</th>\n",
              "      <td>0.89</td>\n",
              "      <td>0.89</td>\n",
              "      <td>67.28</td>\n",
              "    </tr>\n",
              "    <tr>\n",
              "      <th>International Seaways</th>\n",
              "      <td>-0.59</td>\n",
              "      <td>-0.69</td>\n",
              "      <td>-38.30</td>\n",
              "    </tr>\n",
              "    <tr>\n",
              "      <th>Matson</th>\n",
              "      <td>0.89</td>\n",
              "      <td>0.81</td>\n",
              "      <td>48.51</td>\n",
              "    </tr>\n",
              "    <tr>\n",
              "      <th>Nordic American</th>\n",
              "      <td>-0.23</td>\n",
              "      <td>-0.04</td>\n",
              "      <td>-25.22</td>\n",
              "    </tr>\n",
              "    <tr>\n",
              "      <th>Star Bulk Carriers</th>\n",
              "      <td>0.34</td>\n",
              "      <td>0.19</td>\n",
              "      <td>-14.32</td>\n",
              "    </tr>\n",
              "    <tr>\n",
              "      <th>SFL Corp</th>\n",
              "      <td>-0.79</td>\n",
              "      <td>-0.82</td>\n",
              "      <td>-51.09</td>\n",
              "    </tr>\n",
              "    <tr>\n",
              "      <th>UPS</th>\n",
              "      <td>0.86</td>\n",
              "      <td>0.90</td>\n",
              "      <td>48.23</td>\n",
              "    </tr>\n",
              "  </tbody>\n",
              "</table>\n",
              "</div>"
            ],
            "text/plain": [
              "                       Cases  Deaths  % Change\n",
              "Cosco Shipping          0.95    0.83    219.69\n",
              "Danaos Shipping         0.89    0.72    181.60\n",
              "DHL                     0.84    0.90     36.88\n",
              "FedEx                   0.89    0.89     67.28\n",
              "International Seaways  -0.59   -0.69    -38.30\n",
              "Matson                  0.89    0.81     48.51\n",
              "Nordic American        -0.23   -0.04    -25.22\n",
              "Star Bulk Carriers      0.34    0.19    -14.32\n",
              "SFL Corp               -0.79   -0.82    -51.09\n",
              "UPS                     0.86    0.90     48.23"
            ]
          },
          "metadata": {
            "tags": []
          },
          "execution_count": 42
        }
      ]
    },
    {
      "cell_type": "code",
      "metadata": {
        "id": "bV6cyKn-QDWw"
      },
      "source": [
        "corr_loss = corr_loss.round(decimals=2)"
      ],
      "execution_count": null,
      "outputs": []
    },
    {
      "cell_type": "code",
      "metadata": {
        "colab": {
          "base_uri": "https://localhost:8080/",
          "height": 343
        },
        "id": "AoLFvQ5zScl2",
        "outputId": "5bd9f350-b6c2-4551-e02c-35d72e36c878"
      },
      "source": [
        "corr_loss"
      ],
      "execution_count": null,
      "outputs": [
        {
          "output_type": "execute_result",
          "data": {
            "text/html": [
              "<div>\n",
              "<style scoped>\n",
              "    .dataframe tbody tr th:only-of-type {\n",
              "        vertical-align: middle;\n",
              "    }\n",
              "\n",
              "    .dataframe tbody tr th {\n",
              "        vertical-align: top;\n",
              "    }\n",
              "\n",
              "    .dataframe thead th {\n",
              "        text-align: right;\n",
              "    }\n",
              "</style>\n",
              "<table border=\"1\" class=\"dataframe\">\n",
              "  <thead>\n",
              "    <tr style=\"text-align: right;\">\n",
              "      <th></th>\n",
              "      <th>Cases</th>\n",
              "      <th>Deaths</th>\n",
              "      <th>% Change</th>\n",
              "    </tr>\n",
              "  </thead>\n",
              "  <tbody>\n",
              "    <tr>\n",
              "      <th>SFL Corp</th>\n",
              "      <td>-0.79</td>\n",
              "      <td>-0.82</td>\n",
              "      <td>-51.09</td>\n",
              "    </tr>\n",
              "    <tr>\n",
              "      <th>International Seaways</th>\n",
              "      <td>-0.59</td>\n",
              "      <td>-0.69</td>\n",
              "      <td>-38.30</td>\n",
              "    </tr>\n",
              "    <tr>\n",
              "      <th>Nordic American</th>\n",
              "      <td>-0.23</td>\n",
              "      <td>-0.04</td>\n",
              "      <td>-25.22</td>\n",
              "    </tr>\n",
              "    <tr>\n",
              "      <th>Star Bulk Carriers</th>\n",
              "      <td>0.34</td>\n",
              "      <td>0.19</td>\n",
              "      <td>-14.32</td>\n",
              "    </tr>\n",
              "    <tr>\n",
              "      <th>DHL</th>\n",
              "      <td>0.84</td>\n",
              "      <td>0.9</td>\n",
              "      <td>36.88</td>\n",
              "    </tr>\n",
              "    <tr>\n",
              "      <th>UPS</th>\n",
              "      <td>0.86</td>\n",
              "      <td>0.9</td>\n",
              "      <td>48.23</td>\n",
              "    </tr>\n",
              "    <tr>\n",
              "      <th>Matson</th>\n",
              "      <td>0.89</td>\n",
              "      <td>0.81</td>\n",
              "      <td>48.51</td>\n",
              "    </tr>\n",
              "    <tr>\n",
              "      <th>FedEx</th>\n",
              "      <td>0.89</td>\n",
              "      <td>0.89</td>\n",
              "      <td>67.28</td>\n",
              "    </tr>\n",
              "    <tr>\n",
              "      <th>Danaos Shipping</th>\n",
              "      <td>0.89</td>\n",
              "      <td>0.72</td>\n",
              "      <td>181.60</td>\n",
              "    </tr>\n",
              "    <tr>\n",
              "      <th>Cosco Shipping</th>\n",
              "      <td>0.95</td>\n",
              "      <td>0.83</td>\n",
              "      <td>219.69</td>\n",
              "    </tr>\n",
              "  </tbody>\n",
              "</table>\n",
              "</div>"
            ],
            "text/plain": [
              "                       Cases Deaths  % Change\n",
              "SFL Corp               -0.79  -0.82    -51.09\n",
              "International Seaways  -0.59  -0.69    -38.30\n",
              "Nordic American        -0.23  -0.04    -25.22\n",
              "Star Bulk Carriers      0.34   0.19    -14.32\n",
              "DHL                     0.84    0.9     36.88\n",
              "UPS                     0.86    0.9     48.23\n",
              "Matson                  0.89   0.81     48.51\n",
              "FedEx                   0.89   0.89     67.28\n",
              "Danaos Shipping         0.89   0.72    181.60\n",
              "Cosco Shipping          0.95   0.83    219.69"
            ]
          },
          "metadata": {
            "tags": []
          },
          "execution_count": 86
        }
      ]
    },
    {
      "cell_type": "code",
      "metadata": {
        "id": "aiNZEHaZGAOo"
      },
      "source": [
        "# Set default format for float to percentage\r\n",
        "pd.options.display.float_format = '{:.2f}'.format"
      ],
      "execution_count": null,
      "outputs": []
    },
    {
      "cell_type": "code",
      "metadata": {
        "id": "LBdDNKuVRmPj"
      },
      "source": [
        "corr_loss[['Cases', 'Deaths']] = corr_loss[['Cases', 'Deaths']].astype(str)"
      ],
      "execution_count": null,
      "outputs": []
    },
    {
      "cell_type": "code",
      "metadata": {
        "id": "5WVAiwl3_LQV"
      },
      "source": [
        "# corr_loss = corr_loss.style.highlight_min('% Change', color = 'lightgreen', axis = 0).highlight_max('% Change', color = 'pink', axis = 0).format('{0:,}')"
      ],
      "execution_count": null,
      "outputs": []
    },
    {
      "cell_type": "code",
      "metadata": {
        "colab": {
          "base_uri": "https://localhost:8080/",
          "height": 343
        },
        "id": "-lUbNeUeSDPm",
        "outputId": "c68203a4-2e23-4a6c-9c2e-25e46806da89"
      },
      "source": [
        "corr_loss"
      ],
      "execution_count": null,
      "outputs": [
        {
          "output_type": "execute_result",
          "data": {
            "text/html": [
              "<div>\n",
              "<style scoped>\n",
              "    .dataframe tbody tr th:only-of-type {\n",
              "        vertical-align: middle;\n",
              "    }\n",
              "\n",
              "    .dataframe tbody tr th {\n",
              "        vertical-align: top;\n",
              "    }\n",
              "\n",
              "    .dataframe thead th {\n",
              "        text-align: right;\n",
              "    }\n",
              "</style>\n",
              "<table border=\"1\" class=\"dataframe\">\n",
              "  <thead>\n",
              "    <tr style=\"text-align: right;\">\n",
              "      <th></th>\n",
              "      <th>Cases</th>\n",
              "      <th>Deaths</th>\n",
              "      <th>% Change</th>\n",
              "    </tr>\n",
              "  </thead>\n",
              "  <tbody>\n",
              "    <tr>\n",
              "      <th>Cosco Shipping</th>\n",
              "      <td>0.95</td>\n",
              "      <td>0.83</td>\n",
              "      <td>219.69</td>\n",
              "    </tr>\n",
              "    <tr>\n",
              "      <th>Danaos Shipping</th>\n",
              "      <td>0.89</td>\n",
              "      <td>0.72</td>\n",
              "      <td>181.60</td>\n",
              "    </tr>\n",
              "    <tr>\n",
              "      <th>DHL</th>\n",
              "      <td>0.84</td>\n",
              "      <td>0.9</td>\n",
              "      <td>36.88</td>\n",
              "    </tr>\n",
              "    <tr>\n",
              "      <th>FedEx</th>\n",
              "      <td>0.89</td>\n",
              "      <td>0.89</td>\n",
              "      <td>67.28</td>\n",
              "    </tr>\n",
              "    <tr>\n",
              "      <th>International Seaways</th>\n",
              "      <td>-0.59</td>\n",
              "      <td>-0.69</td>\n",
              "      <td>-38.30</td>\n",
              "    </tr>\n",
              "    <tr>\n",
              "      <th>Matson</th>\n",
              "      <td>0.89</td>\n",
              "      <td>0.81</td>\n",
              "      <td>48.51</td>\n",
              "    </tr>\n",
              "    <tr>\n",
              "      <th>Nordic American</th>\n",
              "      <td>-0.23</td>\n",
              "      <td>-0.04</td>\n",
              "      <td>-25.22</td>\n",
              "    </tr>\n",
              "    <tr>\n",
              "      <th>Star Bulk Carriers</th>\n",
              "      <td>0.34</td>\n",
              "      <td>0.19</td>\n",
              "      <td>-14.32</td>\n",
              "    </tr>\n",
              "    <tr>\n",
              "      <th>SFL Corp</th>\n",
              "      <td>-0.79</td>\n",
              "      <td>-0.82</td>\n",
              "      <td>-51.09</td>\n",
              "    </tr>\n",
              "    <tr>\n",
              "      <th>UPS</th>\n",
              "      <td>0.86</td>\n",
              "      <td>0.9</td>\n",
              "      <td>48.23</td>\n",
              "    </tr>\n",
              "  </tbody>\n",
              "</table>\n",
              "</div>"
            ],
            "text/plain": [
              "                       Cases Deaths  % Change\n",
              "Cosco Shipping          0.95   0.83    219.69\n",
              "Danaos Shipping         0.89   0.72    181.60\n",
              "DHL                     0.84    0.9     36.88\n",
              "FedEx                   0.89   0.89     67.28\n",
              "International Seaways  -0.59  -0.69    -38.30\n",
              "Matson                  0.89   0.81     48.51\n",
              "Nordic American        -0.23  -0.04    -25.22\n",
              "Star Bulk Carriers      0.34   0.19    -14.32\n",
              "SFL Corp               -0.79  -0.82    -51.09\n",
              "UPS                     0.86    0.9     48.23"
            ]
          },
          "metadata": {
            "tags": []
          },
          "execution_count": 50
        }
      ]
    },
    {
      "cell_type": "code",
      "metadata": {
        "colab": {
          "base_uri": "https://localhost:8080/",
          "height": 343
        },
        "id": "tU9AeTnCSIDg",
        "outputId": "2c3954e2-d7a9-4172-df57-4297b0e32a6b"
      },
      "source": [
        "# Sort by % Loss Highest to Lowest\r\n",
        "corr_loss = corr_loss.sort_values('% Change', ascending=True)\r\n",
        "corr_loss"
      ],
      "execution_count": null,
      "outputs": [
        {
          "output_type": "execute_result",
          "data": {
            "text/html": [
              "<div>\n",
              "<style scoped>\n",
              "    .dataframe tbody tr th:only-of-type {\n",
              "        vertical-align: middle;\n",
              "    }\n",
              "\n",
              "    .dataframe tbody tr th {\n",
              "        vertical-align: top;\n",
              "    }\n",
              "\n",
              "    .dataframe thead th {\n",
              "        text-align: right;\n",
              "    }\n",
              "</style>\n",
              "<table border=\"1\" class=\"dataframe\">\n",
              "  <thead>\n",
              "    <tr style=\"text-align: right;\">\n",
              "      <th></th>\n",
              "      <th>Cases</th>\n",
              "      <th>Deaths</th>\n",
              "      <th>% Change</th>\n",
              "    </tr>\n",
              "  </thead>\n",
              "  <tbody>\n",
              "    <tr>\n",
              "      <th>SFL Corp</th>\n",
              "      <td>-0.79</td>\n",
              "      <td>-0.82</td>\n",
              "      <td>-51.09</td>\n",
              "    </tr>\n",
              "    <tr>\n",
              "      <th>International Seaways</th>\n",
              "      <td>-0.59</td>\n",
              "      <td>-0.69</td>\n",
              "      <td>-38.30</td>\n",
              "    </tr>\n",
              "    <tr>\n",
              "      <th>Nordic American</th>\n",
              "      <td>-0.23</td>\n",
              "      <td>-0.04</td>\n",
              "      <td>-25.22</td>\n",
              "    </tr>\n",
              "    <tr>\n",
              "      <th>Star Bulk Carriers</th>\n",
              "      <td>0.34</td>\n",
              "      <td>0.19</td>\n",
              "      <td>-14.32</td>\n",
              "    </tr>\n",
              "    <tr>\n",
              "      <th>DHL</th>\n",
              "      <td>0.84</td>\n",
              "      <td>0.9</td>\n",
              "      <td>36.88</td>\n",
              "    </tr>\n",
              "    <tr>\n",
              "      <th>UPS</th>\n",
              "      <td>0.86</td>\n",
              "      <td>0.9</td>\n",
              "      <td>48.23</td>\n",
              "    </tr>\n",
              "    <tr>\n",
              "      <th>Matson</th>\n",
              "      <td>0.89</td>\n",
              "      <td>0.81</td>\n",
              "      <td>48.51</td>\n",
              "    </tr>\n",
              "    <tr>\n",
              "      <th>FedEx</th>\n",
              "      <td>0.89</td>\n",
              "      <td>0.89</td>\n",
              "      <td>67.28</td>\n",
              "    </tr>\n",
              "    <tr>\n",
              "      <th>Danaos Shipping</th>\n",
              "      <td>0.89</td>\n",
              "      <td>0.72</td>\n",
              "      <td>181.60</td>\n",
              "    </tr>\n",
              "    <tr>\n",
              "      <th>Cosco Shipping</th>\n",
              "      <td>0.95</td>\n",
              "      <td>0.83</td>\n",
              "      <td>219.69</td>\n",
              "    </tr>\n",
              "  </tbody>\n",
              "</table>\n",
              "</div>"
            ],
            "text/plain": [
              "                       Cases Deaths  % Change\n",
              "SFL Corp               -0.79  -0.82    -51.09\n",
              "International Seaways  -0.59  -0.69    -38.30\n",
              "Nordic American        -0.23  -0.04    -25.22\n",
              "Star Bulk Carriers      0.34   0.19    -14.32\n",
              "DHL                     0.84    0.9     36.88\n",
              "UPS                     0.86    0.9     48.23\n",
              "Matson                  0.89   0.81     48.51\n",
              "FedEx                   0.89   0.89     67.28\n",
              "Danaos Shipping         0.89   0.72    181.60\n",
              "Cosco Shipping          0.95   0.83    219.69"
            ]
          },
          "metadata": {
            "tags": []
          },
          "execution_count": 51
        }
      ]
    },
    {
      "cell_type": "code",
      "metadata": {
        "id": "gt1PzSe3Uuqq"
      },
      "source": [
        "corr_loss_format = corr_loss.style.highlight_min('% Change', color = 'lightgreen', axis = 0).highlight_max('% Change', color = 'pink', axis = 0).format('{:.2f}', '% Change')"
      ],
      "execution_count": null,
      "outputs": []
    },
    {
      "cell_type": "code",
      "metadata": {
        "colab": {
          "base_uri": "https://localhost:8080/",
          "height": 238
        },
        "id": "B-m4eX9LVT9r",
        "outputId": "09ffddb8-8cd9-4e50-e10c-1d78a9cdf6f1"
      },
      "source": [
        "corr_loss.style.highlight_min('% Change', color = 'red', axis = 0).highlight_max('% Change', color = 'lightgreen', axis = 0).format('{:.2f}', '% Change')"
      ],
      "execution_count": null,
      "outputs": [
        {
          "output_type": "execute_result",
          "data": {
            "text/html": [
              "<style  type=\"text/css\" >\n",
              "#T_d95a07ba_6bcf_11eb_89bf_0242ac1c0002row0_col2{\n",
              "            background-color:  red;\n",
              "        }#T_d95a07ba_6bcf_11eb_89bf_0242ac1c0002row9_col2{\n",
              "            background-color:  lightgreen;\n",
              "        }</style><table id=\"T_d95a07ba_6bcf_11eb_89bf_0242ac1c0002\" ><thead>    <tr>        <th class=\"blank level0\" ></th>        <th class=\"col_heading level0 col0\" >Cases</th>        <th class=\"col_heading level0 col1\" >Deaths</th>        <th class=\"col_heading level0 col2\" >% Change</th>    </tr></thead><tbody>\n",
              "                <tr>\n",
              "                        <th id=\"T_d95a07ba_6bcf_11eb_89bf_0242ac1c0002level0_row0\" class=\"row_heading level0 row0\" >SFL Corp</th>\n",
              "                        <td id=\"T_d95a07ba_6bcf_11eb_89bf_0242ac1c0002row0_col0\" class=\"data row0 col0\" >-0.79</td>\n",
              "                        <td id=\"T_d95a07ba_6bcf_11eb_89bf_0242ac1c0002row0_col1\" class=\"data row0 col1\" >-0.82</td>\n",
              "                        <td id=\"T_d95a07ba_6bcf_11eb_89bf_0242ac1c0002row0_col2\" class=\"data row0 col2\" >-51.09</td>\n",
              "            </tr>\n",
              "            <tr>\n",
              "                        <th id=\"T_d95a07ba_6bcf_11eb_89bf_0242ac1c0002level0_row1\" class=\"row_heading level0 row1\" >International Seaways</th>\n",
              "                        <td id=\"T_d95a07ba_6bcf_11eb_89bf_0242ac1c0002row1_col0\" class=\"data row1 col0\" >-0.59</td>\n",
              "                        <td id=\"T_d95a07ba_6bcf_11eb_89bf_0242ac1c0002row1_col1\" class=\"data row1 col1\" >-0.69</td>\n",
              "                        <td id=\"T_d95a07ba_6bcf_11eb_89bf_0242ac1c0002row1_col2\" class=\"data row1 col2\" >-38.30</td>\n",
              "            </tr>\n",
              "            <tr>\n",
              "                        <th id=\"T_d95a07ba_6bcf_11eb_89bf_0242ac1c0002level0_row2\" class=\"row_heading level0 row2\" >Nordic American</th>\n",
              "                        <td id=\"T_d95a07ba_6bcf_11eb_89bf_0242ac1c0002row2_col0\" class=\"data row2 col0\" >-0.23</td>\n",
              "                        <td id=\"T_d95a07ba_6bcf_11eb_89bf_0242ac1c0002row2_col1\" class=\"data row2 col1\" >-0.04</td>\n",
              "                        <td id=\"T_d95a07ba_6bcf_11eb_89bf_0242ac1c0002row2_col2\" class=\"data row2 col2\" >-25.22</td>\n",
              "            </tr>\n",
              "            <tr>\n",
              "                        <th id=\"T_d95a07ba_6bcf_11eb_89bf_0242ac1c0002level0_row3\" class=\"row_heading level0 row3\" >Star Bulk Carriers</th>\n",
              "                        <td id=\"T_d95a07ba_6bcf_11eb_89bf_0242ac1c0002row3_col0\" class=\"data row3 col0\" >0.34</td>\n",
              "                        <td id=\"T_d95a07ba_6bcf_11eb_89bf_0242ac1c0002row3_col1\" class=\"data row3 col1\" >0.19</td>\n",
              "                        <td id=\"T_d95a07ba_6bcf_11eb_89bf_0242ac1c0002row3_col2\" class=\"data row3 col2\" >-14.32</td>\n",
              "            </tr>\n",
              "            <tr>\n",
              "                        <th id=\"T_d95a07ba_6bcf_11eb_89bf_0242ac1c0002level0_row4\" class=\"row_heading level0 row4\" >DHL</th>\n",
              "                        <td id=\"T_d95a07ba_6bcf_11eb_89bf_0242ac1c0002row4_col0\" class=\"data row4 col0\" >0.84</td>\n",
              "                        <td id=\"T_d95a07ba_6bcf_11eb_89bf_0242ac1c0002row4_col1\" class=\"data row4 col1\" >0.9</td>\n",
              "                        <td id=\"T_d95a07ba_6bcf_11eb_89bf_0242ac1c0002row4_col2\" class=\"data row4 col2\" >36.88</td>\n",
              "            </tr>\n",
              "            <tr>\n",
              "                        <th id=\"T_d95a07ba_6bcf_11eb_89bf_0242ac1c0002level0_row5\" class=\"row_heading level0 row5\" >UPS</th>\n",
              "                        <td id=\"T_d95a07ba_6bcf_11eb_89bf_0242ac1c0002row5_col0\" class=\"data row5 col0\" >0.86</td>\n",
              "                        <td id=\"T_d95a07ba_6bcf_11eb_89bf_0242ac1c0002row5_col1\" class=\"data row5 col1\" >0.9</td>\n",
              "                        <td id=\"T_d95a07ba_6bcf_11eb_89bf_0242ac1c0002row5_col2\" class=\"data row5 col2\" >48.23</td>\n",
              "            </tr>\n",
              "            <tr>\n",
              "                        <th id=\"T_d95a07ba_6bcf_11eb_89bf_0242ac1c0002level0_row6\" class=\"row_heading level0 row6\" >Matson</th>\n",
              "                        <td id=\"T_d95a07ba_6bcf_11eb_89bf_0242ac1c0002row6_col0\" class=\"data row6 col0\" >0.89</td>\n",
              "                        <td id=\"T_d95a07ba_6bcf_11eb_89bf_0242ac1c0002row6_col1\" class=\"data row6 col1\" >0.81</td>\n",
              "                        <td id=\"T_d95a07ba_6bcf_11eb_89bf_0242ac1c0002row6_col2\" class=\"data row6 col2\" >48.51</td>\n",
              "            </tr>\n",
              "            <tr>\n",
              "                        <th id=\"T_d95a07ba_6bcf_11eb_89bf_0242ac1c0002level0_row7\" class=\"row_heading level0 row7\" >FedEx</th>\n",
              "                        <td id=\"T_d95a07ba_6bcf_11eb_89bf_0242ac1c0002row7_col0\" class=\"data row7 col0\" >0.89</td>\n",
              "                        <td id=\"T_d95a07ba_6bcf_11eb_89bf_0242ac1c0002row7_col1\" class=\"data row7 col1\" >0.89</td>\n",
              "                        <td id=\"T_d95a07ba_6bcf_11eb_89bf_0242ac1c0002row7_col2\" class=\"data row7 col2\" >67.28</td>\n",
              "            </tr>\n",
              "            <tr>\n",
              "                        <th id=\"T_d95a07ba_6bcf_11eb_89bf_0242ac1c0002level0_row8\" class=\"row_heading level0 row8\" >Danaos Shipping</th>\n",
              "                        <td id=\"T_d95a07ba_6bcf_11eb_89bf_0242ac1c0002row8_col0\" class=\"data row8 col0\" >0.89</td>\n",
              "                        <td id=\"T_d95a07ba_6bcf_11eb_89bf_0242ac1c0002row8_col1\" class=\"data row8 col1\" >0.72</td>\n",
              "                        <td id=\"T_d95a07ba_6bcf_11eb_89bf_0242ac1c0002row8_col2\" class=\"data row8 col2\" >181.60</td>\n",
              "            </tr>\n",
              "            <tr>\n",
              "                        <th id=\"T_d95a07ba_6bcf_11eb_89bf_0242ac1c0002level0_row9\" class=\"row_heading level0 row9\" >Cosco Shipping</th>\n",
              "                        <td id=\"T_d95a07ba_6bcf_11eb_89bf_0242ac1c0002row9_col0\" class=\"data row9 col0\" >0.95</td>\n",
              "                        <td id=\"T_d95a07ba_6bcf_11eb_89bf_0242ac1c0002row9_col1\" class=\"data row9 col1\" >0.83</td>\n",
              "                        <td id=\"T_d95a07ba_6bcf_11eb_89bf_0242ac1c0002row9_col2\" class=\"data row9 col2\" >219.69</td>\n",
              "            </tr>\n",
              "    </tbody></table>"
            ],
            "text/plain": [
              "<pandas.io.formats.style.Styler at 0x7f960e0cf128>"
            ]
          },
          "metadata": {
            "tags": []
          },
          "execution_count": 53
        }
      ]
    },
    {
      "cell_type": "code",
      "metadata": {
        "id": "9_kORwnXS_Pg"
      },
      "source": [
        "CDR_corr = CDR_corr.drop([\"Maersk\"], axis=1)"
      ],
      "execution_count": null,
      "outputs": []
    },
    {
      "cell_type": "code",
      "metadata": {
        "colab": {
          "base_uri": "https://localhost:8080/",
          "height": 291
        },
        "id": "xbtmVuQWSYsO",
        "outputId": "f47c0495-6e02-437c-d0ea-f77c4b2fdc79"
      },
      "source": [
        "ax = sns.heatmap(\r\n",
        "    CDR_corr, \r\n",
        "    vmin=-1, vmax=1, center=0,\r\n",
        "    cmap=sns.diverging_palette(20, 220, n=200),\r\n",
        "    square=True\r\n",
        ")\r\n",
        "ax.set_xticklabels(\r\n",
        "    ax.get_xticklabels(),\r\n",
        "    rotation=45,\r\n",
        "    horizontalalignment='right'\r\n",
        ");"
      ],
      "execution_count": null,
      "outputs": [
        {
          "output_type": "display_data",
          "data": {
            "image/png": "[encoded data removed]",
            "text/plain": [
              "<Figure size 432x288 with 2 Axes>"
            ]
          },
          "metadata": {
            "tags": []
          }
        }
      ]
    },
    {
      "cell_type": "code",
      "metadata": {
        "colab": {
          "base_uri": "https://localhost:8080/",
          "height": 343
        },
        "id": "bwlHqLKLT3pO",
        "outputId": "cc71e40b-5618-4144-c145-d1b67b3f1fde"
      },
      "source": [
        "corr_loss"
      ],
      "execution_count": null,
      "outputs": [
        {
          "output_type": "execute_result",
          "data": {
            "text/html": [
              "<div>\n",
              "<style scoped>\n",
              "    .dataframe tbody tr th:only-of-type {\n",
              "        vertical-align: middle;\n",
              "    }\n",
              "\n",
              "    .dataframe tbody tr th {\n",
              "        vertical-align: top;\n",
              "    }\n",
              "\n",
              "    .dataframe thead th {\n",
              "        text-align: right;\n",
              "    }\n",
              "</style>\n",
              "<table border=\"1\" class=\"dataframe\">\n",
              "  <thead>\n",
              "    <tr style=\"text-align: right;\">\n",
              "      <th></th>\n",
              "      <th>Cases</th>\n",
              "      <th>Deaths</th>\n",
              "      <th>% Change</th>\n",
              "    </tr>\n",
              "  </thead>\n",
              "  <tbody>\n",
              "    <tr>\n",
              "      <th>SFL Corp</th>\n",
              "      <td>-0.79</td>\n",
              "      <td>-0.82</td>\n",
              "      <td>-51.09</td>\n",
              "    </tr>\n",
              "    <tr>\n",
              "      <th>International Seaways</th>\n",
              "      <td>-0.59</td>\n",
              "      <td>-0.69</td>\n",
              "      <td>-38.30</td>\n",
              "    </tr>\n",
              "    <tr>\n",
              "      <th>Nordic American</th>\n",
              "      <td>-0.23</td>\n",
              "      <td>-0.04</td>\n",
              "      <td>-25.22</td>\n",
              "    </tr>\n",
              "    <tr>\n",
              "      <th>Star Bulk Carriers</th>\n",
              "      <td>0.34</td>\n",
              "      <td>0.19</td>\n",
              "      <td>-14.32</td>\n",
              "    </tr>\n",
              "    <tr>\n",
              "      <th>DHL</th>\n",
              "      <td>0.84</td>\n",
              "      <td>0.9</td>\n",
              "      <td>36.88</td>\n",
              "    </tr>\n",
              "    <tr>\n",
              "      <th>UPS</th>\n",
              "      <td>0.86</td>\n",
              "      <td>0.9</td>\n",
              "      <td>48.23</td>\n",
              "    </tr>\n",
              "    <tr>\n",
              "      <th>Matson</th>\n",
              "      <td>0.89</td>\n",
              "      <td>0.81</td>\n",
              "      <td>48.51</td>\n",
              "    </tr>\n",
              "    <tr>\n",
              "      <th>FedEx</th>\n",
              "      <td>0.89</td>\n",
              "      <td>0.89</td>\n",
              "      <td>67.28</td>\n",
              "    </tr>\n",
              "    <tr>\n",
              "      <th>Danaos Shipping</th>\n",
              "      <td>0.89</td>\n",
              "      <td>0.72</td>\n",
              "      <td>181.60</td>\n",
              "    </tr>\n",
              "    <tr>\n",
              "      <th>Cosco Shipping</th>\n",
              "      <td>0.95</td>\n",
              "      <td>0.83</td>\n",
              "      <td>219.69</td>\n",
              "    </tr>\n",
              "  </tbody>\n",
              "</table>\n",
              "</div>"
            ],
            "text/plain": [
              "                       Cases Deaths  % Change\n",
              "SFL Corp               -0.79  -0.82    -51.09\n",
              "International Seaways  -0.59  -0.69    -38.30\n",
              "Nordic American        -0.23  -0.04    -25.22\n",
              "Star Bulk Carriers      0.34   0.19    -14.32\n",
              "DHL                     0.84    0.9     36.88\n",
              "UPS                     0.86    0.9     48.23\n",
              "Matson                  0.89   0.81     48.51\n",
              "FedEx                   0.89   0.89     67.28\n",
              "Danaos Shipping         0.89   0.72    181.60\n",
              "Cosco Shipping          0.95   0.83    219.69"
            ]
          },
          "metadata": {
            "tags": []
          },
          "execution_count": 56
        }
      ]
    },
    {
      "cell_type": "code",
      "metadata": {
        "colab": {
          "base_uri": "https://localhost:8080/"
        },
        "id": "REfdfHXh1MZK",
        "outputId": "4a149893-686f-4bf0-d422-9569955690ba"
      },
      "source": [
        "# Cases and International Seaways pearsonr test\r\n",
        "stats.pearsonr(covid_stocks_df['cases'], covid_stocks_df['SFL Corp'])"
      ],
      "execution_count": null,
      "outputs": [
        {
          "output_type": "execute_result",
          "data": {
            "text/plain": [
              "(-0.7865259565991107, 6.1280366656746426e-52)"
            ]
          },
          "metadata": {
            "tags": []
          },
          "execution_count": 57
        }
      ]
    },
    {
      "cell_type": "code",
      "metadata": {
        "colab": {
          "base_uri": "https://localhost:8080/"
        },
        "id": "K3BNIIC6fde5",
        "outputId": "19607a3c-c01e-495a-ea03-3ed07337b869"
      },
      "source": [
        "# Cases and International Seaways pearsonr test\r\n",
        "stats.pearsonr(covid_stocks_df['cases'], covid_stocks_df['International Seaways'])"
      ],
      "execution_count": null,
      "outputs": [
        {
          "output_type": "execute_result",
          "data": {
            "text/plain": [
              "(-0.5884927803675167, 7.49982454583938e-24)"
            ]
          },
          "metadata": {
            "tags": []
          },
          "execution_count": 58
        }
      ]
    },
    {
      "cell_type": "code",
      "metadata": {
        "colab": {
          "base_uri": "https://localhost:8080/"
        },
        "id": "2iFY9GP22Apt",
        "outputId": "7e80c376-eefb-4561-bcb6-adc1ae4d922a"
      },
      "source": [
        "# Cases and Nordic American pearsonr test\r\n",
        "stats.pearsonr(covid_stocks_df['cases'], covid_stocks_df['Nordic American'])"
      ],
      "execution_count": null,
      "outputs": [
        {
          "output_type": "execute_result",
          "data": {
            "text/plain": [
              "(-0.2316013423952066, 0.00028767475676455794)"
            ]
          },
          "metadata": {
            "tags": []
          },
          "execution_count": 59
        }
      ]
    },
    {
      "cell_type": "code",
      "metadata": {
        "colab": {
          "base_uri": "https://localhost:8080/"
        },
        "id": "XaDued_i2QSZ",
        "outputId": "e982cae7-6bc6-4f8e-ffaf-193c417e876a"
      },
      "source": [
        "# Cases and Star Bulk Carriers pearsonr test\r\n",
        "stats.pearsonr(covid_stocks_df['cases'], covid_stocks_df['Star Bulk Carriers'])"
      ],
      "execution_count": null,
      "outputs": [
        {
          "output_type": "execute_result",
          "data": {
            "text/plain": [
              "(0.34459045278741307, 4.0020797181981736e-08)"
            ]
          },
          "metadata": {
            "tags": []
          },
          "execution_count": 60
        }
      ]
    },
    {
      "cell_type": "code",
      "metadata": {
        "colab": {
          "base_uri": "https://localhost:8080/"
        },
        "id": "JK7_LCv_2Y2X",
        "outputId": "adf04e36-f8c3-49c2-8446-d4854452d26c"
      },
      "source": [
        "# Cases and DHL pearsonr test\r\n",
        "stats.pearsonr(covid_stocks_df['cases'], covid_stocks_df['DHL'])"
      ],
      "execution_count": null,
      "outputs": [
        {
          "output_type": "execute_result",
          "data": {
            "text/plain": [
              "(0.8439872458630965, 1.336377370269705e-66)"
            ]
          },
          "metadata": {
            "tags": []
          },
          "execution_count": 61
        }
      ]
    },
    {
      "cell_type": "code",
      "metadata": {
        "colab": {
          "base_uri": "https://localhost:8080/"
        },
        "id": "2reFlSx3TetI",
        "outputId": "8487c51b-e728-4a0b-9497-8d4ede0aea5f"
      },
      "source": [
        "# Cases and UPS pearsonr test\r\n",
        "stats.pearsonr(covid_stocks_df['cases'], covid_stocks_df['UPS'])"
      ],
      "execution_count": null,
      "outputs": [
        {
          "output_type": "execute_result",
          "data": {
            "text/plain": [
              "(0.858802104434758, 2.267721045463295e-71)"
            ]
          },
          "metadata": {
            "tags": []
          },
          "execution_count": 62
        }
      ]
    },
    {
      "cell_type": "code",
      "metadata": {
        "colab": {
          "base_uri": "https://localhost:8080/"
        },
        "id": "BuMmIkRM2iB6",
        "outputId": "1ff0c63e-1be8-4abb-9928-1c3a53451ad0"
      },
      "source": [
        "# Cases and Matson pearsonr test\r\n",
        "stats.pearsonr(covid_stocks_df['cases'], covid_stocks_df['Matson'])"
      ],
      "execution_count": null,
      "outputs": [
        {
          "output_type": "execute_result",
          "data": {
            "text/plain": [
              "(0.8936152723946766, 4.065568826778037e-85)"
            ]
          },
          "metadata": {
            "tags": []
          },
          "execution_count": 63
        }
      ]
    },
    {
      "cell_type": "code",
      "metadata": {
        "colab": {
          "base_uri": "https://localhost:8080/"
        },
        "id": "HQVPLq2i2qfS",
        "outputId": "c623fb94-3e8d-4491-f152-29731a031b27"
      },
      "source": [
        "# Cases and FedEx pearsonr test\r\n",
        "stats.pearsonr(covid_stocks_df['cases'], covid_stocks_df['FedEx'])"
      ],
      "execution_count": null,
      "outputs": [
        {
          "output_type": "execute_result",
          "data": {
            "text/plain": [
              "(0.8906093201986145, 9.423100244732847e-84)"
            ]
          },
          "metadata": {
            "tags": []
          },
          "execution_count": 64
        }
      ]
    },
    {
      "cell_type": "code",
      "metadata": {
        "colab": {
          "base_uri": "https://localhost:8080/"
        },
        "id": "JbvoOY8o21uC",
        "outputId": "96bdbd18-1672-4f64-e248-2032640ef0f0"
      },
      "source": [
        "# Cases and Danaos Shipping\tpearsonr test\r\n",
        "stats.pearsonr(covid_stocks_df['cases'], covid_stocks_df['Danaos Shipping'])"
      ],
      "execution_count": null,
      "outputs": [
        {
          "output_type": "execute_result",
          "data": {
            "text/plain": [
              "(0.8914095493715155, 4.118337272835785e-84)"
            ]
          },
          "metadata": {
            "tags": []
          },
          "execution_count": 65
        }
      ]
    },
    {
      "cell_type": "code",
      "metadata": {
        "colab": {
          "base_uri": "https://localhost:8080/"
        },
        "id": "V835ZbABdVji",
        "outputId": "9f94f403-0a0f-46f6-bd23-aaf692dbd66c"
      },
      "source": [
        "# Cases and Cosco Shipping pearsonr test\r\n",
        "stats.pearsonr(covid_stocks_df['cases'], covid_stocks_df['Cosco Shipping'])"
      ],
      "execution_count": null,
      "outputs": [
        {
          "output_type": "execute_result",
          "data": {
            "text/plain": [
              "(0.9487152956762708, 1.5974708191889485e-121)"
            ]
          },
          "metadata": {
            "tags": []
          },
          "execution_count": 66
        }
      ]
    },
    {
      "cell_type": "markdown",
      "metadata": {
        "id": "oh8FF6JC30ZL"
      },
      "source": [
        "Based on the pearsonr testing and looking at the correlations, I can determine that all stocks have a strong correlation to covid. With all the p-values being well below .5, this shows that covid did have some effect on the values. I will now look further into how much of an effect it did have. "
      ]
    },
    {
      "cell_type": "markdown",
      "metadata": {
        "id": "TT0RpttH4crZ"
      },
      "source": [
        "## Independent t-test"
      ]
    },
    {
      "cell_type": "markdown",
      "metadata": {
        "id": "ENQiOu_r4nWg"
      },
      "source": [
        "To properly perform the t-test, I first created a stock values data frame from the previous year. I will then compare that to the most recent year, where covid has shown to have impacted stock values. "
      ]
    },
    {
      "cell_type": "code",
      "metadata": {
        "colab": {
          "base_uri": "https://localhost:8080/"
        },
        "id": "VGZifugd44sD",
        "outputId": "6fa0e51c-4178-4804-e0de-57c544aa0b52"
      },
      "source": [
        "!pip install yfinance\r\n",
        "import seaborn as sns\r\n",
        "import datetime\r\n",
        "import yfinance as yf\r\n",
        "from pandas_datareader import data as pandas_datareader"
      ],
      "execution_count": null,
      "outputs": [
        {
          "output_type": "stream",
          "text": [
            "Requirement already satisfied: yfinance in /usr/local/lib/python3.6/dist-packages (0.1.55)\n",
            "Requirement already satisfied: numpy>=1.15 in /usr/local/lib/python3.6/dist-packages (from yfinance) (1.19.5)\n",
            "Requirement already satisfied: multitasking>=0.0.7 in /usr/local/lib/python3.6/dist-packages (from yfinance) (0.0.9)\n",
            "Requirement already satisfied: pandas>=0.24 in /usr/local/lib/python3.6/dist-packages (from yfinance) (1.1.5)\n",
            "Requirement already satisfied: requests>=2.20 in /usr/local/lib/python3.6/dist-packages (from yfinance) (2.23.0)\n",
            "Requirement already satisfied: lxml>=4.5.1 in /usr/local/lib/python3.6/dist-packages (from yfinance) (4.6.2)\n",
            "Requirement already satisfied: python-dateutil>=2.7.3 in /usr/local/lib/python3.6/dist-packages (from pandas>=0.24->yfinance) (2.8.1)\n",
            "Requirement already satisfied: pytz>=2017.2 in /usr/local/lib/python3.6/dist-packages (from pandas>=0.24->yfinance) (2018.9)\n",
            "Requirement already satisfied: chardet<4,>=3.0.2 in /usr/local/lib/python3.6/dist-packages (from requests>=2.20->yfinance) (3.0.4)\n",
            "Requirement already satisfied: urllib3!=1.25.0,!=1.25.1,<1.26,>=1.21.1 in /usr/local/lib/python3.6/dist-packages (from requests>=2.20->yfinance) (1.24.3)\n",
            "Requirement already satisfied: certifi>=2017.4.17 in /usr/local/lib/python3.6/dist-packages (from requests>=2.20->yfinance) (2020.12.5)\n",
            "Requirement already satisfied: idna<3,>=2.5 in /usr/local/lib/python3.6/dist-packages (from requests>=2.20->yfinance) (2.10)\n",
            "Requirement already satisfied: six>=1.5 in /usr/local/lib/python3.6/dist-packages (from python-dateutil>=2.7.3->pandas>=0.24->yfinance) (1.15.0)\n"
          ],
          "name": "stdout"
        }
      ]
    },
    {
      "cell_type": "code",
      "metadata": {
        "id": "pQxvQCu35AmK"
      },
      "source": [
        "# Set stock values to analyize\r\n",
        "prior_stocks = [\"AMKBY\",\"CICOY\", \"DAC\", \"DPSGY\", \"FDX\", \"INSW\", \"MATX\", \"NAT\", \"SBLK\", \"SFL\", \"UPS\", \"^DJI\", \"^GSPC\", \"^IXIC\"]\r\n",
        "# Set start and end dates for during covid-19\r\n",
        "start = datetime.datetime(2019, 1, 1)\r\n",
        "end   = datetime.datetime(2019, 12, 31)"
      ],
      "execution_count": null,
      "outputs": []
    },
    {
      "cell_type": "code",
      "metadata": {
        "colab": {
          "base_uri": "https://localhost:8080/",
          "height": 461
        },
        "id": "IOivsSli5S2y",
        "outputId": "c87cbc6b-285f-407d-afce-9f6d58026c91"
      },
      "source": [
        "# Grab data\r\n",
        "prior_data = pdr.get_data_yahoo(stocks, start = start, end = end)\r\n",
        "# Select only Adjusted Closed Stock Price\r\n",
        "adj_close = ['Adj Close']\r\n",
        "prior_data[adj_close]"
      ],
      "execution_count": null,
      "outputs": [
        {
          "output_type": "execute_result",
          "data": {
            "text/html": [
              "<div>\n",
              "<style scoped>\n",
              "    .dataframe tbody tr th:only-of-type {\n",
              "        vertical-align: middle;\n",
              "    }\n",
              "\n",
              "    .dataframe tbody tr th {\n",
              "        vertical-align: top;\n",
              "    }\n",
              "\n",
              "    .dataframe thead tr th {\n",
              "        text-align: left;\n",
              "    }\n",
              "\n",
              "    .dataframe thead tr:last-of-type th {\n",
              "        text-align: right;\n",
              "    }\n",
              "</style>\n",
              "<table border=\"1\" class=\"dataframe\">\n",
              "  <thead>\n",
              "    <tr>\n",
              "      <th>Attributes</th>\n",
              "      <th colspan=\"14\" halign=\"left\">Adj Close</th>\n",
              "    </tr>\n",
              "    <tr>\n",
              "      <th>Symbols</th>\n",
              "      <th>AMKBY</th>\n",
              "      <th>CICOY</th>\n",
              "      <th>DAC</th>\n",
              "      <th>DPSGY</th>\n",
              "      <th>FDX</th>\n",
              "      <th>INSW</th>\n",
              "      <th>MATX</th>\n",
              "      <th>NAT</th>\n",
              "      <th>SBLK</th>\n",
              "      <th>SFL</th>\n",
              "      <th>UPS</th>\n",
              "      <th>^DJI</th>\n",
              "      <th>^GSPC</th>\n",
              "      <th>^IXIC</th>\n",
              "    </tr>\n",
              "    <tr>\n",
              "      <th>Date</th>\n",
              "      <th></th>\n",
              "      <th></th>\n",
              "      <th></th>\n",
              "      <th></th>\n",
              "      <th></th>\n",
              "      <th></th>\n",
              "      <th></th>\n",
              "      <th></th>\n",
              "      <th></th>\n",
              "      <th></th>\n",
              "      <th></th>\n",
              "      <th></th>\n",
              "      <th></th>\n",
              "      <th></th>\n",
              "    </tr>\n",
              "  </thead>\n",
              "  <tbody>\n",
              "    <tr>\n",
              "      <th>2019-01-02</th>\n",
              "      <td>5.34</td>\n",
              "      <td>1.95</td>\n",
              "      <td>11.90</td>\n",
              "      <td>25.49</td>\n",
              "      <td>158.25</td>\n",
              "      <td>17.48</td>\n",
              "      <td>30.78</td>\n",
              "      <td>1.86</td>\n",
              "      <td>9.35</td>\n",
              "      <td>9.38</td>\n",
              "      <td>90.89</td>\n",
              "      <td>23346.24</td>\n",
              "      <td>2510.03</td>\n",
              "      <td>6665.94</td>\n",
              "    </tr>\n",
              "    <tr>\n",
              "      <th>2019-01-03</th>\n",
              "      <td>5.25</td>\n",
              "      <td>1.95</td>\n",
              "      <td>12.18</td>\n",
              "      <td>25.05</td>\n",
              "      <td>152.43</td>\n",
              "      <td>17.57</td>\n",
              "      <td>30.08</td>\n",
              "      <td>1.81</td>\n",
              "      <td>9.25</td>\n",
              "      <td>9.19</td>\n",
              "      <td>88.31</td>\n",
              "      <td>22686.22</td>\n",
              "      <td>2447.89</td>\n",
              "      <td>6463.50</td>\n",
              "    </tr>\n",
              "    <tr>\n",
              "      <th>2019-01-04</th>\n",
              "      <td>5.56</td>\n",
              "      <td>1.95</td>\n",
              "      <td>12.74</td>\n",
              "      <td>26.10</td>\n",
              "      <td>159.46</td>\n",
              "      <td>18.53</td>\n",
              "      <td>31.05</td>\n",
              "      <td>1.96</td>\n",
              "      <td>10.03</td>\n",
              "      <td>9.84</td>\n",
              "      <td>91.39</td>\n",
              "      <td>23433.16</td>\n",
              "      <td>2531.94</td>\n",
              "      <td>6738.86</td>\n",
              "    </tr>\n",
              "    <tr>\n",
              "      <th>2019-01-07</th>\n",
              "      <td>5.67</td>\n",
              "      <td>1.95</td>\n",
              "      <td>12.74</td>\n",
              "      <td>26.39</td>\n",
              "      <td>161.69</td>\n",
              "      <td>18.87</td>\n",
              "      <td>31.59</td>\n",
              "      <td>1.99</td>\n",
              "      <td>10.30</td>\n",
              "      <td>10.04</td>\n",
              "      <td>91.08</td>\n",
              "      <td>23531.35</td>\n",
              "      <td>2549.69</td>\n",
              "      <td>6823.47</td>\n",
              "    </tr>\n",
              "    <tr>\n",
              "      <th>2019-01-08</th>\n",
              "      <td>5.71</td>\n",
              "      <td>1.95</td>\n",
              "      <td>13.16</td>\n",
              "      <td>26.66</td>\n",
              "      <td>161.97</td>\n",
              "      <td>18.73</td>\n",
              "      <td>32.25</td>\n",
              "      <td>1.93</td>\n",
              "      <td>10.43</td>\n",
              "      <td>9.90</td>\n",
              "      <td>91.09</td>\n",
              "      <td>23787.45</td>\n",
              "      <td>2574.41</td>\n",
              "      <td>6897.00</td>\n",
              "    </tr>\n",
              "    <tr>\n",
              "      <th>...</th>\n",
              "      <td>...</td>\n",
              "      <td>...</td>\n",
              "      <td>...</td>\n",
              "      <td>...</td>\n",
              "      <td>...</td>\n",
              "      <td>...</td>\n",
              "      <td>...</td>\n",
              "      <td>...</td>\n",
              "      <td>...</td>\n",
              "      <td>...</td>\n",
              "      <td>...</td>\n",
              "      <td>...</td>\n",
              "      <td>...</td>\n",
              "      <td>...</td>\n",
              "    </tr>\n",
              "    <tr>\n",
              "      <th>2019-12-24</th>\n",
              "      <td>6.81</td>\n",
              "      <td>2.04</td>\n",
              "      <td>9.32</td>\n",
              "      <td>36.80</td>\n",
              "      <td>148.55</td>\n",
              "      <td>28.87</td>\n",
              "      <td>39.77</td>\n",
              "      <td>4.34</td>\n",
              "      <td>11.45</td>\n",
              "      <td>13.07</td>\n",
              "      <td>114.52</td>\n",
              "      <td>28515.45</td>\n",
              "      <td>3223.38</td>\n",
              "      <td>8952.88</td>\n",
              "    </tr>\n",
              "    <tr>\n",
              "      <th>2019-12-26</th>\n",
              "      <td>6.93</td>\n",
              "      <td>2.03</td>\n",
              "      <td>9.40</td>\n",
              "      <td>36.66</td>\n",
              "      <td>150.24</td>\n",
              "      <td>28.92</td>\n",
              "      <td>39.99</td>\n",
              "      <td>4.50</td>\n",
              "      <td>11.87</td>\n",
              "      <td>13.15</td>\n",
              "      <td>115.21</td>\n",
              "      <td>28621.39</td>\n",
              "      <td>3239.91</td>\n",
              "      <td>9022.39</td>\n",
              "    </tr>\n",
              "    <tr>\n",
              "      <th>2019-12-27</th>\n",
              "      <td>7.01</td>\n",
              "      <td>2.04</td>\n",
              "      <td>9.07</td>\n",
              "      <td>37.26</td>\n",
              "      <td>150.27</td>\n",
              "      <td>28.60</td>\n",
              "      <td>40.12</td>\n",
              "      <td>4.30</td>\n",
              "      <td>11.57</td>\n",
              "      <td>13.09</td>\n",
              "      <td>115.11</td>\n",
              "      <td>28645.26</td>\n",
              "      <td>3240.02</td>\n",
              "      <td>9006.62</td>\n",
              "    </tr>\n",
              "    <tr>\n",
              "      <th>2019-12-30</th>\n",
              "      <td>6.92</td>\n",
              "      <td>1.94</td>\n",
              "      <td>9.05</td>\n",
              "      <td>36.58</td>\n",
              "      <td>147.92</td>\n",
              "      <td>29.01</td>\n",
              "      <td>40.43</td>\n",
              "      <td>4.34</td>\n",
              "      <td>11.66</td>\n",
              "      <td>13.04</td>\n",
              "      <td>112.69</td>\n",
              "      <td>28462.14</td>\n",
              "      <td>3221.29</td>\n",
              "      <td>8945.99</td>\n",
              "    </tr>\n",
              "    <tr>\n",
              "      <th>2019-12-31</th>\n",
              "      <td>6.92</td>\n",
              "      <td>2.01</td>\n",
              "      <td>9.18</td>\n",
              "      <td>36.72</td>\n",
              "      <td>148.97</td>\n",
              "      <td>29.39</td>\n",
              "      <td>39.83</td>\n",
              "      <td>4.39</td>\n",
              "      <td>11.74</td>\n",
              "      <td>13.06</td>\n",
              "      <td>113.29</td>\n",
              "      <td>28538.44</td>\n",
              "      <td>3230.78</td>\n",
              "      <td>8972.60</td>\n",
              "    </tr>\n",
              "  </tbody>\n",
              "</table>\n",
              "<p>252 rows × 14 columns</p>\n",
              "</div>"
            ],
            "text/plain": [
              "Attributes Adj Close                    ...                                \n",
              "Symbols        AMKBY CICOY   DAC DPSGY  ...    UPS     ^DJI   ^GSPC   ^IXIC\n",
              "Date                                    ...                                \n",
              "2019-01-02      5.34  1.95 11.90 25.49  ...  90.89 23346.24 2510.03 6665.94\n",
              "2019-01-03      5.25  1.95 12.18 25.05  ...  88.31 22686.22 2447.89 6463.50\n",
              "2019-01-04      5.56  1.95 12.74 26.10  ...  91.39 23433.16 2531.94 6738.86\n",
              "2019-01-07      5.67  1.95 12.74 26.39  ...  91.08 23531.35 2549.69 6823.47\n",
              "2019-01-08      5.71  1.95 13.16 26.66  ...  91.09 23787.45 2574.41 6897.00\n",
              "...              ...   ...   ...   ...  ...    ...      ...     ...     ...\n",
              "2019-12-24      6.81  2.04  9.32 36.80  ... 114.52 28515.45 3223.38 8952.88\n",
              "2019-12-26      6.93  2.03  9.40 36.66  ... 115.21 28621.39 3239.91 9022.39\n",
              "2019-12-27      7.01  2.04  9.07 37.26  ... 115.11 28645.26 3240.02 9006.62\n",
              "2019-12-30      6.92  1.94  9.05 36.58  ... 112.69 28462.14 3221.29 8945.99\n",
              "2019-12-31      6.92  2.01  9.18 36.72  ... 113.29 28538.44 3230.78 8972.60\n",
              "\n",
              "[252 rows x 14 columns]"
            ]
          },
          "metadata": {
            "tags": []
          },
          "execution_count": 69
        }
      ]
    },
    {
      "cell_type": "code",
      "metadata": {
        "id": "9XGUKVQB6Iyj"
      },
      "source": [
        "prior_stocks_df = prior_data[adj_close]\r\n",
        "# Relabel columns \r\n",
        "prior_stocks_df.columns = [\"Maersk\", \"Cosco Shipping\", \"Danaos Shipping\", \"DHL\", \"FedEx\", \"International Seaways\", \"Matson\", \"Nordic American\", \"Star Bulk Carriers\", \"SFL Corp\", \"UPS\", \"Dow Jones\", \"S&P 500\", \"Nasdaq\"]"
      ],
      "execution_count": null,
      "outputs": []
    },
    {
      "cell_type": "code",
      "metadata": {
        "colab": {
          "base_uri": "https://localhost:8080/",
          "height": 616
        },
        "id": "XY_Nc-WR6cmi",
        "outputId": "34cbf454-e670-478b-d6e8-14e176a270d8"
      },
      "source": [
        "prior_stocks_df"
      ],
      "execution_count": null,
      "outputs": [
        {
          "output_type": "execute_result",
          "data": {
            "text/html": [
              "<div>\n",
              "<style scoped>\n",
              "    .dataframe tbody tr th:only-of-type {\n",
              "        vertical-align: middle;\n",
              "    }\n",
              "\n",
              "    .dataframe tbody tr th {\n",
              "        vertical-align: top;\n",
              "    }\n",
              "\n",
              "    .dataframe thead th {\n",
              "        text-align: right;\n",
              "    }\n",
              "</style>\n",
              "<table border=\"1\" class=\"dataframe\">\n",
              "  <thead>\n",
              "    <tr style=\"text-align: right;\">\n",
              "      <th></th>\n",
              "      <th>Maersk</th>\n",
              "      <th>Cosco Shipping</th>\n",
              "      <th>Danaos Shipping</th>\n",
              "      <th>DHL</th>\n",
              "      <th>FedEx</th>\n",
              "      <th>International Seaways</th>\n",
              "      <th>Matson</th>\n",
              "      <th>Nordic American</th>\n",
              "      <th>Star Bulk Carriers</th>\n",
              "      <th>SFL Corp</th>\n",
              "      <th>UPS</th>\n",
              "      <th>Dow Jones</th>\n",
              "      <th>S&amp;P 500</th>\n",
              "      <th>Nasdaq</th>\n",
              "    </tr>\n",
              "    <tr>\n",
              "      <th>Date</th>\n",
              "      <th></th>\n",
              "      <th></th>\n",
              "      <th></th>\n",
              "      <th></th>\n",
              "      <th></th>\n",
              "      <th></th>\n",
              "      <th></th>\n",
              "      <th></th>\n",
              "      <th></th>\n",
              "      <th></th>\n",
              "      <th></th>\n",
              "      <th></th>\n",
              "      <th></th>\n",
              "      <th></th>\n",
              "    </tr>\n",
              "  </thead>\n",
              "  <tbody>\n",
              "    <tr>\n",
              "      <th>2019-01-02</th>\n",
              "      <td>5.34</td>\n",
              "      <td>1.95</td>\n",
              "      <td>11.90</td>\n",
              "      <td>25.49</td>\n",
              "      <td>158.25</td>\n",
              "      <td>17.48</td>\n",
              "      <td>30.78</td>\n",
              "      <td>1.86</td>\n",
              "      <td>9.35</td>\n",
              "      <td>9.38</td>\n",
              "      <td>90.89</td>\n",
              "      <td>23346.24</td>\n",
              "      <td>2510.03</td>\n",
              "      <td>6665.94</td>\n",
              "    </tr>\n",
              "    <tr>\n",
              "      <th>2019-01-03</th>\n",
              "      <td>5.25</td>\n",
              "      <td>1.95</td>\n",
              "      <td>12.18</td>\n",
              "      <td>25.05</td>\n",
              "      <td>152.43</td>\n",
              "      <td>17.57</td>\n",
              "      <td>30.08</td>\n",
              "      <td>1.81</td>\n",
              "      <td>9.25</td>\n",
              "      <td>9.19</td>\n",
              "      <td>88.31</td>\n",
              "      <td>22686.22</td>\n",
              "      <td>2447.89</td>\n",
              "      <td>6463.50</td>\n",
              "    </tr>\n",
              "    <tr>\n",
              "      <th>2019-01-04</th>\n",
              "      <td>5.56</td>\n",
              "      <td>1.95</td>\n",
              "      <td>12.74</td>\n",
              "      <td>26.10</td>\n",
              "      <td>159.46</td>\n",
              "      <td>18.53</td>\n",
              "      <td>31.05</td>\n",
              "      <td>1.96</td>\n",
              "      <td>10.03</td>\n",
              "      <td>9.84</td>\n",
              "      <td>91.39</td>\n",
              "      <td>23433.16</td>\n",
              "      <td>2531.94</td>\n",
              "      <td>6738.86</td>\n",
              "    </tr>\n",
              "    <tr>\n",
              "      <th>2019-01-07</th>\n",
              "      <td>5.67</td>\n",
              "      <td>1.95</td>\n",
              "      <td>12.74</td>\n",
              "      <td>26.39</td>\n",
              "      <td>161.69</td>\n",
              "      <td>18.87</td>\n",
              "      <td>31.59</td>\n",
              "      <td>1.99</td>\n",
              "      <td>10.30</td>\n",
              "      <td>10.04</td>\n",
              "      <td>91.08</td>\n",
              "      <td>23531.35</td>\n",
              "      <td>2549.69</td>\n",
              "      <td>6823.47</td>\n",
              "    </tr>\n",
              "    <tr>\n",
              "      <th>2019-01-08</th>\n",
              "      <td>5.71</td>\n",
              "      <td>1.95</td>\n",
              "      <td>13.16</td>\n",
              "      <td>26.66</td>\n",
              "      <td>161.97</td>\n",
              "      <td>18.73</td>\n",
              "      <td>32.25</td>\n",
              "      <td>1.93</td>\n",
              "      <td>10.43</td>\n",
              "      <td>9.90</td>\n",
              "      <td>91.09</td>\n",
              "      <td>23787.45</td>\n",
              "      <td>2574.41</td>\n",
              "      <td>6897.00</td>\n",
              "    </tr>\n",
              "    <tr>\n",
              "      <th>...</th>\n",
              "      <td>...</td>\n",
              "      <td>...</td>\n",
              "      <td>...</td>\n",
              "      <td>...</td>\n",
              "      <td>...</td>\n",
              "      <td>...</td>\n",
              "      <td>...</td>\n",
              "      <td>...</td>\n",
              "      <td>...</td>\n",
              "      <td>...</td>\n",
              "      <td>...</td>\n",
              "      <td>...</td>\n",
              "      <td>...</td>\n",
              "      <td>...</td>\n",
              "    </tr>\n",
              "    <tr>\n",
              "      <th>2019-12-24</th>\n",
              "      <td>6.81</td>\n",
              "      <td>2.04</td>\n",
              "      <td>9.32</td>\n",
              "      <td>36.80</td>\n",
              "      <td>148.55</td>\n",
              "      <td>28.87</td>\n",
              "      <td>39.77</td>\n",
              "      <td>4.34</td>\n",
              "      <td>11.45</td>\n",
              "      <td>13.07</td>\n",
              "      <td>114.52</td>\n",
              "      <td>28515.45</td>\n",
              "      <td>3223.38</td>\n",
              "      <td>8952.88</td>\n",
              "    </tr>\n",
              "    <tr>\n",
              "      <th>2019-12-26</th>\n",
              "      <td>6.93</td>\n",
              "      <td>2.03</td>\n",
              "      <td>9.40</td>\n",
              "      <td>36.66</td>\n",
              "      <td>150.24</td>\n",
              "      <td>28.92</td>\n",
              "      <td>39.99</td>\n",
              "      <td>4.50</td>\n",
              "      <td>11.87</td>\n",
              "      <td>13.15</td>\n",
              "      <td>115.21</td>\n",
              "      <td>28621.39</td>\n",
              "      <td>3239.91</td>\n",
              "      <td>9022.39</td>\n",
              "    </tr>\n",
              "    <tr>\n",
              "      <th>2019-12-27</th>\n",
              "      <td>7.01</td>\n",
              "      <td>2.04</td>\n",
              "      <td>9.07</td>\n",
              "      <td>37.26</td>\n",
              "      <td>150.27</td>\n",
              "      <td>28.60</td>\n",
              "      <td>40.12</td>\n",
              "      <td>4.30</td>\n",
              "      <td>11.57</td>\n",
              "      <td>13.09</td>\n",
              "      <td>115.11</td>\n",
              "      <td>28645.26</td>\n",
              "      <td>3240.02</td>\n",
              "      <td>9006.62</td>\n",
              "    </tr>\n",
              "    <tr>\n",
              "      <th>2019-12-30</th>\n",
              "      <td>6.92</td>\n",
              "      <td>1.94</td>\n",
              "      <td>9.05</td>\n",
              "      <td>36.58</td>\n",
              "      <td>147.92</td>\n",
              "      <td>29.01</td>\n",
              "      <td>40.43</td>\n",
              "      <td>4.34</td>\n",
              "      <td>11.66</td>\n",
              "      <td>13.04</td>\n",
              "      <td>112.69</td>\n",
              "      <td>28462.14</td>\n",
              "      <td>3221.29</td>\n",
              "      <td>8945.99</td>\n",
              "    </tr>\n",
              "    <tr>\n",
              "      <th>2019-12-31</th>\n",
              "      <td>6.92</td>\n",
              "      <td>2.01</td>\n",
              "      <td>9.18</td>\n",
              "      <td>36.72</td>\n",
              "      <td>148.97</td>\n",
              "      <td>29.39</td>\n",
              "      <td>39.83</td>\n",
              "      <td>4.39</td>\n",
              "      <td>11.74</td>\n",
              "      <td>13.06</td>\n",
              "      <td>113.29</td>\n",
              "      <td>28538.44</td>\n",
              "      <td>3230.78</td>\n",
              "      <td>8972.60</td>\n",
              "    </tr>\n",
              "  </tbody>\n",
              "</table>\n",
              "<p>252 rows × 14 columns</p>\n",
              "</div>"
            ],
            "text/plain": [
              "            Maersk  Cosco Shipping  Danaos Shipping  ...  Dow Jones  S&P 500  Nasdaq\n",
              "Date                                                 ...                            \n",
              "2019-01-02    5.34            1.95            11.90  ...   23346.24  2510.03 6665.94\n",
              "2019-01-03    5.25            1.95            12.18  ...   22686.22  2447.89 6463.50\n",
              "2019-01-04    5.56            1.95            12.74  ...   23433.16  2531.94 6738.86\n",
              "2019-01-07    5.67            1.95            12.74  ...   23531.35  2549.69 6823.47\n",
              "2019-01-08    5.71            1.95            13.16  ...   23787.45  2574.41 6897.00\n",
              "...            ...             ...              ...  ...        ...      ...     ...\n",
              "2019-12-24    6.81            2.04             9.32  ...   28515.45  3223.38 8952.88\n",
              "2019-12-26    6.93            2.03             9.40  ...   28621.39  3239.91 9022.39\n",
              "2019-12-27    7.01            2.04             9.07  ...   28645.26  3240.02 9006.62\n",
              "2019-12-30    6.92            1.94             9.05  ...   28462.14  3221.29 8945.99\n",
              "2019-12-31    6.92            2.01             9.18  ...   28538.44  3230.78 8972.60\n",
              "\n",
              "[252 rows x 14 columns]"
            ]
          },
          "metadata": {
            "tags": []
          },
          "execution_count": 71
        }
      ]
    },
    {
      "cell_type": "code",
      "metadata": {
        "colab": {
          "base_uri": "https://localhost:8080/",
          "height": 616
        },
        "id": "EoGJYE4n8-C5",
        "outputId": "a8649a3d-725a-46b2-d6a7-421dd961922b"
      },
      "source": [
        "stocks_df"
      ],
      "execution_count": null,
      "outputs": [
        {
          "output_type": "execute_result",
          "data": {
            "text/html": [
              "<div>\n",
              "<style scoped>\n",
              "    .dataframe tbody tr th:only-of-type {\n",
              "        vertical-align: middle;\n",
              "    }\n",
              "\n",
              "    .dataframe tbody tr th {\n",
              "        vertical-align: top;\n",
              "    }\n",
              "\n",
              "    .dataframe thead th {\n",
              "        text-align: right;\n",
              "    }\n",
              "</style>\n",
              "<table border=\"1\" class=\"dataframe\">\n",
              "  <thead>\n",
              "    <tr style=\"text-align: right;\">\n",
              "      <th></th>\n",
              "      <th>Maersk</th>\n",
              "      <th>Cosco Shipping</th>\n",
              "      <th>Danaos Shipping</th>\n",
              "      <th>DHL</th>\n",
              "      <th>FedEx</th>\n",
              "      <th>International Seaways</th>\n",
              "      <th>Matson</th>\n",
              "      <th>Nordic American</th>\n",
              "      <th>Star Bulk Carriers</th>\n",
              "      <th>SFL Corp</th>\n",
              "      <th>UPS</th>\n",
              "      <th>Dow Jones</th>\n",
              "      <th>S&amp;P 500</th>\n",
              "      <th>Nasdaq</th>\n",
              "    </tr>\n",
              "    <tr>\n",
              "      <th>Date</th>\n",
              "      <th></th>\n",
              "      <th></th>\n",
              "      <th></th>\n",
              "      <th></th>\n",
              "      <th></th>\n",
              "      <th></th>\n",
              "      <th></th>\n",
              "      <th></th>\n",
              "      <th></th>\n",
              "      <th></th>\n",
              "      <th></th>\n",
              "      <th></th>\n",
              "      <th></th>\n",
              "      <th></th>\n",
              "    </tr>\n",
              "  </thead>\n",
              "  <tbody>\n",
              "    <tr>\n",
              "      <th>2020-01-02</th>\n",
              "      <td>6.99</td>\n",
              "      <td>2.33</td>\n",
              "      <td>9.40</td>\n",
              "      <td>37.32</td>\n",
              "      <td>152.81</td>\n",
              "      <td>29.45</td>\n",
              "      <td>39.35</td>\n",
              "      <td>4.32</td>\n",
              "      <td>11.38</td>\n",
              "      <td>13.10</td>\n",
              "      <td>113.03</td>\n",
              "      <td>28868.80</td>\n",
              "      <td>3257.85</td>\n",
              "      <td>9092.19</td>\n",
              "    </tr>\n",
              "    <tr>\n",
              "      <th>2020-01-03</th>\n",
              "      <td>6.79</td>\n",
              "      <td>2.33</td>\n",
              "      <td>9.19</td>\n",
              "      <td>36.52</td>\n",
              "      <td>150.92</td>\n",
              "      <td>29.62</td>\n",
              "      <td>38.78</td>\n",
              "      <td>4.51</td>\n",
              "      <td>10.99</td>\n",
              "      <td>13.07</td>\n",
              "      <td>112.96</td>\n",
              "      <td>28634.88</td>\n",
              "      <td>3234.85</td>\n",
              "      <td>9020.77</td>\n",
              "    </tr>\n",
              "    <tr>\n",
              "      <th>2020-01-06</th>\n",
              "      <td>6.70</td>\n",
              "      <td>2.33</td>\n",
              "      <td>9.61</td>\n",
              "      <td>36.57</td>\n",
              "      <td>151.03</td>\n",
              "      <td>29.59</td>\n",
              "      <td>38.36</td>\n",
              "      <td>4.49</td>\n",
              "      <td>11.13</td>\n",
              "      <td>13.04</td>\n",
              "      <td>112.46</td>\n",
              "      <td>28703.38</td>\n",
              "      <td>3246.28</td>\n",
              "      <td>9071.47</td>\n",
              "    </tr>\n",
              "    <tr>\n",
              "      <th>2020-01-07</th>\n",
              "      <td>6.78</td>\n",
              "      <td>2.33</td>\n",
              "      <td>9.58</td>\n",
              "      <td>36.57</td>\n",
              "      <td>152.51</td>\n",
              "      <td>30.25</td>\n",
              "      <td>38.00</td>\n",
              "      <td>4.59</td>\n",
              "      <td>11.69</td>\n",
              "      <td>13.06</td>\n",
              "      <td>112.27</td>\n",
              "      <td>28583.68</td>\n",
              "      <td>3237.18</td>\n",
              "      <td>9068.58</td>\n",
              "    </tr>\n",
              "    <tr>\n",
              "      <th>2020-01-08</th>\n",
              "      <td>6.69</td>\n",
              "      <td>2.11</td>\n",
              "      <td>9.44</td>\n",
              "      <td>37.05</td>\n",
              "      <td>154.81</td>\n",
              "      <td>29.30</td>\n",
              "      <td>37.91</td>\n",
              "      <td>4.34</td>\n",
              "      <td>11.48</td>\n",
              "      <td>12.93</td>\n",
              "      <td>112.90</td>\n",
              "      <td>28745.09</td>\n",
              "      <td>3253.05</td>\n",
              "      <td>9129.24</td>\n",
              "    </tr>\n",
              "    <tr>\n",
              "      <th>...</th>\n",
              "      <td>...</td>\n",
              "      <td>...</td>\n",
              "      <td>...</td>\n",
              "      <td>...</td>\n",
              "      <td>...</td>\n",
              "      <td>...</td>\n",
              "      <td>...</td>\n",
              "      <td>...</td>\n",
              "      <td>...</td>\n",
              "      <td>...</td>\n",
              "      <td>...</td>\n",
              "      <td>...</td>\n",
              "      <td>...</td>\n",
              "      <td>...</td>\n",
              "    </tr>\n",
              "    <tr>\n",
              "      <th>2020-12-24</th>\n",
              "      <td>11.17</td>\n",
              "      <td>5.23</td>\n",
              "      <td>21.01</td>\n",
              "      <td>48.76</td>\n",
              "      <td>268.82</td>\n",
              "      <td>16.55</td>\n",
              "      <td>57.26</td>\n",
              "      <td>3.16</td>\n",
              "      <td>8.74</td>\n",
              "      <td>6.18</td>\n",
              "      <td>172.19</td>\n",
              "      <td>30199.87</td>\n",
              "      <td>3703.06</td>\n",
              "      <td>12804.73</td>\n",
              "    </tr>\n",
              "    <tr>\n",
              "      <th>2020-12-28</th>\n",
              "      <td>11.19</td>\n",
              "      <td>5.23</td>\n",
              "      <td>21.03</td>\n",
              "      <td>50.11</td>\n",
              "      <td>262.94</td>\n",
              "      <td>16.24</td>\n",
              "      <td>56.74</td>\n",
              "      <td>3.08</td>\n",
              "      <td>8.44</td>\n",
              "      <td>6.03</td>\n",
              "      <td>171.36</td>\n",
              "      <td>30403.97</td>\n",
              "      <td>3735.36</td>\n",
              "      <td>12899.42</td>\n",
              "    </tr>\n",
              "    <tr>\n",
              "      <th>2020-12-29</th>\n",
              "      <td>11.25</td>\n",
              "      <td>5.80</td>\n",
              "      <td>20.33</td>\n",
              "      <td>49.76</td>\n",
              "      <td>261.56</td>\n",
              "      <td>16.19</td>\n",
              "      <td>55.75</td>\n",
              "      <td>3.06</td>\n",
              "      <td>8.43</td>\n",
              "      <td>6.06</td>\n",
              "      <td>169.03</td>\n",
              "      <td>30335.67</td>\n",
              "      <td>3727.04</td>\n",
              "      <td>12850.22</td>\n",
              "    </tr>\n",
              "    <tr>\n",
              "      <th>2020-12-30</th>\n",
              "      <td>11.15</td>\n",
              "      <td>5.85</td>\n",
              "      <td>20.58</td>\n",
              "      <td>49.57</td>\n",
              "      <td>259.98</td>\n",
              "      <td>16.38</td>\n",
              "      <td>56.29</td>\n",
              "      <td>3.01</td>\n",
              "      <td>8.59</td>\n",
              "      <td>6.12</td>\n",
              "      <td>166.23</td>\n",
              "      <td>30409.56</td>\n",
              "      <td>3732.04</td>\n",
              "      <td>12870.00</td>\n",
              "    </tr>\n",
              "    <tr>\n",
              "      <th>2020-12-31</th>\n",
              "      <td>11.11</td>\n",
              "      <td>6.17</td>\n",
              "      <td>21.43</td>\n",
              "      <td>49.84</td>\n",
              "      <td>259.62</td>\n",
              "      <td>16.33</td>\n",
              "      <td>56.97</td>\n",
              "      <td>2.95</td>\n",
              "      <td>8.83</td>\n",
              "      <td>6.28</td>\n",
              "      <td>168.40</td>\n",
              "      <td>30606.48</td>\n",
              "      <td>3756.07</td>\n",
              "      <td>12888.28</td>\n",
              "    </tr>\n",
              "  </tbody>\n",
              "</table>\n",
              "<p>253 rows × 14 columns</p>\n",
              "</div>"
            ],
            "text/plain": [
              "            Maersk  Cosco Shipping  ...  S&P 500   Nasdaq\n",
              "Date                                ...                  \n",
              "2020-01-02    6.99            2.33  ...  3257.85  9092.19\n",
              "2020-01-03    6.79            2.33  ...  3234.85  9020.77\n",
              "2020-01-06    6.70            2.33  ...  3246.28  9071.47\n",
              "2020-01-07    6.78            2.33  ...  3237.18  9068.58\n",
              "2020-01-08    6.69            2.11  ...  3253.05  9129.24\n",
              "...            ...             ...  ...      ...      ...\n",
              "2020-12-24   11.17            5.23  ...  3703.06 12804.73\n",
              "2020-12-28   11.19            5.23  ...  3735.36 12899.42\n",
              "2020-12-29   11.25            5.80  ...  3727.04 12850.22\n",
              "2020-12-30   11.15            5.85  ...  3732.04 12870.00\n",
              "2020-12-31   11.11            6.17  ...  3756.07 12888.28\n",
              "\n",
              "[253 rows x 14 columns]"
            ]
          },
          "metadata": {
            "tags": []
          },
          "execution_count": 72
        }
      ]
    },
    {
      "cell_type": "code",
      "metadata": {
        "colab": {
          "base_uri": "https://localhost:8080/"
        },
        "id": "ye2tN54b688C",
        "outputId": "1dc0946f-532d-4409-aa3a-05699326cef4"
      },
      "source": [
        "stats.ttest_ind(prior_stocks_df['Maersk'], stocks_df['Maersk'])"
      ],
      "execution_count": null,
      "outputs": [
        {
          "output_type": "execute_result",
          "data": {
            "text/plain": [
              "Ttest_indResult(statistic=-7.458433791600986, pvalue=3.866701018168747e-13)"
            ]
          },
          "metadata": {
            "tags": []
          },
          "execution_count": 73
        }
      ]
    },
    {
      "cell_type": "code",
      "metadata": {
        "colab": {
          "base_uri": "https://localhost:8080/"
        },
        "id": "klQhag5W7m4R",
        "outputId": "25f880e1-b79e-48ae-e0c6-98870b4600d5"
      },
      "source": [
        "stats.ttest_ind(prior_stocks_df['Cosco Shipping'], stocks_df['Cosco Shipping'])"
      ],
      "execution_count": null,
      "outputs": [
        {
          "output_type": "execute_result",
          "data": {
            "text/plain": [
              "Ttest_indResult(statistic=-5.130308551523626, pvalue=4.137336614331752e-07)"
            ]
          },
          "metadata": {
            "tags": []
          },
          "execution_count": 74
        }
      ]
    },
    {
      "cell_type": "code",
      "metadata": {
        "colab": {
          "base_uri": "https://localhost:8080/"
        },
        "id": "LbSQXrNa-Ali",
        "outputId": "579f183f-e536-468a-8be7-e12ad92392d7"
      },
      "source": [
        "stats.ttest_ind(prior_stocks_df['Danaos Shipping'], stocks_df['Danaos Shipping'])"
      ],
      "execution_count": null,
      "outputs": [
        {
          "output_type": "execute_result",
          "data": {
            "text/plain": [
              "Ttest_indResult(statistic=11.142375294336913, pvalue=6.371271073756567e-26)"
            ]
          },
          "metadata": {
            "tags": []
          },
          "execution_count": 75
        }
      ]
    },
    {
      "cell_type": "code",
      "metadata": {
        "colab": {
          "base_uri": "https://localhost:8080/"
        },
        "id": "Sq0TUask-KKT",
        "outputId": "942fd89f-3f19-4bea-dc72-f808db4c2e11"
      },
      "source": [
        "stats.ttest_ind(prior_stocks_df['DHL'], stocks_df['DHL'])"
      ],
      "execution_count": null,
      "outputs": [
        {
          "output_type": "execute_result",
          "data": {
            "text/plain": [
              "Ttest_indResult(statistic=-11.698038612438681, pvalue=3.976049627885029e-28)"
            ]
          },
          "metadata": {
            "tags": []
          },
          "execution_count": 76
        }
      ]
    },
    {
      "cell_type": "code",
      "metadata": {
        "colab": {
          "base_uri": "https://localhost:8080/"
        },
        "id": "AnMU_wsF-SHa",
        "outputId": "aa82d591-fb44-44f8-ab25-9b46aa5f1a86"
      },
      "source": [
        "stats.ttest_ind(prior_stocks_df['FedEx'], stocks_df['FedEx'])"
      ],
      "execution_count": null,
      "outputs": [
        {
          "output_type": "execute_result",
          "data": {
            "text/plain": [
              "Ttest_indResult(statistic=-5.567619436147245, pvalue=4.2083279281936644e-08)"
            ]
          },
          "metadata": {
            "tags": []
          },
          "execution_count": 77
        }
      ]
    },
    {
      "cell_type": "code",
      "metadata": {
        "colab": {
          "base_uri": "https://localhost:8080/"
        },
        "id": "YlDQQIdB-XRa",
        "outputId": "96a70f9c-0551-4842-f705-cf58a2a63312"
      },
      "source": [
        "stats.ttest_ind(prior_stocks_df['International Seaways'], stocks_df['International Seaways'])"
      ],
      "execution_count": null,
      "outputs": [
        {
          "output_type": "execute_result",
          "data": {
            "text/plain": [
              "Ttest_indResult(statistic=1.8870300692371613, pvalue=0.05973186199816544)"
            ]
          },
          "metadata": {
            "tags": []
          },
          "execution_count": 78
        }
      ]
    },
    {
      "cell_type": "code",
      "metadata": {
        "colab": {
          "base_uri": "https://localhost:8080/"
        },
        "id": "ASx5CjQG-fd7",
        "outputId": "1bf0362b-6a65-46b0-dda5-64b0775ba4aa"
      },
      "source": [
        "stats.ttest_ind(prior_stocks_df['Matson'], stocks_df['Matson'])"
      ],
      "execution_count": null,
      "outputs": [
        {
          "output_type": "execute_result",
          "data": {
            "text/plain": [
              "Ttest_indResult(statistic=-4.3624957225665435, pvalue=1.5608933360660926e-05)"
            ]
          },
          "metadata": {
            "tags": []
          },
          "execution_count": 79
        }
      ]
    },
    {
      "cell_type": "code",
      "metadata": {
        "colab": {
          "base_uri": "https://localhost:8080/"
        },
        "id": "uc5rTwUX-lpT",
        "outputId": "f034d069-eef6-42a2-8292-a1047b1aad55"
      },
      "source": [
        "stats.ttest_ind(prior_stocks_df['Nordic American'], stocks_df['Nordic American'])"
      ],
      "execution_count": null,
      "outputs": [
        {
          "output_type": "execute_result",
          "data": {
            "text/plain": [
              "Ttest_indResult(statistic=-22.87138683540387, pvalue=6.706958763004411e-80)"
            ]
          },
          "metadata": {
            "tags": []
          },
          "execution_count": 80
        }
      ]
    },
    {
      "cell_type": "code",
      "metadata": {
        "colab": {
          "base_uri": "https://localhost:8080/"
        },
        "id": "2DX39G-1-tdj",
        "outputId": "92c71e05-450b-4ca1-9edf-c85428f448d3"
      },
      "source": [
        "stats.ttest_ind(prior_stocks_df['Star Bulk Carriers'], stocks_df['Star Bulk Carriers'])"
      ],
      "execution_count": null,
      "outputs": [
        {
          "output_type": "execute_result",
          "data": {
            "text/plain": [
              "Ttest_indResult(statistic=16.645940680659276, pvalue=6.990075197463191e-50)"
            ]
          },
          "metadata": {
            "tags": []
          },
          "execution_count": 81
        }
      ]
    },
    {
      "cell_type": "code",
      "metadata": {
        "colab": {
          "base_uri": "https://localhost:8080/"
        },
        "id": "FMZriu9x-6ZK",
        "outputId": "cd52567e-9e25-42fb-e137-85640172b9d2"
      },
      "source": [
        "stats.ttest_ind(prior_stocks_df['SFL Corp'], stocks_df['SFL Corp'])"
      ],
      "execution_count": null,
      "outputs": [
        {
          "output_type": "execute_result",
          "data": {
            "text/plain": [
              "Ttest_indResult(statistic=18.538419135393298, pvalue=7.401585138508888e-59)"
            ]
          },
          "metadata": {
            "tags": []
          },
          "execution_count": 82
        }
      ]
    },
    {
      "cell_type": "code",
      "metadata": {
        "colab": {
          "base_uri": "https://localhost:8080/"
        },
        "id": "7t99084t_BBK",
        "outputId": "e8043618-662e-45e8-c0c9-cf8417544fca"
      },
      "source": [
        "stats.ttest_ind(prior_stocks_df['UPS'], stocks_df['UPS'])"
      ],
      "execution_count": null,
      "outputs": [
        {
          "output_type": "execute_result",
          "data": {
            "text/plain": [
              "Ttest_indResult(statistic=-10.851729711958853, pvalue=8.557146273815949e-25)"
            ]
          },
          "metadata": {
            "tags": []
          },
          "execution_count": 83
        }
      ]
    },
    {
      "cell_type": "markdown",
      "metadata": {
        "id": "TcrY1aSS_Wt6"
      },
      "source": [
        "In looking at the results from the Ttest, it is clear to see that there were dramatic changes in the stock values of these companies. The p-value is extreamly small implying that there is a real difference between them. Now look at the confidence interval:"
      ]
    },
    {
      "cell_type": "code",
      "metadata": {
        "id": "6YCEeEUwB0FX"
      },
      "source": [
        "sample_1_n = prior_stocks_df.shape[0]\r\n",
        "sample_2_n = stocks_df.shape[0]\r\n",
        "sample_1_mean = prior_stocks_df['UPS'].mean()\r\n",
        "sample_2_mean = stocks_df['UPS'].mean()\r\n",
        "sample_1_var = prior_stocks_df['UPS'].var()\r\n",
        "sample_2_var = stocks_df['UPS'].var()"
      ],
      "execution_count": null,
      "outputs": []
    },
    {
      "cell_type": "code",
      "metadata": {
        "colab": {
          "base_uri": "https://localhost:8080/"
        },
        "id": "T1l8eRdGCP1Q",
        "outputId": "d9a1d864-ed97-4f0f-a38d-6648edb3103c"
      },
      "source": [
        "import math\r\n",
        "std_err_difference = math.sqrt((sample_1_var/sample_1_n)+(sample_2_var/sample_2_n))\r\n",
        "\r\n",
        "mean_difference = sample_2_mean - sample_1_mean\r\n",
        "\r\n",
        "margin_of_error = 1.96 * std_err_difference\r\n",
        "ci_lower = mean_difference - margin_of_error\r\n",
        "ci_upper = mean_difference + margin_of_error\r\n",
        "\r\n",
        "print(\"The difference in means at the 95% confidence interval is between \"+str(ci_lower)+\" and \"+str(ci_upper)+\".\")"
      ],
      "execution_count": null,
      "outputs": [
        {
          "output_type": "stream",
          "text": [
            "The difference in means at the 95% confidence interval is between 18.577281291966354 and 26.750057417291377.\n"
          ],
          "name": "stdout"
        }
      ]
    },
    {
      "cell_type": "markdown",
      "metadata": {
        "id": "J6c8RTJ65rEY"
      },
      "source": [
        "# Conclusion"
      ]
    },
    {
      "cell_type": "markdown",
      "metadata": {
        "id": "Oea3Z9rQ5yC0"
      },
      "source": [
        "In looking at the data we are able to determine the following:\r\n",
        "\r\n",
        "1.   Covid-19 had a direct effect on these stocks\r\n",
        "2.   That the stocks have begun to level off, possibly indicating that covid-19's effects are starting to lessen.\r\n",
        "\r\n",
        "The Company to which covid affected most was \"Cosco Shipping\". They saw a 219% increase in thier stock price over 2020. \r\n",
        "\r\n",
        "The Company to which covid had the most negative impact on was \"SFL Corp\". They saw thier stock price drop by 51% over the last year.\r\n",
        "\r\n",
        "It is important to note however that \"SFL Corp\" has other holdings to which may have impacted thier value. \r\n",
        "\r\n",
        "In looking to invest, I would recomend investing in the companies still showing a increase in stock value as obviously they would offer the greatest return. \r\n",
        "\r\n",
        "\r\n",
        "\r\n"
      ]
    },
    {
      "cell_type": "code",
      "metadata": {
        "id": "944SQvr1J1pG"
      },
      "source": [
        ""
      ],
      "execution_count": null,
      "outputs": []
    }
  ]
}